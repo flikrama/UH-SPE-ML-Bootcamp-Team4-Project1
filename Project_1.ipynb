{
  "nbformat": 4,
  "nbformat_minor": 0,
  "metadata": {
    "colab": {
      "name": "Project 1",
      "provenance": [],
      "collapsed_sections": [],
      "include_colab_link": true
    },
    "kernelspec": {
      "name": "python3",
      "display_name": "Python 3"
    }
  },
  "cells": [
    {
      "cell_type": "markdown",
      "metadata": {
        "id": "view-in-github",
        "colab_type": "text"
      },
      "source": [
        "<a href=\"https://colab.research.google.com/github/flikrama/UH-SPE-ML-Bootcamp-Team4-Project1/blob/master/Project_1.ipynb\" target=\"_parent\"><img src=\"https://colab.research.google.com/assets/colab-badge.svg\" alt=\"Open In Colab\"/></a>"
      ]
    },
    {
      "cell_type": "markdown",
      "metadata": {
        "id": "y5jrXispdR5P",
        "colab_type": "text"
      },
      "source": [
        "# **###Importing Necessary packages**\n"
      ]
    },
    {
      "cell_type": "code",
      "metadata": {
        "id": "Z88ye-6cYuEp",
        "colab_type": "code",
        "colab": {
          "base_uri": "https://localhost:8080/",
          "height": 151
        },
        "outputId": "14eb2efe-7c40-4c9a-e940-fbc1c5544698"
      },
      "source": [
        "# We are doing World Happiness Report from 2015-2019\n",
        "import numpy as np\n",
        "import pandas as pd\n",
        "import matplotlib.pyplot as plt\n",
        "from numpy import NaN as NA\n",
        "import seaborn as sns\n",
        "!pip install bubbly #had to add to avoid error - Miguel\n",
        "from bubbly.bubbly import bubbleplot\n",
        "import plotly.graph_objs as go\n",
        "import plotly.express as px"
      ],
      "execution_count": null,
      "outputs": [
        {
          "output_type": "stream",
          "text": [
            "Requirement already satisfied: bubbly in /usr/local/lib/python3.6/dist-packages (1.0.2)\n",
            "Requirement already satisfied: plotly in /usr/local/lib/python3.6/dist-packages (from bubbly) (4.4.1)\n",
            "Requirement already satisfied: pandas in /usr/local/lib/python3.6/dist-packages (from bubbly) (1.0.5)\n",
            "Requirement already satisfied: six in /usr/local/lib/python3.6/dist-packages (from plotly->bubbly) (1.15.0)\n",
            "Requirement already satisfied: retrying>=1.3.3 in /usr/local/lib/python3.6/dist-packages (from plotly->bubbly) (1.3.3)\n",
            "Requirement already satisfied: numpy>=1.13.3 in /usr/local/lib/python3.6/dist-packages (from pandas->bubbly) (1.18.5)\n",
            "Requirement already satisfied: pytz>=2017.2 in /usr/local/lib/python3.6/dist-packages (from pandas->bubbly) (2018.9)\n",
            "Requirement already satisfied: python-dateutil>=2.6.1 in /usr/local/lib/python3.6/dist-packages (from pandas->bubbly) (2.8.1)\n"
          ],
          "name": "stdout"
        }
      ]
    },
    {
      "cell_type": "code",
      "metadata": {
        "id": "mVRKAP_tbJv9",
        "colab_type": "code",
        "colab": {}
      },
      "source": [
        "# Interactive Plotting\n",
        "import plotly.offline as py\n",
        "from plotly.offline import init_notebook_mode, iplot"
      ],
      "execution_count": null,
      "outputs": []
    },
    {
      "cell_type": "code",
      "metadata": {
        "id": "ItbGJmVKbxib",
        "colab_type": "code",
        "colab": {}
      },
      "source": [
        "from sklearn import preprocessing\n",
        "import sklearn.linear_model as lm"
      ],
      "execution_count": null,
      "outputs": []
    },
    {
      "cell_type": "code",
      "metadata": {
        "id": "AerbRQ9cbxwe",
        "colab_type": "code",
        "colab": {}
      },
      "source": [
        "np.random.seed(1)"
      ],
      "execution_count": null,
      "outputs": []
    },
    {
      "cell_type": "code",
      "metadata": {
        "id": "kqQQJHHBbx58",
        "colab_type": "code",
        "colab": {
          "base_uri": "https://localhost:8080/",
          "height": 104
        },
        "outputId": "bdf89edf-6987-4dd1-d8ca-64bfa1c3ed19"
      },
      "source": [
        "from sklearn.feature_selection import rfe\n",
        "from sklearn.model_selection import  KFold"
      ],
      "execution_count": null,
      "outputs": [
        {
          "output_type": "stream",
          "text": [
            "/usr/local/lib/python3.6/dist-packages/sklearn/utils/deprecation.py:144: FutureWarning:\n",
            "\n",
            "The sklearn.feature_selection.rfe module is  deprecated in version 0.22 and will be removed in version 0.24. The corresponding classes / functions should instead be imported from sklearn.feature_selection.rfe. Anything that cannot be imported from sklearn.feature_selection.rfe is now part of the private API.\n",
            "\n"
          ],
          "name": "stderr"
        }
      ]
    },
    {
      "cell_type": "code",
      "metadata": {
        "id": "kqJVqKNUbygL",
        "colab_type": "code",
        "colab": {}
      },
      "source": [
        "#For imputing Missing values\n",
        "from sklearn.impute import  SimpleImputer"
      ],
      "execution_count": null,
      "outputs": []
    },
    {
      "cell_type": "markdown",
      "metadata": {
        "id": "1Xhmuim_bypm",
        "colab_type": "text"
      },
      "source": [
        "# **Data Loading and Merging**"
      ]
    },
    {
      "cell_type": "code",
      "metadata": {
        "id": "IOC3ZzfcbyyT",
        "colab_type": "code",
        "colab": {
          "resources": {
            "http://localhost:8080/nbextensions/google.colab/files.js": {
              "data": "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",
              "ok": true,
              "headers": [
                [
                  "content-type",
                  "application/javascript"
                ]
              ],
              "status": 200,
              "status_text": ""
            }
          },
          "base_uri": "https://localhost:8080/",
          "height": 207
        },
        "outputId": "51519158-3ba2-476a-80ef-c8e532d441a0"
      },
      "source": [
        "from google.colab import files\n",
        "uploaded = files.upload()\n"
      ],
      "execution_count": null,
      "outputs": [
        {
          "output_type": "display_data",
          "data": {
            "text/html": [
              "\n",
              "     <input type=\"file\" id=\"files-e090bbfb-4c04-444f-b1a1-c4a9a9ede247\" name=\"files[]\" multiple disabled\n",
              "        style=\"border:none\" />\n",
              "     <output id=\"result-e090bbfb-4c04-444f-b1a1-c4a9a9ede247\">\n",
              "      Upload widget is only available when the cell has been executed in the\n",
              "      current browser session. Please rerun this cell to enable.\n",
              "      </output>\n",
              "      <script src=\"/nbextensions/google.colab/files.js\"></script> "
            ],
            "text/plain": [
              "<IPython.core.display.HTML object>"
            ]
          },
          "metadata": {
            "tags": []
          }
        },
        {
          "output_type": "stream",
          "text": [
            "Saving 2015.csv to 2015.csv\n",
            "Saving 2016.csv to 2016.csv\n",
            "Saving 2017.csv to 2017.csv\n",
            "Saving 2018.csv to 2018.csv\n",
            "Saving 2019.csv to 2019.csv\n"
          ],
          "name": "stdout"
        }
      ]
    },
    {
      "cell_type": "code",
      "metadata": {
        "id": "ZxJtEAsJe0W6",
        "colab_type": "code",
        "colab": {}
      },
      "source": [
        "df2015= pd.read_csv('2015.csv') # would you like to index the first column? index by adding index_col=0 *just checking\n",
        "df2016= pd.read_csv('2016.csv')\n",
        "df2017= pd.read_csv('2017.csv')\n",
        "df2018= pd.read_csv('2018.csv')\n",
        "df2019= pd.read_csv('2019.csv')"
      ],
      "execution_count": null,
      "outputs": []
    },
    {
      "cell_type": "code",
      "metadata": {
        "id": "2MMd27Dh8kLp",
        "colab_type": "code",
        "colab": {
          "base_uri": "https://localhost:8080/",
          "height": 101
        },
        "outputId": "6fbfac3c-6ff1-4319-eec1-036ce489ecfd"
      },
      "source": [
        "yearsData = ['2015','2016','2017','2018','2019']\n",
        "dfs = [df2015.shape,df2016.shape,df2017.shape,df2018.shape,df2019.shape]\n",
        "\n",
        "for i in range(len(dfs)):\n",
        "  print(\"Current dimensions for {0} are {1}\".format(yearsData[i],dfs[i])) "
      ],
      "execution_count": null,
      "outputs": [
        {
          "output_type": "stream",
          "text": [
            "Current dimensions for 2015 are (158, 12)\n",
            "Current dimensions for 2016 are (157, 13)\n",
            "Current dimensions for 2017 are (155, 12)\n",
            "Current dimensions for 2018 are (156, 9)\n",
            "Current dimensions for 2019 are (156, 9)\n"
          ],
          "name": "stdout"
        }
      ]
    },
    {
      "cell_type": "code",
      "metadata": {
        "id": "ZwURm0ma84cN",
        "colab_type": "code",
        "colab": {
          "base_uri": "https://localhost:8080/",
          "height": 296
        },
        "outputId": "dbbe79c6-1087-4dc7-bc56-4a046209e9f2"
      },
      "source": [
        "df2015.head()"
      ],
      "execution_count": null,
      "outputs": [
        {
          "output_type": "execute_result",
          "data": {
            "text/html": [
              "<div>\n",
              "<style scoped>\n",
              "    .dataframe tbody tr th:only-of-type {\n",
              "        vertical-align: middle;\n",
              "    }\n",
              "\n",
              "    .dataframe tbody tr th {\n",
              "        vertical-align: top;\n",
              "    }\n",
              "\n",
              "    .dataframe thead th {\n",
              "        text-align: right;\n",
              "    }\n",
              "</style>\n",
              "<table border=\"1\" class=\"dataframe\">\n",
              "  <thead>\n",
              "    <tr style=\"text-align: right;\">\n",
              "      <th></th>\n",
              "      <th>Country</th>\n",
              "      <th>Region</th>\n",
              "      <th>Happiness Rank</th>\n",
              "      <th>Happiness Score</th>\n",
              "      <th>Standard Error</th>\n",
              "      <th>Economy (GDP per Capita)</th>\n",
              "      <th>Family</th>\n",
              "      <th>Health (Life Expectancy)</th>\n",
              "      <th>Freedom</th>\n",
              "      <th>Trust (Government Corruption)</th>\n",
              "      <th>Generosity</th>\n",
              "      <th>Dystopia Residual</th>\n",
              "    </tr>\n",
              "  </thead>\n",
              "  <tbody>\n",
              "    <tr>\n",
              "      <th>0</th>\n",
              "      <td>Switzerland</td>\n",
              "      <td>Western Europe</td>\n",
              "      <td>1</td>\n",
              "      <td>7.587</td>\n",
              "      <td>0.03411</td>\n",
              "      <td>1.39651</td>\n",
              "      <td>1.34951</td>\n",
              "      <td>0.94143</td>\n",
              "      <td>0.66557</td>\n",
              "      <td>0.41978</td>\n",
              "      <td>0.29678</td>\n",
              "      <td>2.51738</td>\n",
              "    </tr>\n",
              "    <tr>\n",
              "      <th>1</th>\n",
              "      <td>Iceland</td>\n",
              "      <td>Western Europe</td>\n",
              "      <td>2</td>\n",
              "      <td>7.561</td>\n",
              "      <td>0.04884</td>\n",
              "      <td>1.30232</td>\n",
              "      <td>1.40223</td>\n",
              "      <td>0.94784</td>\n",
              "      <td>0.62877</td>\n",
              "      <td>0.14145</td>\n",
              "      <td>0.43630</td>\n",
              "      <td>2.70201</td>\n",
              "    </tr>\n",
              "    <tr>\n",
              "      <th>2</th>\n",
              "      <td>Denmark</td>\n",
              "      <td>Western Europe</td>\n",
              "      <td>3</td>\n",
              "      <td>7.527</td>\n",
              "      <td>0.03328</td>\n",
              "      <td>1.32548</td>\n",
              "      <td>1.36058</td>\n",
              "      <td>0.87464</td>\n",
              "      <td>0.64938</td>\n",
              "      <td>0.48357</td>\n",
              "      <td>0.34139</td>\n",
              "      <td>2.49204</td>\n",
              "    </tr>\n",
              "    <tr>\n",
              "      <th>3</th>\n",
              "      <td>Norway</td>\n",
              "      <td>Western Europe</td>\n",
              "      <td>4</td>\n",
              "      <td>7.522</td>\n",
              "      <td>0.03880</td>\n",
              "      <td>1.45900</td>\n",
              "      <td>1.33095</td>\n",
              "      <td>0.88521</td>\n",
              "      <td>0.66973</td>\n",
              "      <td>0.36503</td>\n",
              "      <td>0.34699</td>\n",
              "      <td>2.46531</td>\n",
              "    </tr>\n",
              "    <tr>\n",
              "      <th>4</th>\n",
              "      <td>Canada</td>\n",
              "      <td>North America</td>\n",
              "      <td>5</td>\n",
              "      <td>7.427</td>\n",
              "      <td>0.03553</td>\n",
              "      <td>1.32629</td>\n",
              "      <td>1.32261</td>\n",
              "      <td>0.90563</td>\n",
              "      <td>0.63297</td>\n",
              "      <td>0.32957</td>\n",
              "      <td>0.45811</td>\n",
              "      <td>2.45176</td>\n",
              "    </tr>\n",
              "  </tbody>\n",
              "</table>\n",
              "</div>"
            ],
            "text/plain": [
              "       Country          Region  ...  Generosity  Dystopia Residual\n",
              "0  Switzerland  Western Europe  ...     0.29678            2.51738\n",
              "1      Iceland  Western Europe  ...     0.43630            2.70201\n",
              "2      Denmark  Western Europe  ...     0.34139            2.49204\n",
              "3       Norway  Western Europe  ...     0.34699            2.46531\n",
              "4       Canada   North America  ...     0.45811            2.45176\n",
              "\n",
              "[5 rows x 12 columns]"
            ]
          },
          "metadata": {
            "tags": []
          },
          "execution_count": 18
        }
      ]
    },
    {
      "cell_type": "code",
      "metadata": {
        "id": "oilMZ2bP9mse",
        "colab_type": "code",
        "colab": {
          "base_uri": "https://localhost:8080/",
          "height": 50
        },
        "outputId": "ca1ce010-c37b-41fe-da61-c8fdd1386d66"
      },
      "source": [
        "# drop columns\n",
        "df2015.drop(['Region','Standard Error','Dystopia Residual'],axis=1, inplace = True) \n",
        "print('columns are dropped!')\n",
        "print(df2015.shape)"
      ],
      "execution_count": null,
      "outputs": [
        {
          "output_type": "stream",
          "text": [
            "columns are dropped!\n",
            "(158, 9)\n"
          ],
          "name": "stdout"
        }
      ]
    },
    {
      "cell_type": "code",
      "metadata": {
        "id": "V1foKU6z9muZ",
        "colab_type": "code",
        "colab": {
          "base_uri": "https://localhost:8080/",
          "height": 418
        },
        "outputId": "13a0cf76-c5cc-4b52-9d08-96e3cb569306"
      },
      "source": [
        "# rename columns\n",
        "df2015.rename(columns = {'Trust (Government Corruption)':'Perceptions of corruption','Country':'Country or Region',\n",
        "                         'Family':'Social Support','Freedom':'Freedom to make life choices'},inplace = True)\n",
        "\n",
        "# switch columns \"Perceptions of Corruption\" and \"Generosity\"\n",
        "df2015.columns\n",
        "df2015new = df2015[['Country or Region','Happiness Rank', 'Happiness Score',\n",
        "\n",
        "       'Economy (GDP per Capita)', 'Social Support',\n",
        "       'Health (Life Expectancy)', 'Freedom to make life choices','Generosity','Perceptions of corruption']]\n",
        "df2015new"
      ],
      "execution_count": null,
      "outputs": [
        {
          "output_type": "execute_result",
          "data": {
            "text/html": [
              "<div>\n",
              "<style scoped>\n",
              "    .dataframe tbody tr th:only-of-type {\n",
              "        vertical-align: middle;\n",
              "    }\n",
              "\n",
              "    .dataframe tbody tr th {\n",
              "        vertical-align: top;\n",
              "    }\n",
              "\n",
              "    .dataframe thead th {\n",
              "        text-align: right;\n",
              "    }\n",
              "</style>\n",
              "<table border=\"1\" class=\"dataframe\">\n",
              "  <thead>\n",
              "    <tr style=\"text-align: right;\">\n",
              "      <th></th>\n",
              "      <th>Country or Region</th>\n",
              "      <th>Happiness Rank</th>\n",
              "      <th>Happiness Score</th>\n",
              "      <th>Economy (GDP per Capita)</th>\n",
              "      <th>Social Support</th>\n",
              "      <th>Health (Life Expectancy)</th>\n",
              "      <th>Freedom to make life choices</th>\n",
              "      <th>Generosity</th>\n",
              "      <th>Perceptions of corruption</th>\n",
              "    </tr>\n",
              "  </thead>\n",
              "  <tbody>\n",
              "    <tr>\n",
              "      <th>0</th>\n",
              "      <td>Switzerland</td>\n",
              "      <td>1</td>\n",
              "      <td>7.587</td>\n",
              "      <td>1.39651</td>\n",
              "      <td>1.34951</td>\n",
              "      <td>0.94143</td>\n",
              "      <td>0.66557</td>\n",
              "      <td>0.29678</td>\n",
              "      <td>0.41978</td>\n",
              "    </tr>\n",
              "    <tr>\n",
              "      <th>1</th>\n",
              "      <td>Iceland</td>\n",
              "      <td>2</td>\n",
              "      <td>7.561</td>\n",
              "      <td>1.30232</td>\n",
              "      <td>1.40223</td>\n",
              "      <td>0.94784</td>\n",
              "      <td>0.62877</td>\n",
              "      <td>0.43630</td>\n",
              "      <td>0.14145</td>\n",
              "    </tr>\n",
              "    <tr>\n",
              "      <th>2</th>\n",
              "      <td>Denmark</td>\n",
              "      <td>3</td>\n",
              "      <td>7.527</td>\n",
              "      <td>1.32548</td>\n",
              "      <td>1.36058</td>\n",
              "      <td>0.87464</td>\n",
              "      <td>0.64938</td>\n",
              "      <td>0.34139</td>\n",
              "      <td>0.48357</td>\n",
              "    </tr>\n",
              "    <tr>\n",
              "      <th>3</th>\n",
              "      <td>Norway</td>\n",
              "      <td>4</td>\n",
              "      <td>7.522</td>\n",
              "      <td>1.45900</td>\n",
              "      <td>1.33095</td>\n",
              "      <td>0.88521</td>\n",
              "      <td>0.66973</td>\n",
              "      <td>0.34699</td>\n",
              "      <td>0.36503</td>\n",
              "    </tr>\n",
              "    <tr>\n",
              "      <th>4</th>\n",
              "      <td>Canada</td>\n",
              "      <td>5</td>\n",
              "      <td>7.427</td>\n",
              "      <td>1.32629</td>\n",
              "      <td>1.32261</td>\n",
              "      <td>0.90563</td>\n",
              "      <td>0.63297</td>\n",
              "      <td>0.45811</td>\n",
              "      <td>0.32957</td>\n",
              "    </tr>\n",
              "    <tr>\n",
              "      <th>...</th>\n",
              "      <td>...</td>\n",
              "      <td>...</td>\n",
              "      <td>...</td>\n",
              "      <td>...</td>\n",
              "      <td>...</td>\n",
              "      <td>...</td>\n",
              "      <td>...</td>\n",
              "      <td>...</td>\n",
              "      <td>...</td>\n",
              "    </tr>\n",
              "    <tr>\n",
              "      <th>153</th>\n",
              "      <td>Rwanda</td>\n",
              "      <td>154</td>\n",
              "      <td>3.465</td>\n",
              "      <td>0.22208</td>\n",
              "      <td>0.77370</td>\n",
              "      <td>0.42864</td>\n",
              "      <td>0.59201</td>\n",
              "      <td>0.22628</td>\n",
              "      <td>0.55191</td>\n",
              "    </tr>\n",
              "    <tr>\n",
              "      <th>154</th>\n",
              "      <td>Benin</td>\n",
              "      <td>155</td>\n",
              "      <td>3.340</td>\n",
              "      <td>0.28665</td>\n",
              "      <td>0.35386</td>\n",
              "      <td>0.31910</td>\n",
              "      <td>0.48450</td>\n",
              "      <td>0.18260</td>\n",
              "      <td>0.08010</td>\n",
              "    </tr>\n",
              "    <tr>\n",
              "      <th>155</th>\n",
              "      <td>Syria</td>\n",
              "      <td>156</td>\n",
              "      <td>3.006</td>\n",
              "      <td>0.66320</td>\n",
              "      <td>0.47489</td>\n",
              "      <td>0.72193</td>\n",
              "      <td>0.15684</td>\n",
              "      <td>0.47179</td>\n",
              "      <td>0.18906</td>\n",
              "    </tr>\n",
              "    <tr>\n",
              "      <th>156</th>\n",
              "      <td>Burundi</td>\n",
              "      <td>157</td>\n",
              "      <td>2.905</td>\n",
              "      <td>0.01530</td>\n",
              "      <td>0.41587</td>\n",
              "      <td>0.22396</td>\n",
              "      <td>0.11850</td>\n",
              "      <td>0.19727</td>\n",
              "      <td>0.10062</td>\n",
              "    </tr>\n",
              "    <tr>\n",
              "      <th>157</th>\n",
              "      <td>Togo</td>\n",
              "      <td>158</td>\n",
              "      <td>2.839</td>\n",
              "      <td>0.20868</td>\n",
              "      <td>0.13995</td>\n",
              "      <td>0.28443</td>\n",
              "      <td>0.36453</td>\n",
              "      <td>0.16681</td>\n",
              "      <td>0.10731</td>\n",
              "    </tr>\n",
              "  </tbody>\n",
              "</table>\n",
              "<p>158 rows × 9 columns</p>\n",
              "</div>"
            ],
            "text/plain": [
              "    Country or Region  Happiness Rank  ...  Generosity  Perceptions of corruption\n",
              "0         Switzerland               1  ...     0.29678                    0.41978\n",
              "1             Iceland               2  ...     0.43630                    0.14145\n",
              "2             Denmark               3  ...     0.34139                    0.48357\n",
              "3              Norway               4  ...     0.34699                    0.36503\n",
              "4              Canada               5  ...     0.45811                    0.32957\n",
              "..                ...             ...  ...         ...                        ...\n",
              "153            Rwanda             154  ...     0.22628                    0.55191\n",
              "154             Benin             155  ...     0.18260                    0.08010\n",
              "155             Syria             156  ...     0.47179                    0.18906\n",
              "156           Burundi             157  ...     0.19727                    0.10062\n",
              "157              Togo             158  ...     0.16681                    0.10731\n",
              "\n",
              "[158 rows x 9 columns]"
            ]
          },
          "metadata": {
            "tags": []
          },
          "execution_count": 20
        }
      ]
    },
    {
      "cell_type": "code",
      "metadata": {
        "id": "KS99RlbL-T69",
        "colab_type": "code",
        "colab": {
          "base_uri": "https://localhost:8080/",
          "height": 296
        },
        "outputId": "f6360f0c-50db-487d-c208-155e5582f869"
      },
      "source": [
        "df2016.head()"
      ],
      "execution_count": null,
      "outputs": [
        {
          "output_type": "execute_result",
          "data": {
            "text/html": [
              "<div>\n",
              "<style scoped>\n",
              "    .dataframe tbody tr th:only-of-type {\n",
              "        vertical-align: middle;\n",
              "    }\n",
              "\n",
              "    .dataframe tbody tr th {\n",
              "        vertical-align: top;\n",
              "    }\n",
              "\n",
              "    .dataframe thead th {\n",
              "        text-align: right;\n",
              "    }\n",
              "</style>\n",
              "<table border=\"1\" class=\"dataframe\">\n",
              "  <thead>\n",
              "    <tr style=\"text-align: right;\">\n",
              "      <th></th>\n",
              "      <th>Country</th>\n",
              "      <th>Region</th>\n",
              "      <th>Happiness Rank</th>\n",
              "      <th>Happiness Score</th>\n",
              "      <th>Lower Confidence Interval</th>\n",
              "      <th>Upper Confidence Interval</th>\n",
              "      <th>Economy (GDP per Capita)</th>\n",
              "      <th>Family</th>\n",
              "      <th>Health (Life Expectancy)</th>\n",
              "      <th>Freedom</th>\n",
              "      <th>Trust (Government Corruption)</th>\n",
              "      <th>Generosity</th>\n",
              "      <th>Dystopia Residual</th>\n",
              "    </tr>\n",
              "  </thead>\n",
              "  <tbody>\n",
              "    <tr>\n",
              "      <th>0</th>\n",
              "      <td>Denmark</td>\n",
              "      <td>Western Europe</td>\n",
              "      <td>1</td>\n",
              "      <td>7.526</td>\n",
              "      <td>7.460</td>\n",
              "      <td>7.592</td>\n",
              "      <td>1.44178</td>\n",
              "      <td>1.16374</td>\n",
              "      <td>0.79504</td>\n",
              "      <td>0.57941</td>\n",
              "      <td>0.44453</td>\n",
              "      <td>0.36171</td>\n",
              "      <td>2.73939</td>\n",
              "    </tr>\n",
              "    <tr>\n",
              "      <th>1</th>\n",
              "      <td>Switzerland</td>\n",
              "      <td>Western Europe</td>\n",
              "      <td>2</td>\n",
              "      <td>7.509</td>\n",
              "      <td>7.428</td>\n",
              "      <td>7.590</td>\n",
              "      <td>1.52733</td>\n",
              "      <td>1.14524</td>\n",
              "      <td>0.86303</td>\n",
              "      <td>0.58557</td>\n",
              "      <td>0.41203</td>\n",
              "      <td>0.28083</td>\n",
              "      <td>2.69463</td>\n",
              "    </tr>\n",
              "    <tr>\n",
              "      <th>2</th>\n",
              "      <td>Iceland</td>\n",
              "      <td>Western Europe</td>\n",
              "      <td>3</td>\n",
              "      <td>7.501</td>\n",
              "      <td>7.333</td>\n",
              "      <td>7.669</td>\n",
              "      <td>1.42666</td>\n",
              "      <td>1.18326</td>\n",
              "      <td>0.86733</td>\n",
              "      <td>0.56624</td>\n",
              "      <td>0.14975</td>\n",
              "      <td>0.47678</td>\n",
              "      <td>2.83137</td>\n",
              "    </tr>\n",
              "    <tr>\n",
              "      <th>3</th>\n",
              "      <td>Norway</td>\n",
              "      <td>Western Europe</td>\n",
              "      <td>4</td>\n",
              "      <td>7.498</td>\n",
              "      <td>7.421</td>\n",
              "      <td>7.575</td>\n",
              "      <td>1.57744</td>\n",
              "      <td>1.12690</td>\n",
              "      <td>0.79579</td>\n",
              "      <td>0.59609</td>\n",
              "      <td>0.35776</td>\n",
              "      <td>0.37895</td>\n",
              "      <td>2.66465</td>\n",
              "    </tr>\n",
              "    <tr>\n",
              "      <th>4</th>\n",
              "      <td>Finland</td>\n",
              "      <td>Western Europe</td>\n",
              "      <td>5</td>\n",
              "      <td>7.413</td>\n",
              "      <td>7.351</td>\n",
              "      <td>7.475</td>\n",
              "      <td>1.40598</td>\n",
              "      <td>1.13464</td>\n",
              "      <td>0.81091</td>\n",
              "      <td>0.57104</td>\n",
              "      <td>0.41004</td>\n",
              "      <td>0.25492</td>\n",
              "      <td>2.82596</td>\n",
              "    </tr>\n",
              "  </tbody>\n",
              "</table>\n",
              "</div>"
            ],
            "text/plain": [
              "       Country          Region  ...  Generosity  Dystopia Residual\n",
              "0      Denmark  Western Europe  ...     0.36171            2.73939\n",
              "1  Switzerland  Western Europe  ...     0.28083            2.69463\n",
              "2      Iceland  Western Europe  ...     0.47678            2.83137\n",
              "3       Norway  Western Europe  ...     0.37895            2.66465\n",
              "4      Finland  Western Europe  ...     0.25492            2.82596\n",
              "\n",
              "[5 rows x 13 columns]"
            ]
          },
          "metadata": {
            "tags": []
          },
          "execution_count": 21
        }
      ]
    },
    {
      "cell_type": "code",
      "metadata": {
        "id": "pKnIRrY_9mdm",
        "colab_type": "code",
        "colab": {
          "base_uri": "https://localhost:8080/",
          "height": 50
        },
        "outputId": "0425f5ba-5e01-4733-aa51-b9f457511675"
      },
      "source": [
        "# drop columns\n",
        "df2016.drop(['Region','Lower Confidence Interval','Upper Confidence Interval','Dystopia Residual'],axis=1, inplace = True) \n",
        "print('columns are dropped!')\n",
        "print(df2016.shape)"
      ],
      "execution_count": null,
      "outputs": [
        {
          "output_type": "stream",
          "text": [
            "columns are dropped!\n",
            "(157, 9)\n"
          ],
          "name": "stdout"
        }
      ]
    },
    {
      "cell_type": "code",
      "metadata": {
        "id": "Nc3n6P3SFPfE",
        "colab_type": "code",
        "colab": {
          "base_uri": "https://localhost:8080/",
          "height": 418
        },
        "outputId": "607f6e51-7d45-4e3d-8f9a-958e7756ebb2"
      },
      "source": [
        "# rename columns\n",
        "df2016.rename(columns = {'Trust (Government Corruption)':'Perceptions of corruption','Country':'Country or Region',\n",
        "                         'Family':'Social Support','Freedom':'Freedom to make life choices'},inplace = True)\n",
        "\n",
        "# switch columns \"Perceptions of Corruption\" and \"Generosity\" \n",
        "df2016.columns\n",
        "df2016new = df2016[['Country or Region', 'Happiness Rank', 'Happiness Score',\n",
        "       'Economy (GDP per Capita)', 'Social Support',\n",
        "       'Health (Life Expectancy)', 'Freedom to make life choices','Generosity','Perceptions of corruption']]\n",
        "df2016new"
      ],
      "execution_count": null,
      "outputs": [
        {
          "output_type": "execute_result",
          "data": {
            "text/html": [
              "<div>\n",
              "<style scoped>\n",
              "    .dataframe tbody tr th:only-of-type {\n",
              "        vertical-align: middle;\n",
              "    }\n",
              "\n",
              "    .dataframe tbody tr th {\n",
              "        vertical-align: top;\n",
              "    }\n",
              "\n",
              "    .dataframe thead th {\n",
              "        text-align: right;\n",
              "    }\n",
              "</style>\n",
              "<table border=\"1\" class=\"dataframe\">\n",
              "  <thead>\n",
              "    <tr style=\"text-align: right;\">\n",
              "      <th></th>\n",
              "      <th>Country or Region</th>\n",
              "      <th>Happiness Rank</th>\n",
              "      <th>Happiness Score</th>\n",
              "      <th>Economy (GDP per Capita)</th>\n",
              "      <th>Social Support</th>\n",
              "      <th>Health (Life Expectancy)</th>\n",
              "      <th>Freedom to make life choices</th>\n",
              "      <th>Generosity</th>\n",
              "      <th>Perceptions of corruption</th>\n",
              "    </tr>\n",
              "  </thead>\n",
              "  <tbody>\n",
              "    <tr>\n",
              "      <th>0</th>\n",
              "      <td>Denmark</td>\n",
              "      <td>1</td>\n",
              "      <td>7.526</td>\n",
              "      <td>1.44178</td>\n",
              "      <td>1.16374</td>\n",
              "      <td>0.79504</td>\n",
              "      <td>0.57941</td>\n",
              "      <td>0.36171</td>\n",
              "      <td>0.44453</td>\n",
              "    </tr>\n",
              "    <tr>\n",
              "      <th>1</th>\n",
              "      <td>Switzerland</td>\n",
              "      <td>2</td>\n",
              "      <td>7.509</td>\n",
              "      <td>1.52733</td>\n",
              "      <td>1.14524</td>\n",
              "      <td>0.86303</td>\n",
              "      <td>0.58557</td>\n",
              "      <td>0.28083</td>\n",
              "      <td>0.41203</td>\n",
              "    </tr>\n",
              "    <tr>\n",
              "      <th>2</th>\n",
              "      <td>Iceland</td>\n",
              "      <td>3</td>\n",
              "      <td>7.501</td>\n",
              "      <td>1.42666</td>\n",
              "      <td>1.18326</td>\n",
              "      <td>0.86733</td>\n",
              "      <td>0.56624</td>\n",
              "      <td>0.47678</td>\n",
              "      <td>0.14975</td>\n",
              "    </tr>\n",
              "    <tr>\n",
              "      <th>3</th>\n",
              "      <td>Norway</td>\n",
              "      <td>4</td>\n",
              "      <td>7.498</td>\n",
              "      <td>1.57744</td>\n",
              "      <td>1.12690</td>\n",
              "      <td>0.79579</td>\n",
              "      <td>0.59609</td>\n",
              "      <td>0.37895</td>\n",
              "      <td>0.35776</td>\n",
              "    </tr>\n",
              "    <tr>\n",
              "      <th>4</th>\n",
              "      <td>Finland</td>\n",
              "      <td>5</td>\n",
              "      <td>7.413</td>\n",
              "      <td>1.40598</td>\n",
              "      <td>1.13464</td>\n",
              "      <td>0.81091</td>\n",
              "      <td>0.57104</td>\n",
              "      <td>0.25492</td>\n",
              "      <td>0.41004</td>\n",
              "    </tr>\n",
              "    <tr>\n",
              "      <th>...</th>\n",
              "      <td>...</td>\n",
              "      <td>...</td>\n",
              "      <td>...</td>\n",
              "      <td>...</td>\n",
              "      <td>...</td>\n",
              "      <td>...</td>\n",
              "      <td>...</td>\n",
              "      <td>...</td>\n",
              "      <td>...</td>\n",
              "    </tr>\n",
              "    <tr>\n",
              "      <th>152</th>\n",
              "      <td>Benin</td>\n",
              "      <td>153</td>\n",
              "      <td>3.484</td>\n",
              "      <td>0.39499</td>\n",
              "      <td>0.10419</td>\n",
              "      <td>0.21028</td>\n",
              "      <td>0.39747</td>\n",
              "      <td>0.20180</td>\n",
              "      <td>0.06681</td>\n",
              "    </tr>\n",
              "    <tr>\n",
              "      <th>153</th>\n",
              "      <td>Afghanistan</td>\n",
              "      <td>154</td>\n",
              "      <td>3.360</td>\n",
              "      <td>0.38227</td>\n",
              "      <td>0.11037</td>\n",
              "      <td>0.17344</td>\n",
              "      <td>0.16430</td>\n",
              "      <td>0.31268</td>\n",
              "      <td>0.07112</td>\n",
              "    </tr>\n",
              "    <tr>\n",
              "      <th>154</th>\n",
              "      <td>Togo</td>\n",
              "      <td>155</td>\n",
              "      <td>3.303</td>\n",
              "      <td>0.28123</td>\n",
              "      <td>0.00000</td>\n",
              "      <td>0.24811</td>\n",
              "      <td>0.34678</td>\n",
              "      <td>0.17517</td>\n",
              "      <td>0.11587</td>\n",
              "    </tr>\n",
              "    <tr>\n",
              "      <th>155</th>\n",
              "      <td>Syria</td>\n",
              "      <td>156</td>\n",
              "      <td>3.069</td>\n",
              "      <td>0.74719</td>\n",
              "      <td>0.14866</td>\n",
              "      <td>0.62994</td>\n",
              "      <td>0.06912</td>\n",
              "      <td>0.48397</td>\n",
              "      <td>0.17233</td>\n",
              "    </tr>\n",
              "    <tr>\n",
              "      <th>156</th>\n",
              "      <td>Burundi</td>\n",
              "      <td>157</td>\n",
              "      <td>2.905</td>\n",
              "      <td>0.06831</td>\n",
              "      <td>0.23442</td>\n",
              "      <td>0.15747</td>\n",
              "      <td>0.04320</td>\n",
              "      <td>0.20290</td>\n",
              "      <td>0.09419</td>\n",
              "    </tr>\n",
              "  </tbody>\n",
              "</table>\n",
              "<p>157 rows × 9 columns</p>\n",
              "</div>"
            ],
            "text/plain": [
              "    Country or Region  Happiness Rank  ...  Generosity  Perceptions of corruption\n",
              "0             Denmark               1  ...     0.36171                    0.44453\n",
              "1         Switzerland               2  ...     0.28083                    0.41203\n",
              "2             Iceland               3  ...     0.47678                    0.14975\n",
              "3              Norway               4  ...     0.37895                    0.35776\n",
              "4             Finland               5  ...     0.25492                    0.41004\n",
              "..                ...             ...  ...         ...                        ...\n",
              "152             Benin             153  ...     0.20180                    0.06681\n",
              "153       Afghanistan             154  ...     0.31268                    0.07112\n",
              "154              Togo             155  ...     0.17517                    0.11587\n",
              "155             Syria             156  ...     0.48397                    0.17233\n",
              "156           Burundi             157  ...     0.20290                    0.09419\n",
              "\n",
              "[157 rows x 9 columns]"
            ]
          },
          "metadata": {
            "tags": []
          },
          "execution_count": 23
        }
      ]
    },
    {
      "cell_type": "code",
      "metadata": {
        "id": "v3vL6Ktf-iy4",
        "colab_type": "code",
        "colab": {
          "base_uri": "https://localhost:8080/",
          "height": 215
        },
        "outputId": "3a7816c8-52cf-4539-8ff6-f3c0a6ef91f3"
      },
      "source": [
        "df2017.head()"
      ],
      "execution_count": null,
      "outputs": [
        {
          "output_type": "execute_result",
          "data": {
            "text/html": [
              "<div>\n",
              "<style scoped>\n",
              "    .dataframe tbody tr th:only-of-type {\n",
              "        vertical-align: middle;\n",
              "    }\n",
              "\n",
              "    .dataframe tbody tr th {\n",
              "        vertical-align: top;\n",
              "    }\n",
              "\n",
              "    .dataframe thead th {\n",
              "        text-align: right;\n",
              "    }\n",
              "</style>\n",
              "<table border=\"1\" class=\"dataframe\">\n",
              "  <thead>\n",
              "    <tr style=\"text-align: right;\">\n",
              "      <th></th>\n",
              "      <th>Country</th>\n",
              "      <th>Happiness.Rank</th>\n",
              "      <th>Happiness.Score</th>\n",
              "      <th>Whisker.high</th>\n",
              "      <th>Whisker.low</th>\n",
              "      <th>Economy..GDP.per.Capita.</th>\n",
              "      <th>Family</th>\n",
              "      <th>Health..Life.Expectancy.</th>\n",
              "      <th>Freedom</th>\n",
              "      <th>Generosity</th>\n",
              "      <th>Trust..Government.Corruption.</th>\n",
              "      <th>Dystopia.Residual</th>\n",
              "    </tr>\n",
              "  </thead>\n",
              "  <tbody>\n",
              "    <tr>\n",
              "      <th>0</th>\n",
              "      <td>Norway</td>\n",
              "      <td>1</td>\n",
              "      <td>7.537</td>\n",
              "      <td>7.594445</td>\n",
              "      <td>7.479556</td>\n",
              "      <td>1.616463</td>\n",
              "      <td>1.533524</td>\n",
              "      <td>0.796667</td>\n",
              "      <td>0.635423</td>\n",
              "      <td>0.362012</td>\n",
              "      <td>0.315964</td>\n",
              "      <td>2.277027</td>\n",
              "    </tr>\n",
              "    <tr>\n",
              "      <th>1</th>\n",
              "      <td>Denmark</td>\n",
              "      <td>2</td>\n",
              "      <td>7.522</td>\n",
              "      <td>7.581728</td>\n",
              "      <td>7.462272</td>\n",
              "      <td>1.482383</td>\n",
              "      <td>1.551122</td>\n",
              "      <td>0.792566</td>\n",
              "      <td>0.626007</td>\n",
              "      <td>0.355280</td>\n",
              "      <td>0.400770</td>\n",
              "      <td>2.313707</td>\n",
              "    </tr>\n",
              "    <tr>\n",
              "      <th>2</th>\n",
              "      <td>Iceland</td>\n",
              "      <td>3</td>\n",
              "      <td>7.504</td>\n",
              "      <td>7.622030</td>\n",
              "      <td>7.385970</td>\n",
              "      <td>1.480633</td>\n",
              "      <td>1.610574</td>\n",
              "      <td>0.833552</td>\n",
              "      <td>0.627163</td>\n",
              "      <td>0.475540</td>\n",
              "      <td>0.153527</td>\n",
              "      <td>2.322715</td>\n",
              "    </tr>\n",
              "    <tr>\n",
              "      <th>3</th>\n",
              "      <td>Switzerland</td>\n",
              "      <td>4</td>\n",
              "      <td>7.494</td>\n",
              "      <td>7.561772</td>\n",
              "      <td>7.426227</td>\n",
              "      <td>1.564980</td>\n",
              "      <td>1.516912</td>\n",
              "      <td>0.858131</td>\n",
              "      <td>0.620071</td>\n",
              "      <td>0.290549</td>\n",
              "      <td>0.367007</td>\n",
              "      <td>2.276716</td>\n",
              "    </tr>\n",
              "    <tr>\n",
              "      <th>4</th>\n",
              "      <td>Finland</td>\n",
              "      <td>5</td>\n",
              "      <td>7.469</td>\n",
              "      <td>7.527542</td>\n",
              "      <td>7.410458</td>\n",
              "      <td>1.443572</td>\n",
              "      <td>1.540247</td>\n",
              "      <td>0.809158</td>\n",
              "      <td>0.617951</td>\n",
              "      <td>0.245483</td>\n",
              "      <td>0.382612</td>\n",
              "      <td>2.430182</td>\n",
              "    </tr>\n",
              "  </tbody>\n",
              "</table>\n",
              "</div>"
            ],
            "text/plain": [
              "       Country  ...  Dystopia.Residual\n",
              "0       Norway  ...           2.277027\n",
              "1      Denmark  ...           2.313707\n",
              "2      Iceland  ...           2.322715\n",
              "3  Switzerland  ...           2.276716\n",
              "4      Finland  ...           2.430182\n",
              "\n",
              "[5 rows x 12 columns]"
            ]
          },
          "metadata": {
            "tags": []
          },
          "execution_count": 24
        }
      ]
    },
    {
      "cell_type": "code",
      "metadata": {
        "id": "ejN6suBXFqzC",
        "colab_type": "code",
        "colab": {
          "base_uri": "https://localhost:8080/",
          "height": 50
        },
        "outputId": "351d76b2-56bd-4002-8c84-c05fe978c5d9"
      },
      "source": [
        "# drop columns\n",
        "df2017.drop(['Whisker.high','Whisker.low','Dystopia.Residual'],axis=1, inplace = True) \n",
        "print('columns are dropped!')\n",
        "print(df2017.shape)"
      ],
      "execution_count": null,
      "outputs": [
        {
          "output_type": "stream",
          "text": [
            "columns are dropped!\n",
            "(155, 9)\n"
          ],
          "name": "stdout"
        }
      ]
    },
    {
      "cell_type": "code",
      "metadata": {
        "id": "0IB0EBs2HF9b",
        "colab_type": "code",
        "colab": {
          "base_uri": "https://localhost:8080/",
          "height": 435
        },
        "outputId": "2e6e24c3-7455-4b75-92c7-2b798060510b"
      },
      "source": [
        "# rename columns\n",
        "df2017.rename(columns = {'Trust..Government.Corruption.':'Perceptions of corruption','Country':'Country or Region',\n",
        "                         'Family':'Social Support','Freedom':'Freedom to make life choices','Happiness.Rank':'Happiness Rank',\n",
        "                         'Happiness.Score':'Happiness Score','Economy..GDP.per.Capita.':'Economy (GDP per Capita)',\n",
        "                         'Health..Life.Expectancy.':'Health (Life Expectancy)'},inplace = True)\n",
        "\n",
        "# just needed to rename dataframe for this part\n",
        "df2017new = df2017\n",
        "df2017new"
      ],
      "execution_count": null,
      "outputs": [
        {
          "output_type": "execute_result",
          "data": {
            "text/html": [
              "<div>\n",
              "<style scoped>\n",
              "    .dataframe tbody tr th:only-of-type {\n",
              "        vertical-align: middle;\n",
              "    }\n",
              "\n",
              "    .dataframe tbody tr th {\n",
              "        vertical-align: top;\n",
              "    }\n",
              "\n",
              "    .dataframe thead th {\n",
              "        text-align: right;\n",
              "    }\n",
              "</style>\n",
              "<table border=\"1\" class=\"dataframe\">\n",
              "  <thead>\n",
              "    <tr style=\"text-align: right;\">\n",
              "      <th></th>\n",
              "      <th>Country or Region</th>\n",
              "      <th>Happiness Rank</th>\n",
              "      <th>Happiness Score</th>\n",
              "      <th>Economy (GDP per Capita)</th>\n",
              "      <th>Social Support</th>\n",
              "      <th>Health (Life Expectancy)</th>\n",
              "      <th>Freedom to make life choices</th>\n",
              "      <th>Generosity</th>\n",
              "      <th>Perceptions of corruption</th>\n",
              "    </tr>\n",
              "  </thead>\n",
              "  <tbody>\n",
              "    <tr>\n",
              "      <th>0</th>\n",
              "      <td>Norway</td>\n",
              "      <td>1</td>\n",
              "      <td>7.537</td>\n",
              "      <td>1.616463</td>\n",
              "      <td>1.533524</td>\n",
              "      <td>0.796667</td>\n",
              "      <td>0.635423</td>\n",
              "      <td>0.362012</td>\n",
              "      <td>0.315964</td>\n",
              "    </tr>\n",
              "    <tr>\n",
              "      <th>1</th>\n",
              "      <td>Denmark</td>\n",
              "      <td>2</td>\n",
              "      <td>7.522</td>\n",
              "      <td>1.482383</td>\n",
              "      <td>1.551122</td>\n",
              "      <td>0.792566</td>\n",
              "      <td>0.626007</td>\n",
              "      <td>0.355280</td>\n",
              "      <td>0.400770</td>\n",
              "    </tr>\n",
              "    <tr>\n",
              "      <th>2</th>\n",
              "      <td>Iceland</td>\n",
              "      <td>3</td>\n",
              "      <td>7.504</td>\n",
              "      <td>1.480633</td>\n",
              "      <td>1.610574</td>\n",
              "      <td>0.833552</td>\n",
              "      <td>0.627163</td>\n",
              "      <td>0.475540</td>\n",
              "      <td>0.153527</td>\n",
              "    </tr>\n",
              "    <tr>\n",
              "      <th>3</th>\n",
              "      <td>Switzerland</td>\n",
              "      <td>4</td>\n",
              "      <td>7.494</td>\n",
              "      <td>1.564980</td>\n",
              "      <td>1.516912</td>\n",
              "      <td>0.858131</td>\n",
              "      <td>0.620071</td>\n",
              "      <td>0.290549</td>\n",
              "      <td>0.367007</td>\n",
              "    </tr>\n",
              "    <tr>\n",
              "      <th>4</th>\n",
              "      <td>Finland</td>\n",
              "      <td>5</td>\n",
              "      <td>7.469</td>\n",
              "      <td>1.443572</td>\n",
              "      <td>1.540247</td>\n",
              "      <td>0.809158</td>\n",
              "      <td>0.617951</td>\n",
              "      <td>0.245483</td>\n",
              "      <td>0.382612</td>\n",
              "    </tr>\n",
              "    <tr>\n",
              "      <th>...</th>\n",
              "      <td>...</td>\n",
              "      <td>...</td>\n",
              "      <td>...</td>\n",
              "      <td>...</td>\n",
              "      <td>...</td>\n",
              "      <td>...</td>\n",
              "      <td>...</td>\n",
              "      <td>...</td>\n",
              "      <td>...</td>\n",
              "    </tr>\n",
              "    <tr>\n",
              "      <th>150</th>\n",
              "      <td>Rwanda</td>\n",
              "      <td>151</td>\n",
              "      <td>3.471</td>\n",
              "      <td>0.368746</td>\n",
              "      <td>0.945707</td>\n",
              "      <td>0.326425</td>\n",
              "      <td>0.581844</td>\n",
              "      <td>0.252756</td>\n",
              "      <td>0.455220</td>\n",
              "    </tr>\n",
              "    <tr>\n",
              "      <th>151</th>\n",
              "      <td>Syria</td>\n",
              "      <td>152</td>\n",
              "      <td>3.462</td>\n",
              "      <td>0.777153</td>\n",
              "      <td>0.396103</td>\n",
              "      <td>0.500533</td>\n",
              "      <td>0.081539</td>\n",
              "      <td>0.493664</td>\n",
              "      <td>0.151347</td>\n",
              "    </tr>\n",
              "    <tr>\n",
              "      <th>152</th>\n",
              "      <td>Tanzania</td>\n",
              "      <td>153</td>\n",
              "      <td>3.349</td>\n",
              "      <td>0.511136</td>\n",
              "      <td>1.041990</td>\n",
              "      <td>0.364509</td>\n",
              "      <td>0.390018</td>\n",
              "      <td>0.354256</td>\n",
              "      <td>0.066035</td>\n",
              "    </tr>\n",
              "    <tr>\n",
              "      <th>153</th>\n",
              "      <td>Burundi</td>\n",
              "      <td>154</td>\n",
              "      <td>2.905</td>\n",
              "      <td>0.091623</td>\n",
              "      <td>0.629794</td>\n",
              "      <td>0.151611</td>\n",
              "      <td>0.059901</td>\n",
              "      <td>0.204435</td>\n",
              "      <td>0.084148</td>\n",
              "    </tr>\n",
              "    <tr>\n",
              "      <th>154</th>\n",
              "      <td>Central African Republic</td>\n",
              "      <td>155</td>\n",
              "      <td>2.693</td>\n",
              "      <td>0.000000</td>\n",
              "      <td>0.000000</td>\n",
              "      <td>0.018773</td>\n",
              "      <td>0.270842</td>\n",
              "      <td>0.280876</td>\n",
              "      <td>0.056565</td>\n",
              "    </tr>\n",
              "  </tbody>\n",
              "</table>\n",
              "<p>155 rows × 9 columns</p>\n",
              "</div>"
            ],
            "text/plain": [
              "            Country or Region  ...  Perceptions of corruption\n",
              "0                      Norway  ...                   0.315964\n",
              "1                     Denmark  ...                   0.400770\n",
              "2                     Iceland  ...                   0.153527\n",
              "3                 Switzerland  ...                   0.367007\n",
              "4                     Finland  ...                   0.382612\n",
              "..                        ...  ...                        ...\n",
              "150                    Rwanda  ...                   0.455220\n",
              "151                     Syria  ...                   0.151347\n",
              "152                  Tanzania  ...                   0.066035\n",
              "153                   Burundi  ...                   0.084148\n",
              "154  Central African Republic  ...                   0.056565\n",
              "\n",
              "[155 rows x 9 columns]"
            ]
          },
          "metadata": {
            "tags": []
          },
          "execution_count": 26
        }
      ]
    },
    {
      "cell_type": "code",
      "metadata": {
        "id": "TtURWBGo-uiq",
        "colab_type": "code",
        "colab": {
          "base_uri": "https://localhost:8080/",
          "height": 195
        },
        "outputId": "cfaf8a6f-0f28-47f6-c8b3-50e68e81c680"
      },
      "source": [
        "df2018.head()"
      ],
      "execution_count": null,
      "outputs": [
        {
          "output_type": "execute_result",
          "data": {
            "text/html": [
              "<div>\n",
              "<style scoped>\n",
              "    .dataframe tbody tr th:only-of-type {\n",
              "        vertical-align: middle;\n",
              "    }\n",
              "\n",
              "    .dataframe tbody tr th {\n",
              "        vertical-align: top;\n",
              "    }\n",
              "\n",
              "    .dataframe thead th {\n",
              "        text-align: right;\n",
              "    }\n",
              "</style>\n",
              "<table border=\"1\" class=\"dataframe\">\n",
              "  <thead>\n",
              "    <tr style=\"text-align: right;\">\n",
              "      <th></th>\n",
              "      <th>Overall rank</th>\n",
              "      <th>Country or region</th>\n",
              "      <th>Score</th>\n",
              "      <th>GDP per capita</th>\n",
              "      <th>Social support</th>\n",
              "      <th>Healthy life expectancy</th>\n",
              "      <th>Freedom to make life choices</th>\n",
              "      <th>Generosity</th>\n",
              "      <th>Perceptions of corruption</th>\n",
              "    </tr>\n",
              "  </thead>\n",
              "  <tbody>\n",
              "    <tr>\n",
              "      <th>0</th>\n",
              "      <td>1</td>\n",
              "      <td>Finland</td>\n",
              "      <td>7.632</td>\n",
              "      <td>1.305</td>\n",
              "      <td>1.592</td>\n",
              "      <td>0.874</td>\n",
              "      <td>0.681</td>\n",
              "      <td>0.202</td>\n",
              "      <td>0.393</td>\n",
              "    </tr>\n",
              "    <tr>\n",
              "      <th>1</th>\n",
              "      <td>2</td>\n",
              "      <td>Norway</td>\n",
              "      <td>7.594</td>\n",
              "      <td>1.456</td>\n",
              "      <td>1.582</td>\n",
              "      <td>0.861</td>\n",
              "      <td>0.686</td>\n",
              "      <td>0.286</td>\n",
              "      <td>0.340</td>\n",
              "    </tr>\n",
              "    <tr>\n",
              "      <th>2</th>\n",
              "      <td>3</td>\n",
              "      <td>Denmark</td>\n",
              "      <td>7.555</td>\n",
              "      <td>1.351</td>\n",
              "      <td>1.590</td>\n",
              "      <td>0.868</td>\n",
              "      <td>0.683</td>\n",
              "      <td>0.284</td>\n",
              "      <td>0.408</td>\n",
              "    </tr>\n",
              "    <tr>\n",
              "      <th>3</th>\n",
              "      <td>4</td>\n",
              "      <td>Iceland</td>\n",
              "      <td>7.495</td>\n",
              "      <td>1.343</td>\n",
              "      <td>1.644</td>\n",
              "      <td>0.914</td>\n",
              "      <td>0.677</td>\n",
              "      <td>0.353</td>\n",
              "      <td>0.138</td>\n",
              "    </tr>\n",
              "    <tr>\n",
              "      <th>4</th>\n",
              "      <td>5</td>\n",
              "      <td>Switzerland</td>\n",
              "      <td>7.487</td>\n",
              "      <td>1.420</td>\n",
              "      <td>1.549</td>\n",
              "      <td>0.927</td>\n",
              "      <td>0.660</td>\n",
              "      <td>0.256</td>\n",
              "      <td>0.357</td>\n",
              "    </tr>\n",
              "  </tbody>\n",
              "</table>\n",
              "</div>"
            ],
            "text/plain": [
              "   Overall rank Country or region  ...  Generosity  Perceptions of corruption\n",
              "0             1           Finland  ...       0.202                      0.393\n",
              "1             2            Norway  ...       0.286                      0.340\n",
              "2             3           Denmark  ...       0.284                      0.408\n",
              "3             4           Iceland  ...       0.353                      0.138\n",
              "4             5       Switzerland  ...       0.256                      0.357\n",
              "\n",
              "[5 rows x 9 columns]"
            ]
          },
          "metadata": {
            "tags": []
          },
          "execution_count": 27
        }
      ]
    },
    {
      "cell_type": "code",
      "metadata": {
        "id": "kzR_sVtMJN0Q",
        "colab_type": "code",
        "colab": {
          "base_uri": "https://localhost:8080/",
          "height": 435
        },
        "outputId": "211dfca4-7b17-47bd-bac7-7d74c965a90f"
      },
      "source": [
        "# rename columns\n",
        "df2018.rename(columns = {'Overall rank':'Happiness Rank','Country or region':'Country or Region','Score':'Happiness Score',\n",
        "                         'GDP per capita':'Economy (GDP per Capita)', 'Social support': 'Social Support',\n",
        "                         'Healthy life expectancy':'Health (Life Expectancy)'},inplace = True)\n",
        "\n",
        "# switch \"Country or region\" and \"Happiness Rank\"\n",
        "df2018.columns\n",
        "df2018new = df2018[['Country or Region', 'Happiness Rank', 'Happiness Score','Economy (GDP per Capita)', \n",
        "                    'Social Support','Health (Life Expectancy)', 'Freedom to make life choices','Generosity','Perceptions of corruption']]\n",
        "df2018new"
      ],
      "execution_count": null,
      "outputs": [
        {
          "output_type": "execute_result",
          "data": {
            "text/html": [
              "<div>\n",
              "<style scoped>\n",
              "    .dataframe tbody tr th:only-of-type {\n",
              "        vertical-align: middle;\n",
              "    }\n",
              "\n",
              "    .dataframe tbody tr th {\n",
              "        vertical-align: top;\n",
              "    }\n",
              "\n",
              "    .dataframe thead th {\n",
              "        text-align: right;\n",
              "    }\n",
              "</style>\n",
              "<table border=\"1\" class=\"dataframe\">\n",
              "  <thead>\n",
              "    <tr style=\"text-align: right;\">\n",
              "      <th></th>\n",
              "      <th>Country or Region</th>\n",
              "      <th>Happiness Rank</th>\n",
              "      <th>Happiness Score</th>\n",
              "      <th>Economy (GDP per Capita)</th>\n",
              "      <th>Social Support</th>\n",
              "      <th>Health (Life Expectancy)</th>\n",
              "      <th>Freedom to make life choices</th>\n",
              "      <th>Generosity</th>\n",
              "      <th>Perceptions of corruption</th>\n",
              "    </tr>\n",
              "  </thead>\n",
              "  <tbody>\n",
              "    <tr>\n",
              "      <th>0</th>\n",
              "      <td>Finland</td>\n",
              "      <td>1</td>\n",
              "      <td>7.632</td>\n",
              "      <td>1.305</td>\n",
              "      <td>1.592</td>\n",
              "      <td>0.874</td>\n",
              "      <td>0.681</td>\n",
              "      <td>0.202</td>\n",
              "      <td>0.393</td>\n",
              "    </tr>\n",
              "    <tr>\n",
              "      <th>1</th>\n",
              "      <td>Norway</td>\n",
              "      <td>2</td>\n",
              "      <td>7.594</td>\n",
              "      <td>1.456</td>\n",
              "      <td>1.582</td>\n",
              "      <td>0.861</td>\n",
              "      <td>0.686</td>\n",
              "      <td>0.286</td>\n",
              "      <td>0.340</td>\n",
              "    </tr>\n",
              "    <tr>\n",
              "      <th>2</th>\n",
              "      <td>Denmark</td>\n",
              "      <td>3</td>\n",
              "      <td>7.555</td>\n",
              "      <td>1.351</td>\n",
              "      <td>1.590</td>\n",
              "      <td>0.868</td>\n",
              "      <td>0.683</td>\n",
              "      <td>0.284</td>\n",
              "      <td>0.408</td>\n",
              "    </tr>\n",
              "    <tr>\n",
              "      <th>3</th>\n",
              "      <td>Iceland</td>\n",
              "      <td>4</td>\n",
              "      <td>7.495</td>\n",
              "      <td>1.343</td>\n",
              "      <td>1.644</td>\n",
              "      <td>0.914</td>\n",
              "      <td>0.677</td>\n",
              "      <td>0.353</td>\n",
              "      <td>0.138</td>\n",
              "    </tr>\n",
              "    <tr>\n",
              "      <th>4</th>\n",
              "      <td>Switzerland</td>\n",
              "      <td>5</td>\n",
              "      <td>7.487</td>\n",
              "      <td>1.420</td>\n",
              "      <td>1.549</td>\n",
              "      <td>0.927</td>\n",
              "      <td>0.660</td>\n",
              "      <td>0.256</td>\n",
              "      <td>0.357</td>\n",
              "    </tr>\n",
              "    <tr>\n",
              "      <th>...</th>\n",
              "      <td>...</td>\n",
              "      <td>...</td>\n",
              "      <td>...</td>\n",
              "      <td>...</td>\n",
              "      <td>...</td>\n",
              "      <td>...</td>\n",
              "      <td>...</td>\n",
              "      <td>...</td>\n",
              "      <td>...</td>\n",
              "    </tr>\n",
              "    <tr>\n",
              "      <th>151</th>\n",
              "      <td>Yemen</td>\n",
              "      <td>152</td>\n",
              "      <td>3.355</td>\n",
              "      <td>0.442</td>\n",
              "      <td>1.073</td>\n",
              "      <td>0.343</td>\n",
              "      <td>0.244</td>\n",
              "      <td>0.083</td>\n",
              "      <td>0.064</td>\n",
              "    </tr>\n",
              "    <tr>\n",
              "      <th>152</th>\n",
              "      <td>Tanzania</td>\n",
              "      <td>153</td>\n",
              "      <td>3.303</td>\n",
              "      <td>0.455</td>\n",
              "      <td>0.991</td>\n",
              "      <td>0.381</td>\n",
              "      <td>0.481</td>\n",
              "      <td>0.270</td>\n",
              "      <td>0.097</td>\n",
              "    </tr>\n",
              "    <tr>\n",
              "      <th>153</th>\n",
              "      <td>South Sudan</td>\n",
              "      <td>154</td>\n",
              "      <td>3.254</td>\n",
              "      <td>0.337</td>\n",
              "      <td>0.608</td>\n",
              "      <td>0.177</td>\n",
              "      <td>0.112</td>\n",
              "      <td>0.224</td>\n",
              "      <td>0.106</td>\n",
              "    </tr>\n",
              "    <tr>\n",
              "      <th>154</th>\n",
              "      <td>Central African Republic</td>\n",
              "      <td>155</td>\n",
              "      <td>3.083</td>\n",
              "      <td>0.024</td>\n",
              "      <td>0.000</td>\n",
              "      <td>0.010</td>\n",
              "      <td>0.305</td>\n",
              "      <td>0.218</td>\n",
              "      <td>0.038</td>\n",
              "    </tr>\n",
              "    <tr>\n",
              "      <th>155</th>\n",
              "      <td>Burundi</td>\n",
              "      <td>156</td>\n",
              "      <td>2.905</td>\n",
              "      <td>0.091</td>\n",
              "      <td>0.627</td>\n",
              "      <td>0.145</td>\n",
              "      <td>0.065</td>\n",
              "      <td>0.149</td>\n",
              "      <td>0.076</td>\n",
              "    </tr>\n",
              "  </tbody>\n",
              "</table>\n",
              "<p>156 rows × 9 columns</p>\n",
              "</div>"
            ],
            "text/plain": [
              "            Country or Region  ...  Perceptions of corruption\n",
              "0                     Finland  ...                      0.393\n",
              "1                      Norway  ...                      0.340\n",
              "2                     Denmark  ...                      0.408\n",
              "3                     Iceland  ...                      0.138\n",
              "4                 Switzerland  ...                      0.357\n",
              "..                        ...  ...                        ...\n",
              "151                     Yemen  ...                      0.064\n",
              "152                  Tanzania  ...                      0.097\n",
              "153               South Sudan  ...                      0.106\n",
              "154  Central African Republic  ...                      0.038\n",
              "155                   Burundi  ...                      0.076\n",
              "\n",
              "[156 rows x 9 columns]"
            ]
          },
          "metadata": {
            "tags": []
          },
          "execution_count": 28
        }
      ]
    },
    {
      "cell_type": "code",
      "metadata": {
        "id": "wAUJUjTZ-6gK",
        "colab_type": "code",
        "colab": {
          "base_uri": "https://localhost:8080/",
          "height": 195
        },
        "outputId": "2e501a21-1e8d-4056-f54d-b1cc69ca259e"
      },
      "source": [
        "df2019.head()"
      ],
      "execution_count": null,
      "outputs": [
        {
          "output_type": "execute_result",
          "data": {
            "text/html": [
              "<div>\n",
              "<style scoped>\n",
              "    .dataframe tbody tr th:only-of-type {\n",
              "        vertical-align: middle;\n",
              "    }\n",
              "\n",
              "    .dataframe tbody tr th {\n",
              "        vertical-align: top;\n",
              "    }\n",
              "\n",
              "    .dataframe thead th {\n",
              "        text-align: right;\n",
              "    }\n",
              "</style>\n",
              "<table border=\"1\" class=\"dataframe\">\n",
              "  <thead>\n",
              "    <tr style=\"text-align: right;\">\n",
              "      <th></th>\n",
              "      <th>Overall rank</th>\n",
              "      <th>Country or region</th>\n",
              "      <th>Score</th>\n",
              "      <th>GDP per capita</th>\n",
              "      <th>Social support</th>\n",
              "      <th>Healthy life expectancy</th>\n",
              "      <th>Freedom to make life choices</th>\n",
              "      <th>Generosity</th>\n",
              "      <th>Perceptions of corruption</th>\n",
              "    </tr>\n",
              "  </thead>\n",
              "  <tbody>\n",
              "    <tr>\n",
              "      <th>0</th>\n",
              "      <td>1</td>\n",
              "      <td>Finland</td>\n",
              "      <td>7.769</td>\n",
              "      <td>1.340</td>\n",
              "      <td>1.587</td>\n",
              "      <td>0.986</td>\n",
              "      <td>0.596</td>\n",
              "      <td>0.153</td>\n",
              "      <td>0.393</td>\n",
              "    </tr>\n",
              "    <tr>\n",
              "      <th>1</th>\n",
              "      <td>2</td>\n",
              "      <td>Denmark</td>\n",
              "      <td>7.600</td>\n",
              "      <td>1.383</td>\n",
              "      <td>1.573</td>\n",
              "      <td>0.996</td>\n",
              "      <td>0.592</td>\n",
              "      <td>0.252</td>\n",
              "      <td>0.410</td>\n",
              "    </tr>\n",
              "    <tr>\n",
              "      <th>2</th>\n",
              "      <td>3</td>\n",
              "      <td>Norway</td>\n",
              "      <td>7.554</td>\n",
              "      <td>1.488</td>\n",
              "      <td>1.582</td>\n",
              "      <td>1.028</td>\n",
              "      <td>0.603</td>\n",
              "      <td>0.271</td>\n",
              "      <td>0.341</td>\n",
              "    </tr>\n",
              "    <tr>\n",
              "      <th>3</th>\n",
              "      <td>4</td>\n",
              "      <td>Iceland</td>\n",
              "      <td>7.494</td>\n",
              "      <td>1.380</td>\n",
              "      <td>1.624</td>\n",
              "      <td>1.026</td>\n",
              "      <td>0.591</td>\n",
              "      <td>0.354</td>\n",
              "      <td>0.118</td>\n",
              "    </tr>\n",
              "    <tr>\n",
              "      <th>4</th>\n",
              "      <td>5</td>\n",
              "      <td>Netherlands</td>\n",
              "      <td>7.488</td>\n",
              "      <td>1.396</td>\n",
              "      <td>1.522</td>\n",
              "      <td>0.999</td>\n",
              "      <td>0.557</td>\n",
              "      <td>0.322</td>\n",
              "      <td>0.298</td>\n",
              "    </tr>\n",
              "  </tbody>\n",
              "</table>\n",
              "</div>"
            ],
            "text/plain": [
              "   Overall rank Country or region  ...  Generosity  Perceptions of corruption\n",
              "0             1           Finland  ...       0.153                      0.393\n",
              "1             2           Denmark  ...       0.252                      0.410\n",
              "2             3            Norway  ...       0.271                      0.341\n",
              "3             4           Iceland  ...       0.354                      0.118\n",
              "4             5       Netherlands  ...       0.322                      0.298\n",
              "\n",
              "[5 rows x 9 columns]"
            ]
          },
          "metadata": {
            "tags": []
          },
          "execution_count": 29
        }
      ]
    },
    {
      "cell_type": "code",
      "metadata": {
        "id": "nYFNdXQ1LGK6",
        "colab_type": "code",
        "colab": {
          "base_uri": "https://localhost:8080/",
          "height": 435
        },
        "outputId": "e489adb6-bb80-45c9-8789-d7e3858f3472"
      },
      "source": [
        "# rename columns\n",
        "df2019.rename(columns = {'Overall rank':'Happiness Rank','Country or region':'Country or Region','Score':'Happiness Score',\n",
        "                         'GDP per capita':'Economy (GDP per Capita)','Social support': 'Social Support',\n",
        "                         'Healthy life expectancy':'Health (Life Expectancy)'},inplace = True)\n",
        "\n",
        "# switch \"Country or region\" and \"Happiness Rank\"\n",
        "df2019new = df2019[['Country or Region', 'Happiness Rank', 'Happiness Score','Economy (GDP per Capita)', \n",
        "                    'Social Support','Health (Life Expectancy)', 'Freedom to make life choices','Generosity','Perceptions of corruption']]\n",
        "df2019new"
      ],
      "execution_count": null,
      "outputs": [
        {
          "output_type": "execute_result",
          "data": {
            "text/html": [
              "<div>\n",
              "<style scoped>\n",
              "    .dataframe tbody tr th:only-of-type {\n",
              "        vertical-align: middle;\n",
              "    }\n",
              "\n",
              "    .dataframe tbody tr th {\n",
              "        vertical-align: top;\n",
              "    }\n",
              "\n",
              "    .dataframe thead th {\n",
              "        text-align: right;\n",
              "    }\n",
              "</style>\n",
              "<table border=\"1\" class=\"dataframe\">\n",
              "  <thead>\n",
              "    <tr style=\"text-align: right;\">\n",
              "      <th></th>\n",
              "      <th>Country or Region</th>\n",
              "      <th>Happiness Rank</th>\n",
              "      <th>Happiness Score</th>\n",
              "      <th>Economy (GDP per Capita)</th>\n",
              "      <th>Social Support</th>\n",
              "      <th>Health (Life Expectancy)</th>\n",
              "      <th>Freedom to make life choices</th>\n",
              "      <th>Generosity</th>\n",
              "      <th>Perceptions of corruption</th>\n",
              "    </tr>\n",
              "  </thead>\n",
              "  <tbody>\n",
              "    <tr>\n",
              "      <th>0</th>\n",
              "      <td>Finland</td>\n",
              "      <td>1</td>\n",
              "      <td>7.769</td>\n",
              "      <td>1.340</td>\n",
              "      <td>1.587</td>\n",
              "      <td>0.986</td>\n",
              "      <td>0.596</td>\n",
              "      <td>0.153</td>\n",
              "      <td>0.393</td>\n",
              "    </tr>\n",
              "    <tr>\n",
              "      <th>1</th>\n",
              "      <td>Denmark</td>\n",
              "      <td>2</td>\n",
              "      <td>7.600</td>\n",
              "      <td>1.383</td>\n",
              "      <td>1.573</td>\n",
              "      <td>0.996</td>\n",
              "      <td>0.592</td>\n",
              "      <td>0.252</td>\n",
              "      <td>0.410</td>\n",
              "    </tr>\n",
              "    <tr>\n",
              "      <th>2</th>\n",
              "      <td>Norway</td>\n",
              "      <td>3</td>\n",
              "      <td>7.554</td>\n",
              "      <td>1.488</td>\n",
              "      <td>1.582</td>\n",
              "      <td>1.028</td>\n",
              "      <td>0.603</td>\n",
              "      <td>0.271</td>\n",
              "      <td>0.341</td>\n",
              "    </tr>\n",
              "    <tr>\n",
              "      <th>3</th>\n",
              "      <td>Iceland</td>\n",
              "      <td>4</td>\n",
              "      <td>7.494</td>\n",
              "      <td>1.380</td>\n",
              "      <td>1.624</td>\n",
              "      <td>1.026</td>\n",
              "      <td>0.591</td>\n",
              "      <td>0.354</td>\n",
              "      <td>0.118</td>\n",
              "    </tr>\n",
              "    <tr>\n",
              "      <th>4</th>\n",
              "      <td>Netherlands</td>\n",
              "      <td>5</td>\n",
              "      <td>7.488</td>\n",
              "      <td>1.396</td>\n",
              "      <td>1.522</td>\n",
              "      <td>0.999</td>\n",
              "      <td>0.557</td>\n",
              "      <td>0.322</td>\n",
              "      <td>0.298</td>\n",
              "    </tr>\n",
              "    <tr>\n",
              "      <th>...</th>\n",
              "      <td>...</td>\n",
              "      <td>...</td>\n",
              "      <td>...</td>\n",
              "      <td>...</td>\n",
              "      <td>...</td>\n",
              "      <td>...</td>\n",
              "      <td>...</td>\n",
              "      <td>...</td>\n",
              "      <td>...</td>\n",
              "    </tr>\n",
              "    <tr>\n",
              "      <th>151</th>\n",
              "      <td>Rwanda</td>\n",
              "      <td>152</td>\n",
              "      <td>3.334</td>\n",
              "      <td>0.359</td>\n",
              "      <td>0.711</td>\n",
              "      <td>0.614</td>\n",
              "      <td>0.555</td>\n",
              "      <td>0.217</td>\n",
              "      <td>0.411</td>\n",
              "    </tr>\n",
              "    <tr>\n",
              "      <th>152</th>\n",
              "      <td>Tanzania</td>\n",
              "      <td>153</td>\n",
              "      <td>3.231</td>\n",
              "      <td>0.476</td>\n",
              "      <td>0.885</td>\n",
              "      <td>0.499</td>\n",
              "      <td>0.417</td>\n",
              "      <td>0.276</td>\n",
              "      <td>0.147</td>\n",
              "    </tr>\n",
              "    <tr>\n",
              "      <th>153</th>\n",
              "      <td>Afghanistan</td>\n",
              "      <td>154</td>\n",
              "      <td>3.203</td>\n",
              "      <td>0.350</td>\n",
              "      <td>0.517</td>\n",
              "      <td>0.361</td>\n",
              "      <td>0.000</td>\n",
              "      <td>0.158</td>\n",
              "      <td>0.025</td>\n",
              "    </tr>\n",
              "    <tr>\n",
              "      <th>154</th>\n",
              "      <td>Central African Republic</td>\n",
              "      <td>155</td>\n",
              "      <td>3.083</td>\n",
              "      <td>0.026</td>\n",
              "      <td>0.000</td>\n",
              "      <td>0.105</td>\n",
              "      <td>0.225</td>\n",
              "      <td>0.235</td>\n",
              "      <td>0.035</td>\n",
              "    </tr>\n",
              "    <tr>\n",
              "      <th>155</th>\n",
              "      <td>South Sudan</td>\n",
              "      <td>156</td>\n",
              "      <td>2.853</td>\n",
              "      <td>0.306</td>\n",
              "      <td>0.575</td>\n",
              "      <td>0.295</td>\n",
              "      <td>0.010</td>\n",
              "      <td>0.202</td>\n",
              "      <td>0.091</td>\n",
              "    </tr>\n",
              "  </tbody>\n",
              "</table>\n",
              "<p>156 rows × 9 columns</p>\n",
              "</div>"
            ],
            "text/plain": [
              "            Country or Region  ...  Perceptions of corruption\n",
              "0                     Finland  ...                      0.393\n",
              "1                     Denmark  ...                      0.410\n",
              "2                      Norway  ...                      0.341\n",
              "3                     Iceland  ...                      0.118\n",
              "4                 Netherlands  ...                      0.298\n",
              "..                        ...  ...                        ...\n",
              "151                    Rwanda  ...                      0.411\n",
              "152                  Tanzania  ...                      0.147\n",
              "153               Afghanistan  ...                      0.025\n",
              "154  Central African Republic  ...                      0.035\n",
              "155               South Sudan  ...                      0.091\n",
              "\n",
              "[156 rows x 9 columns]"
            ]
          },
          "metadata": {
            "tags": []
          },
          "execution_count": 30
        }
      ]
    },
    {
      "cell_type": "code",
      "metadata": {
        "id": "Ut4ZBoKBtPPt",
        "colab_type": "code",
        "colab": {
          "base_uri": "https://localhost:8080/",
          "height": 151
        },
        "outputId": "092f1650-b894-44fe-a3e8-a11ee1e6caee"
      },
      "source": [
        "df2015new.loc[:,\"Year\"] = 2015\n",
        "df2016new.loc[:,\"Year\"] = 2016\n",
        "df2017new.loc[:,\"Year\"] = 2017\n",
        "df2018new.loc[:,\"Year\"] = 2018\n",
        "df2019new.loc[:,\"Year\"] = 2019"
      ],
      "execution_count": null,
      "outputs": [
        {
          "output_type": "stream",
          "text": [
            "/usr/local/lib/python3.6/dist-packages/pandas/core/indexing.py:966: SettingWithCopyWarning:\n",
            "\n",
            "\n",
            "A value is trying to be set on a copy of a slice from a DataFrame.\n",
            "Try using .loc[row_indexer,col_indexer] = value instead\n",
            "\n",
            "See the caveats in the documentation: https://pandas.pydata.org/pandas-docs/stable/user_guide/indexing.html#returning-a-view-versus-a-copy\n",
            "\n"
          ],
          "name": "stderr"
        }
      ]
    },
    {
      "cell_type": "code",
      "metadata": {
        "id": "KzA3T6Yp634E",
        "colab_type": "code",
        "colab": {
          "base_uri": "https://localhost:8080/",
          "height": 118
        },
        "outputId": "9fd5e81c-b578-4de4-e1e2-a504fff9f890"
      },
      "source": [
        "# yearsData was defined at the beginning of script\n",
        "dfsNew = [df2015new.shape,df2016new.shape,df2017new.shape,df2018new.shape,df2019new.shape]\n",
        "\n",
        "for i in range(len(dfsNew)):\n",
        "  print(\"Current dimensions for {0} are {1}\".format(yearsData[i],dfsNew[i])) \n",
        "\n",
        "print(\"\")\n",
        "\n"
      ],
      "execution_count": null,
      "outputs": [
        {
          "output_type": "stream",
          "text": [
            "Current dimensions for 2015 are (158, 10)\n",
            "Current dimensions for 2016 are (157, 10)\n",
            "Current dimensions for 2017 are (155, 10)\n",
            "Current dimensions for 2018 are (156, 10)\n",
            "Current dimensions for 2019 are (156, 10)\n",
            "\n"
          ],
          "name": "stdout"
        }
      ]
    },
    {
      "cell_type": "code",
      "metadata": {
        "id": "KMHt8xej2l3j",
        "colab_type": "code",
        "colab": {
          "base_uri": "https://localhost:8080/",
          "height": 435
        },
        "outputId": "9bdf3345-1bff-40d0-9457-f9cbc282ef9f"
      },
      "source": [
        "#Merging Datasets\n",
        "df = pd.concat([df2015new,df2016new,df2017new,df2018new,df2019new])\n",
        "df.index = np.arange(1, len(df)+1)\n",
        "df"
      ],
      "execution_count": null,
      "outputs": [
        {
          "output_type": "execute_result",
          "data": {
            "text/html": [
              "<div>\n",
              "<style scoped>\n",
              "    .dataframe tbody tr th:only-of-type {\n",
              "        vertical-align: middle;\n",
              "    }\n",
              "\n",
              "    .dataframe tbody tr th {\n",
              "        vertical-align: top;\n",
              "    }\n",
              "\n",
              "    .dataframe thead th {\n",
              "        text-align: right;\n",
              "    }\n",
              "</style>\n",
              "<table border=\"1\" class=\"dataframe\">\n",
              "  <thead>\n",
              "    <tr style=\"text-align: right;\">\n",
              "      <th></th>\n",
              "      <th>Country or Region</th>\n",
              "      <th>Happiness Rank</th>\n",
              "      <th>Happiness Score</th>\n",
              "      <th>Economy (GDP per Capita)</th>\n",
              "      <th>Social Support</th>\n",
              "      <th>Health (Life Expectancy)</th>\n",
              "      <th>Freedom to make life choices</th>\n",
              "      <th>Generosity</th>\n",
              "      <th>Perceptions of corruption</th>\n",
              "      <th>Year</th>\n",
              "    </tr>\n",
              "  </thead>\n",
              "  <tbody>\n",
              "    <tr>\n",
              "      <th>1</th>\n",
              "      <td>Switzerland</td>\n",
              "      <td>1</td>\n",
              "      <td>7.587</td>\n",
              "      <td>1.39651</td>\n",
              "      <td>1.34951</td>\n",
              "      <td>0.94143</td>\n",
              "      <td>0.66557</td>\n",
              "      <td>0.29678</td>\n",
              "      <td>0.41978</td>\n",
              "      <td>2015</td>\n",
              "    </tr>\n",
              "    <tr>\n",
              "      <th>2</th>\n",
              "      <td>Iceland</td>\n",
              "      <td>2</td>\n",
              "      <td>7.561</td>\n",
              "      <td>1.30232</td>\n",
              "      <td>1.40223</td>\n",
              "      <td>0.94784</td>\n",
              "      <td>0.62877</td>\n",
              "      <td>0.43630</td>\n",
              "      <td>0.14145</td>\n",
              "      <td>2015</td>\n",
              "    </tr>\n",
              "    <tr>\n",
              "      <th>3</th>\n",
              "      <td>Denmark</td>\n",
              "      <td>3</td>\n",
              "      <td>7.527</td>\n",
              "      <td>1.32548</td>\n",
              "      <td>1.36058</td>\n",
              "      <td>0.87464</td>\n",
              "      <td>0.64938</td>\n",
              "      <td>0.34139</td>\n",
              "      <td>0.48357</td>\n",
              "      <td>2015</td>\n",
              "    </tr>\n",
              "    <tr>\n",
              "      <th>4</th>\n",
              "      <td>Norway</td>\n",
              "      <td>4</td>\n",
              "      <td>7.522</td>\n",
              "      <td>1.45900</td>\n",
              "      <td>1.33095</td>\n",
              "      <td>0.88521</td>\n",
              "      <td>0.66973</td>\n",
              "      <td>0.34699</td>\n",
              "      <td>0.36503</td>\n",
              "      <td>2015</td>\n",
              "    </tr>\n",
              "    <tr>\n",
              "      <th>5</th>\n",
              "      <td>Canada</td>\n",
              "      <td>5</td>\n",
              "      <td>7.427</td>\n",
              "      <td>1.32629</td>\n",
              "      <td>1.32261</td>\n",
              "      <td>0.90563</td>\n",
              "      <td>0.63297</td>\n",
              "      <td>0.45811</td>\n",
              "      <td>0.32957</td>\n",
              "      <td>2015</td>\n",
              "    </tr>\n",
              "    <tr>\n",
              "      <th>...</th>\n",
              "      <td>...</td>\n",
              "      <td>...</td>\n",
              "      <td>...</td>\n",
              "      <td>...</td>\n",
              "      <td>...</td>\n",
              "      <td>...</td>\n",
              "      <td>...</td>\n",
              "      <td>...</td>\n",
              "      <td>...</td>\n",
              "      <td>...</td>\n",
              "    </tr>\n",
              "    <tr>\n",
              "      <th>778</th>\n",
              "      <td>Rwanda</td>\n",
              "      <td>152</td>\n",
              "      <td>3.334</td>\n",
              "      <td>0.35900</td>\n",
              "      <td>0.71100</td>\n",
              "      <td>0.61400</td>\n",
              "      <td>0.55500</td>\n",
              "      <td>0.21700</td>\n",
              "      <td>0.41100</td>\n",
              "      <td>2019</td>\n",
              "    </tr>\n",
              "    <tr>\n",
              "      <th>779</th>\n",
              "      <td>Tanzania</td>\n",
              "      <td>153</td>\n",
              "      <td>3.231</td>\n",
              "      <td>0.47600</td>\n",
              "      <td>0.88500</td>\n",
              "      <td>0.49900</td>\n",
              "      <td>0.41700</td>\n",
              "      <td>0.27600</td>\n",
              "      <td>0.14700</td>\n",
              "      <td>2019</td>\n",
              "    </tr>\n",
              "    <tr>\n",
              "      <th>780</th>\n",
              "      <td>Afghanistan</td>\n",
              "      <td>154</td>\n",
              "      <td>3.203</td>\n",
              "      <td>0.35000</td>\n",
              "      <td>0.51700</td>\n",
              "      <td>0.36100</td>\n",
              "      <td>0.00000</td>\n",
              "      <td>0.15800</td>\n",
              "      <td>0.02500</td>\n",
              "      <td>2019</td>\n",
              "    </tr>\n",
              "    <tr>\n",
              "      <th>781</th>\n",
              "      <td>Central African Republic</td>\n",
              "      <td>155</td>\n",
              "      <td>3.083</td>\n",
              "      <td>0.02600</td>\n",
              "      <td>0.00000</td>\n",
              "      <td>0.10500</td>\n",
              "      <td>0.22500</td>\n",
              "      <td>0.23500</td>\n",
              "      <td>0.03500</td>\n",
              "      <td>2019</td>\n",
              "    </tr>\n",
              "    <tr>\n",
              "      <th>782</th>\n",
              "      <td>South Sudan</td>\n",
              "      <td>156</td>\n",
              "      <td>2.853</td>\n",
              "      <td>0.30600</td>\n",
              "      <td>0.57500</td>\n",
              "      <td>0.29500</td>\n",
              "      <td>0.01000</td>\n",
              "      <td>0.20200</td>\n",
              "      <td>0.09100</td>\n",
              "      <td>2019</td>\n",
              "    </tr>\n",
              "  </tbody>\n",
              "</table>\n",
              "<p>782 rows × 10 columns</p>\n",
              "</div>"
            ],
            "text/plain": [
              "            Country or Region  Happiness Rank  ...  Perceptions of corruption  Year\n",
              "1                 Switzerland               1  ...                    0.41978  2015\n",
              "2                     Iceland               2  ...                    0.14145  2015\n",
              "3                     Denmark               3  ...                    0.48357  2015\n",
              "4                      Norway               4  ...                    0.36503  2015\n",
              "5                      Canada               5  ...                    0.32957  2015\n",
              "..                        ...             ...  ...                        ...   ...\n",
              "778                    Rwanda             152  ...                    0.41100  2019\n",
              "779                  Tanzania             153  ...                    0.14700  2019\n",
              "780               Afghanistan             154  ...                    0.02500  2019\n",
              "781  Central African Republic             155  ...                    0.03500  2019\n",
              "782               South Sudan             156  ...                    0.09100  2019\n",
              "\n",
              "[782 rows x 10 columns]"
            ]
          },
          "metadata": {
            "tags": []
          },
          "execution_count": 36
        }
      ]
    },
    {
      "cell_type": "markdown",
      "metadata": {
        "id": "l1qojRbPq7hD",
        "colab_type": "text"
      },
      "source": [
        "Understanding High level structure of the dataset"
      ]
    },
    {
      "cell_type": "code",
      "metadata": {
        "id": "dKQHkKKOqhGk",
        "colab_type": "code",
        "colab": {
          "base_uri": "https://localhost:8080/",
          "height": 302
        },
        "outputId": "7679b8fc-6964-4a8d-d3cc-59dc3781a13f"
      },
      "source": [
        "df.info()"
      ],
      "execution_count": null,
      "outputs": [
        {
          "output_type": "stream",
          "text": [
            "<class 'pandas.core.frame.DataFrame'>\n",
            "Int64Index: 782 entries, 1 to 782\n",
            "Data columns (total 10 columns):\n",
            " #   Column                        Non-Null Count  Dtype  \n",
            "---  ------                        --------------  -----  \n",
            " 0   Country or Region             782 non-null    object \n",
            " 1   Happiness Rank                782 non-null    int64  \n",
            " 2   Happiness Score               782 non-null    float64\n",
            " 3   Economy (GDP per Capita)      782 non-null    float64\n",
            " 4   Social Support                782 non-null    float64\n",
            " 5   Health (Life Expectancy)      782 non-null    float64\n",
            " 6   Freedom to make life choices  782 non-null    float64\n",
            " 7   Generosity                    782 non-null    float64\n",
            " 8   Perceptions of corruption     781 non-null    float64\n",
            " 9   Year                          782 non-null    int64  \n",
            "dtypes: float64(7), int64(2), object(1)\n",
            "memory usage: 67.2+ KB\n"
          ],
          "name": "stdout"
        }
      ]
    },
    {
      "cell_type": "code",
      "metadata": {
        "id": "9Ii5kCC9rGKo",
        "colab_type": "code",
        "colab": {
          "base_uri": "https://localhost:8080/",
          "height": 301
        },
        "outputId": "28a153e3-9ac9-4305-c696-89b0dfc5259b"
      },
      "source": [
        "df.describe()"
      ],
      "execution_count": null,
      "outputs": [
        {
          "output_type": "execute_result",
          "data": {
            "text/html": [
              "<div>\n",
              "<style scoped>\n",
              "    .dataframe tbody tr th:only-of-type {\n",
              "        vertical-align: middle;\n",
              "    }\n",
              "\n",
              "    .dataframe tbody tr th {\n",
              "        vertical-align: top;\n",
              "    }\n",
              "\n",
              "    .dataframe thead th {\n",
              "        text-align: right;\n",
              "    }\n",
              "</style>\n",
              "<table border=\"1\" class=\"dataframe\">\n",
              "  <thead>\n",
              "    <tr style=\"text-align: right;\">\n",
              "      <th></th>\n",
              "      <th>Happiness Rank</th>\n",
              "      <th>Happiness Score</th>\n",
              "      <th>Economy (GDP per Capita)</th>\n",
              "      <th>Social Support</th>\n",
              "      <th>Health (Life Expectancy)</th>\n",
              "      <th>Freedom to make life choices</th>\n",
              "      <th>Generosity</th>\n",
              "      <th>Perceptions of corruption</th>\n",
              "      <th>Year</th>\n",
              "    </tr>\n",
              "  </thead>\n",
              "  <tbody>\n",
              "    <tr>\n",
              "      <th>count</th>\n",
              "      <td>782.000000</td>\n",
              "      <td>782.000000</td>\n",
              "      <td>782.000000</td>\n",
              "      <td>782.000000</td>\n",
              "      <td>782.000000</td>\n",
              "      <td>782.000000</td>\n",
              "      <td>782.000000</td>\n",
              "      <td>781.000000</td>\n",
              "      <td>782.000000</td>\n",
              "    </tr>\n",
              "    <tr>\n",
              "      <th>mean</th>\n",
              "      <td>78.698210</td>\n",
              "      <td>5.379018</td>\n",
              "      <td>0.916047</td>\n",
              "      <td>1.078392</td>\n",
              "      <td>0.612416</td>\n",
              "      <td>0.411091</td>\n",
              "      <td>0.218576</td>\n",
              "      <td>0.125436</td>\n",
              "      <td>2016.993606</td>\n",
              "    </tr>\n",
              "    <tr>\n",
              "      <th>std</th>\n",
              "      <td>45.182384</td>\n",
              "      <td>1.127456</td>\n",
              "      <td>0.407340</td>\n",
              "      <td>0.329548</td>\n",
              "      <td>0.248309</td>\n",
              "      <td>0.152880</td>\n",
              "      <td>0.122321</td>\n",
              "      <td>0.105816</td>\n",
              "      <td>1.417364</td>\n",
              "    </tr>\n",
              "    <tr>\n",
              "      <th>min</th>\n",
              "      <td>1.000000</td>\n",
              "      <td>2.693000</td>\n",
              "      <td>0.000000</td>\n",
              "      <td>0.000000</td>\n",
              "      <td>0.000000</td>\n",
              "      <td>0.000000</td>\n",
              "      <td>0.000000</td>\n",
              "      <td>0.000000</td>\n",
              "      <td>2015.000000</td>\n",
              "    </tr>\n",
              "    <tr>\n",
              "      <th>25%</th>\n",
              "      <td>40.000000</td>\n",
              "      <td>4.509750</td>\n",
              "      <td>0.606500</td>\n",
              "      <td>0.869363</td>\n",
              "      <td>0.440183</td>\n",
              "      <td>0.309768</td>\n",
              "      <td>0.130000</td>\n",
              "      <td>0.054000</td>\n",
              "      <td>2016.000000</td>\n",
              "    </tr>\n",
              "    <tr>\n",
              "      <th>50%</th>\n",
              "      <td>79.000000</td>\n",
              "      <td>5.322000</td>\n",
              "      <td>0.982205</td>\n",
              "      <td>1.124735</td>\n",
              "      <td>0.647310</td>\n",
              "      <td>0.431000</td>\n",
              "      <td>0.201982</td>\n",
              "      <td>0.091000</td>\n",
              "      <td>2017.000000</td>\n",
              "    </tr>\n",
              "    <tr>\n",
              "      <th>75%</th>\n",
              "      <td>118.000000</td>\n",
              "      <td>6.189500</td>\n",
              "      <td>1.236187</td>\n",
              "      <td>1.327250</td>\n",
              "      <td>0.808000</td>\n",
              "      <td>0.531000</td>\n",
              "      <td>0.278832</td>\n",
              "      <td>0.156030</td>\n",
              "      <td>2018.000000</td>\n",
              "    </tr>\n",
              "    <tr>\n",
              "      <th>max</th>\n",
              "      <td>158.000000</td>\n",
              "      <td>7.769000</td>\n",
              "      <td>2.096000</td>\n",
              "      <td>1.644000</td>\n",
              "      <td>1.141000</td>\n",
              "      <td>0.724000</td>\n",
              "      <td>0.838075</td>\n",
              "      <td>0.551910</td>\n",
              "      <td>2019.000000</td>\n",
              "    </tr>\n",
              "  </tbody>\n",
              "</table>\n",
              "</div>"
            ],
            "text/plain": [
              "       Happiness Rank  Happiness Score  ...  Perceptions of corruption         Year\n",
              "count      782.000000       782.000000  ...                 781.000000   782.000000\n",
              "mean        78.698210         5.379018  ...                   0.125436  2016.993606\n",
              "std         45.182384         1.127456  ...                   0.105816     1.417364\n",
              "min          1.000000         2.693000  ...                   0.000000  2015.000000\n",
              "25%         40.000000         4.509750  ...                   0.054000  2016.000000\n",
              "50%         79.000000         5.322000  ...                   0.091000  2017.000000\n",
              "75%        118.000000         6.189500  ...                   0.156030  2018.000000\n",
              "max        158.000000         7.769000  ...                   0.551910  2019.000000\n",
              "\n",
              "[8 rows x 9 columns]"
            ]
          },
          "metadata": {
            "tags": []
          },
          "execution_count": 38
        }
      ]
    },
    {
      "cell_type": "code",
      "metadata": {
        "id": "OJZslEAD2l-Y",
        "colab_type": "code",
        "colab": {
          "base_uri": "https://localhost:8080/",
          "height": 34
        },
        "outputId": "c2642e2a-ae21-4499-d018-11dafc097e94"
      },
      "source": [
        "print('The dataset has {} missing values.'.format(df.isnull().sum().sum()))"
      ],
      "execution_count": null,
      "outputs": [
        {
          "output_type": "stream",
          "text": [
            "The dataset has 1 missing values.\n"
          ],
          "name": "stdout"
        }
      ]
    },
    {
      "cell_type": "code",
      "metadata": {
        "id": "iX7UxC_TGB8m",
        "colab_type": "code",
        "colab": {
          "base_uri": "https://localhost:8080/",
          "height": 202
        },
        "outputId": "82d84600-7caa-4ec5-985d-4df67fbf1de7"
      },
      "source": [
        "df.isnull().sum()"
      ],
      "execution_count": null,
      "outputs": [
        {
          "output_type": "execute_result",
          "data": {
            "text/plain": [
              "Country or Region               0\n",
              "Happiness Rank                  0\n",
              "Happiness Score                 0\n",
              "Economy (GDP per Capita)        0\n",
              "Social Support                  0\n",
              "Health (Life Expectancy)        0\n",
              "Freedom to make life choices    0\n",
              "Generosity                      0\n",
              "Perceptions of corruption       1\n",
              "Year                            0\n",
              "dtype: int64"
            ]
          },
          "metadata": {
            "tags": []
          },
          "execution_count": 40
        }
      ]
    },
    {
      "cell_type": "code",
      "metadata": {
        "id": "J8z6kP2d2l7y",
        "colab_type": "code",
        "colab": {
          "base_uri": "https://localhost:8080/",
          "height": 34
        },
        "outputId": "3ff0f04b-420c-44c8-8ab5-f6b553b49503"
      },
      "source": [
        "print('These column(s) contain at least 1 missing value:', df.columns[df.isnull().sum() > 0].tolist())"
      ],
      "execution_count": null,
      "outputs": [
        {
          "output_type": "stream",
          "text": [
            "These column(s) contain at least 1 missing value: ['Perceptions of corruption']\n"
          ],
          "name": "stdout"
        }
      ]
    },
    {
      "cell_type": "code",
      "metadata": {
        "id": "h6gul6lK2l1L",
        "colab_type": "code",
        "colab": {}
      },
      "source": [
        "#Filling missing value with Median\n",
        "df.fillna(df.median(), inplace=True)"
      ],
      "execution_count": null,
      "outputs": []
    },
    {
      "cell_type": "markdown",
      "metadata": {
        "id": "gsoEXtWT2mj-",
        "colab_type": "text"
      },
      "source": [
        "# **# Descriptive Analytics**\n",
        "\n",
        "---\n",
        "\n",
        "\n"
      ]
    },
    {
      "cell_type": "markdown",
      "metadata": {
        "id": "arqjkzFkqH_l",
        "colab_type": "text"
      },
      "source": [
        "###Checking for the corelations in the data "
      ]
    },
    {
      "cell_type": "markdown",
      "metadata": {
        "id": "uVu4NwaO2ly8",
        "colab_type": "text"
      },
      "source": [
        "#### Quickly geting an idea of the overall correlation between the target variable and each input variable\n",
        ">Correlations are sorted in descending order. Thus, those variables at the bottom do not necessarily have the least predictive power; predictive power depends on the absolute value of correlation - generally, the larger the absolute value of correlation, the higher its predictive power\n",
        "\n"
      ]
    },
    {
      "cell_type": "code",
      "metadata": {
        "id": "MRdf_Bpb2mfd",
        "colab_type": "code",
        "colab": {
          "base_uri": "https://localhost:8080/",
          "height": 185
        },
        "outputId": "60c9458f-96e3-43f9-dc0d-00c89962ce11"
      },
      "source": [
        "df.corr()['Happiness Score'].sort_values(ascending=False)"
      ],
      "execution_count": null,
      "outputs": [
        {
          "output_type": "execute_result",
          "data": {
            "text/plain": [
              "Happiness Score                 1.000000\n",
              "Economy (GDP per Capita)        0.789284\n",
              "Health (Life Expectancy)        0.742456\n",
              "Social Support                  0.648799\n",
              "Freedom to make life choices    0.551258\n",
              "Perceptions of corruption       0.397484\n",
              "Generosity                      0.137578\n",
              "Year                            0.007065\n",
              "Happiness Rank                 -0.992066\n",
              "Name: Happiness Score, dtype: float64"
            ]
          },
          "metadata": {
            "tags": []
          },
          "execution_count": 43
        }
      ]
    },
    {
      "cell_type": "code",
      "metadata": {
        "id": "WXYEIKiPor2-",
        "colab_type": "code",
        "colab": {
          "base_uri": "https://localhost:8080/",
          "height": 381
        },
        "outputId": "669c16a9-2c61-49b0-d4ec-b0a82991bbe9"
      },
      "source": [
        "df.corr()"
      ],
      "execution_count": null,
      "outputs": [
        {
          "output_type": "execute_result",
          "data": {
            "text/html": [
              "<div>\n",
              "<style scoped>\n",
              "    .dataframe tbody tr th:only-of-type {\n",
              "        vertical-align: middle;\n",
              "    }\n",
              "\n",
              "    .dataframe tbody tr th {\n",
              "        vertical-align: top;\n",
              "    }\n",
              "\n",
              "    .dataframe thead th {\n",
              "        text-align: right;\n",
              "    }\n",
              "</style>\n",
              "<table border=\"1\" class=\"dataframe\">\n",
              "  <thead>\n",
              "    <tr style=\"text-align: right;\">\n",
              "      <th></th>\n",
              "      <th>Happiness Rank</th>\n",
              "      <th>Happiness Score</th>\n",
              "      <th>Economy (GDP per Capita)</th>\n",
              "      <th>Social Support</th>\n",
              "      <th>Health (Life Expectancy)</th>\n",
              "      <th>Freedom to make life choices</th>\n",
              "      <th>Generosity</th>\n",
              "      <th>Perceptions of corruption</th>\n",
              "      <th>Year</th>\n",
              "    </tr>\n",
              "  </thead>\n",
              "  <tbody>\n",
              "    <tr>\n",
              "      <th>Happiness Rank</th>\n",
              "      <td>1.000000</td>\n",
              "      <td>-0.992066</td>\n",
              "      <td>-0.794791</td>\n",
              "      <td>-0.644842</td>\n",
              "      <td>-0.743655</td>\n",
              "      <td>-0.537942</td>\n",
              "      <td>-0.117713</td>\n",
              "      <td>-0.371810</td>\n",
              "      <td>-0.007768</td>\n",
              "    </tr>\n",
              "    <tr>\n",
              "      <th>Happiness Score</th>\n",
              "      <td>-0.992066</td>\n",
              "      <td>1.000000</td>\n",
              "      <td>0.789284</td>\n",
              "      <td>0.648799</td>\n",
              "      <td>0.742456</td>\n",
              "      <td>0.551258</td>\n",
              "      <td>0.137578</td>\n",
              "      <td>0.397484</td>\n",
              "      <td>0.007065</td>\n",
              "    </tr>\n",
              "    <tr>\n",
              "      <th>Economy (GDP per Capita)</th>\n",
              "      <td>-0.794791</td>\n",
              "      <td>0.789284</td>\n",
              "      <td>1.000000</td>\n",
              "      <td>0.585966</td>\n",
              "      <td>0.784338</td>\n",
              "      <td>0.340511</td>\n",
              "      <td>-0.014560</td>\n",
              "      <td>0.303427</td>\n",
              "      <td>0.019768</td>\n",
              "    </tr>\n",
              "    <tr>\n",
              "      <th>Social Support</th>\n",
              "      <td>-0.644842</td>\n",
              "      <td>0.648799</td>\n",
              "      <td>0.585966</td>\n",
              "      <td>1.000000</td>\n",
              "      <td>0.572650</td>\n",
              "      <td>0.420361</td>\n",
              "      <td>-0.037262</td>\n",
              "      <td>0.126707</td>\n",
              "      <td>0.367431</td>\n",
              "    </tr>\n",
              "    <tr>\n",
              "      <th>Health (Life Expectancy)</th>\n",
              "      <td>-0.743655</td>\n",
              "      <td>0.742456</td>\n",
              "      <td>0.784338</td>\n",
              "      <td>0.572650</td>\n",
              "      <td>1.000000</td>\n",
              "      <td>0.340745</td>\n",
              "      <td>0.010638</td>\n",
              "      <td>0.250390</td>\n",
              "      <td>0.130302</td>\n",
              "    </tr>\n",
              "    <tr>\n",
              "      <th>Freedom to make life choices</th>\n",
              "      <td>-0.537942</td>\n",
              "      <td>0.551258</td>\n",
              "      <td>0.340511</td>\n",
              "      <td>0.420361</td>\n",
              "      <td>0.340745</td>\n",
              "      <td>1.000000</td>\n",
              "      <td>0.290706</td>\n",
              "      <td>0.459705</td>\n",
              "      <td>0.010353</td>\n",
              "    </tr>\n",
              "    <tr>\n",
              "      <th>Generosity</th>\n",
              "      <td>-0.117713</td>\n",
              "      <td>0.137578</td>\n",
              "      <td>-0.014560</td>\n",
              "      <td>-0.037262</td>\n",
              "      <td>0.010638</td>\n",
              "      <td>0.290706</td>\n",
              "      <td>1.000000</td>\n",
              "      <td>0.318995</td>\n",
              "      <td>-0.192587</td>\n",
              "    </tr>\n",
              "    <tr>\n",
              "      <th>Perceptions of corruption</th>\n",
              "      <td>-0.371810</td>\n",
              "      <td>0.397484</td>\n",
              "      <td>0.303427</td>\n",
              "      <td>0.126707</td>\n",
              "      <td>0.250390</td>\n",
              "      <td>0.459705</td>\n",
              "      <td>0.318995</td>\n",
              "      <td>1.000000</td>\n",
              "      <td>-0.122513</td>\n",
              "    </tr>\n",
              "    <tr>\n",
              "      <th>Year</th>\n",
              "      <td>-0.007768</td>\n",
              "      <td>0.007065</td>\n",
              "      <td>0.019768</td>\n",
              "      <td>0.367431</td>\n",
              "      <td>0.130302</td>\n",
              "      <td>0.010353</td>\n",
              "      <td>-0.192587</td>\n",
              "      <td>-0.122513</td>\n",
              "      <td>1.000000</td>\n",
              "    </tr>\n",
              "  </tbody>\n",
              "</table>\n",
              "</div>"
            ],
            "text/plain": [
              "                              Happiness Rank  ...      Year\n",
              "Happiness Rank                      1.000000  ... -0.007768\n",
              "Happiness Score                    -0.992066  ...  0.007065\n",
              "Economy (GDP per Capita)           -0.794791  ...  0.019768\n",
              "Social Support                     -0.644842  ...  0.367431\n",
              "Health (Life Expectancy)           -0.743655  ...  0.130302\n",
              "Freedom to make life choices       -0.537942  ...  0.010353\n",
              "Generosity                         -0.117713  ... -0.192587\n",
              "Perceptions of corruption          -0.371810  ... -0.122513\n",
              "Year                               -0.007768  ...  1.000000\n",
              "\n",
              "[9 rows x 9 columns]"
            ]
          },
          "metadata": {
            "tags": []
          },
          "execution_count": 44
        }
      ]
    },
    {
      "cell_type": "code",
      "metadata": {
        "id": "SElayBbRpo0Z",
        "colab_type": "code",
        "colab": {}
      },
      "source": [
        ""
      ],
      "execution_count": null,
      "outputs": []
    },
    {
      "cell_type": "markdown",
      "metadata": {
        "id": "zX70OdI72mvr",
        "colab_type": "text"
      },
      "source": [
        "###Inferences \n",
        "\n",
        "\n",
        "*   `Happiness Score`, the target variable, has a correlation of 1 with itself (the highest possible value), which is correct.\n",
        "*   All other variables except `Generosity` appear to predict the `Happiness Score` with medium corealtion.\n",
        "*   The usefulness and independency of the the variable `Generosity` in predicting the target variable will be checked in feature selection techniques.\n",
        "\n",
        "\n",
        "\n"
      ]
    },
    {
      "cell_type": "code",
      "metadata": {
        "id": "WHSlDx4H2miZ",
        "colab_type": "code",
        "colab": {
          "base_uri": "https://localhost:8080/",
          "height": 723
        },
        "outputId": "81c20032-622f-489b-9401-2fb1d4e69c5d"
      },
      "source": [
        "plot_1= plt.subplots(figsize=(9.6,11.2))\n",
        "sns.heatmap(df.corr(),fmt='d', cmap=\"copper\", linewidths=0.6, square=True,robust=True)"
      ],
      "execution_count": null,
      "outputs": [
        {
          "output_type": "execute_result",
          "data": {
            "text/plain": [
              "<matplotlib.axes._subplots.AxesSubplot at 0x7feee7ae20b8>"
            ]
          },
          "metadata": {
            "tags": []
          },
          "execution_count": 45
        },
        {
          "output_type": "display_data",
          "data": {
            "image/png": "[encoded data removed]",
            "text/plain": [
              "<Figure size 691.2x806.4 with 2 Axes>"
            ]
          },
          "metadata": {
            "tags": [],
            "needs_background": "light"
          }
        }
      ]
    },
    {
      "cell_type": "markdown",
      "metadata": {
        "id": "g2EU1J9Wr5Qy",
        "colab_type": "text"
      },
      "source": [
        "####Inference \n",
        "From the above heatmap, we can see that Happiness Score is highly correlated with Social Support,Economoy or GDP per capita, Freedom. It is also logical since these are the basic principles to provide happiness to a human being. \n",
        "It is somewhat related to generosity with medium to low correlation. \n"
      ]
    },
    {
      "cell_type": "code",
      "metadata": {
        "id": "MfMMPBg_LyPs",
        "colab_type": "code",
        "colab": {
          "base_uri": "https://localhost:8080/",
          "height": 901
        },
        "outputId": "e68d8b53-bc77-4264-dc12-3027b8d8ec18"
      },
      "source": [
        "\n",
        "figure = bubbleplot(dataset = df, x_column = 'Happiness Score', y_column = 'Generosity', \n",
        "    bubble_column = 'Country or Region', size_column = 'Economy (GDP per Capita)', color_column = 'Country or Region', \n",
        "    x_title = \"Happiness Score\", y_title = \"Generosity\", title = 'Happiness vs Generosity vs Economy',\n",
        "    x_logscale = False, scale_bubble = 0.5, height = 800)\n",
        "\n",
        "py.iplot(figure, config={'scrollzoom': True})"
      ],
      "execution_count": null,
      "outputs": [
        {
          "output_type": "stream",
          "text": [
            "/usr/local/lib/python3.6/dist-packages/plotly/offline/offline.py:159: UserWarning:\n",
            "\n",
            "\n",
            "Unrecognized config options supplied: ['scrollzoom']\n",
            "\n"
          ],
          "name": "stderr"
        },
        {
          "output_type": "display_data",
          "data": {
            "text/html": [
              "<html>\n",
              "<head><meta charset=\"utf-8\" /></head>\n",
              "<body>\n",
              "    <div>\n",
              "            <script src=\"https://cdnjs.cloudflare.com/ajax/libs/mathjax/2.7.5/MathJax.js?config=TeX-AMS-MML_SVG\"></script><script type=\"text/javascript\">if (window.MathJax) {MathJax.Hub.Config({SVG: {font: \"STIX-Web\"}});}</script>\n",
              "                <script type=\"text/javascript\">window.PlotlyConfig = {MathJaxConfig: 'local'};</script>\n",
              "        <script src=\"https://cdn.plot.ly/plotly-latest.min.js\"></script>    \n",
              "            <div id=\"53bbcc2d-e1be-455c-9ba2-6f1d3231d733\" class=\"plotly-graph-div\" style=\"height:800px; width:100%;\"></div>\n",
              "            <script type=\"text/javascript\">\n",
              "                \n",
              "                    window.PLOTLYENV=window.PLOTLYENV || {};\n",
              "                    \n",
              "                if (document.getElementById(\"53bbcc2d-e1be-455c-9ba2-6f1d3231d733\")) {\n",
              "                    Plotly.newPlot(\n",
              "                        '53bbcc2d-e1be-455c-9ba2-6f1d3231d733',\n",
              "                        [{\"marker\": {\"size\": [1.3965100000000001, 1.5273299999999999, 1.5649795532226598, 1.42, 1.452], \"sizemode\": \"area\", \"sizeref\": 0.00131}, \"mode\": \"markers\", \"name\": \"Switzerland\", \"text\": [\"Switzerland\", \"Switzerland\", \"Switzerland\", \"Switzerland\", \"Switzerland\"], \"type\": \"scatter\", \"x\": [7.587000000000001, 7.5089999999999995, 7.49399995803833, 7.487, 7.48], \"y\": [0.29678000000000004, 0.28083, 0.29054927825927696, 0.256, 0.263]}, {\"marker\": {\"size\": [1.3023200000000001, 1.42666, 1.480633020401, 1.3430000000000002, 1.38], \"sizemode\": \"area\", \"sizeref\": 0.00131}, \"mode\": \"markers\", \"name\": \"Iceland\", \"text\": [\"Iceland\", \"Iceland\", \"Iceland\", \"Iceland\", \"Iceland\"], \"type\": \"scatter\", \"x\": [7.561, 7.501, 7.50400018692017, 7.495, 7.494], \"y\": [0.4363, 0.47678000000000004, 0.47554022073745705, 0.353, 0.354]}, {\"marker\": {\"size\": [1.32548, 1.4417799999999998, 1.48238301277161, 1.351, 1.383], \"sizemode\": \"area\", \"sizeref\": 0.00131}, \"mode\": \"markers\", \"name\": \"Denmark\", \"text\": [\"Denmark\", \"Denmark\", \"Denmark\", \"Denmark\", \"Denmark\"], \"type\": \"scatter\", \"x\": [7.527, 7.526, 7.52199983596802, 7.555, 7.6], \"y\": [0.34139, 0.36171, 0.3552804887294771, 0.284, 0.252]}, {\"marker\": {\"size\": [1.459, 1.57744, 1.6164631843566901, 1.456, 1.4880000000000002], \"sizemode\": \"area\", \"sizeref\": 0.00131}, \"mode\": \"markers\", \"name\": \"Norway\", \"text\": [\"Norway\", \"Norway\", \"Norway\", \"Norway\", \"Norway\"], \"type\": \"scatter\", \"x\": [7.522, 7.497999999999999, 7.537000179290769, 7.593999999999999, 7.553999999999999], \"y\": [0.34699, 0.37895, 0.36201223731041, 0.28600000000000003, 0.271]}, {\"marker\": {\"size\": [1.32629, 1.44015, 1.47920441627502, 1.33, 1.365], \"sizemode\": \"area\", \"sizeref\": 0.00131}, \"mode\": \"markers\", \"name\": \"Canada\", \"text\": [\"Canada\", \"Canada\", \"Canada\", \"Canada\", \"Canada\"], \"type\": \"scatter\", \"x\": [7.4270000000000005, 7.404, 7.31599998474121, 7.327999999999999, 7.278], \"y\": [0.45811, 0.44833999999999996, 0.435539722442627, 0.321, 0.285]}, {\"marker\": {\"size\": [1.29025, 1.40598, 1.44357192516327, 1.305, 1.34], \"sizemode\": \"area\", \"sizeref\": 0.00131}, \"mode\": \"markers\", \"name\": \"Finland\", \"text\": [\"Finland\", \"Finland\", \"Finland\", \"Finland\", \"Finland\"], \"type\": \"scatter\", \"x\": [7.406000000000001, 7.412999999999999, 7.468999862670901, 7.632000000000001, 7.769], \"y\": [0.23351, 0.25492, 0.24548277258873, 0.20199999999999999, 0.153]}, {\"marker\": {\"size\": [1.32944, 1.46468, 1.50394463539124, 1.361, 1.396], \"sizemode\": \"area\", \"sizeref\": 0.00131}, \"mode\": \"markers\", \"name\": \"Netherlands\", \"text\": [\"Netherlands\", \"Netherlands\", \"Netherlands\", \"Netherlands\", \"Netherlands\"], \"type\": \"scatter\", \"x\": [7.377999999999999, 7.3389999999999995, 7.3769998550415, 7.441, 7.4879999999999995], \"y\": [0.4761, 0.47416, 0.47048982977867104, 0.33299999999999996, 0.322]}, {\"marker\": {\"size\": [1.33171, 1.45181, 1.49438726902008, 1.355, 1.3869999999999998], \"sizemode\": \"area\", \"sizeref\": 0.00131}, \"mode\": \"markers\", \"name\": \"Sweden\", \"text\": [\"Sweden\", \"Sweden\", \"Sweden\", \"Sweden\", \"Sweden\"], \"type\": \"scatter\", \"x\": [7.364, 7.291, 7.28399991989136, 7.314, 7.343], \"y\": [0.36262, 0.38254, 0.38539925217628496, 0.285, 0.267]}, {\"marker\": {\"size\": [1.2501799999999998, 1.36066, 1.40570604801178, 1.268, 1.3030000000000002], \"sizemode\": \"area\", \"sizeref\": 0.00131}, \"mode\": \"markers\", \"name\": \"New Zealand\", \"text\": [\"New Zealand\", \"New Zealand\", \"New Zealand\", \"New Zealand\", \"New Zealand\"], \"type\": \"scatter\", \"x\": [7.2860000000000005, 7.334, 7.31400012969971, 7.324, 7.307], \"y\": [0.47501000000000004, 0.49401000000000006, 0.500005125999451, 0.365, 0.33]}, {\"marker\": {\"size\": [1.33358, 1.4444299999999999, 1.4844149351120002, 1.34, 1.3719999999999999], \"sizemode\": \"area\", \"sizeref\": 0.00131}, \"mode\": \"markers\", \"name\": \"Australia\", \"text\": [\"Australia\", \"Australia\", \"Australia\", \"Australia\", \"Australia\"], \"type\": \"scatter\", \"x\": [7.284, 7.313, 7.28399991989136, 7.272, 7.228], \"y\": [0.43562, 0.47407, 0.47769924998283403, 0.361, 0.332]}, {\"marker\": {\"size\": [1.2285700000000002, 1.33766, 1.3753824234008798, 1.301, 1.276], \"sizemode\": \"area\", \"sizeref\": 0.00131}, \"mode\": \"markers\", \"name\": \"Israel\", \"text\": [\"Israel\", \"Israel\", \"Israel\", \"Israel\", \"Israel\"], \"type\": \"scatter\", \"x\": [7.278, 7.267, 7.212999820709231, 6.814, 7.138999999999999], \"y\": [0.33171999999999996, 0.32288, 0.330082654953003, 0.354, 0.261]}, {\"marker\": {\"size\": [0.95578, 1.06879, 1.10970628261566, 1.01, 1.034], \"sizemode\": \"area\", \"sizeref\": 0.00131}, \"mode\": \"markers\", \"name\": \"Costa Rica\", \"text\": [\"Costa Rica\", \"Costa Rica\", \"Costa Rica\", \"Costa Rica\", \"Costa Rica\"], \"type\": \"scatter\", \"x\": [7.226, 7.087000000000001, 7.0789999961853, 7.072, 7.167000000000001], \"y\": [0.25497, 0.22553, 0.21461322903633104, 0.14300000000000002, 0.14400000000000002]}, {\"marker\": {\"size\": [1.33723, 1.45038, 1.4870972633361799, 1.341, 1.376], \"sizemode\": \"area\", \"sizeref\": 0.00131}, \"mode\": \"markers\", \"name\": \"Austria\", \"text\": [\"Austria\", \"Austria\", \"Austria\", \"Austria\", \"Austria\"], \"type\": \"scatter\", \"x\": [7.2, 7.119, 7.00600004196167, 7.138999999999999, 7.246], \"y\": [0.33088, 0.32865, 0.316472321748734, 0.242, 0.244]}, {\"marker\": {\"size\": [1.02054, 1.1150799999999998, 1.1531838178634601, 1.038, 1.07], \"sizemode\": \"area\", \"sizeref\": 0.00131}, \"mode\": \"markers\", \"name\": \"Mexico\", \"text\": [\"Mexico\", \"Mexico\", \"Mexico\", \"Mexico\", \"Mexico\"], \"type\": \"scatter\", \"x\": [7.187, 6.778, 6.57800006866455, 6.4879999999999995, 6.595], \"y\": [0.14074, 0.11735, 0.12099043279886199, 0.069, 0.07400000000000001]}, {\"marker\": {\"size\": [1.3945100000000001, 1.50796, 1.54625928401947, 1.3980000000000001, 1.433], \"sizemode\": \"area\", \"sizeref\": 0.00131}, \"mode\": \"markers\", \"name\": \"United States\", \"text\": [\"United States\", \"United States\", \"United States\", \"United States\", \"United States\"], \"type\": \"scatter\", \"x\": [7.119, 7.104, 6.993000030517581, 6.886, 6.892], \"y\": [0.40105, 0.41076999999999997, 0.392578780651093, 0.29100000000000004, 0.28]}, {\"marker\": {\"size\": [0.98124, 1.08754, 1.1073532104492199, 0.986, 1.004], \"sizemode\": \"area\", \"sizeref\": 0.00131}, \"mode\": \"markers\", \"name\": \"Brazil\", \"text\": [\"Brazil\", \"Brazil\", \"Brazil\", \"Brazil\", \"Brazil\"], \"type\": \"scatter\", \"x\": [6.983, 6.952000000000001, 6.6350002288818395, 6.419, 6.3], \"y\": [0.14574, 0.15775999999999998, 0.16234989464282998, 0.11, 0.099]}, {\"marker\": {\"size\": [1.5639100000000001, 1.6975200000000001, 1.74194359779358, 1.5759999999999998, 1.609], \"sizemode\": \"area\", \"sizeref\": 0.00131}, \"mode\": \"markers\", \"name\": \"Luxembourg\", \"text\": [\"Luxembourg\", \"Luxembourg\", \"Luxembourg\", \"Luxembourg\", \"Luxembourg\"], \"type\": \"scatter\", \"x\": [6.946000000000001, 6.871, 6.86299991607666, 6.91, 7.09], \"y\": [0.28034000000000003, 0.27571, 0.283180981874466, 0.196, 0.19399999999999998]}, {\"marker\": {\"size\": [1.33596, 1.4834100000000001, 1.5357066392898602, 1.4480000000000002, 1.499], \"sizemode\": \"area\", \"sizeref\": 0.00131}, \"mode\": \"markers\", \"name\": \"Ireland\", \"text\": [\"Ireland\", \"Ireland\", \"Ireland\", \"Ireland\", \"Ireland\"], \"type\": \"scatter\", \"x\": [6.94, 6.907, 6.9770002365112305, 6.977, 7.021], \"y\": [0.45901000000000003, 0.44963000000000003, 0.42785832285881, 0.307, 0.298]}, {\"marker\": {\"size\": [1.30782, 1.42539, 1.4637807607650801, 1.324, 1.3559999999999999], \"sizemode\": \"area\", \"sizeref\": 0.00131}, \"mode\": \"markers\", \"name\": \"Belgium\", \"text\": [\"Belgium\", \"Belgium\", \"Belgium\", \"Belgium\", \"Belgium\"], \"type\": \"scatter\", \"x\": [6.937, 6.928999999999999, 6.89099979400635, 6.9270000000000005, 6.922999999999999], \"y\": [0.2225, 0.2424, 0.23150333762168898, 0.188, 0.16]}, {\"marker\": {\"size\": [1.42727, 1.57352, 1.6263433694839498, 2.096, 1.5030000000000001], \"sizemode\": \"area\", \"sizeref\": 0.00131}, \"mode\": \"markers\", \"name\": \"United Arab Emirates\", \"text\": [\"United Arab Emirates\", \"United Arab Emirates\", \"United Arab Emirates\", \"United Arab Emirates\", \"United Arab Emirates\"], \"type\": \"scatter\", \"x\": [6.901, 6.5729999999999995, 6.6479997634887695, 6.774, 6.825], \"y\": [0.26428, 0.26591, 0.3609419465065, 0.18600000000000003, 0.262]}, {\"marker\": {\"size\": [1.26637, 1.40283, 1.44163393974304, 1.244, 1.3330000000000002], \"sizemode\": \"area\", \"sizeref\": 0.00131}, \"mode\": \"markers\", \"name\": \"United Kingdom\", \"text\": [\"United Kingdom\", \"United Kingdom\", \"United Kingdom\", \"United Kingdom\", \"United Kingdom\"], \"type\": \"scatter\", \"x\": [6.867000000000001, 6.725, 6.71400022506714, 7.19, 7.053999999999999], \"y\": [0.51912, 0.50156, 0.492774158716202, 0.262, 0.348]}, {\"marker\": {\"size\": [1.36011], \"sizemode\": \"area\", \"sizeref\": 0.00131}, \"mode\": \"markers\", \"name\": \"Oman\", \"text\": [\"Oman\"], \"type\": \"scatter\", \"x\": [6.853], \"y\": [0.21541999999999997]}, {\"marker\": {\"size\": [1.04424, 1.1336700000000002, 1.12843120098114, 0.996, 0.96], \"sizemode\": \"area\", \"sizeref\": 0.00131}, \"mode\": \"markers\", \"name\": \"Venezuela\", \"text\": [\"Venezuela\", \"Venezuela\", \"Venezuela\", \"Venezuela\", \"Venezuela\"], \"type\": \"scatter\", \"x\": [6.81, 6.084, 5.25, 4.806, 4.707], \"y\": [0.058410000000000004, 0.0425, 0.0650196298956871, 0.055999999999999994, 0.064]}, {\"marker\": {\"size\": [1.52186, 1.64555, 1.69227766990662, 1.5290000000000001, 1.5719999999999998], \"sizemode\": \"area\", \"sizeref\": 0.00131}, \"mode\": \"markers\", \"name\": \"Singapore\", \"text\": [\"Singapore\", \"Singapore\", \"Singapore\", \"Singapore\", \"Singapore\"], \"type\": \"scatter\", \"x\": [6.797999999999999, 6.739, 6.57200002670288, 6.343, 6.2620000000000005], \"y\": [0.31105, 0.32706, 0.345965981483459, 0.261, 0.271]}, {\"marker\": {\"size\": [1.0635299999999999, 1.18306, 1.23374843597412, 1.112, 1.149], \"sizemode\": \"area\", \"sizeref\": 0.00131}, \"mode\": \"markers\", \"name\": \"Panama\", \"text\": [\"Panama\", \"Panama\", \"Panama\", \"Panama\", \"Panama\"], \"type\": \"scatter\", \"x\": [6.7860000000000005, 6.7010000000000005, 6.4520001411438, 6.43, 6.321000000000001], \"y\": [0.24434, 0.2418, 0.21055693924427, 0.125, 0.109]}, {\"marker\": {\"size\": [1.32792, 1.44787, 1.48792338371277, 1.34, 1.3730000000000002], \"sizemode\": \"area\", \"sizeref\": 0.00131}, \"mode\": \"markers\", \"name\": \"Germany\", \"text\": [\"Germany\", \"Germany\", \"Germany\", \"Germany\", \"Germany\"], \"type\": \"scatter\", \"x\": [6.75, 6.994, 6.9510002136230495, 6.965, 6.985], \"y\": [0.28214, 0.30451999999999996, 0.33626917004585305, 0.273, 0.261]}, {\"marker\": {\"size\": [1.10715, 1.2167, 1.25278460979462, 1.131, 1.159], \"sizemode\": \"area\", \"sizeref\": 0.00131}, \"mode\": \"markers\", \"name\": \"Chile\", \"text\": [\"Chile\", \"Chile\", \"Chile\", \"Chile\", \"Chile\"], \"type\": \"scatter\", \"x\": [6.67, 6.705, 6.65199995040894, 6.476, 6.444], \"y\": [0.33363000000000004, 0.31595, 0.3266624212265011, 0.19699999999999998, 0.187]}, {\"marker\": {\"size\": [1.69042, 1.82427, 1.8707656860351598, 1.649, 1.6840000000000002], \"sizemode\": \"area\", \"sizeref\": 0.00131}, \"mode\": \"markers\", \"name\": \"Qatar\", \"text\": [\"Qatar\", \"Qatar\", \"Qatar\", \"Qatar\", \"Qatar\"], \"type\": \"scatter\", \"x\": [6.611000000000001, 6.375, 6.375, 6.374, 6.374], \"y\": [0.32573, 0.32388, 0.33047387003898604, 0.256, 0.22]}, {\"marker\": {\"size\": [1.27778, 1.39488, 1.43092346191406, 1.2930000000000001, 1.324], \"sizemode\": \"area\", \"sizeref\": 0.00131}, \"mode\": \"markers\", \"name\": \"France\", \"text\": [\"France\", \"France\", \"France\", \"France\", \"France\"], \"type\": \"scatter\", \"x\": [6.575, 6.478, 6.44199991226196, 6.489, 6.5920000000000005], \"y\": [0.12332, 0.1216, 0.129762306809425, 0.098, 0.111]}, {\"marker\": {\"size\": [1.05351, 1.15137, 1.18529546260834, 1.073, 1.092], \"sizemode\": \"area\", \"sizeref\": 0.00131}, \"mode\": \"markers\", \"name\": \"Argentina\", \"text\": [\"Argentina\", \"Argentina\", \"Argentina\", \"Argentina\", \"Argentina\"], \"type\": \"scatter\", \"x\": [6.574, 6.65, 6.59899997711182, 6.388, 6.086], \"y\": [0.11450999999999999, 0.10989000000000002, 0.109457060694695, 0.062, 0.066]}, {\"marker\": {\"size\": [1.17898, 1.30915, 1.35268235206604, 1.2329999999999999, 1.2690000000000001], \"sizemode\": \"area\", \"sizeref\": 0.00131}, \"mode\": \"markers\", \"name\": \"Czech Republic\", \"text\": [\"Czech Republic\", \"Czech Republic\", \"Czech Republic\", \"Czech Republic\", \"Czech Republic\"], \"type\": \"scatter\", \"x\": [6.505, 6.596, 6.60900020599365, 6.711, 6.852], \"y\": [0.10686, 0.09929, 0.0881067588925362, 0.064, 0.046]}, {\"marker\": {\"size\": [1.06166, 1.18157, 1.2175596952438401, 1.093, 1.124], \"sizemode\": \"area\", \"sizeref\": 0.00131}, \"mode\": \"markers\", \"name\": \"Uruguay\", \"text\": [\"Uruguay\", \"Uruguay\", \"Uruguay\", \"Uruguay\", \"Uruguay\"], \"type\": \"scatter\", \"x\": [6.485, 6.545, 6.4539999961853, 6.379, 6.292999999999999], \"y\": [0.2324, 0.18056, 0.175096929073334, 0.13, 0.127]}, {\"marker\": {\"size\": [0.91861, 1.0303200000000001, 1.07062232494354, 0.96, 0.985], \"sizemode\": \"area\", \"sizeref\": 0.00131}, \"mode\": \"markers\", \"name\": \"Colombia\", \"text\": [\"Colombia\", \"Colombia\", \"Colombia\", \"Colombia\", \"Colombia\"], \"type\": \"scatter\", \"x\": [6.477, 6.481, 6.35699987411499, 6.26, 6.125], \"y\": [0.18400999999999998, 0.15625999999999998, 0.14901447296142598, 0.099, 0.099]}, {\"marker\": {\"size\": [0.9669, 1.0893, 1.12786877155304, 1.016, 1.05], \"sizemode\": \"area\", \"sizeref\": 0.00131}, \"mode\": \"markers\", \"name\": \"Thailand\", \"text\": [\"Thailand\", \"Thailand\", \"Thailand\", \"Thailand\", \"Thailand\"], \"type\": \"scatter\", \"x\": [6.455, 6.474, 6.4239997863769505, 6.072, 6.007999999999999], \"y\": [0.5763, 0.58696, 0.572123110294342, 0.364, 0.359]}, {\"marker\": {\"size\": [1.39541, 1.48953, 1.53062355518341, 1.379, 1.403], \"sizemode\": \"area\", \"sizeref\": 0.00131}, \"mode\": \"markers\", \"name\": \"Saudi Arabia\", \"text\": [\"Saudi Arabia\", \"Saudi Arabia\", \"Saudi Arabia\", \"Saudi Arabia\", \"Saudi Arabia\"], \"type\": \"scatter\", \"x\": [6.4110000000000005, 6.379, 6.343999862670901, 6.371, 6.375], \"y\": [0.13706, 0.15457, 0.147616013884544, 0.098, 0.08]}, {\"marker\": {\"size\": [1.23011, 1.34253, 1.38439786434174, 1.251, 1.286], \"sizemode\": \"area\", \"sizeref\": 0.00131}, \"mode\": \"markers\", \"name\": \"Spain\", \"text\": [\"Spain\", \"Spain\", \"Spain\", \"Spain\", \"Spain\"], \"type\": \"scatter\", \"x\": [6.329, 6.361000000000001, 6.40299987792969, 6.31, 6.354], \"y\": [0.18227000000000002, 0.17665, 0.190133571624756, 0.142, 0.153]}, {\"marker\": {\"size\": [1.2074, 1.30782, 1.34327983856201, 1.27, 1.3], \"sizemode\": \"area\", \"sizeref\": 0.00131}, \"mode\": \"markers\", \"name\": \"Malta\", \"text\": [\"Malta\", \"Malta\", \"Malta\", \"Malta\", \"Malta\"], \"type\": \"scatter\", \"x\": [6.3020000000000005, 6.4879999999999995, 6.52699995040894, 6.627000000000001, 6.726], \"y\": [0.51752, 0.56237, 0.5747305750846861, 0.376, 0.375]}, {\"marker\": {\"size\": [1.29098, 1.39729, 1.365, 1.368], \"sizemode\": \"area\", \"sizeref\": 0.00131}, \"mode\": \"markers\", \"name\": \"Taiwan\", \"text\": [\"Taiwan\", \"Taiwan\", \"Taiwan\", \"Taiwan\"], \"type\": \"scatter\", \"x\": [6.297999999999999, 6.379, 6.441, 6.446000000000001], \"y\": [0.25376, 0.25495, 0.151, 0.242]}, {\"marker\": {\"size\": [1.5542200000000002, 1.61714, 1.63295245170593, 1.474, 1.5], \"sizemode\": \"area\", \"sizeref\": 0.00131}, \"mode\": \"markers\", \"name\": \"Kuwait\", \"text\": [\"Kuwait\", \"Kuwait\", \"Kuwait\", \"Kuwait\", \"Kuwait\"], \"type\": \"scatter\", \"x\": [6.295, 6.239, 6.10500001907349, 6.082999999999999, 6.021], \"y\": [0.16228, 0.15965, 0.228289797902107, 0.16699999999999998, 0.142]}, {\"marker\": {\"size\": [0.99534, 1.09686], \"sizemode\": \"area\", \"sizeref\": 0.00131}, \"mode\": \"markers\", \"name\": \"Suriname\", \"text\": [\"Suriname\", \"Suriname\"], \"type\": \"scatter\", \"x\": [6.269, 6.269], \"y\": [0.16990999999999998, 0.16665]}, {\"marker\": {\"size\": [1.21183, 1.32572, 1.36135590076447], \"sizemode\": \"area\", \"sizeref\": 0.00131}, \"mode\": \"markers\", \"name\": \"Trinidad and Tobago\", \"text\": [\"Trinidad and Tobago\", \"Trinidad and Tobago\", \"Trinidad and Tobago\"], \"type\": \"scatter\", \"x\": [6.167999999999999, 6.167999999999999, 6.1680002212524405], \"y\": [0.31844, 0.31935, 0.32529646158218395]}, {\"marker\": {\"size\": [0.76454, 0.8737, 0.9097844958305359, 0.8059999999999999, 0.794], \"sizemode\": \"area\", \"sizeref\": 0.00131}, \"mode\": \"markers\", \"name\": \"El Salvador\", \"text\": [\"El Salvador\", \"El Salvador\", \"El Salvador\", \"El Salvador\", \"El Salvador\"], \"type\": \"scatter\", \"x\": [6.13, 6.068, 6.002999782562259, 6.167000000000001, 6.252999999999999], \"y\": [0.10692, 0.08877, 0.0782579854130745, 0.065, 0.09300000000000001]}, {\"marker\": {\"size\": [0.74553, 0.83454, 0.872001945972443, 0.7809999999999999, 0.8], \"sizemode\": \"area\", \"sizeref\": 0.00131}, \"mode\": \"markers\", \"name\": \"Guatemala\", \"text\": [\"Guatemala\", \"Guatemala\", \"Guatemala\", \"Guatemala\", \"Guatemala\"], \"type\": \"scatter\", \"x\": [6.122999999999999, 6.324, 6.4539999961853, 6.382000000000001, 6.436], \"y\": [0.27489, 0.28808, 0.283488392829895, 0.179, 0.175]}, {\"marker\": {\"size\": [0.63244, 0.7359100000000001, 0.786441087722778, 0.7190000000000001, 0.745], \"sizemode\": \"area\", \"sizeref\": 0.00131}, \"mode\": \"markers\", \"name\": \"Uzbekistan\", \"text\": [\"Uzbekistan\", \"Uzbekistan\", \"Uzbekistan\", \"Uzbekistan\", \"Uzbekistan\"], \"type\": \"scatter\", \"x\": [6.002999999999999, 5.987, 5.97100019454956, 6.096, 6.1739999999999995], \"y\": [0.22837, 0.34326, 0.41598364710807795, 0.32799999999999996, 0.322]}, {\"marker\": {\"size\": [1.1689100000000001, 1.27973, 1.32539355754852, 1.21, 1.246], \"sizemode\": \"area\", \"sizeref\": 0.00131}, \"mode\": \"markers\", \"name\": \"Slovakia\", \"text\": [\"Slovakia\", \"Slovakia\", \"Slovakia\", \"Slovakia\", \"Slovakia\"], \"type\": \"scatter\", \"x\": [5.995, 6.077999999999999, 6.09800004959106, 6.172999999999999, 6.1979999999999995], \"y\": [0.16893, 0.13837, 0.136544480919838, 0.11800000000000001, 0.121]}, {\"marker\": {\"size\": [1.27074, 1.3800700000000001, 1.41691517829895, 1.294, 1.327], \"sizemode\": \"area\", \"sizeref\": 0.00131}, \"mode\": \"markers\", \"name\": \"Japan\", \"text\": [\"Japan\", \"Japan\", \"Japan\", \"Japan\", \"Japan\"], \"type\": \"scatter\", \"x\": [5.987, 5.921, 5.92000007629395, 5.915, 5.886], \"y\": [0.10705, 0.10224, 0.12057276815175999, 0.079, 0.069]}, {\"marker\": {\"size\": [1.24461, 1.35948, 1.40167844295502, 1.266, 1.301], \"sizemode\": \"area\", \"sizeref\": 0.00131}, \"mode\": \"markers\", \"name\": \"South Korea\", \"text\": [\"South Korea\", \"South Korea\", \"South Korea\", \"South Korea\", \"South Korea\"], \"type\": \"scatter\", \"x\": [5.984, 5.835, 5.837999820709231, 5.875, 5.895], \"y\": [0.18557, 0.18824000000000002, 0.206674367189407, 0.175, 0.175]}, {\"marker\": {\"size\": [0.8640200000000001, 0.97306, 1.00082039833069, 0.889, 0.912], \"sizemode\": \"area\", \"sizeref\": 0.00131}, \"mode\": \"markers\", \"name\": \"Ecuador\", \"text\": [\"Ecuador\", \"Ecuador\", \"Ecuador\", \"Ecuador\", \"Ecuador\"], \"type\": \"scatter\", \"x\": [5.975, 5.976, 6.00799989700317, 5.973, 6.028], \"y\": [0.11540999999999998, 0.10074, 0.15011246502399403, 0.114, 0.126]}, {\"marker\": {\"size\": [1.32376, 1.44024, 1.4884122610092199, 1.338, 1.3619999999999999], \"sizemode\": \"area\", \"sizeref\": 0.00131}, \"mode\": \"markers\", \"name\": \"Bahrain\", \"text\": [\"Bahrain\", \"Bahrain\", \"Bahrain\", \"Bahrain\", \"Bahrain\"], \"type\": \"scatter\", \"x\": [5.96, 6.218, 6.08699989318848, 6.105, 6.199], \"y\": [0.17362, 0.17147, 0.17266848683357197, 0.243, 0.255]}, {\"marker\": {\"size\": [1.25114, 1.35495, 1.3950666189193701, 1.264, 1.294], \"sizemode\": \"area\", \"sizeref\": 0.00131}, \"mode\": \"markers\", \"name\": \"Italy\", \"text\": [\"Italy\", \"Italy\", \"Italy\", \"Italy\", \"Italy\"], \"type\": \"scatter\", \"x\": [5.9479999999999995, 5.977, 5.96400022506714, 6.0, 6.223], \"y\": [0.22823000000000002, 0.16684000000000002, 0.17278964817523998, 0.13699999999999998, 0.158]}, {\"marker\": {\"size\": [0.68133, 0.79422, 0.833756566047668, 0.7509999999999999, 0.7759999999999999], \"sizemode\": \"area\", \"sizeref\": 0.00131}, \"mode\": \"markers\", \"name\": \"Bolivia\", \"text\": [\"Bolivia\", \"Bolivia\", \"Bolivia\", \"Bolivia\", \"Bolivia\"], \"type\": \"scatter\", \"x\": [5.89, 5.822, 5.82299995422363, 5.752000000000001, 5.779], \"y\": [0.20536, 0.21698, 0.22556072473526, 0.141, 0.13699999999999998]}, {\"marker\": {\"size\": [0.59448, 0.69177, 0.7288706302642819, 0.657, 0.685], \"sizemode\": \"area\", \"sizeref\": 0.00131}, \"mode\": \"markers\", \"name\": \"Moldova\", \"text\": [\"Moldova\", \"Moldova\", \"Moldova\", \"Moldova\", \"Moldova\"], \"type\": \"scatter\", \"x\": [5.888999999999999, 5.897, 5.837999820709231, 5.64, 5.529], \"y\": [0.20951, 0.19997, 0.20877912640571603, 0.171, 0.18100000000000002]}, {\"marker\": {\"size\": [0.75985, 0.8937299999999999, 0.932537317276001, 0.835, 0.855], \"sizemode\": \"area\", \"sizeref\": 0.00131}, \"mode\": \"markers\", \"name\": \"Paraguay\", \"text\": [\"Paraguay\", \"Paraguay\", \"Paraguay\", \"Paraguay\", \"Paraguay\"], \"type\": \"scatter\", \"x\": [5.877999999999999, 5.537999999999999, 5.493000030517581, 5.681, 5.742999999999999], \"y\": [0.3424, 0.25296, 0.224150657653809, 0.162, 0.184]}, {\"marker\": {\"size\": [1.1225399999999999, 1.22943, 1.2845562696456898, 1.143, 1.173], \"sizemode\": \"area\", \"sizeref\": 0.00131}, \"mode\": \"markers\", \"name\": \"Kazakhstan\", \"text\": [\"Kazakhstan\", \"Kazakhstan\", \"Kazakhstan\", \"Kazakhstan\", \"Kazakhstan\"], \"type\": \"scatter\", \"x\": [5.855, 5.919, 5.8189997673034695, 5.79, 5.809], \"y\": [0.11827, 0.15011, 0.20196442306041698, 0.14800000000000002, 0.146]}, {\"marker\": {\"size\": [1.18498, 1.2994700000000001, 1.3412059545516999, 1.219, 1.258], \"sizemode\": \"area\", \"sizeref\": 0.00131}, \"mode\": \"markers\", \"name\": \"Slovenia\", \"text\": [\"Slovenia\", \"Slovenia\", \"Slovenia\", \"Slovenia\", \"Slovenia\"], \"type\": \"scatter\", \"x\": [5.848, 5.768, 5.75799989700317, 5.9479999999999995, 6.117999999999999], \"y\": [0.25328, 0.25738, 0.242649093270302, 0.16, 0.14400000000000002]}, {\"marker\": {\"size\": [1.14723, 1.2692, 1.3145823478698702, 1.197, 1.238], \"sizemode\": \"area\", \"sizeref\": 0.00131}, \"mode\": \"markers\", \"name\": \"Lithuania\", \"text\": [\"Lithuania\", \"Lithuania\", \"Lithuania\", \"Lithuania\", \"Lithuania\"], \"type\": \"scatter\", \"x\": [5.832999999999999, 5.813, 5.90199995040894, 5.952000000000001, 6.149], \"y\": [0.026410000000000003, 0.02025, 0.010164656676352, 0.026000000000000002, 0.043]}, {\"marker\": {\"size\": [0.59325, 0.69384, 0.737299203872681, 0.6679999999999999, 0.6940000000000001], \"sizemode\": \"area\", \"sizeref\": 0.00131}, \"mode\": \"markers\", \"name\": \"Nicaragua\", \"text\": [\"Nicaragua\", \"Nicaragua\", \"Nicaragua\", \"Nicaragua\", \"Nicaragua\"], \"type\": \"scatter\", \"x\": [5.827999999999999, 5.992000000000001, 6.07100009918213, 6.141, 6.105], \"y\": [0.27815, 0.29773, 0.301674216985703, 0.20800000000000002, 0.2]}, {\"marker\": {\"size\": [0.9001899999999999, 0.9960200000000001, 1.0352252721786501, 0.934, 0.96], \"sizemode\": \"area\", \"sizeref\": 0.00131}, \"mode\": \"markers\", \"name\": \"Peru\", \"text\": [\"Peru\", \"Peru\", \"Peru\", \"Peru\", \"Peru\"], \"type\": \"scatter\", \"x\": [5.824, 5.742999999999999, 5.71500015258789, 5.662999999999999, 5.697], \"y\": [0.14982, 0.14527, 0.126819714903831, 0.092, 0.083]}, {\"marker\": {\"size\": [1.0319200000000002, 1.1306200000000002, 1.15655755996704, 1.0390000000000001, 1.067], \"sizemode\": \"area\", \"sizeref\": 0.00131}, \"mode\": \"markers\", \"name\": \"Belarus\", \"text\": [\"Belarus\", \"Belarus\", \"Belarus\", \"Belarus\", \"Belarus\"], \"type\": \"scatter\", \"x\": [5.813, 5.8020000000000005, 5.5689997673034695, 5.483, 5.3229999999999995], \"y\": [0.11045999999999999, 0.13942000000000002, 0.15513750910759, 0.10099999999999999, 0.094]}, {\"marker\": {\"size\": [1.12555, 1.24585, 1.29178786277771, 1.176, 1.206], \"sizemode\": \"area\", \"sizeref\": 0.00131}, \"mode\": \"markers\", \"name\": \"Poland\", \"text\": [\"Poland\", \"Poland\", \"Poland\", \"Poland\", \"Poland\"], \"type\": \"scatter\", \"x\": [5.791, 5.835, 5.97300004959106, 6.122999999999999, 6.182], \"y\": [0.16759000000000002, 0.14443, 0.158465966582298, 0.10800000000000001, 0.11699999999999999]}, {\"marker\": {\"size\": [1.12486, 1.25142, 1.29121541976929, 1.161, 1.2209999999999999], \"sizemode\": \"area\", \"sizeref\": 0.00131}, \"mode\": \"markers\", \"name\": \"Malaysia\", \"text\": [\"Malaysia\", \"Malaysia\", \"Malaysia\", \"Malaysia\", \"Malaysia\"], \"type\": \"scatter\", \"x\": [5.77, 6.005, 6.08400011062622, 6.322, 5.3389999999999995], \"y\": [0.33075, 0.41473999999999994, 0.416608929634094, 0.311, 0.26]}, {\"marker\": {\"size\": [1.08254, 1.18649, 1.22255623340607, 1.115, 1.155], \"sizemode\": \"area\", \"sizeref\": 0.00131}, \"mode\": \"markers\", \"name\": \"Croatia\", \"text\": [\"Croatia\", \"Croatia\", \"Croatia\", \"Croatia\", \"Croatia\"], \"type\": \"scatter\", \"x\": [5.7589999999999995, 5.4879999999999995, 5.2930002212524405, 5.321000000000001, 5.432], \"y\": [0.054439999999999995, 0.18434, 0.248002976179123, 0.12, 0.11900000000000001]}, {\"marker\": {\"size\": [1.13145, 1.0668799999999998, 1.1018030643463101, 0.985, 1.044], \"sizemode\": \"area\", \"sizeref\": 0.00131}, \"mode\": \"markers\", \"name\": \"Libya\", \"text\": [\"Libya\", \"Libya\", \"Libya\", \"Libya\", \"Libya\"], \"type\": \"scatter\", \"x\": [5.754, 5.615, 5.525000095367429, 5.566, 5.525], \"y\": [0.18295, 0.17087, 0.15207366645336198, 0.11599999999999999, 0.133]}, {\"marker\": {\"size\": [1.13764, 1.2322799999999998, 1.28177809715271, 1.151, 1.183], \"sizemode\": \"area\", \"sizeref\": 0.00131}, \"mode\": \"markers\", \"name\": \"Russia\", \"text\": [\"Russia\", \"Russia\", \"Russia\", \"Russia\", \"Russia\"], \"type\": \"scatter\", \"x\": [5.716, 5.856, 5.962999820709231, 5.81, 5.648], \"y\": [0.00199, 0.027360000000000002, 0.0522638224065304, 0.065, 0.08199999999999999]}, {\"marker\": {\"size\": [0.81038, 0.89333, 0.925579309463501, 0.8190000000000001, 0.831], \"sizemode\": \"area\", \"sizeref\": 0.00131}, \"mode\": \"markers\", \"name\": \"Jamaica\", \"text\": [\"Jamaica\", \"Jamaica\", \"Jamaica\", \"Jamaica\", \"Jamaica\"], \"type\": \"scatter\", \"x\": [5.709, 5.51, 5.31099987030029, 5.89, 5.89], \"y\": [0.2123, 0.22245, 0.23381833732128102, 0.096, 0.107]}, {\"marker\": {\"size\": [1.2080600000000001, 1.31141, 1.3469113111496], \"sizemode\": \"area\", \"sizeref\": 0.00131}, \"mode\": \"markers\", \"name\": \"North Cyprus\", \"text\": [\"North Cyprus\", \"North Cyprus\", \"North Cyprus\"], \"type\": \"scatter\", \"x\": [5.695, 5.771, 5.80999994277954], \"y\": [0.26169000000000003, 0.26322, 0.266845703125]}, {\"marker\": {\"size\": [1.20813, 1.31857, 1.3559380769729599, 1.229, 1.263], \"sizemode\": \"area\", \"sizeref\": 0.00131}, \"mode\": \"markers\", \"name\": \"Cyprus\", \"text\": [\"Cyprus\", \"Cyprus\", \"Cyprus\", \"Cyprus\", \"Cyprus\"], \"type\": \"scatter\", \"x\": [5.689, 5.546, 5.62099981307983, 5.7620000000000005, 6.046], \"y\": [0.30638000000000004, 0.27906, 0.271254301071167, 0.20199999999999999, 0.19]}, {\"marker\": {\"size\": [0.93929, 1.05266, 1.09186446666718, 0.9790000000000001, 1.002], \"sizemode\": \"area\", \"sizeref\": 0.00131}, \"mode\": \"markers\", \"name\": \"Algeria\", \"text\": [\"Algeria\", \"Algeria\", \"Algeria\", \"Algeria\", \"Algeria\"], \"type\": \"scatter\", \"x\": [5.605, 6.355, 5.872000217437741, 5.295, 5.211], \"y\": [0.07822, 0.07044, 0.0694366469979286, 0.055, 0.073]}, {\"marker\": {\"size\": [0.80148, 0.90145, 0.951484382152557, 0.855, 0.882], \"sizemode\": \"area\", \"sizeref\": 0.00131}, \"mode\": \"markers\", \"name\": \"Kosovo\", \"text\": [\"Kosovo\", \"Kosovo\", \"Kosovo\", \"Kosovo\", \"Kosovo\"], \"type\": \"scatter\", \"x\": [5.5889999999999995, 5.401, 5.27899980545044, 5.662000000000001, 6.1], \"y\": [0.2831, 0.27992, 0.319931447505951, 0.27399999999999997, 0.262]}, {\"marker\": {\"size\": [0.95847, 1.08017, 1.1307767629623402, 1.016, 1.052], \"sizemode\": \"area\", \"sizeref\": 0.00131}, \"mode\": \"markers\", \"name\": \"Turkmenistan\", \"text\": [\"Turkmenistan\", \"Turkmenistan\", \"Turkmenistan\", \"Turkmenistan\", \"Turkmenistan\"], \"type\": \"scatter\", \"x\": [5.547999999999999, 5.6579999999999995, 5.82200002670288, 5.636, 5.247000000000001], \"y\": [0.16979, 0.22566999999999998, 0.24992498755454998, 0.19899999999999998, 0.244]}, {\"marker\": {\"size\": [1.0076100000000001, 1.14372, 1.1893955469131499, 1.09, 1.12], \"sizemode\": \"area\", \"sizeref\": 0.00131}, \"mode\": \"markers\", \"name\": \"Mauritius\", \"text\": [\"Mauritius\", \"Mauritius\", \"Mauritius\", \"Mauritius\", \"Mauritius\"], \"type\": \"scatter\", \"x\": [5.477, 5.648, 5.62900018692017, 5.891, 5.888], \"y\": [0.37744, 0.36951, 0.360933750867844, 0.245, 0.215]}, {\"marker\": {\"size\": [1.38604, 1.5107, 1.405, 1.4380000000000002], \"sizemode\": \"area\", \"sizeref\": 0.00131}, \"mode\": \"markers\", \"name\": \"Hong Kong\", \"text\": [\"Hong Kong\", \"Hong Kong\", \"Hong Kong\", \"Hong Kong\"], \"type\": \"scatter\", \"x\": [5.474, 5.457999999999999, 5.43, 5.43], \"y\": [0.39478, 0.40097, 0.24600000000000002, 0.258]}, {\"marker\": {\"size\": [1.15174, 1.2796399999999999, 1.3208793401718102, 1.2, 1.237], \"sizemode\": \"area\", \"sizeref\": 0.00131}, \"mode\": \"markers\", \"name\": \"Estonia\", \"text\": [\"Estonia\", \"Estonia\", \"Estonia\", \"Estonia\", \"Estonia\"], \"type\": \"scatter\", \"x\": [5.428999999999999, 5.517, 5.61100006103516, 5.739, 5.893], \"y\": [0.0868, 0.08423, 0.0988908112049103, 0.086, 0.10300000000000001]}, {\"marker\": {\"size\": [0.8282700000000001, 0.95104, 0.995538592338562, 0.899, 0.9309999999999999], \"sizemode\": \"area\", \"sizeref\": 0.00131}, \"mode\": \"markers\", \"name\": \"Indonesia\", \"text\": [\"Indonesia\", \"Indonesia\", \"Indonesia\", \"Indonesia\", \"Indonesia\"], \"type\": \"scatter\", \"x\": [5.399, 5.314, 5.26200008392334, 5.093, 5.192], \"y\": [0.51535, 0.56521, 0.611704587936401, 0.484, 0.498]}, {\"marker\": {\"size\": [0.63216, 0.74037, 0.7885475754737851, 0.715, 0.741], \"sizemode\": \"area\", \"sizeref\": 0.00131}, \"mode\": \"markers\", \"name\": \"Vietnam\", \"text\": [\"Vietnam\", \"Vietnam\", \"Vietnam\", \"Vietnam\", \"Vietnam\"], \"type\": \"scatter\", \"x\": [5.36, 5.061, 5.07399988174438, 5.103, 5.175], \"y\": [0.1686, 0.25075, 0.23496805131435397, 0.177, 0.147]}, {\"marker\": {\"size\": [1.06098, 1.1649200000000002, 1.1982743740081798, 1.148, 1.183], \"sizemode\": \"area\", \"sizeref\": 0.00131}, \"mode\": \"markers\", \"name\": \"Turkey\", \"text\": [\"Turkey\", \"Turkey\", \"Turkey\", \"Turkey\", \"Turkey\"], \"type\": \"scatter\", \"x\": [5.332000000000001, 5.388999999999999, 5.5, 5.483, 5.372999999999999], \"y\": [0.12253, 0.04707, 0.0466930419206619, 0.106, 0.083]}, {\"marker\": {\"size\": [0.47428000000000003, 0.5604399999999999, 0.5962200760841371, 0.53, 0.551], \"sizemode\": \"area\", \"sizeref\": 0.00131}, \"mode\": \"markers\", \"name\": \"Kyrgyzstan\", \"text\": [\"Kyrgyzstan\", \"Kyrgyzstan\", \"Kyrgyzstan\", \"Kyrgyzstan\", \"Kyrgyzstan\"], \"type\": \"scatter\", \"x\": [5.2860000000000005, 5.185, 5.0040001869201705, 5.131, 5.261], \"y\": [0.3003, 0.38432, 0.42858037352562, 0.281, 0.3]}, {\"marker\": {\"size\": [0.65435, 0.75216, 0.783756256103516, 0.6890000000000001, 0.696], \"sizemode\": \"area\", \"sizeref\": 0.00131}, \"mode\": \"markers\", \"name\": \"Nigeria\", \"text\": [\"Nigeria\", \"Nigeria\", \"Nigeria\", \"Nigeria\", \"Nigeria\"], \"type\": \"scatter\", \"x\": [5.268, 4.875, 5.07399988174438, 5.155, 5.265], \"y\": [0.27233, 0.23219, 0.23094719648361198, 0.201, 0.215]}, {\"marker\": {\"size\": [0.77042, 0.8527, 0.885416388511658, 0.7959999999999999, 0.813], \"sizemode\": \"area\", \"sizeref\": 0.00131}, \"mode\": \"markers\", \"name\": \"Bhutan\", \"text\": [\"Bhutan\", \"Bhutan\", \"Bhutan\", \"Bhutan\", \"Bhutan\"], \"type\": \"scatter\", \"x\": [5.252999999999999, 5.196000000000001, 5.01100015640259, 5.082, 5.082], \"y\": [0.47998, 0.48546000000000006, 0.474054545164108, 0.364, 0.37]}, {\"marker\": {\"size\": [1.02389, 1.12373, 1.1536017656326298, 1.024, 1.043], \"sizemode\": \"area\", \"sizeref\": 0.00131}, \"mode\": \"markers\", \"name\": \"Azerbaijan\", \"text\": [\"Azerbaijan\", \"Azerbaijan\", \"Azerbaijan\", \"Azerbaijan\", \"Azerbaijan\"], \"type\": \"scatter\", \"x\": [5.212000000000001, 5.291, 5.234000205993651, 5.2010000000000005, 5.207999999999999], \"y\": [0.07799, 0.0564, 0.0452693402767181, 0.031, 0.035]}, {\"marker\": {\"size\": [0.59543, 0.68816, 0.7268835306167599, 0.652, 0.677], \"sizemode\": \"area\", \"sizeref\": 0.00131}, \"mode\": \"markers\", \"name\": \"Pakistan\", \"text\": [\"Pakistan\", \"Pakistan\", \"Pakistan\", \"Pakistan\", \"Pakistan\"], \"type\": \"scatter\", \"x\": [5.194, 5.132000000000001, 5.26900005340576, 5.472, 5.653], \"y\": [0.33671, 0.31185, 0.31544601917266807, 0.21600000000000003, 0.22]}, {\"marker\": {\"size\": [0.9019799999999999, 0.9967299999999999, 0.9910123944282528, 0.8220000000000001, 0.8370000000000001], \"sizemode\": \"area\", \"sizeref\": 0.00131}, \"mode\": \"markers\", \"name\": \"Jordan\", \"text\": [\"Jordan\", \"Jordan\", \"Jordan\", \"Jordan\", \"Jordan\"], \"type\": \"scatter\", \"x\": [5.192, 5.303, 5.33599996566772, 5.1610000000000005, 4.906000000000001], \"y\": [0.11052999999999999, 0.14262, 0.17217046022415197, 0.13, 0.11]}, {\"marker\": {\"size\": [0.9743799999999999, 1.07838, 1.12112903594971, 1.0170000000000001, 1.051], \"sizemode\": \"area\", \"sizeref\": 0.00131}, \"mode\": \"markers\", \"name\": \"Montenegro\", \"text\": [\"Montenegro\", \"Montenegro\", \"Montenegro\", \"Montenegro\", \"Montenegro\"], \"type\": \"scatter\", \"x\": [5.192, 5.1610000000000005, 5.23699998855591, 5.347, 5.523], \"y\": [0.1614, 0.17190999999999998, 0.197911024093628, 0.111, 0.142]}, {\"marker\": {\"size\": [0.89012, 1.0278, 1.08116579055786, 0.9890000000000001, 1.0290000000000001], \"sizemode\": \"area\", \"sizeref\": 0.00131}, \"mode\": \"markers\", \"name\": \"China\", \"text\": [\"China\", \"China\", \"China\", \"China\", \"China\"], \"type\": \"scatter\", \"x\": [5.14, 5.245, 5.2729997634887695, 5.246, 5.191], \"y\": [0.08185, 0.049589999999999995, 0.0288068410009146, 0.028999999999999998, 0.057999999999999996]}, {\"marker\": {\"size\": [0.47038, 0.61202, 0.6364067792892459, 0.562, 0.578], \"sizemode\": \"area\", \"sizeref\": 0.00131}, \"mode\": \"markers\", \"name\": \"Zambia\", \"text\": [\"Zambia\", \"Zambia\", \"Zambia\", \"Zambia\", \"Zambia\"], \"type\": \"scatter\", \"x\": [5.129, 4.795, 4.513999938964839, 4.377, 4.107], \"y\": [0.19591, 0.17865999999999999, 0.249580144882202, 0.221, 0.247]}, {\"marker\": {\"size\": [1.04345, 1.1697, 1.21768391132355, 1.1159999999999999, 1.162], \"sizemode\": \"area\", \"sizeref\": 0.00131}, \"mode\": \"markers\", \"name\": \"Romania\", \"text\": [\"Romania\", \"Romania\", \"Romania\", \"Romania\", \"Romania\"], \"type\": \"scatter\", \"x\": [5.124, 5.528, 5.824999809265139, 5.945, 6.07], \"y\": [0.13748, 0.12889, 0.133519917726517, 0.08800000000000001, 0.083]}, {\"marker\": {\"size\": [0.92053, 1.03437, 1.06931757926941, 0.975, 1.004], \"sizemode\": \"area\", \"sizeref\": 0.00131}, \"mode\": \"markers\", \"name\": \"Serbia\", \"text\": [\"Serbia\", \"Serbia\", \"Serbia\", \"Serbia\", \"Serbia\"], \"type\": \"scatter\", \"x\": [5.122999999999999, 5.1770000000000005, 5.39499998092651, 5.398, 5.603], \"y\": [0.19230999999999998, 0.20736999999999997, 0.22012588381767298, 0.134, 0.13699999999999998]}, {\"marker\": {\"size\": [1.15991, 1.27607, 1.3151752948761002, 1.188, 1.2209999999999999], \"sizemode\": \"area\", \"sizeref\": 0.00131}, \"mode\": \"markers\", \"name\": \"Portugal\", \"text\": [\"Portugal\", \"Portugal\", \"Portugal\", \"Portugal\", \"Portugal\"], \"type\": \"scatter\", \"x\": [5.102, 5.122999999999999, 5.19500017166138, 5.41, 5.693], \"y\": [0.13719, 0.11690999999999999, 0.0951027125120163, 0.055, 0.047]}, {\"marker\": {\"size\": [1.11312, 1.2178799999999999, 1.26074862480164, 1.148, 1.187], \"sizemode\": \"area\", \"sizeref\": 0.00131}, \"mode\": \"markers\", \"name\": \"Latvia\", \"text\": [\"Latvia\", \"Latvia\", \"Latvia\", \"Latvia\", \"Latvia\"], \"type\": \"scatter\", \"x\": [5.098, 5.56, 5.849999904632571, 5.933, 5.94], \"y\": [0.18225999999999998, 0.17445, 0.153074786067009, 0.092, 0.075]}, {\"marker\": {\"size\": [0.70532, 0.81217, 0.85769921541214, 0.775, 0.807], \"sizemode\": \"area\", \"sizeref\": 0.00131}, \"mode\": \"markers\", \"name\": \"Philippines\", \"text\": [\"Philippines\", \"Philippines\", \"Philippines\", \"Philippines\", \"Philippines\"], \"type\": \"scatter\", \"x\": [5.073, 5.279, 5.42999982833862, 5.524, 5.631], \"y\": [0.24991, 0.21674000000000002, 0.193513423204422, 0.12, 0.11699999999999999]}, {\"marker\": {\"size\": [0.18847], \"sizemode\": \"area\", \"sizeref\": 0.00131}, \"mode\": \"markers\", \"name\": \"Somaliland region\", \"text\": [\"Somaliland region\"], \"type\": \"scatter\", \"x\": [5.0569999999999995], \"y\": [0.5031800000000001]}, {\"marker\": {\"size\": [0.7347899999999999, 0.8405799999999999, 0.8781145811080929, 0.779, 0.8009999999999999], \"sizemode\": \"area\", \"sizeref\": 0.00131}, \"mode\": \"markers\", \"name\": \"Morocco\", \"text\": [\"Morocco\", \"Morocco\", \"Morocco\", \"Morocco\", \"Morocco\"], \"type\": \"scatter\", \"x\": [5.013, 5.151, 5.2350001335144, 5.254, 5.207999999999999], \"y\": [0.07172, 0.040530000000000004, 0.0322099551558495, 0.026000000000000002, 0.036000000000000004]}, {\"marker\": {\"size\": [0.91851, 1.0193, 1.06457793712616, 0.9590000000000001], \"sizemode\": \"area\", \"sizeref\": 0.00131}, \"mode\": \"markers\", \"name\": \"Macedonia\", \"text\": [\"Macedonia\", \"Macedonia\", \"Macedonia\", \"Macedonia\"], \"type\": \"scatter\", \"x\": [5.007, 5.121, 5.175000190734861, 5.185], \"y\": [0.22359, 0.23506999999999997, 0.25376096367836, 0.17300000000000001]}, {\"marker\": {\"size\": [0.08308, 0.23430564999580397, 0.198, 0.204], \"sizemode\": \"area\", \"sizeref\": 0.00131}, \"mode\": \"markers\", \"name\": \"Mozambique\", \"text\": [\"Mozambique\", \"Mozambique\", \"Mozambique\", \"Mozambique\"], \"type\": \"scatter\", \"x\": [4.971, 4.550000190734861, 4.417, 4.466], \"y\": [0.22269, 0.322228103876114, 0.20600000000000002, 0.19699999999999998]}, {\"marker\": {\"size\": [0.8786700000000001, 0.9553, 0.996192753314972, 0.9159999999999999, 0.9470000000000001], \"sizemode\": \"area\", \"sizeref\": 0.00131}, \"mode\": \"markers\", \"name\": \"Albania\", \"text\": [\"Albania\", \"Albania\", \"Albania\", \"Albania\", \"Albania\"], \"type\": \"scatter\", \"x\": [4.959, 4.655, 4.64400005340576, 4.586, 4.718999999999999], \"y\": [0.14272, 0.1684, 0.20131294429302202, 0.149, 0.17800000000000002]}, {\"marker\": {\"size\": [0.8322299999999999, 0.9338299999999999, 0.982409417629242, 0.915, 0.945], \"sizemode\": \"area\", \"sizeref\": 0.00131}, \"mode\": \"markers\", \"name\": \"Bosnia and Herzegovina\", \"text\": [\"Bosnia and Herzegovina\", \"Bosnia and Herzegovina\", \"Bosnia and Herzegovina\", \"Bosnia and Herzegovina\", \"Bosnia and Herzegovina\"], \"type\": \"scatter\", \"x\": [4.949, 5.162999999999999, 5.18200016021729, 5.129, 5.386], \"y\": [0.24808000000000002, 0.29889, 0.328867495059967, 0.21600000000000003, 0.263]}, {\"marker\": {\"size\": [0.37545, 0.521021246910095, 0.47200000000000003, 0.489], \"sizemode\": \"area\", \"sizeref\": 0.00131}, \"mode\": \"markers\", \"name\": \"Lesotho\", \"text\": [\"Lesotho\", \"Lesotho\", \"Lesotho\", \"Lesotho\"], \"type\": \"scatter\", \"x\": [4.898, 3.80800008773804, 3.8080000000000003, 3.802], \"y\": [0.16388, 0.157497271895409, 0.11599999999999999, 0.107]}, {\"marker\": {\"size\": [0.8953700000000001, 1.02787, 1.07937383651733, 0.982, 1.015], \"sizemode\": \"area\", \"sizeref\": 0.00131}, \"mode\": \"markers\", \"name\": \"Dominican Republic\", \"text\": [\"Dominican Republic\", \"Dominican Republic\", \"Dominican Republic\", \"Dominican Republic\", \"Dominican Republic\"], \"type\": \"scatter\", \"x\": [4.885, 5.155, 5.230000019073491, 5.3020000000000005, 5.425], \"y\": [0.21684, 0.21286, 0.186967849731445, 0.12, 0.113]}, {\"marker\": {\"size\": [0.5906600000000001, 0.68042, 0.72, 0.764], \"sizemode\": \"area\", \"sizeref\": 0.00131}, \"mode\": \"markers\", \"name\": \"Laos\", \"text\": [\"Laos\", \"Laos\", \"Laos\", \"Laos\"], \"type\": \"scatter\", \"x\": [4.876, 4.876, 4.623, 4.796], \"y\": [0.42191999999999996, 0.43078999999999995, 0.23, 0.266]}, {\"marker\": {\"size\": [0.82819, 0.9885299999999999, 1.0272358655929599, 0.914, 0.948], \"sizemode\": \"area\", \"sizeref\": 0.00131}, \"mode\": \"markers\", \"name\": \"Mongolia\", \"text\": [\"Mongolia\", \"Mongolia\", \"Mongolia\", \"Mongolia\", \"Mongolia\"], \"type\": \"scatter\", \"x\": [4.874, 4.907, 4.95499992370605, 5.125, 5.285], \"y\": [0.3323, 0.34539000000000003, 0.338464230298996, 0.253, 0.235]}, {\"marker\": {\"size\": [0.71206, 0.8109999999999999], \"sizemode\": \"area\", \"sizeref\": 0.00131}, \"mode\": \"markers\", \"name\": \"Swaziland\", \"text\": [\"Swaziland\", \"Swaziland\"], \"type\": \"scatter\", \"x\": [4.867, 4.212], \"y\": [0.18259, 0.07400000000000001]}, {\"marker\": {\"size\": [1.15406, 1.24886, 1.28948748111725, 1.1540000000000001, 1.181], \"sizemode\": \"area\", \"sizeref\": 0.00131}, \"mode\": \"markers\", \"name\": \"Greece\", \"text\": [\"Greece\", \"Greece\", \"Greece\", \"Greece\", \"Greece\"], \"type\": \"scatter\", \"x\": [4.857, 5.033, 5.2270002365112305, 5.358, 5.287000000000001], \"y\": [0.0, 0.0, 0.0, 0.0, 0.0]}, {\"marker\": {\"size\": [1.0256399999999999, 1.12268, 1.07498753070831, 0.965, 0.987], \"sizemode\": \"area\", \"sizeref\": 0.00131}, \"mode\": \"markers\", \"name\": \"Lebanon\", \"text\": [\"Lebanon\", \"Lebanon\", \"Lebanon\", \"Lebanon\", \"Lebanon\"], \"type\": \"scatter\", \"x\": [4.8389999999999995, 5.129, 5.22499990463257, 5.358, 5.197], \"y\": [0.21854, 0.23693000000000003, 0.26445075869560203, 0.214, 0.166]}, {\"marker\": {\"size\": [1.12094, 1.24142, 1.2860119342803997, 1.171, 1.2009999999999998], \"sizemode\": \"area\", \"sizeref\": 0.00131}, \"mode\": \"markers\", \"name\": \"Hungary\", \"text\": [\"Hungary\", \"Hungary\", \"Hungary\", \"Hungary\", \"Hungary\"], \"type\": \"scatter\", \"x\": [4.8, 5.145, 5.32399988174438, 5.62, 5.757999999999999], \"y\": [0.128, 0.099, 0.0784016624093056, 0.061, 0.081]}, {\"marker\": {\"size\": [0.59532, 0.69429, 0.730573117733002, 0.62, 0.642], \"sizemode\": \"area\", \"sizeref\": 0.00131}, \"mode\": \"markers\", \"name\": \"Honduras\", \"text\": [\"Honduras\", \"Honduras\", \"Honduras\", \"Honduras\", \"Honduras\"], \"type\": \"scatter\", \"x\": [4.788, 4.871, 5.1810002326965305, 5.504, 5.86], \"y\": [0.23026999999999997, 0.2044, 0.23618887364864302, 0.19699999999999998, 0.24600000000000002]}, {\"marker\": {\"size\": [0.39047, 0.48835, 0.524713635444641, 0.474, 0.493], \"sizemode\": \"area\", \"sizeref\": 0.00131}, \"mode\": \"markers\", \"name\": \"Tajikistan\", \"text\": [\"Tajikistan\", \"Tajikistan\", \"Tajikistan\", \"Tajikistan\", \"Tajikistan\"], \"type\": \"scatter\", \"x\": [4.7860000000000005, 4.996, 5.04099988937378, 5.199, 5.4670000000000005], \"y\": [0.22974, 0.25998000000000004, 0.24899764358997303, 0.187, 0.23]}, {\"marker\": {\"size\": [0.88113, 0.97724, 1.00726580619812, 0.9, 0.9209999999999999], \"sizemode\": \"area\", \"sizeref\": 0.00131}, \"mode\": \"markers\", \"name\": \"Tunisia\", \"text\": [\"Tunisia\", \"Tunisia\", \"Tunisia\", \"Tunisia\", \"Tunisia\"], \"type\": \"scatter\", \"x\": [4.739, 5.045, 4.80499982833862, 4.592, 4.461], \"y\": [0.06431, 0.03936, 0.0496933571994305, 0.04, 0.059000000000000004]}, {\"marker\": {\"size\": [0.59867, 0.67024, 0.716249227523804, 0.642, 0.657], \"sizemode\": \"area\", \"sizeref\": 0.00131}, \"mode\": \"markers\", \"name\": \"Palestinian Territories\", \"text\": [\"Palestinian Territories\", \"Palestinian Territories\", \"Palestinian Territories\", \"Palestinian Territories\", \"Palestinian Territories\"], \"type\": \"scatter\", \"x\": [4.715, 4.754, 4.77500009536743, 4.743, 4.696000000000001], \"y\": [0.11250999999999999, 0.11154000000000001, 0.114173173904419, 0.086, 0.10300000000000001]}, {\"marker\": {\"size\": [0.39753, 0.54177, 0.586682975292206, 0.532, 0.562], \"sizemode\": \"area\", \"sizeref\": 0.00131}, \"mode\": \"markers\", \"name\": \"Bangladesh\", \"text\": [\"Bangladesh\", \"Bangladesh\", \"Bangladesh\", \"Bangladesh\", \"Bangladesh\"], \"type\": \"scatter\", \"x\": [4.694, 4.643, 4.60799980163574, 4.5, 4.456], \"y\": [0.21222, 0.19132000000000002, 0.17225535213947304, 0.153, 0.166]}, {\"marker\": {\"size\": [1.0088, 1.11758, 1.15687310695648, 1.0590000000000002, 1.1], \"sizemode\": \"area\", \"sizeref\": 0.00131}, \"mode\": \"markers\", \"name\": \"Iran\", \"text\": [\"Iran\", \"Iran\", \"Iran\", \"Iran\", \"Iran\"], \"type\": \"scatter\", \"x\": [4.686, 4.813, 4.69199991226196, 4.707, 4.548], \"y\": [0.38086, 0.38538, 0.387242913246155, 0.282, 0.27]}, {\"marker\": {\"size\": [0.79907, 0.87287, 0.89465194940567, 0.7929999999999999, 0.82], \"sizemode\": \"area\", \"sizeref\": 0.00131}, \"mode\": \"markers\", \"name\": \"Ukraine\", \"text\": [\"Ukraine\", \"Ukraine\", \"Ukraine\", \"Ukraine\", \"Ukraine\"], \"type\": \"scatter\", \"x\": [4.681, 4.324, 4.09600019454956, 4.103, 4.332], \"y\": [0.15275, 0.20363, 0.270061463117599, 0.187, 0.187]}, {\"marker\": {\"size\": [0.98549, 1.07474, 1.1027104854583702, 1.01, 1.043], \"sizemode\": \"area\", \"sizeref\": 0.00131}, \"mode\": \"markers\", \"name\": \"Iraq\", \"text\": [\"Iraq\", \"Iraq\", \"Iraq\", \"Iraq\", \"Iraq\"], \"type\": \"scatter\", \"x\": [4.677, 4.575, 4.49700021743774, 4.456, 4.437], \"y\": [0.17922000000000002, 0.19589, 0.19963726401329, 0.14800000000000002, 0.14800000000000002]}, {\"marker\": {\"size\": [0.9204899999999999, 1.02416, 1.05469870567322, 0.94, 0.96], \"sizemode\": \"area\", \"sizeref\": 0.00131}, \"mode\": \"markers\", \"name\": \"South Africa\", \"text\": [\"South Africa\", \"South Africa\", \"South Africa\", \"South Africa\", \"South Africa\"], \"type\": \"scatter\", \"x\": [4.6419999999999995, 4.459, 4.8289999961853, 4.724, 4.7219999999999995], \"y\": [0.11972999999999999, 0.13656, 0.13936237990856198, 0.10300000000000001, 0.13]}, {\"marker\": {\"size\": [0.5455800000000001, 0.63107, 0.667224824428558, 0.5920000000000001, 0.611], \"sizemode\": \"area\", \"sizeref\": 0.00131}, \"mode\": \"markers\", \"name\": \"Ghana\", \"text\": [\"Ghana\", \"Ghana\", \"Ghana\", \"Ghana\", \"Ghana\"], \"type\": \"scatter\", \"x\": [4.633, 4.276, 4.11999988555908, 4.657, 4.996], \"y\": [0.23087, 0.21203000000000002, 0.25692394375801103, 0.212, 0.245]}, {\"marker\": {\"size\": [0.271, 0.35041, 0.37584653496742204, 0.35700000000000004, 0.366], \"sizemode\": \"area\", \"sizeref\": 0.00131}, \"mode\": \"markers\", \"name\": \"Zimbabwe\", \"text\": [\"Zimbabwe\", \"Zimbabwe\", \"Zimbabwe\", \"Zimbabwe\", \"Zimbabwe\"], \"type\": \"scatter\", \"x\": [4.61, 4.1930000000000005, 3.875, 3.6919999999999997, 3.6630000000000003], \"y\": [0.18987, 0.18503, 0.189143493771553, 0.132, 0.151]}, {\"marker\": {\"size\": [0.0712, 0.10705999999999999, 0.11904179304838199, 0.076, 0.073], \"sizemode\": \"area\", \"sizeref\": 0.00131}, \"mode\": \"markers\", \"name\": \"Liberia\", \"text\": [\"Liberia\", \"Liberia\", \"Liberia\", \"Liberia\", \"Liberia\"], \"type\": \"scatter\", \"x\": [4.571000000000001, 3.622, 3.5329999923706095, 3.495, 3.975], \"y\": [0.24361999999999998, 0.24063, 0.26654988527298, 0.20600000000000002, 0.233]}, {\"marker\": {\"size\": [0.64499, 0.74036, 0.7922212481498722, 0.721, 0.755], \"sizemode\": \"area\", \"sizeref\": 0.00131}, \"mode\": \"markers\", \"name\": \"India\", \"text\": [\"India\", \"India\", \"India\", \"India\", \"India\"], \"type\": \"scatter\", \"x\": [4.565, 4.404, 4.31500005722046, 4.19, 4.015], \"y\": [0.26475, 0.25028, 0.23153848946094502, 0.172, 0.2]}, {\"marker\": {\"size\": [0.52107, 0.63069, 0.6595166921615601, 0.605], \"sizemode\": \"area\", \"sizeref\": 0.00131}, \"mode\": \"markers\", \"name\": \"Sudan\", \"text\": [\"Sudan\", \"Sudan\", \"Sudan\", \"Sudan\"], \"type\": \"scatter\", \"x\": [4.55, 4.138999999999999, 4.138999938964839, 4.138999999999999], \"y\": [0.19062, 0.18077000000000001, 0.182317450642586, 0.134]}, {\"marker\": {\"size\": [0.26673, 0.34097, 0.368610262870789, 0.315, 0.32299999999999995], \"sizemode\": \"area\", \"sizeref\": 0.00131}, \"mode\": \"markers\", \"name\": \"Haiti\", \"text\": [\"Haiti\", \"Haiti\", \"Haiti\", \"Haiti\", \"Haiti\"], \"type\": \"scatter\", \"x\": [4.518, 4.0280000000000005, 3.6029999256133998, 3.582, 3.597], \"y\": [0.46187, 0.47958, 0.48920378088951094, 0.392, 0.419]}, {\"marker\": {\"size\": [0.0, 0.05661, 0.0921023488044739, 0.069, 0.094], \"sizemode\": \"area\", \"sizeref\": 0.00131}, \"mode\": \"markers\", \"name\": \"Congo (Kinshasa)\", \"text\": [\"Congo (Kinshasa)\", \"Congo (Kinshasa)\", \"Congo (Kinshasa)\", \"Congo (Kinshasa)\", \"Congo (Kinshasa)\"], \"type\": \"scatter\", \"x\": [4.5169999999999995, 4.272, 4.2800002098083505, 4.245, 4.418], \"y\": [0.24834, 0.25458000000000003, 0.246455833315849, 0.19699999999999998, 0.212]}, {\"marker\": {\"size\": [0.35996999999999996, 0.44626000000000005, 0.479820191860199, 0.425, 0.446], \"sizemode\": \"area\", \"sizeref\": 0.00131}, \"mode\": \"markers\", \"name\": \"Nepal\", \"text\": [\"Nepal\", \"Nepal\", \"Nepal\", \"Nepal\", \"Nepal\"], \"type\": \"scatter\", \"x\": [4.513999999999999, 4.793, 4.961999893188481, 4.88, 4.913], \"y\": [0.32295999999999997, 0.3816, 0.39409616589546204, 0.302, 0.285]}, {\"marker\": {\"size\": [0.19072999999999998, 0.29283000000000003, 0.339233845472336, 0.308, 0.336], \"sizemode\": \"area\", \"sizeref\": 0.00131}, \"mode\": \"markers\", \"name\": \"Ethiopia\", \"text\": [\"Ethiopia\", \"Ethiopia\", \"Ethiopia\", \"Ethiopia\", \"Ethiopia\"], \"type\": \"scatter\", \"x\": [4.512, 4.508, 4.46000003814697, 4.35, 4.2860000000000005], \"y\": [0.24325, 0.29522, 0.31265074014663696, 0.22, 0.209]}, {\"marker\": {\"size\": [0.33024000000000003, 0.36485, 0.36842092871666, 0.256, 0.268], \"sizemode\": \"area\", \"sizeref\": 0.00131}, \"mode\": \"markers\", \"name\": \"Sierra Leone\", \"text\": [\"Sierra Leone\", \"Sierra Leone\", \"Sierra Leone\", \"Sierra Leone\", \"Sierra Leone\"], \"type\": \"scatter\", \"x\": [4.507, 4.635, 4.70900011062622, 4.571000000000001, 4.374], \"y\": [0.21488000000000002, 0.23897, 0.293040901422501, 0.23800000000000002, 0.252]}, {\"marker\": {\"size\": [0.45407, 0.6139100000000001, 0.6484572887420649, 0.557, 0.57], \"sizemode\": \"area\", \"sizeref\": 0.00131}, \"mode\": \"markers\", \"name\": \"Mauritania\", \"text\": [\"Mauritania\", \"Mauritania\", \"Mauritania\", \"Mauritania\", \"Mauritania\"], \"type\": \"scatter\", \"x\": [4.436, 4.2010000000000005, 4.29199981689453, 4.356, 4.49], \"y\": [0.21899999999999997, 0.22685999999999998, 0.201870024204254, 0.134, 0.106]}, {\"marker\": {\"size\": [0.36471, 0.52267, 0.560479462146759, 0.493, 0.512], \"sizemode\": \"area\", \"sizeref\": 0.00131}, \"mode\": \"markers\", \"name\": \"Kenya\", \"text\": [\"Kenya\", \"Kenya\", \"Kenya\", \"Kenya\", \"Kenya\"], \"type\": \"scatter\", \"x\": [4.419, 4.356, 4.55299997329712, 4.41, 4.5089999999999995], \"y\": [0.37542, 0.41328000000000004, 0.444860309362411, 0.35200000000000004, 0.37200000000000005]}, {\"marker\": {\"size\": [0.44025], \"sizemode\": \"area\", \"sizeref\": 0.00131}, \"mode\": \"markers\", \"name\": \"Djibouti\", \"text\": [\"Djibouti\"], \"type\": \"scatter\", \"x\": [4.369], \"y\": [0.18093]}, {\"marker\": {\"size\": [0.7682100000000001, 0.8608600000000001, 0.900596737861633, 0.816, 0.85], \"sizemode\": \"area\", \"sizeref\": 0.00131}, \"mode\": \"markers\", \"name\": \"Armenia\", \"text\": [\"Armenia\", \"Armenia\", \"Armenia\", \"Armenia\", \"Armenia\"], \"type\": \"scatter\", \"x\": [4.35, 4.36, 4.37599992752075, 4.321000000000001, 4.559], \"y\": [0.07855, 0.07793, 0.0834880918264389, 0.077, 0.095]}, {\"marker\": {\"size\": [0.99355, 1.09426, 1.12209415435791, 1.0170000000000001, 1.041], \"sizemode\": \"area\", \"sizeref\": 0.00131}, \"mode\": \"markers\", \"name\": \"Botswana\", \"text\": [\"Botswana\", \"Botswana\", \"Botswana\", \"Botswana\", \"Botswana\"], \"type\": \"scatter\", \"x\": [4.332, 3.9739999999999998, 3.7660000324249303, 3.59, 3.488], \"y\": [0.10461, 0.12425, 0.0993484482169151, 0.042, 0.025]}, {\"marker\": {\"size\": [0.27108000000000004, 0.34112, 0.36711055040359497, 0.682, 0.71], \"sizemode\": \"area\", \"sizeref\": 0.00131}, \"mode\": \"markers\", \"name\": \"Myanmar\", \"text\": [\"Myanmar\", \"Myanmar\", \"Myanmar\", \"Myanmar\", \"Myanmar\"], \"type\": \"scatter\", \"x\": [4.3069999999999995, 4.395, 4.54500007629395, 4.308, 4.36], \"y\": [0.79588, 0.81971, 0.8380751609802249, 0.598, 0.5660000000000001]}, {\"marker\": {\"size\": [0.7419, 0.8379200000000001, 0.950612664222717, 0.853, 0.8859999999999999], \"sizemode\": \"area\", \"sizeref\": 0.00131}, \"mode\": \"markers\", \"name\": \"Georgia\", \"text\": [\"Georgia\", \"Georgia\", \"Georgia\", \"Georgia\", \"Georgia\"], \"type\": \"scatter\", \"x\": [4.297, 4.252, 4.28599977493286, 4.34, 4.519], \"y\": [0.055470000000000005, 0.06786, 0.0540088154375553, 0.038, 0.043]}, {\"marker\": {\"size\": [0.016040000000000002, 0.08709, 0.233442038297653, 0.18600000000000003, 0.191], \"sizemode\": \"area\", \"sizeref\": 0.00131}, \"mode\": \"markers\", \"name\": \"Malawi\", \"text\": [\"Malawi\", \"Malawi\", \"Malawi\", \"Malawi\", \"Malawi\"], \"type\": \"scatter\", \"x\": [4.292, 4.156000000000001, 3.97000002861023, 3.5869999999999997, 3.41], \"y\": [0.33128, 0.30968, 0.28717046976089505, 0.21, 0.218]}, {\"marker\": {\"size\": [0.83524, 0.9731799999999999, 1.00985014438629, 0.9179999999999999, 0.9490000000000001], \"sizemode\": \"area\", \"sizeref\": 0.00131}, \"mode\": \"markers\", \"name\": \"Sri Lanka\", \"text\": [\"Sri Lanka\", \"Sri Lanka\", \"Sri Lanka\", \"Sri Lanka\", \"Sri Lanka\"], \"type\": \"scatter\", \"x\": [4.271, 4.415, 4.44000005722046, 4.471, 4.3660000000000005], \"y\": [0.40828000000000003, 0.46978000000000003, 0.49086356163024897, 0.307, 0.244]}, {\"marker\": {\"size\": [0.4225, 0.5249699999999999, 0.564305365085602, 0.535, 0.5489999999999999], \"sizemode\": \"area\", \"sizeref\": 0.00131}, \"mode\": \"markers\", \"name\": \"Cameroon\", \"text\": [\"Cameroon\", \"Cameroon\", \"Cameroon\", \"Cameroon\", \"Cameroon\"], \"type\": \"scatter\", \"x\": [4.252, 4.513, 4.69500017166138, 4.975, 5.044], \"y\": [0.20618000000000003, 0.2268, 0.23629845678806302, 0.183, 0.187]}, {\"marker\": {\"size\": [1.01216, 1.11306, 1.1614590883255, 1.054, 1.092], \"sizemode\": \"area\", \"sizeref\": 0.00131}, \"mode\": \"markers\", \"name\": \"Bulgaria\", \"text\": [\"Bulgaria\", \"Bulgaria\", \"Bulgaria\", \"Bulgaria\", \"Bulgaria\"], \"type\": \"scatter\", \"x\": [4.218, 4.217, 4.71400022506714, 4.933, 5.011], \"y\": [0.11921, 0.12793, 0.113177694380283, 0.064, 0.081]}, {\"marker\": {\"size\": [0.8818, 0.95395, 0.989701807498932, 0.885, 0.9129999999999999], \"sizemode\": \"area\", \"sizeref\": 0.00131}, \"mode\": \"markers\", \"name\": \"Egypt\", \"text\": [\"Egypt\", \"Egypt\", \"Egypt\", \"Egypt\", \"Egypt\"], \"type\": \"scatter\", \"x\": [4.194, 4.362, 4.7350001335144, 4.419, 4.166], \"y\": [0.11291, 0.12705999999999998, 0.128631442785263, 0.092, 0.076]}, {\"marker\": {\"size\": [0.5464899999999999, 0.57939, 0.5916834473609921, 0.442, 0.287], \"sizemode\": \"area\", \"sizeref\": 0.00131}, \"mode\": \"markers\", \"name\": \"Yemen\", \"text\": [\"Yemen\", \"Yemen\", \"Yemen\", \"Yemen\", \"Yemen\"], \"type\": \"scatter\", \"x\": [4.077, 3.7239999999999998, 3.59299993515015, 3.355, 3.38], \"y\": [0.09131, 0.09821, 0.104125209152699, 0.083, 0.10800000000000001]}, {\"marker\": {\"size\": [0.75778, 0.84731, 0.8584281802177429, 0.73], \"sizemode\": \"area\", \"sizeref\": 0.00131}, \"mode\": \"markers\", \"name\": \"Angola\", \"text\": [\"Angola\", \"Angola\", \"Angola\", \"Angola\"], \"type\": \"scatter\", \"x\": [4.033, 3.866, 3.79500007629395, 3.795], \"y\": [0.12344000000000001, 0.12070999999999998, 0.09792649000883098, 0.079]}, {\"marker\": {\"size\": [0.26074, 0.31292, 0.476180493831635, 0.37, 0.385], \"sizemode\": \"area\", \"sizeref\": 0.00131}, \"mode\": \"markers\", \"name\": \"Mali\", \"text\": [\"Mali\", \"Mali\", \"Mali\", \"Mali\", \"Mali\"], \"type\": \"scatter\", \"x\": [3.995, 4.073, 4.19000005722046, 4.447, 4.39], \"y\": [0.18798, 0.21064000000000002, 0.183354198932648, 0.139, 0.153]}, {\"marker\": {\"size\": [0.67866, 0.7710899999999999, 0.8089642524719242, 0.682, 0.6729999999999999], \"sizemode\": \"area\", \"sizeref\": 0.00131}, \"mode\": \"markers\", \"name\": \"Congo (Brazzaville)\", \"text\": [\"Congo (Brazzaville)\", \"Congo (Brazzaville)\", \"Congo (Brazzaville)\", \"Congo (Brazzaville)\", \"Congo (Brazzaville)\"], \"type\": \"scatter\", \"x\": [3.989, 4.236000000000001, 4.29099988937378, 4.559, 4.812], \"y\": [0.12387999999999999, 0.12077, 0.12085212767124198, 0.091, 0.105]}, {\"marker\": {\"size\": [0.23906, 0.27509, 0.27399999999999997], \"sizemode\": \"area\", \"sizeref\": 0.00131}, \"mode\": \"markers\", \"name\": \"Comoros\", \"text\": [\"Comoros\", \"Comoros\", \"Comoros\"], \"type\": \"scatter\", \"x\": [3.9560000000000004, 3.9560000000000004, 3.9730000000000003], \"y\": [0.17440999999999998, 0.1827, 0.275]}, {\"marker\": {\"size\": [0.21101999999999999, 0.34719, 0.381430715322495, 0.322, 0.332], \"sizemode\": \"area\", \"sizeref\": 0.00131}, \"mode\": \"markers\", \"name\": \"Uganda\", \"text\": [\"Uganda\", \"Uganda\", \"Uganda\", \"Uganda\", \"Uganda\"], \"type\": \"scatter\", \"x\": [3.931, 3.739, 4.08099985122681, 4.1610000000000005, 4.189], \"y\": [0.29066, 0.27102, 0.32576605677604703, 0.259, 0.252]}, {\"marker\": {\"size\": [0.36498, 0.44314, 0.479309022426605, 0.429, 0.45], \"sizemode\": \"area\", \"sizeref\": 0.00131}, \"mode\": \"markers\", \"name\": \"Senegal\", \"text\": [\"Senegal\", \"Senegal\", \"Senegal\", \"Senegal\", \"Senegal\"], \"type\": \"scatter\", \"x\": [3.904, 4.218999999999999, 4.53499984741211, 4.631, 4.681], \"y\": [0.20843000000000003, 0.19103, 0.183468893170357, 0.138, 0.153]}, {\"marker\": {\"size\": [1.06024, 1.15851, 1.1982102394104, 1.036, 1.057], \"sizemode\": \"area\", \"sizeref\": 0.00131}, \"mode\": \"markers\", \"name\": \"Gabon\", \"text\": [\"Gabon\", \"Gabon\", \"Gabon\", \"Gabon\", \"Gabon\"], \"type\": \"scatter\", \"x\": [3.8960000000000004, 4.121, 4.46500015258789, 4.758, 4.7989999999999995], \"y\": [0.06822, 0.062439999999999996, 0.0437853783369064, 0.032, 0.043]}, {\"marker\": {\"size\": [0.0694, 0.1327, 0.16192533075809498, 0.131, 0.138], \"sizemode\": \"area\", \"sizeref\": 0.00131}, \"mode\": \"markers\", \"name\": \"Niger\", \"text\": [\"Niger\", \"Niger\", \"Niger\", \"Niger\", \"Niger\"], \"type\": \"scatter\", \"x\": [3.845, 3.8560000000000003, 4.02799987792969, 4.166, 4.628], \"y\": [0.19387000000000001, 0.2097, 0.22867384552955602, 0.175, 0.188]}, {\"marker\": {\"size\": [0.46038, 0.55604, 0.6017650961875921, 0.5489999999999999, 0.574], \"sizemode\": \"area\", \"sizeref\": 0.00131}, \"mode\": \"markers\", \"name\": \"Cambodia\", \"text\": [\"Cambodia\", \"Cambodia\", \"Cambodia\", \"Cambodia\", \"Cambodia\"], \"type\": \"scatter\", \"x\": [3.819, 3.907, 4.1680002212524405, 4.433, 4.7], \"y\": [0.40359, 0.40339, 0.385922968387604, 0.256, 0.23199999999999998]}, {\"marker\": {\"size\": [0.2852, 0.47155, 0.511135876178741, 0.455, 0.47600000000000003], \"sizemode\": \"area\", \"sizeref\": 0.00131}, \"mode\": \"markers\", \"name\": \"Tanzania\", \"text\": [\"Tanzania\", \"Tanzania\", \"Tanzania\", \"Tanzania\", \"Tanzania\"], \"type\": \"scatter\", \"x\": [3.781, 3.6660000000000004, 3.34899997711182, 3.303, 3.2310000000000003], \"y\": [0.34376999999999996, 0.31472, 0.354256361722946, 0.27, 0.276]}, {\"marker\": {\"size\": [0.20824, 0.27954, 0.305808693170547, 0.262, 0.27399999999999997], \"sizemode\": \"area\", \"sizeref\": 0.00131}, \"mode\": \"markers\", \"name\": \"Madagascar\", \"text\": [\"Madagascar\", \"Madagascar\", \"Madagascar\", \"Madagascar\", \"Madagascar\"], \"type\": \"scatter\", \"x\": [3.681, 3.695, 3.64400005340576, 3.7739999999999996, 3.9330000000000003], \"y\": [0.21333000000000002, 0.2204, 0.208732530474663, 0.155, 0.16899999999999998]}, {\"marker\": {\"size\": [0.0785, 0.0, 0.024, 0.026000000000000002], \"sizemode\": \"area\", \"sizeref\": 0.00131}, \"mode\": \"markers\", \"name\": \"Central African Republic\", \"text\": [\"Central African Republic\", \"Central African Republic\", \"Central African Republic\", \"Central African Republic\"], \"type\": \"scatter\", \"x\": [3.678, 2.69300007820129, 3.083, 3.083], \"y\": [0.23835, 0.280876487493515, 0.218, 0.235]}, {\"marker\": {\"size\": [0.34193, 0.42213999999999996, 0.43801298737525896, 0.358, 0.35], \"sizemode\": \"area\", \"sizeref\": 0.00131}, \"mode\": \"markers\", \"name\": \"Chad\", \"text\": [\"Chad\", \"Chad\", \"Chad\", \"Chad\", \"Chad\"], \"type\": \"scatter\", \"x\": [3.667, 3.763, 3.9360001087188703, 4.301, 4.35], \"y\": [0.18386, 0.18667, 0.21611385047435802, 0.18100000000000002, 0.198]}, {\"marker\": {\"size\": [0.17417, 0.22415, 0.24454993009567302, 0.344, 0.38], \"sizemode\": \"area\", \"sizeref\": 0.00131}, \"mode\": \"markers\", \"name\": \"Guinea\", \"text\": [\"Guinea\", \"Guinea\", \"Guinea\", \"Guinea\", \"Guinea\"], \"type\": \"scatter\", \"x\": [3.656, 3.6069999999999998, 3.50699996948242, 3.964, 4.534], \"y\": [0.28657, 0.29914, 0.264815092086792, 0.185, 0.207]}, {\"marker\": {\"size\": [0.46534, 0.55507, 0.6030489206314089, 0.541, 0.569], \"sizemode\": \"area\", \"sizeref\": 0.00131}, \"mode\": \"markers\", \"name\": \"Ivory Coast\", \"text\": [\"Ivory Coast\", \"Ivory Coast\", \"Ivory Coast\", \"Ivory Coast\", \"Ivory Coast\"], \"type\": \"scatter\", \"x\": [3.655, 3.9160000000000004, 4.17999982833862, 4.671, 4.944], \"y\": [0.20165, 0.20338, 0.201237469911575, 0.146, 0.154]}, {\"marker\": {\"size\": [0.25811999999999996, 0.31995, 0.35022771358490007, 0.314, 0.331], \"sizemode\": \"area\", \"sizeref\": 0.00131}, \"mode\": \"markers\", \"name\": \"Burkina Faso\", \"text\": [\"Burkina Faso\", \"Burkina Faso\", \"Burkina Faso\", \"Burkina Faso\", \"Burkina Faso\"], \"type\": \"scatter\", \"x\": [3.5869999999999997, 3.739, 4.03200006484985, 4.4239999999999995, 4.587], \"y\": [0.21746999999999997, 0.24353000000000002, 0.250864684581757, 0.175, 0.177]}, {\"marker\": {\"size\": [0.31982, 0.38227, 0.401477217674255, 0.332, 0.35], \"sizemode\": \"area\", \"sizeref\": 0.00131}, \"mode\": \"markers\", \"name\": \"Afghanistan\", \"text\": [\"Afghanistan\", \"Afghanistan\", \"Afghanistan\", \"Afghanistan\", \"Afghanistan\"], \"type\": \"scatter\", \"x\": [3.575, 3.36, 3.7939999103546103, 3.6319999999999997, 3.2030000000000003], \"y\": [0.3651, 0.31268, 0.311870932579041, 0.191, 0.158]}, {\"marker\": {\"size\": [0.22208000000000003, 0.32846, 0.368745893239975, 0.332, 0.359], \"sizemode\": \"area\", \"sizeref\": 0.00131}, \"mode\": \"markers\", \"name\": \"Rwanda\", \"text\": [\"Rwanda\", \"Rwanda\", \"Rwanda\", \"Rwanda\", \"Rwanda\"], \"type\": \"scatter\", \"x\": [3.465, 3.515, 3.47099995613098, 3.408, 3.3339999999999996], \"y\": [0.22628, 0.23551999999999998, 0.25275602936744695, 0.2, 0.217]}, {\"marker\": {\"size\": [0.28665, 0.39499, 0.43108540773391707, 0.37799999999999995, 0.39299999999999996], \"sizemode\": \"area\", \"sizeref\": 0.00131}, \"mode\": \"markers\", \"name\": \"Benin\", \"text\": [\"Benin\", \"Benin\", \"Benin\", \"Benin\", \"Benin\"], \"type\": \"scatter\", \"x\": [3.34, 3.484, 3.65700006484985, 4.141, 4.883], \"y\": [0.1826, 0.2018, 0.207948461174965, 0.163, 0.175]}, {\"marker\": {\"size\": [0.6632, 0.7471899999999999, 0.777153134346008, 0.6890000000000001, 0.619], \"sizemode\": \"area\", \"sizeref\": 0.00131}, \"mode\": \"markers\", \"name\": \"Syria\", \"text\": [\"Syria\", \"Syria\", \"Syria\", \"Syria\", \"Syria\"], \"type\": \"scatter\", \"x\": [3.0060000000000002, 3.069, 3.46199989318848, 3.4619999999999997, 3.4619999999999997], \"y\": [0.47179, 0.48396999999999996, 0.49366372823715204, 0.376, 0.331]}, {\"marker\": {\"size\": [0.0153, 0.06831, 0.09162256866693501, 0.091, 0.046], \"sizemode\": \"area\", \"sizeref\": 0.00131}, \"mode\": \"markers\", \"name\": \"Burundi\", \"text\": [\"Burundi\", \"Burundi\", \"Burundi\", \"Burundi\", \"Burundi\"], \"type\": \"scatter\", \"x\": [2.905, 2.905, 2.90499997138977, 2.905, 3.775], \"y\": [0.19727, 0.2029, 0.20443518459796897, 0.149, 0.17600000000000002]}, {\"marker\": {\"size\": [0.20868, 0.28123000000000004, 0.30544471740722695, 0.259, 0.275], \"sizemode\": \"area\", \"sizeref\": 0.00131}, \"mode\": \"markers\", \"name\": \"Togo\", \"text\": [\"Togo\", \"Togo\", \"Togo\", \"Togo\", \"Togo\"], \"type\": \"scatter\", \"x\": [2.839, 3.303, 3.4949998855590803, 3.9989999999999997, 4.085], \"y\": [0.16680999999999999, 0.17517, 0.19689615070819896, 0.158, 0.177]}, {\"marker\": {\"size\": [1.35943], \"sizemode\": \"area\", \"sizeref\": 0.00131}, \"mode\": \"markers\", \"name\": \"Puerto Rico\", \"text\": [\"Puerto Rico\"], \"type\": \"scatter\", \"x\": [7.039], \"y\": [0.22202]}, {\"marker\": {\"size\": [0.87616, 0.907975316047668, 0.807], \"sizemode\": \"area\", \"sizeref\": 0.00131}, \"mode\": \"markers\", \"name\": \"Belize\", \"text\": [\"Belize\", \"Belize\", \"Belize\"], \"type\": \"scatter\", \"x\": [5.956, 5.955999851226809, 5.956], \"y\": [0.23684000000000002, 0.24001564085483604, 0.183]}, {\"marker\": {\"size\": [0.0, 0.0226431842893362, 0.0, 0.0], \"sizemode\": \"area\", \"sizeref\": 0.00131}, \"mode\": \"markers\", \"name\": \"Somalia\", \"text\": [\"Somalia\", \"Somalia\", \"Somalia\", \"Somalia\"], \"type\": \"scatter\", \"x\": [5.44, 5.151000022888179, 4.982, 4.668], \"y\": [0.27225, 0.291631311178207, 0.23800000000000002, 0.243]}, {\"marker\": {\"size\": [0.25558000000000003], \"sizemode\": \"area\", \"sizeref\": 0.00131}, \"mode\": \"markers\", \"name\": \"Somaliland Region\", \"text\": [\"Somaliland Region\"], \"type\": \"scatter\", \"x\": [5.0569999999999995], \"y\": [0.51479]}, {\"marker\": {\"size\": [0.9328700000000001, 0.964434325695038, 0.8740000000000001, 0.879], \"sizemode\": \"area\", \"sizeref\": 0.00131}, \"mode\": \"markers\", \"name\": \"Namibia\", \"text\": [\"Namibia\", \"Namibia\", \"Namibia\", \"Namibia\"], \"type\": \"scatter\", \"x\": [4.574, 4.57399988174438, 4.441, 4.638999999999999], \"y\": [0.07795, 0.0771337449550629, 0.051, 0.07]}, {\"marker\": {\"size\": [0.39394, 0.39724862575531, 0.337, 0.306], \"sizemode\": \"area\", \"sizeref\": 0.00131}, \"mode\": \"markers\", \"name\": \"South Sudan\", \"text\": [\"South Sudan\", \"South Sudan\", \"South Sudan\", \"South Sudan\"], \"type\": \"scatter\", \"x\": [3.832, 3.5910000801086404, 3.2539999999999996, 2.853], \"y\": [0.25899, 0.285670816898346, 0.22399999999999998, 0.20199999999999999]}, {\"marker\": {\"size\": [1.4336265325546298], \"sizemode\": \"area\", \"sizeref\": 0.00131}, \"mode\": \"markers\", \"name\": \"Taiwan Province of China\", \"text\": [\"Taiwan Province of China\"], \"type\": \"scatter\", \"x\": [6.42199993133545], \"y\": [0.258360475301743]}, {\"marker\": {\"size\": [1.55167484283447], \"sizemode\": \"area\", \"sizeref\": 0.00131}, \"mode\": \"markers\", \"name\": \"Hong Kong S.A.R., China\", \"text\": [\"Hong Kong S.A.R., China\"], \"type\": \"scatter\", \"x\": [5.47200012207031], \"y\": [0.374465793371201]}, {\"marker\": {\"size\": [1.2229999999999999, 1.2309999999999999], \"sizemode\": \"area\", \"sizeref\": 0.00131}, \"mode\": \"markers\", \"name\": \"Trinidad & Tobago\", \"text\": [\"Trinidad & Tobago\", \"Trinidad & Tobago\"], \"type\": \"scatter\", \"x\": [6.192, 6.192], \"y\": [0.171, 0.185]}, {\"marker\": {\"size\": [1.229, 1.263], \"sizemode\": \"area\", \"sizeref\": 0.00131}, \"mode\": \"markers\", \"name\": \"Northern Cyprus\", \"text\": [\"Northern Cyprus\", \"Northern Cyprus\"], \"type\": \"scatter\", \"x\": [5.835, 5.718], \"y\": [0.179, 0.191]}, {\"marker\": {\"size\": [0.983], \"sizemode\": \"area\", \"sizeref\": 0.00131}, \"mode\": \"markers\", \"name\": \"North Macedonia\", \"text\": [\"North Macedonia\"], \"type\": \"scatter\", \"x\": [5.274], \"y\": [0.185]}, {\"marker\": {\"size\": [0.308], \"sizemode\": \"area\", \"sizeref\": 0.00131}, \"mode\": \"markers\", \"name\": \"Gambia\", \"text\": [\"Gambia\"], \"type\": \"scatter\", \"x\": [4.516], \"y\": [0.26899999999999996]}],\n",
              "                        {\"height\": 800, \"hovermode\": \"closest\", \"margin\": {\"b\": 50, \"pad\": 5, \"t\": 50}, \"showlegend\": true, \"template\": {\"data\": {\"bar\": [{\"error_x\": {\"color\": \"#2a3f5f\"}, \"error_y\": {\"color\": \"#2a3f5f\"}, \"marker\": {\"line\": {\"color\": \"#E5ECF6\", \"width\": 0.5}}, \"type\": \"bar\"}], \"barpolar\": [{\"marker\": {\"line\": {\"color\": \"#E5ECF6\", \"width\": 0.5}}, \"type\": \"barpolar\"}], \"carpet\": [{\"aaxis\": {\"endlinecolor\": \"#2a3f5f\", \"gridcolor\": \"white\", \"linecolor\": \"white\", \"minorgridcolor\": \"white\", \"startlinecolor\": \"#2a3f5f\"}, \"baxis\": {\"endlinecolor\": \"#2a3f5f\", \"gridcolor\": \"white\", \"linecolor\": \"white\", \"minorgridcolor\": \"white\", \"startlinecolor\": \"#2a3f5f\"}, \"type\": \"carpet\"}], \"choropleth\": [{\"colorbar\": {\"outlinewidth\": 0, \"ticks\": \"\"}, \"type\": \"choropleth\"}], \"contour\": [{\"colorbar\": {\"outlinewidth\": 0, \"ticks\": \"\"}, \"colorscale\": [[0.0, \"#0d0887\"], [0.1111111111111111, \"#46039f\"], [0.2222222222222222, \"#7201a8\"], [0.3333333333333333, \"#9c179e\"], [0.4444444444444444, \"#bd3786\"], [0.5555555555555556, \"#d8576b\"], [0.6666666666666666, \"#ed7953\"], [0.7777777777777778, \"#fb9f3a\"], [0.8888888888888888, \"#fdca26\"], [1.0, \"#f0f921\"]], \"type\": \"contour\"}], \"contourcarpet\": [{\"colorbar\": {\"outlinewidth\": 0, \"ticks\": \"\"}, \"type\": \"contourcarpet\"}], \"heatmap\": [{\"colorbar\": {\"outlinewidth\": 0, \"ticks\": \"\"}, \"colorscale\": [[0.0, \"#0d0887\"], [0.1111111111111111, \"#46039f\"], [0.2222222222222222, \"#7201a8\"], [0.3333333333333333, \"#9c179e\"], [0.4444444444444444, \"#bd3786\"], [0.5555555555555556, \"#d8576b\"], [0.6666666666666666, \"#ed7953\"], [0.7777777777777778, \"#fb9f3a\"], [0.8888888888888888, \"#fdca26\"], [1.0, \"#f0f921\"]], \"type\": \"heatmap\"}], \"heatmapgl\": [{\"colorbar\": {\"outlinewidth\": 0, \"ticks\": \"\"}, \"colorscale\": [[0.0, \"#0d0887\"], [0.1111111111111111, \"#46039f\"], [0.2222222222222222, \"#7201a8\"], [0.3333333333333333, \"#9c179e\"], [0.4444444444444444, \"#bd3786\"], [0.5555555555555556, \"#d8576b\"], [0.6666666666666666, \"#ed7953\"], [0.7777777777777778, \"#fb9f3a\"], [0.8888888888888888, \"#fdca26\"], [1.0, \"#f0f921\"]], \"type\": \"heatmapgl\"}], \"histogram\": [{\"marker\": {\"colorbar\": {\"outlinewidth\": 0, \"ticks\": \"\"}}, \"type\": \"histogram\"}], \"histogram2d\": [{\"colorbar\": {\"outlinewidth\": 0, \"ticks\": \"\"}, \"colorscale\": [[0.0, \"#0d0887\"], [0.1111111111111111, \"#46039f\"], [0.2222222222222222, \"#7201a8\"], [0.3333333333333333, \"#9c179e\"], [0.4444444444444444, \"#bd3786\"], [0.5555555555555556, \"#d8576b\"], [0.6666666666666666, \"#ed7953\"], [0.7777777777777778, \"#fb9f3a\"], [0.8888888888888888, \"#fdca26\"], [1.0, \"#f0f921\"]], \"type\": \"histogram2d\"}], \"histogram2dcontour\": [{\"colorbar\": {\"outlinewidth\": 0, \"ticks\": \"\"}, \"colorscale\": [[0.0, \"#0d0887\"], [0.1111111111111111, \"#46039f\"], [0.2222222222222222, \"#7201a8\"], [0.3333333333333333, \"#9c179e\"], [0.4444444444444444, \"#bd3786\"], [0.5555555555555556, \"#d8576b\"], [0.6666666666666666, \"#ed7953\"], [0.7777777777777778, \"#fb9f3a\"], [0.8888888888888888, \"#fdca26\"], [1.0, \"#f0f921\"]], \"type\": \"histogram2dcontour\"}], \"mesh3d\": [{\"colorbar\": {\"outlinewidth\": 0, \"ticks\": \"\"}, \"type\": \"mesh3d\"}], \"parcoords\": [{\"line\": {\"colorbar\": {\"outlinewidth\": 0, \"ticks\": \"\"}}, \"type\": \"parcoords\"}], \"pie\": [{\"automargin\": true, \"type\": \"pie\"}], \"scatter\": [{\"marker\": {\"colorbar\": {\"outlinewidth\": 0, \"ticks\": \"\"}}, \"type\": \"scatter\"}], \"scatter3d\": [{\"line\": {\"colorbar\": {\"outlinewidth\": 0, \"ticks\": \"\"}}, \"marker\": {\"colorbar\": {\"outlinewidth\": 0, \"ticks\": \"\"}}, \"type\": \"scatter3d\"}], \"scattercarpet\": [{\"marker\": {\"colorbar\": {\"outlinewidth\": 0, \"ticks\": \"\"}}, \"type\": \"scattercarpet\"}], \"scattergeo\": [{\"marker\": {\"colorbar\": {\"outlinewidth\": 0, \"ticks\": \"\"}}, \"type\": \"scattergeo\"}], \"scattergl\": [{\"marker\": {\"colorbar\": {\"outlinewidth\": 0, \"ticks\": \"\"}}, \"type\": \"scattergl\"}], \"scattermapbox\": [{\"marker\": {\"colorbar\": {\"outlinewidth\": 0, \"ticks\": \"\"}}, \"type\": \"scattermapbox\"}], \"scatterpolar\": [{\"marker\": {\"colorbar\": {\"outlinewidth\": 0, \"ticks\": \"\"}}, \"type\": \"scatterpolar\"}], \"scatterpolargl\": [{\"marker\": {\"colorbar\": {\"outlinewidth\": 0, \"ticks\": \"\"}}, \"type\": \"scatterpolargl\"}], \"scatterternary\": [{\"marker\": {\"colorbar\": {\"outlinewidth\": 0, \"ticks\": \"\"}}, \"type\": \"scatterternary\"}], \"surface\": [{\"colorbar\": {\"outlinewidth\": 0, \"ticks\": \"\"}, \"colorscale\": [[0.0, \"#0d0887\"], [0.1111111111111111, \"#46039f\"], [0.2222222222222222, \"#7201a8\"], [0.3333333333333333, \"#9c179e\"], [0.4444444444444444, \"#bd3786\"], [0.5555555555555556, \"#d8576b\"], [0.6666666666666666, \"#ed7953\"], [0.7777777777777778, \"#fb9f3a\"], [0.8888888888888888, \"#fdca26\"], [1.0, \"#f0f921\"]], \"type\": \"surface\"}], \"table\": [{\"cells\": {\"fill\": {\"color\": \"#EBF0F8\"}, \"line\": {\"color\": \"white\"}}, \"header\": {\"fill\": {\"color\": \"#C8D4E3\"}, \"line\": {\"color\": \"white\"}}, \"type\": \"table\"}]}, \"layout\": {\"annotationdefaults\": {\"arrowcolor\": \"#2a3f5f\", \"arrowhead\": 0, \"arrowwidth\": 1}, \"coloraxis\": {\"colorbar\": {\"outlinewidth\": 0, \"ticks\": \"\"}}, \"colorscale\": {\"diverging\": [[0, \"#8e0152\"], [0.1, \"#c51b7d\"], [0.2, \"#de77ae\"], [0.3, \"#f1b6da\"], [0.4, \"#fde0ef\"], [0.5, \"#f7f7f7\"], [0.6, \"#e6f5d0\"], [0.7, \"#b8e186\"], [0.8, \"#7fbc41\"], [0.9, \"#4d9221\"], [1, \"#276419\"]], \"sequential\": [[0.0, \"#0d0887\"], [0.1111111111111111, \"#46039f\"], [0.2222222222222222, \"#7201a8\"], [0.3333333333333333, \"#9c179e\"], [0.4444444444444444, \"#bd3786\"], [0.5555555555555556, \"#d8576b\"], [0.6666666666666666, \"#ed7953\"], [0.7777777777777778, \"#fb9f3a\"], [0.8888888888888888, \"#fdca26\"], [1.0, \"#f0f921\"]], \"sequentialminus\": [[0.0, \"#0d0887\"], [0.1111111111111111, \"#46039f\"], [0.2222222222222222, \"#7201a8\"], [0.3333333333333333, \"#9c179e\"], [0.4444444444444444, \"#bd3786\"], [0.5555555555555556, \"#d8576b\"], [0.6666666666666666, \"#ed7953\"], [0.7777777777777778, \"#fb9f3a\"], [0.8888888888888888, \"#fdca26\"], [1.0, \"#f0f921\"]]}, \"colorway\": [\"#636efa\", \"#EF553B\", \"#00cc96\", \"#ab63fa\", \"#FFA15A\", \"#19d3f3\", \"#FF6692\", \"#B6E880\", \"#FF97FF\", \"#FECB52\"], \"font\": {\"color\": \"#2a3f5f\"}, \"geo\": {\"bgcolor\": \"white\", \"lakecolor\": \"white\", \"landcolor\": \"#E5ECF6\", \"showlakes\": true, \"showland\": true, \"subunitcolor\": \"white\"}, \"hoverlabel\": {\"align\": \"left\"}, \"hovermode\": \"closest\", \"mapbox\": {\"style\": \"light\"}, \"paper_bgcolor\": \"white\", \"plot_bgcolor\": \"#E5ECF6\", \"polar\": {\"angularaxis\": {\"gridcolor\": \"white\", \"linecolor\": \"white\", \"ticks\": \"\"}, \"bgcolor\": \"#E5ECF6\", \"radialaxis\": {\"gridcolor\": \"white\", \"linecolor\": \"white\", \"ticks\": \"\"}}, \"scene\": {\"xaxis\": {\"backgroundcolor\": \"#E5ECF6\", \"gridcolor\": \"white\", \"gridwidth\": 2, \"linecolor\": \"white\", \"showbackground\": true, \"ticks\": \"\", \"zerolinecolor\": \"white\"}, \"yaxis\": {\"backgroundcolor\": \"#E5ECF6\", \"gridcolor\": \"white\", \"gridwidth\": 2, \"linecolor\": \"white\", \"showbackground\": true, \"ticks\": \"\", \"zerolinecolor\": \"white\"}, \"zaxis\": {\"backgroundcolor\": \"#E5ECF6\", \"gridcolor\": \"white\", \"gridwidth\": 2, \"linecolor\": \"white\", \"showbackground\": true, \"ticks\": \"\", \"zerolinecolor\": \"white\"}}, \"shapedefaults\": {\"line\": {\"color\": \"#2a3f5f\"}}, \"ternary\": {\"aaxis\": {\"gridcolor\": \"white\", \"linecolor\": \"white\", \"ticks\": \"\"}, \"baxis\": {\"gridcolor\": \"white\", \"linecolor\": \"white\", \"ticks\": \"\"}, \"bgcolor\": \"#E5ECF6\", \"caxis\": {\"gridcolor\": \"white\", \"linecolor\": \"white\", \"ticks\": \"\"}}, \"title\": {\"x\": 0.05}, \"xaxis\": {\"automargin\": true, \"gridcolor\": \"white\", \"linecolor\": \"white\", \"ticks\": \"\", \"title\": {\"standoff\": 15}, \"zerolinecolor\": \"white\", \"zerolinewidth\": 2}, \"yaxis\": {\"automargin\": true, \"gridcolor\": \"white\", \"linecolor\": \"white\", \"ticks\": \"\", \"title\": {\"standoff\": 15}, \"zerolinecolor\": \"white\", \"zerolinewidth\": 2}}}, \"title\": {\"text\": \"Happiness vs Generosity vs Economy\"}, \"xaxis\": {\"autorange\": false, \"range\": [1.885100054740903, 10.8766], \"title\": {\"text\": \"Happiness Score\"}}, \"yaxis\": {\"autorange\": false, \"range\": [0.0, 1.1733052253723149], \"title\": {\"text\": \"Generosity\"}}},\n",
              "                        {\"scrollzoom\": true, \"responsive\": true}\n",
              "                    ).then(function(){\n",
              "                            \n",
              "var gd = document.getElementById('53bbcc2d-e1be-455c-9ba2-6f1d3231d733');\n",
              "var x = new MutationObserver(function (mutations, observer) {{\n",
              "        var display = window.getComputedStyle(gd).display;\n",
              "        if (!display || display === 'none') {{\n",
              "            console.log([gd, 'removed!']);\n",
              "            Plotly.purge(gd);\n",
              "            observer.disconnect();\n",
              "        }}\n",
              "}});\n",
              "\n",
              "// Listen for the removal of the full notebook cells\n",
              "var notebookContainer = gd.closest('#notebook-container');\n",
              "if (notebookContainer) {{\n",
              "    x.observe(notebookContainer, {childList: true});\n",
              "}}\n",
              "\n",
              "// Listen for the clearing of the current output cell\n",
              "var outputEl = gd.closest('.output');\n",
              "if (outputEl) {{\n",
              "    x.observe(outputEl, {childList: true});\n",
              "}}\n",
              "\n",
              "                        })\n",
              "                };\n",
              "                \n",
              "            </script>\n",
              "        </div>\n",
              "</body>\n",
              "</html>"
            ]
          },
          "metadata": {
            "tags": []
          }
        }
      ]
    },
    {
      "cell_type": "code",
      "metadata": {
        "id": "zecbfsq4LyMN",
        "colab_type": "code",
        "colab": {
          "base_uri": "https://localhost:8080/",
          "height": 751
        },
        "outputId": "a02dee88-55ad-417a-91d0-102a0bf4f241"
      },
      "source": [
        "\n",
        "figure = bubbleplot(dataset = df, x_column = 'Happiness Score', y_column = 'Social Support', \n",
        "    bubble_column = 'Country or Region', size_column = 'Economy (GDP per Capita)', color_column = 'Country or Region', \n",
        "    x_title = \"Happiness Score\", y_title = \"Social Support\", title = 'Happiness vs Social Support vs Economy',\n",
        "    x_logscale = False, scale_bubble = 0.5, height = 650)\n",
        "\n",
        "py.iplot(figure, config={'scrollzoom': True})"
      ],
      "execution_count": null,
      "outputs": [
        {
          "output_type": "stream",
          "text": [
            "/usr/local/lib/python3.6/dist-packages/plotly/offline/offline.py:159: UserWarning:\n",
            "\n",
            "\n",
            "Unrecognized config options supplied: ['scrollzoom']\n",
            "\n"
          ],
          "name": "stderr"
        },
        {
          "output_type": "display_data",
          "data": {
            "text/html": [
              "<html>\n",
              "<head><meta charset=\"utf-8\" /></head>\n",
              "<body>\n",
              "    <div>\n",
              "            <script src=\"https://cdnjs.cloudflare.com/ajax/libs/mathjax/2.7.5/MathJax.js?config=TeX-AMS-MML_SVG\"></script><script type=\"text/javascript\">if (window.MathJax) {MathJax.Hub.Config({SVG: {font: \"STIX-Web\"}});}</script>\n",
              "                <script type=\"text/javascript\">window.PlotlyConfig = {MathJaxConfig: 'local'};</script>\n",
              "        <script src=\"https://cdn.plot.ly/plotly-latest.min.js\"></script>    \n",
              "            <div id=\"78d288a1-def6-4841-bdeb-eb855dd484d3\" class=\"plotly-graph-div\" style=\"height:650px; width:100%;\"></div>\n",
              "            <script type=\"text/javascript\">\n",
              "                \n",
              "                    window.PLOTLYENV=window.PLOTLYENV || {};\n",
              "                    \n",
              "                if (document.getElementById(\"78d288a1-def6-4841-bdeb-eb855dd484d3\")) {\n",
              "                    Plotly.newPlot(\n",
              "                        '78d288a1-def6-4841-bdeb-eb855dd484d3',\n",
              "                        [{\"marker\": {\"size\": [1.3965100000000001, 1.5273299999999999, 1.5649795532226598, 1.42, 1.452], \"sizemode\": \"area\", \"sizeref\": 0.00131}, \"mode\": \"markers\", \"name\": \"Switzerland\", \"text\": [\"Switzerland\", \"Switzerland\", \"Switzerland\", \"Switzerland\", \"Switzerland\"], \"type\": \"scatter\", \"x\": [7.587000000000001, 7.5089999999999995, 7.49399995803833, 7.487, 7.48], \"y\": [1.34951, 1.14524, 1.51691174507141, 1.5490000000000002, 1.526]}, {\"marker\": {\"size\": [1.3023200000000001, 1.42666, 1.480633020401, 1.3430000000000002, 1.38], \"sizemode\": \"area\", \"sizeref\": 0.00131}, \"mode\": \"markers\", \"name\": \"Iceland\", \"text\": [\"Iceland\", \"Iceland\", \"Iceland\", \"Iceland\", \"Iceland\"], \"type\": \"scatter\", \"x\": [7.561, 7.501, 7.50400018692017, 7.495, 7.494], \"y\": [1.4022299999999999, 1.18326, 1.6105740070343, 1.6440000000000001, 1.624]}, {\"marker\": {\"size\": [1.32548, 1.4417799999999998, 1.48238301277161, 1.351, 1.383], \"sizemode\": \"area\", \"sizeref\": 0.00131}, \"mode\": \"markers\", \"name\": \"Denmark\", \"text\": [\"Denmark\", \"Denmark\", \"Denmark\", \"Denmark\", \"Denmark\"], \"type\": \"scatter\", \"x\": [7.527, 7.526, 7.52199983596802, 7.555, 7.6], \"y\": [1.36058, 1.16374, 1.55112159252167, 1.59, 1.5730000000000002]}, {\"marker\": {\"size\": [1.459, 1.57744, 1.6164631843566901, 1.456, 1.4880000000000002], \"sizemode\": \"area\", \"sizeref\": 0.00131}, \"mode\": \"markers\", \"name\": \"Norway\", \"text\": [\"Norway\", \"Norway\", \"Norway\", \"Norway\", \"Norway\"], \"type\": \"scatter\", \"x\": [7.522, 7.497999999999999, 7.537000179290769, 7.593999999999999, 7.553999999999999], \"y\": [1.33095, 1.1269, 1.53352355957031, 1.5819999999999999, 1.5819999999999999]}, {\"marker\": {\"size\": [1.32629, 1.44015, 1.47920441627502, 1.33, 1.365], \"sizemode\": \"area\", \"sizeref\": 0.00131}, \"mode\": \"markers\", \"name\": \"Canada\", \"text\": [\"Canada\", \"Canada\", \"Canada\", \"Canada\", \"Canada\"], \"type\": \"scatter\", \"x\": [7.4270000000000005, 7.404, 7.31599998474121, 7.327999999999999, 7.278], \"y\": [1.32261, 1.0961, 1.48134899139404, 1.5319999999999998, 1.505]}, {\"marker\": {\"size\": [1.29025, 1.40598, 1.44357192516327, 1.305, 1.34], \"sizemode\": \"area\", \"sizeref\": 0.00131}, \"mode\": \"markers\", \"name\": \"Finland\", \"text\": [\"Finland\", \"Finland\", \"Finland\", \"Finland\", \"Finland\"], \"type\": \"scatter\", \"x\": [7.406000000000001, 7.412999999999999, 7.468999862670901, 7.632000000000001, 7.769], \"y\": [1.31826, 1.1346399999999999, 1.5402467250824, 1.5919999999999999, 1.587]}, {\"marker\": {\"size\": [1.32944, 1.46468, 1.50394463539124, 1.361, 1.396], \"sizemode\": \"area\", \"sizeref\": 0.00131}, \"mode\": \"markers\", \"name\": \"Netherlands\", \"text\": [\"Netherlands\", \"Netherlands\", \"Netherlands\", \"Netherlands\", \"Netherlands\"], \"type\": \"scatter\", \"x\": [7.377999999999999, 7.3389999999999995, 7.3769998550415, 7.441, 7.4879999999999995], \"y\": [1.28017, 1.02912, 1.42893922328949, 1.4880000000000002, 1.5219999999999998]}, {\"marker\": {\"size\": [1.33171, 1.45181, 1.49438726902008, 1.355, 1.3869999999999998], \"sizemode\": \"area\", \"sizeref\": 0.00131}, \"mode\": \"markers\", \"name\": \"Sweden\", \"text\": [\"Sweden\", \"Sweden\", \"Sweden\", \"Sweden\", \"Sweden\"], \"type\": \"scatter\", \"x\": [7.364, 7.291, 7.28399991989136, 7.314, 7.343], \"y\": [1.2890700000000002, 1.08764, 1.47816216945648, 1.501, 1.4869999999999999]}, {\"marker\": {\"size\": [1.2501799999999998, 1.36066, 1.40570604801178, 1.268, 1.3030000000000002], \"sizemode\": \"area\", \"sizeref\": 0.00131}, \"mode\": \"markers\", \"name\": \"New Zealand\", \"text\": [\"New Zealand\", \"New Zealand\", \"New Zealand\", \"New Zealand\", \"New Zealand\"], \"type\": \"scatter\", \"x\": [7.2860000000000005, 7.334, 7.31400012969971, 7.324, 7.307], \"y\": [1.3196700000000001, 1.17278, 1.54819512367249, 1.601, 1.557]}, {\"marker\": {\"size\": [1.33358, 1.4444299999999999, 1.4844149351120002, 1.34, 1.3719999999999999], \"sizemode\": \"area\", \"sizeref\": 0.00131}, \"mode\": \"markers\", \"name\": \"Australia\", \"text\": [\"Australia\", \"Australia\", \"Australia\", \"Australia\", \"Australia\"], \"type\": \"scatter\", \"x\": [7.284, 7.313, 7.28399991989136, 7.272, 7.228], \"y\": [1.30923, 1.10476, 1.5100419521331798, 1.5730000000000002, 1.548]}, {\"marker\": {\"size\": [1.2285700000000002, 1.33766, 1.3753824234008798, 1.301, 1.276], \"sizemode\": \"area\", \"sizeref\": 0.00131}, \"mode\": \"markers\", \"name\": \"Israel\", \"text\": [\"Israel\", \"Israel\", \"Israel\", \"Israel\", \"Israel\"], \"type\": \"scatter\", \"x\": [7.278, 7.267, 7.212999820709231, 6.814, 7.138999999999999], \"y\": [1.22393, 0.9953700000000001, 1.37628996372223, 1.5590000000000002, 1.455]}, {\"marker\": {\"size\": [0.95578, 1.06879, 1.10970628261566, 1.01, 1.034], \"sizemode\": \"area\", \"sizeref\": 0.00131}, \"mode\": \"markers\", \"name\": \"Costa Rica\", \"text\": [\"Costa Rica\", \"Costa Rica\", \"Costa Rica\", \"Costa Rica\", \"Costa Rica\"], \"type\": \"scatter\", \"x\": [7.226, 7.087000000000001, 7.0789999961853, 7.072, 7.167000000000001], \"y\": [1.2378799999999999, 1.02152, 1.4164036512374898, 1.459, 1.4409999999999998]}, {\"marker\": {\"size\": [1.33723, 1.45038, 1.4870972633361799, 1.341, 1.376], \"sizemode\": \"area\", \"sizeref\": 0.00131}, \"mode\": \"markers\", \"name\": \"Austria\", \"text\": [\"Austria\", \"Austria\", \"Austria\", \"Austria\", \"Austria\"], \"type\": \"scatter\", \"x\": [7.2, 7.119, 7.00600004196167, 7.138999999999999, 7.246], \"y\": [1.29704, 1.0838299999999998, 1.4599449634552, 1.504, 1.475]}, {\"marker\": {\"size\": [1.02054, 1.1150799999999998, 1.1531838178634601, 1.038, 1.07], \"sizemode\": \"area\", \"sizeref\": 0.00131}, \"mode\": \"markers\", \"name\": \"Mexico\", \"text\": [\"Mexico\", \"Mexico\", \"Mexico\", \"Mexico\", \"Mexico\"], \"type\": \"scatter\", \"x\": [7.187, 6.778, 6.57800006866455, 6.4879999999999995, 6.595], \"y\": [0.91451, 0.7146, 1.2108621597290001, 1.252, 1.3230000000000002]}, {\"marker\": {\"size\": [1.3945100000000001, 1.50796, 1.54625928401947, 1.3980000000000001, 1.433], \"sizemode\": \"area\", \"sizeref\": 0.00131}, \"mode\": \"markers\", \"name\": \"United States\", \"text\": [\"United States\", \"United States\", \"United States\", \"United States\", \"United States\"], \"type\": \"scatter\", \"x\": [7.119, 7.104, 6.993000030517581, 6.886, 6.892], \"y\": [1.24711, 1.04782, 1.4199205636978103, 1.4709999999999999, 1.4569999999999999]}, {\"marker\": {\"size\": [0.98124, 1.08754, 1.1073532104492199, 0.986, 1.004], \"sizemode\": \"area\", \"sizeref\": 0.00131}, \"mode\": \"markers\", \"name\": \"Brazil\", \"text\": [\"Brazil\", \"Brazil\", \"Brazil\", \"Brazil\", \"Brazil\"], \"type\": \"scatter\", \"x\": [6.983, 6.952000000000001, 6.6350002288818395, 6.419, 6.3], \"y\": [1.2328700000000001, 1.03938, 1.43130600452423, 1.474, 1.439]}, {\"marker\": {\"size\": [1.5639100000000001, 1.6975200000000001, 1.74194359779358, 1.5759999999999998, 1.609], \"sizemode\": \"area\", \"sizeref\": 0.00131}, \"mode\": \"markers\", \"name\": \"Luxembourg\", \"text\": [\"Luxembourg\", \"Luxembourg\", \"Luxembourg\", \"Luxembourg\", \"Luxembourg\"], \"type\": \"scatter\", \"x\": [6.946000000000001, 6.871, 6.86299991607666, 6.91, 7.09], \"y\": [1.21963, 1.03999, 1.45758366584778, 1.52, 1.479]}, {\"marker\": {\"size\": [1.33596, 1.4834100000000001, 1.5357066392898602, 1.4480000000000002, 1.499], \"sizemode\": \"area\", \"sizeref\": 0.00131}, \"mode\": \"markers\", \"name\": \"Ireland\", \"text\": [\"Ireland\", \"Ireland\", \"Ireland\", \"Ireland\", \"Ireland\"], \"type\": \"scatter\", \"x\": [6.94, 6.907, 6.9770002365112305, 6.977, 7.021], \"y\": [1.36948, 1.16157, 1.5582311153411899, 1.5830000000000002, 1.5530000000000002]}, {\"marker\": {\"size\": [1.30782, 1.42539, 1.4637807607650801, 1.324, 1.3559999999999999], \"sizemode\": \"area\", \"sizeref\": 0.00131}, \"mode\": \"markers\", \"name\": \"Belgium\", \"text\": [\"Belgium\", \"Belgium\", \"Belgium\", \"Belgium\", \"Belgium\"], \"type\": \"scatter\", \"x\": [6.937, 6.928999999999999, 6.89099979400635, 6.9270000000000005, 6.922999999999999], \"y\": [1.28566, 1.05249, 1.4623126983642598, 1.483, 1.504]}, {\"marker\": {\"size\": [1.42727, 1.57352, 1.6263433694839498, 2.096, 1.5030000000000001], \"sizemode\": \"area\", \"sizeref\": 0.00131}, \"mode\": \"markers\", \"name\": \"United Arab Emirates\", \"text\": [\"United Arab Emirates\", \"United Arab Emirates\", \"United Arab Emirates\", \"United Arab Emirates\", \"United Arab Emirates\"], \"type\": \"scatter\", \"x\": [6.901, 6.5729999999999995, 6.6479997634887695, 6.774, 6.825], \"y\": [1.12575, 0.8711399999999999, 1.2664102315902699, 0.7759999999999999, 1.31]}, {\"marker\": {\"size\": [1.26637, 1.40283, 1.44163393974304, 1.244, 1.3330000000000002], \"sizemode\": \"area\", \"sizeref\": 0.00131}, \"mode\": \"markers\", \"name\": \"United Kingdom\", \"text\": [\"United Kingdom\", \"United Kingdom\", \"United Kingdom\", \"United Kingdom\", \"United Kingdom\"], \"type\": \"scatter\", \"x\": [6.867000000000001, 6.725, 6.71400022506714, 7.19, 7.053999999999999], \"y\": [1.28548, 1.0867200000000001, 1.4964600801467902, 1.433, 1.538]}, {\"marker\": {\"size\": [1.36011], \"sizemode\": \"area\", \"sizeref\": 0.00131}, \"mode\": \"markers\", \"name\": \"Oman\", \"text\": [\"Oman\"], \"type\": \"scatter\", \"x\": [6.853], \"y\": [1.08182]}, {\"marker\": {\"size\": [1.04424, 1.1336700000000002, 1.12843120098114, 0.996, 0.96], \"sizemode\": \"area\", \"sizeref\": 0.00131}, \"mode\": \"markers\", \"name\": \"Venezuela\", \"text\": [\"Venezuela\", \"Venezuela\", \"Venezuela\", \"Venezuela\", \"Venezuela\"], \"type\": \"scatter\", \"x\": [6.81, 6.084, 5.25, 4.806, 4.707], \"y\": [1.25596, 1.03302, 1.43133759498596, 1.469, 1.4269999999999998]}, {\"marker\": {\"size\": [1.52186, 1.64555, 1.69227766990662, 1.5290000000000001, 1.5719999999999998], \"sizemode\": \"area\", \"sizeref\": 0.00131}, \"mode\": \"markers\", \"name\": \"Singapore\", \"text\": [\"Singapore\", \"Singapore\", \"Singapore\", \"Singapore\", \"Singapore\"], \"type\": \"scatter\", \"x\": [6.797999999999999, 6.739, 6.57200002670288, 6.343, 6.2620000000000005], \"y\": [1.02, 0.8675799999999999, 1.35381436347961, 1.4509999999999998, 1.463]}, {\"marker\": {\"size\": [1.0635299999999999, 1.18306, 1.23374843597412, 1.112, 1.149], \"sizemode\": \"area\", \"sizeref\": 0.00131}, \"mode\": \"markers\", \"name\": \"Panama\", \"text\": [\"Panama\", \"Panama\", \"Panama\", \"Panama\", \"Panama\"], \"type\": \"scatter\", \"x\": [6.7860000000000005, 6.7010000000000005, 6.4520001411438, 6.43, 6.321000000000001], \"y\": [1.1985, 0.9891200000000001, 1.3731925487518302, 1.4380000000000002, 1.442]}, {\"marker\": {\"size\": [1.32792, 1.44787, 1.48792338371277, 1.34, 1.3730000000000002], \"sizemode\": \"area\", \"sizeref\": 0.00131}, \"mode\": \"markers\", \"name\": \"Germany\", \"text\": [\"Germany\", \"Germany\", \"Germany\", \"Germany\", \"Germany\"], \"type\": \"scatter\", \"x\": [6.75, 6.994, 6.9510002136230495, 6.965, 6.985], \"y\": [1.2993700000000001, 1.09774, 1.47252035140991, 1.474, 1.454]}, {\"marker\": {\"size\": [1.10715, 1.2167, 1.25278460979462, 1.131, 1.159], \"sizemode\": \"area\", \"sizeref\": 0.00131}, \"mode\": \"markers\", \"name\": \"Chile\", \"text\": [\"Chile\", \"Chile\", \"Chile\", \"Chile\", \"Chile\"], \"type\": \"scatter\", \"x\": [6.67, 6.705, 6.65199995040894, 6.476, 6.444], \"y\": [1.12447, 0.9058700000000001, 1.28402495384216, 1.331, 1.369]}, {\"marker\": {\"size\": [1.69042, 1.82427, 1.8707656860351598, 1.649, 1.6840000000000002], \"sizemode\": \"area\", \"sizeref\": 0.00131}, \"mode\": \"markers\", \"name\": \"Qatar\", \"text\": [\"Qatar\", \"Qatar\", \"Qatar\", \"Qatar\", \"Qatar\"], \"type\": \"scatter\", \"x\": [6.611000000000001, 6.375, 6.375, 6.374, 6.374], \"y\": [1.0786, 0.87964, 1.27429687976837, 1.3030000000000002, 1.3130000000000002]}, {\"marker\": {\"size\": [1.27778, 1.39488, 1.43092346191406, 1.2930000000000001, 1.324], \"sizemode\": \"area\", \"sizeref\": 0.00131}, \"mode\": \"markers\", \"name\": \"France\", \"text\": [\"France\", \"France\", \"France\", \"France\", \"France\"], \"type\": \"scatter\", \"x\": [6.575, 6.478, 6.44199991226196, 6.489, 6.5920000000000005], \"y\": [1.2603799999999998, 1.00508, 1.38777685165405, 1.466, 1.472]}, {\"marker\": {\"size\": [1.05351, 1.15137, 1.18529546260834, 1.073, 1.092], \"sizemode\": \"area\", \"sizeref\": 0.00131}, \"mode\": \"markers\", \"name\": \"Argentina\", \"text\": [\"Argentina\", \"Argentina\", \"Argentina\", \"Argentina\", \"Argentina\"], \"type\": \"scatter\", \"x\": [6.574, 6.65, 6.59899997711182, 6.388, 6.086], \"y\": [1.24823, 1.0661200000000002, 1.44045114517212, 1.4680000000000002, 1.432]}, {\"marker\": {\"size\": [1.17898, 1.30915, 1.35268235206604, 1.2329999999999999, 1.2690000000000001], \"sizemode\": \"area\", \"sizeref\": 0.00131}, \"mode\": \"markers\", \"name\": \"Czech Republic\", \"text\": [\"Czech Republic\", \"Czech Republic\", \"Czech Republic\", \"Czech Republic\", \"Czech Republic\"], \"type\": \"scatter\", \"x\": [6.505, 6.596, 6.60900020599365, 6.711, 6.852], \"y\": [1.20643, 1.00793, 1.4338852167129499, 1.489, 1.4869999999999999]}, {\"marker\": {\"size\": [1.06166, 1.18157, 1.2175596952438401, 1.093, 1.124], \"sizemode\": \"area\", \"sizeref\": 0.00131}, \"mode\": \"markers\", \"name\": \"Uruguay\", \"text\": [\"Uruguay\", \"Uruguay\", \"Uruguay\", \"Uruguay\", \"Uruguay\"], \"type\": \"scatter\", \"x\": [6.485, 6.545, 6.4539999961853, 6.379, 6.292999999999999], \"y\": [1.2089, 1.0314299999999998, 1.4122278690338101, 1.459, 1.465]}, {\"marker\": {\"size\": [0.91861, 1.0303200000000001, 1.07062232494354, 0.96, 0.985], \"sizemode\": \"area\", \"sizeref\": 0.00131}, \"mode\": \"markers\", \"name\": \"Colombia\", \"text\": [\"Colombia\", \"Colombia\", \"Colombia\", \"Colombia\", \"Colombia\"], \"type\": \"scatter\", \"x\": [6.477, 6.481, 6.35699987411499, 6.26, 6.125], \"y\": [1.2401799999999998, 1.02169, 1.4021829366683998, 1.439, 1.41]}, {\"marker\": {\"size\": [0.9669, 1.0893, 1.12786877155304, 1.016, 1.05], \"sizemode\": \"area\", \"sizeref\": 0.00131}, \"mode\": \"markers\", \"name\": \"Thailand\", \"text\": [\"Thailand\", \"Thailand\", \"Thailand\", \"Thailand\", \"Thailand\"], \"type\": \"scatter\", \"x\": [6.455, 6.474, 6.4239997863769505, 6.072, 6.007999999999999], \"y\": [1.26504, 1.04477, 1.4257924556732198, 1.4169999999999998, 1.409]}, {\"marker\": {\"size\": [1.39541, 1.48953, 1.53062355518341, 1.379, 1.403], \"sizemode\": \"area\", \"sizeref\": 0.00131}, \"mode\": \"markers\", \"name\": \"Saudi Arabia\", \"text\": [\"Saudi Arabia\", \"Saudi Arabia\", \"Saudi Arabia\", \"Saudi Arabia\", \"Saudi Arabia\"], \"type\": \"scatter\", \"x\": [6.4110000000000005, 6.379, 6.343999862670901, 6.371, 6.375], \"y\": [1.0839299999999998, 0.84829, 1.28667759895325, 1.331, 1.357]}, {\"marker\": {\"size\": [1.23011, 1.34253, 1.38439786434174, 1.251, 1.286], \"sizemode\": \"area\", \"sizeref\": 0.00131}, \"mode\": \"markers\", \"name\": \"Spain\", \"text\": [\"Spain\", \"Spain\", \"Spain\", \"Spain\", \"Spain\"], \"type\": \"scatter\", \"x\": [6.329, 6.361000000000001, 6.40299987792969, 6.31, 6.354], \"y\": [1.31379, 1.12945, 1.53209090232849, 1.538, 1.484]}, {\"marker\": {\"size\": [1.2074, 1.30782, 1.34327983856201, 1.27, 1.3], \"sizemode\": \"area\", \"sizeref\": 0.00131}, \"mode\": \"markers\", \"name\": \"Malta\", \"text\": [\"Malta\", \"Malta\", \"Malta\", \"Malta\", \"Malta\"], \"type\": \"scatter\", \"x\": [6.3020000000000005, 6.4879999999999995, 6.52699995040894, 6.627000000000001, 6.726], \"y\": [1.30203, 1.09879, 1.48841166496277, 1.525, 1.52]}, {\"marker\": {\"size\": [1.29098, 1.39729, 1.365, 1.368], \"sizemode\": \"area\", \"sizeref\": 0.00131}, \"mode\": \"markers\", \"name\": \"Taiwan\", \"text\": [\"Taiwan\", \"Taiwan\", \"Taiwan\", \"Taiwan\"], \"type\": \"scatter\", \"x\": [6.297999999999999, 6.379, 6.441, 6.446000000000001], \"y\": [1.07617, 0.92624, 1.436, 1.43]}, {\"marker\": {\"size\": [1.5542200000000002, 1.61714, 1.63295245170593, 1.474, 1.5], \"sizemode\": \"area\", \"sizeref\": 0.00131}, \"mode\": \"markers\", \"name\": \"Kuwait\", \"text\": [\"Kuwait\", \"Kuwait\", \"Kuwait\", \"Kuwait\", \"Kuwait\"], \"type\": \"scatter\", \"x\": [6.295, 6.239, 6.10500001907349, 6.082999999999999, 6.021], \"y\": [1.16594, 0.8775799999999999, 1.25969874858856, 1.301, 1.319]}, {\"marker\": {\"size\": [0.99534, 1.09686], \"sizemode\": \"area\", \"sizeref\": 0.00131}, \"mode\": \"markers\", \"name\": \"Suriname\", \"text\": [\"Suriname\", \"Suriname\"], \"type\": \"scatter\", \"x\": [6.269, 6.269], \"y\": [0.972, 0.77866]}, {\"marker\": {\"size\": [1.21183, 1.32572, 1.36135590076447], \"sizemode\": \"area\", \"sizeref\": 0.00131}, \"mode\": \"markers\", \"name\": \"Trinidad and Tobago\", \"text\": [\"Trinidad and Tobago\", \"Trinidad and Tobago\", \"Trinidad and Tobago\"], \"type\": \"scatter\", \"x\": [6.167999999999999, 6.167999999999999, 6.1680002212524405], \"y\": [1.18354, 0.98569, 1.3802285194397]}, {\"marker\": {\"size\": [0.76454, 0.8737, 0.9097844958305359, 0.8059999999999999, 0.794], \"sizemode\": \"area\", \"sizeref\": 0.00131}, \"mode\": \"markers\", \"name\": \"El Salvador\", \"text\": [\"El Salvador\", \"El Salvador\", \"El Salvador\", \"El Salvador\", \"El Salvador\"], \"type\": \"scatter\", \"x\": [6.13, 6.068, 6.002999782562259, 6.167000000000001, 6.252999999999999], \"y\": [1.0250700000000001, 0.80975, 1.1821250915527302, 1.2309999999999999, 1.242]}, {\"marker\": {\"size\": [0.74553, 0.83454, 0.872001945972443, 0.7809999999999999, 0.8], \"sizemode\": \"area\", \"sizeref\": 0.00131}, \"mode\": \"markers\", \"name\": \"Guatemala\", \"text\": [\"Guatemala\", \"Guatemala\", \"Guatemala\", \"Guatemala\", \"Guatemala\"], \"type\": \"scatter\", \"x\": [6.122999999999999, 6.324, 6.4539999961853, 6.382000000000001, 6.436], \"y\": [1.04356, 0.8711899999999999, 1.25558519363403, 1.268, 1.2690000000000001]}, {\"marker\": {\"size\": [0.63244, 0.7359100000000001, 0.786441087722778, 0.7190000000000001, 0.745], \"sizemode\": \"area\", \"sizeref\": 0.00131}, \"mode\": \"markers\", \"name\": \"Uzbekistan\", \"text\": [\"Uzbekistan\", \"Uzbekistan\", \"Uzbekistan\", \"Uzbekistan\", \"Uzbekistan\"], \"type\": \"scatter\", \"x\": [6.002999999999999, 5.987, 5.97100019454956, 6.096, 6.1739999999999995], \"y\": [1.34043, 1.1681, 1.5489691495895401, 1.584, 1.5290000000000001]}, {\"marker\": {\"size\": [1.1689100000000001, 1.27973, 1.32539355754852, 1.21, 1.246], \"sizemode\": \"area\", \"sizeref\": 0.00131}, \"mode\": \"markers\", \"name\": \"Slovakia\", \"text\": [\"Slovakia\", \"Slovakia\", \"Slovakia\", \"Slovakia\", \"Slovakia\"], \"type\": \"scatter\", \"x\": [5.995, 6.077999999999999, 6.09800004959106, 6.172999999999999, 6.1979999999999995], \"y\": [1.26999, 1.0826799999999999, 1.5050592422485398, 1.537, 1.504]}, {\"marker\": {\"size\": [1.27074, 1.3800700000000001, 1.41691517829895, 1.294, 1.327], \"sizemode\": \"area\", \"sizeref\": 0.00131}, \"mode\": \"markers\", \"name\": \"Japan\", \"text\": [\"Japan\", \"Japan\", \"Japan\", \"Japan\", \"Japan\"], \"type\": \"scatter\", \"x\": [5.987, 5.921, 5.92000007629395, 5.915, 5.886], \"y\": [1.25712, 1.06054, 1.43633782863617, 1.462, 1.419]}, {\"marker\": {\"size\": [1.24461, 1.35948, 1.40167844295502, 1.266, 1.301], \"sizemode\": \"area\", \"sizeref\": 0.00131}, \"mode\": \"markers\", \"name\": \"South Korea\", \"text\": [\"South Korea\", \"South Korea\", \"South Korea\", \"South Korea\", \"South Korea\"], \"type\": \"scatter\", \"x\": [5.984, 5.835, 5.837999820709231, 5.875, 5.895], \"y\": [0.9577399999999999, 0.7219399999999999, 1.1282744407653797, 1.204, 1.219]}, {\"marker\": {\"size\": [0.8640200000000001, 0.97306, 1.00082039833069, 0.889, 0.912], \"sizemode\": \"area\", \"sizeref\": 0.00131}, \"mode\": \"markers\", \"name\": \"Ecuador\", \"text\": [\"Ecuador\", \"Ecuador\", \"Ecuador\", \"Ecuador\", \"Ecuador\"], \"type\": \"scatter\", \"x\": [5.975, 5.976, 6.00799989700317, 5.973, 6.028], \"y\": [0.99903, 0.85974, 1.2861688137054401, 1.33, 1.3119999999999998]}, {\"marker\": {\"size\": [1.32376, 1.44024, 1.4884122610092199, 1.338, 1.3619999999999999], \"sizemode\": \"area\", \"sizeref\": 0.00131}, \"mode\": \"markers\", \"name\": \"Bahrain\", \"text\": [\"Bahrain\", \"Bahrain\", \"Bahrain\", \"Bahrain\", \"Bahrain\"], \"type\": \"scatter\", \"x\": [5.96, 6.218, 6.08699989318848, 6.105, 6.199], \"y\": [1.21624, 0.9439700000000001, 1.3231104612350502, 1.3659999999999999, 1.368]}, {\"marker\": {\"size\": [1.25114, 1.35495, 1.3950666189193701, 1.264, 1.294], \"sizemode\": \"area\", \"sizeref\": 0.00131}, \"mode\": \"markers\", \"name\": \"Italy\", \"text\": [\"Italy\", \"Italy\", \"Italy\", \"Italy\", \"Italy\"], \"type\": \"scatter\", \"x\": [5.9479999999999995, 5.977, 5.96400022506714, 6.0, 6.223], \"y\": [1.19777, 1.04167, 1.44492328166962, 1.501, 1.4880000000000002]}, {\"marker\": {\"size\": [0.68133, 0.79422, 0.833756566047668, 0.7509999999999999, 0.7759999999999999], \"sizemode\": \"area\", \"sizeref\": 0.00131}, \"mode\": \"markers\", \"name\": \"Bolivia\", \"text\": [\"Bolivia\", \"Bolivia\", \"Bolivia\", \"Bolivia\", \"Bolivia\"], \"type\": \"scatter\", \"x\": [5.89, 5.822, 5.82299995422363, 5.752000000000001, 5.779], \"y\": [0.97841, 0.8377899999999999, 1.2276190519332901, 1.2229999999999999, 1.209]}, {\"marker\": {\"size\": [0.59448, 0.69177, 0.7288706302642819, 0.657, 0.685], \"sizemode\": \"area\", \"sizeref\": 0.00131}, \"mode\": \"markers\", \"name\": \"Moldova\", \"text\": [\"Moldova\", \"Moldova\", \"Moldova\", \"Moldova\", \"Moldova\"], \"type\": \"scatter\", \"x\": [5.888999999999999, 5.897, 5.837999820709231, 5.64, 5.529], \"y\": [1.01528, 0.8313200000000001, 1.25182557106018, 1.301, 1.328]}, {\"marker\": {\"size\": [0.75985, 0.8937299999999999, 0.932537317276001, 0.835, 0.855], \"sizemode\": \"area\", \"sizeref\": 0.00131}, \"mode\": \"markers\", \"name\": \"Paraguay\", \"text\": [\"Paraguay\", \"Paraguay\", \"Paraguay\", \"Paraguay\", \"Paraguay\"], \"type\": \"scatter\", \"x\": [5.877999999999999, 5.537999999999999, 5.493000030517581, 5.681, 5.742999999999999], \"y\": [1.30477, 1.11111, 1.50728487968445, 1.5219999999999998, 1.475]}, {\"marker\": {\"size\": [1.1225399999999999, 1.22943, 1.2845562696456898, 1.143, 1.173], \"sizemode\": \"area\", \"sizeref\": 0.00131}, \"mode\": \"markers\", \"name\": \"Kazakhstan\", \"text\": [\"Kazakhstan\", \"Kazakhstan\", \"Kazakhstan\", \"Kazakhstan\", \"Kazakhstan\"], \"type\": \"scatter\", \"x\": [5.855, 5.919, 5.8189997673034695, 5.79, 5.809], \"y\": [1.1224100000000001, 0.95544, 1.3843690156936599, 1.516, 1.508]}, {\"marker\": {\"size\": [1.18498, 1.2994700000000001, 1.3412059545516999, 1.219, 1.258], \"sizemode\": \"area\", \"sizeref\": 0.00131}, \"mode\": \"markers\", \"name\": \"Slovenia\", \"text\": [\"Slovenia\", \"Slovenia\", \"Slovenia\", \"Slovenia\", \"Slovenia\"], \"type\": \"scatter\", \"x\": [5.848, 5.768, 5.75799989700317, 5.9479999999999995, 6.117999999999999], \"y\": [1.27385, 1.05613, 1.4525188207626298, 1.506, 1.5230000000000001]}, {\"marker\": {\"size\": [1.14723, 1.2692, 1.3145823478698702, 1.197, 1.238], \"sizemode\": \"area\", \"sizeref\": 0.00131}, \"mode\": \"markers\", \"name\": \"Lithuania\", \"text\": [\"Lithuania\", \"Lithuania\", \"Lithuania\", \"Lithuania\", \"Lithuania\"], \"type\": \"scatter\", \"x\": [5.832999999999999, 5.813, 5.90199995040894, 5.952000000000001, 6.149], \"y\": [1.25745, 1.0641100000000001, 1.47351610660553, 1.527, 1.515]}, {\"marker\": {\"size\": [0.59325, 0.69384, 0.737299203872681, 0.6679999999999999, 0.6940000000000001], \"sizemode\": \"area\", \"sizeref\": 0.00131}, \"mode\": \"markers\", \"name\": \"Nicaragua\", \"text\": [\"Nicaragua\", \"Nicaragua\", \"Nicaragua\", \"Nicaragua\", \"Nicaragua\"], \"type\": \"scatter\", \"x\": [5.827999999999999, 5.992000000000001, 6.07100009918213, 6.141, 6.105], \"y\": [1.14184, 0.8952100000000001, 1.28721570968628, 1.319, 1.325]}, {\"marker\": {\"size\": [0.9001899999999999, 0.9960200000000001, 1.0352252721786501, 0.934, 0.96], \"sizemode\": \"area\", \"sizeref\": 0.00131}, \"mode\": \"markers\", \"name\": \"Peru\", \"text\": [\"Peru\", \"Peru\", \"Peru\", \"Peru\", \"Peru\"], \"type\": \"scatter\", \"x\": [5.824, 5.742999999999999, 5.71500015258789, 5.662999999999999, 5.697], \"y\": [0.97459, 0.81255, 1.21877038478851, 1.249, 1.274]}, {\"marker\": {\"size\": [1.0319200000000002, 1.1306200000000002, 1.15655755996704, 1.0390000000000001, 1.067], \"sizemode\": \"area\", \"sizeref\": 0.00131}, \"mode\": \"markers\", \"name\": \"Belarus\", \"text\": [\"Belarus\", \"Belarus\", \"Belarus\", \"Belarus\", \"Belarus\"], \"type\": \"scatter\", \"x\": [5.813, 5.8020000000000005, 5.5689997673034695, 5.483, 5.3229999999999995], \"y\": [1.23289, 1.04993, 1.4449452161788898, 1.4980000000000002, 1.465]}, {\"marker\": {\"size\": [1.12555, 1.24585, 1.29178786277771, 1.176, 1.206], \"sizemode\": \"area\", \"sizeref\": 0.00131}, \"mode\": \"markers\", \"name\": \"Poland\", \"text\": [\"Poland\", \"Poland\", \"Poland\", \"Poland\", \"Poland\"], \"type\": \"scatter\", \"x\": [5.791, 5.835, 5.97300004959106, 6.122999999999999, 6.182], \"y\": [1.27948, 1.04685, 1.44571197032928, 1.4480000000000002, 1.4380000000000002]}, {\"marker\": {\"size\": [1.12486, 1.25142, 1.29121541976929, 1.161, 1.2209999999999999], \"sizemode\": \"area\", \"sizeref\": 0.00131}, \"mode\": \"markers\", \"name\": \"Malaysia\", \"text\": [\"Malaysia\", \"Malaysia\", \"Malaysia\", \"Malaysia\", \"Malaysia\"], \"type\": \"scatter\", \"x\": [5.77, 6.005, 6.08400011062622, 6.322, 5.3389999999999995], \"y\": [1.07023, 0.88025, 1.28464603424072, 1.258, 1.171]}, {\"marker\": {\"size\": [1.08254, 1.18649, 1.22255623340607, 1.115, 1.155], \"sizemode\": \"area\", \"sizeref\": 0.00131}, \"mode\": \"markers\", \"name\": \"Croatia\", \"text\": [\"Croatia\", \"Croatia\", \"Croatia\", \"Croatia\", \"Croatia\"], \"type\": \"scatter\", \"x\": [5.7589999999999995, 5.4879999999999995, 5.2930002212524405, 5.321000000000001, 5.432], \"y\": [0.79624, 0.6080899999999999, 0.9679830074310299, 1.161, 1.266]}, {\"marker\": {\"size\": [1.13145, 1.0668799999999998, 1.1018030643463101, 0.985, 1.044], \"sizemode\": \"area\", \"sizeref\": 0.00131}, \"mode\": \"markers\", \"name\": \"Libya\", \"text\": [\"Libya\", \"Libya\", \"Libya\", \"Libya\", \"Libya\"], \"type\": \"scatter\", \"x\": [5.754, 5.615, 5.525000095367429, 5.566, 5.525], \"y\": [1.1186200000000002, 0.95076, 1.3575643301010099, 1.35, 1.3030000000000002]}, {\"marker\": {\"size\": [1.13764, 1.2322799999999998, 1.28177809715271, 1.151, 1.183], \"sizemode\": \"area\", \"sizeref\": 0.00131}, \"mode\": \"markers\", \"name\": \"Russia\", \"text\": [\"Russia\", \"Russia\", \"Russia\", \"Russia\", \"Russia\"], \"type\": \"scatter\", \"x\": [5.716, 5.856, 5.962999820709231, 5.81, 5.648], \"y\": [1.23617, 1.05261, 1.46928238868713, 1.479, 1.452]}, {\"marker\": {\"size\": [0.81038, 0.89333, 0.925579309463501, 0.8190000000000001, 0.831], \"sizemode\": \"area\", \"sizeref\": 0.00131}, \"mode\": \"markers\", \"name\": \"Jamaica\", \"text\": [\"Jamaica\", \"Jamaica\", \"Jamaica\", \"Jamaica\", \"Jamaica\"], \"type\": \"scatter\", \"x\": [5.709, 5.51, 5.31099987030029, 5.89, 5.89], \"y\": [1.1510200000000002, 0.96372, 1.3682180643081698, 1.493, 1.4780000000000002]}, {\"marker\": {\"size\": [1.2080600000000001, 1.31141, 1.3469113111496], \"sizemode\": \"area\", \"sizeref\": 0.00131}, \"mode\": \"markers\", \"name\": \"North Cyprus\", \"text\": [\"North Cyprus\", \"North Cyprus\", \"North Cyprus\"], \"type\": \"scatter\", \"x\": [5.695, 5.771, 5.80999994277954], \"y\": [1.07008, 0.81826, 1.18630337715149]}, {\"marker\": {\"size\": [1.20813, 1.31857, 1.3559380769729599, 1.229, 1.263], \"sizemode\": \"area\", \"sizeref\": 0.00131}, \"mode\": \"markers\", \"name\": \"Cyprus\", \"text\": [\"Cyprus\", \"Cyprus\", \"Cyprus\", \"Cyprus\", \"Cyprus\"], \"type\": \"scatter\", \"x\": [5.689, 5.546, 5.62099981307983, 5.7620000000000005, 6.046], \"y\": [0.89318, 0.70697, 1.13136327266693, 1.1909999999999998, 1.2229999999999999]}, {\"marker\": {\"size\": [0.93929, 1.05266, 1.09186446666718, 0.9790000000000001, 1.002], \"sizemode\": \"area\", \"sizeref\": 0.00131}, \"mode\": \"markers\", \"name\": \"Algeria\", \"text\": [\"Algeria\", \"Algeria\", \"Algeria\", \"Algeria\", \"Algeria\"], \"type\": \"scatter\", \"x\": [5.605, 6.355, 5.872000217437741, 5.295, 5.211], \"y\": [1.07772, 0.83309, 1.1462174654007, 1.1540000000000001, 1.16]}, {\"marker\": {\"size\": [0.80148, 0.90145, 0.951484382152557, 0.855, 0.882], \"sizemode\": \"area\", \"sizeref\": 0.00131}, \"mode\": \"markers\", \"name\": \"Kosovo\", \"text\": [\"Kosovo\", \"Kosovo\", \"Kosovo\", \"Kosovo\", \"Kosovo\"], \"type\": \"scatter\", \"x\": [5.5889999999999995, 5.401, 5.27899980545044, 5.662000000000001, 6.1], \"y\": [0.81198, 0.66062, 1.1378535032272301, 1.23, 1.232]}, {\"marker\": {\"size\": [0.95847, 1.08017, 1.1307767629623402, 1.016, 1.052], \"sizemode\": \"area\", \"sizeref\": 0.00131}, \"mode\": \"markers\", \"name\": \"Turkmenistan\", \"text\": [\"Turkmenistan\", \"Turkmenistan\", \"Turkmenistan\", \"Turkmenistan\", \"Turkmenistan\"], \"type\": \"scatter\", \"x\": [5.547999999999999, 5.6579999999999995, 5.82200002670288, 5.636, 5.247000000000001], \"y\": [1.22668, 1.03817, 1.49314916133881, 1.5330000000000001, 1.538]}, {\"marker\": {\"size\": [1.0076100000000001, 1.14372, 1.1893955469131499, 1.09, 1.12], \"sizemode\": \"area\", \"sizeref\": 0.00131}, \"mode\": \"markers\", \"name\": \"Mauritius\", \"text\": [\"Mauritius\", \"Mauritius\", \"Mauritius\", \"Mauritius\", \"Mauritius\"], \"type\": \"scatter\", \"x\": [5.477, 5.648, 5.62900018692017, 5.891, 5.888], \"y\": [0.98521, 0.75695, 1.20956099033356, 1.3869999999999998, 1.402]}, {\"marker\": {\"size\": [1.38604, 1.5107, 1.405, 1.4380000000000002], \"sizemode\": \"area\", \"sizeref\": 0.00131}, \"mode\": \"markers\", \"name\": \"Hong Kong\", \"text\": [\"Hong Kong\", \"Hong Kong\", \"Hong Kong\", \"Hong Kong\"], \"type\": \"scatter\", \"x\": [5.474, 5.457999999999999, 5.43, 5.43], \"y\": [1.05818, 0.87021, 1.29, 1.2770000000000001]}, {\"marker\": {\"size\": [1.15174, 1.2796399999999999, 1.3208793401718102, 1.2, 1.237], \"sizemode\": \"area\", \"sizeref\": 0.00131}, \"mode\": \"markers\", \"name\": \"Estonia\", \"text\": [\"Estonia\", \"Estonia\", \"Estonia\", \"Estonia\", \"Estonia\"], \"type\": \"scatter\", \"x\": [5.428999999999999, 5.517, 5.61100006103516, 5.739, 5.893], \"y\": [1.22791, 1.0516299999999998, 1.47667109966278, 1.5319999999999998, 1.528]}, {\"marker\": {\"size\": [0.8282700000000001, 0.95104, 0.995538592338562, 0.899, 0.9309999999999999], \"sizemode\": \"area\", \"sizeref\": 0.00131}, \"mode\": \"markers\", \"name\": \"Indonesia\", \"text\": [\"Indonesia\", \"Indonesia\", \"Indonesia\", \"Indonesia\", \"Indonesia\"], \"type\": \"scatter\", \"x\": [5.399, 5.314, 5.26200008392334, 5.093, 5.192], \"y\": [1.0870799999999998, 0.87625, 1.2744446992874099, 1.215, 1.203]}, {\"marker\": {\"size\": [0.63216, 0.74037, 0.7885475754737851, 0.715, 0.741], \"sizemode\": \"area\", \"sizeref\": 0.00131}, \"mode\": \"markers\", \"name\": \"Vietnam\", \"text\": [\"Vietnam\", \"Vietnam\", \"Vietnam\", \"Vietnam\", \"Vietnam\"], \"type\": \"scatter\", \"x\": [5.36, 5.061, 5.07399988174438, 5.103, 5.175], \"y\": [0.9122600000000001, 0.7911699999999999, 1.27749133110046, 1.365, 1.3459999999999999]}, {\"marker\": {\"size\": [1.06098, 1.1649200000000002, 1.1982743740081798, 1.148, 1.183], \"sizemode\": \"area\", \"sizeref\": 0.00131}, \"mode\": \"markers\", \"name\": \"Turkey\", \"text\": [\"Turkey\", \"Turkey\", \"Turkey\", \"Turkey\", \"Turkey\"], \"type\": \"scatter\", \"x\": [5.332000000000001, 5.388999999999999, 5.5, 5.483, 5.372999999999999], \"y\": [0.94632, 0.8771700000000001, 1.33775317668915, 1.38, 1.36]}, {\"marker\": {\"size\": [0.47428000000000003, 0.5604399999999999, 0.5962200760841371, 0.53, 0.551], \"sizemode\": \"area\", \"sizeref\": 0.00131}, \"mode\": \"markers\", \"name\": \"Kyrgyzstan\", \"text\": [\"Kyrgyzstan\", \"Kyrgyzstan\", \"Kyrgyzstan\", \"Kyrgyzstan\", \"Kyrgyzstan\"], \"type\": \"scatter\", \"x\": [5.2860000000000005, 5.185, 5.0040001869201705, 5.131, 5.261], \"y\": [1.15115, 0.95434, 1.39423859119415, 1.416, 1.4380000000000002]}, {\"marker\": {\"size\": [0.65435, 0.75216, 0.783756256103516, 0.6890000000000001, 0.696], \"sizemode\": \"area\", \"sizeref\": 0.00131}, \"mode\": \"markers\", \"name\": \"Nigeria\", \"text\": [\"Nigeria\", \"Nigeria\", \"Nigeria\", \"Nigeria\", \"Nigeria\"], \"type\": \"scatter\", \"x\": [5.268, 4.875, 5.07399988174438, 5.155, 5.265], \"y\": [0.9043200000000001, 0.64498, 1.21577048301697, 1.172, 1.111]}, {\"marker\": {\"size\": [0.77042, 0.8527, 0.885416388511658, 0.7959999999999999, 0.813], \"sizemode\": \"area\", \"sizeref\": 0.00131}, \"mode\": \"markers\", \"name\": \"Bhutan\", \"text\": [\"Bhutan\", \"Bhutan\", \"Bhutan\", \"Bhutan\", \"Bhutan\"], \"type\": \"scatter\", \"x\": [5.252999999999999, 5.196000000000001, 5.01100015640259, 5.082, 5.082], \"y\": [1.10395, 0.9083600000000001, 1.3401265144348102, 1.335, 1.321]}, {\"marker\": {\"size\": [1.02389, 1.12373, 1.1536017656326298, 1.024, 1.043], \"sizemode\": \"area\", \"sizeref\": 0.00131}, \"mode\": \"markers\", \"name\": \"Azerbaijan\", \"text\": [\"Azerbaijan\", \"Azerbaijan\", \"Azerbaijan\", \"Azerbaijan\", \"Azerbaijan\"], \"type\": \"scatter\", \"x\": [5.212000000000001, 5.291, 5.234000205993651, 5.2010000000000005, 5.207999999999999], \"y\": [0.9379299999999999, 0.76042, 1.15240025520325, 1.161, 1.147]}, {\"marker\": {\"size\": [0.59543, 0.68816, 0.7268835306167599, 0.652, 0.677], \"sizemode\": \"area\", \"sizeref\": 0.00131}, \"mode\": \"markers\", \"name\": \"Pakistan\", \"text\": [\"Pakistan\", \"Pakistan\", \"Pakistan\", \"Pakistan\", \"Pakistan\"], \"type\": \"scatter\", \"x\": [5.194, 5.132000000000001, 5.26900005340576, 5.472, 5.653], \"y\": [0.41411000000000003, 0.26135, 0.6726906895637509, 0.81, 0.8859999999999999]}, {\"marker\": {\"size\": [0.9019799999999999, 0.9967299999999999, 0.9910123944282528, 0.8220000000000001, 0.8370000000000001], \"sizemode\": \"area\", \"sizeref\": 0.00131}, \"mode\": \"markers\", \"name\": \"Jordan\", \"text\": [\"Jordan\", \"Jordan\", \"Jordan\", \"Jordan\", \"Jordan\"], \"type\": \"scatter\", \"x\": [5.192, 5.303, 5.33599996566772, 5.1610000000000005, 4.906000000000001], \"y\": [1.05392, 0.86216, 1.2390888929367099, 1.265, 1.225]}, {\"marker\": {\"size\": [0.9743799999999999, 1.07838, 1.12112903594971, 1.0170000000000001, 1.051], \"sizemode\": \"area\", \"sizeref\": 0.00131}, \"mode\": \"markers\", \"name\": \"Montenegro\", \"text\": [\"Montenegro\", \"Montenegro\", \"Montenegro\", \"Montenegro\", \"Montenegro\"], \"type\": \"scatter\", \"x\": [5.192, 5.1610000000000005, 5.23699998855591, 5.347, 5.523], \"y\": [0.9055700000000001, 0.74173, 1.23837649822235, 1.2790000000000001, 1.361]}, {\"marker\": {\"size\": [0.89012, 1.0278, 1.08116579055786, 0.9890000000000001, 1.0290000000000001], \"sizemode\": \"area\", \"sizeref\": 0.00131}, \"mode\": \"markers\", \"name\": \"China\", \"text\": [\"China\", \"China\", \"China\", \"China\", \"China\"], \"type\": \"scatter\", \"x\": [5.14, 5.245, 5.2729997634887695, 5.246, 5.191], \"y\": [0.94675, 0.79381, 1.16083741188049, 1.1420000000000001, 1.125]}, {\"marker\": {\"size\": [0.47038, 0.61202, 0.6364067792892459, 0.562, 0.578], \"sizemode\": \"area\", \"sizeref\": 0.00131}, \"mode\": \"markers\", \"name\": \"Zambia\", \"text\": [\"Zambia\", \"Zambia\", \"Zambia\", \"Zambia\", \"Zambia\"], \"type\": \"scatter\", \"x\": [5.129, 4.795, 4.513999938964839, 4.377, 4.107], \"y\": [0.91612, 0.6376, 1.00318729877472, 1.047, 1.058]}, {\"marker\": {\"size\": [1.04345, 1.1697, 1.21768391132355, 1.1159999999999999, 1.162], \"sizemode\": \"area\", \"sizeref\": 0.00131}, \"mode\": \"markers\", \"name\": \"Romania\", \"text\": [\"Romania\", \"Romania\", \"Romania\", \"Romania\", \"Romania\"], \"type\": \"scatter\", \"x\": [5.124, 5.528, 5.824999809265139, 5.945, 6.07], \"y\": [0.8858799999999999, 0.7280300000000001, 1.15009129047394, 1.219, 1.232]}, {\"marker\": {\"size\": [0.92053, 1.03437, 1.06931757926941, 0.975, 1.004], \"sizemode\": \"area\", \"sizeref\": 0.00131}, \"mode\": \"markers\", \"name\": \"Serbia\", \"text\": [\"Serbia\", \"Serbia\", \"Serbia\", \"Serbia\", \"Serbia\"], \"type\": \"scatter\", \"x\": [5.122999999999999, 5.1770000000000005, 5.39499998092651, 5.398, 5.603], \"y\": [1.0096399999999999, 0.81329, 1.2581897974014298, 1.369, 1.383]}, {\"marker\": {\"size\": [1.15991, 1.27607, 1.3151752948761002, 1.188, 1.2209999999999999], \"sizemode\": \"area\", \"sizeref\": 0.00131}, \"mode\": \"markers\", \"name\": \"Portugal\", \"text\": [\"Portugal\", \"Portugal\", \"Portugal\", \"Portugal\", \"Portugal\"], \"type\": \"scatter\", \"x\": [5.102, 5.122999999999999, 5.19500017166138, 5.41, 5.693], \"y\": [1.13935, 0.9436700000000001, 1.36704301834106, 1.429, 1.431]}, {\"marker\": {\"size\": [1.11312, 1.2178799999999999, 1.26074862480164, 1.148, 1.187], \"sizemode\": \"area\", \"sizeref\": 0.00131}, \"mode\": \"markers\", \"name\": \"Latvia\", \"text\": [\"Latvia\", \"Latvia\", \"Latvia\", \"Latvia\", \"Latvia\"], \"type\": \"scatter\", \"x\": [5.098, 5.56, 5.849999904632571, 5.933, 5.94], \"y\": [1.09562, 0.95025, 1.40471494197845, 1.454, 1.465]}, {\"marker\": {\"size\": [0.70532, 0.81217, 0.85769921541214, 0.775, 0.807], \"sizemode\": \"area\", \"sizeref\": 0.00131}, \"mode\": \"markers\", \"name\": \"Philippines\", \"text\": [\"Philippines\", \"Philippines\", \"Philippines\", \"Philippines\", \"Philippines\"], \"type\": \"scatter\", \"x\": [5.073, 5.279, 5.42999982833862, 5.524, 5.631], \"y\": [1.03516, 0.87877, 1.25391757488251, 1.3119999999999998, 1.2930000000000001]}, {\"marker\": {\"size\": [0.18847], \"sizemode\": \"area\", \"sizeref\": 0.00131}, \"mode\": \"markers\", \"name\": \"Somaliland region\", \"text\": [\"Somaliland region\"], \"type\": \"scatter\", \"x\": [5.0569999999999995], \"y\": [0.95152]}, {\"marker\": {\"size\": [0.7347899999999999, 0.8405799999999999, 0.8781145811080929, 0.779, 0.8009999999999999], \"sizemode\": \"area\", \"sizeref\": 0.00131}, \"mode\": \"markers\", \"name\": \"Morocco\", \"text\": [\"Morocco\", \"Morocco\", \"Morocco\", \"Morocco\", \"Morocco\"], \"type\": \"scatter\", \"x\": [5.013, 5.151, 5.2350001335144, 5.254, 5.207999999999999], \"y\": [0.64095, 0.38595, 0.774864435195923, 0.797, 0.782]}, {\"marker\": {\"size\": [0.91851, 1.0193, 1.06457793712616, 0.9590000000000001], \"sizemode\": \"area\", \"sizeref\": 0.00131}, \"mode\": \"markers\", \"name\": \"Macedonia\", \"text\": [\"Macedonia\", \"Macedonia\", \"Macedonia\", \"Macedonia\"], \"type\": \"scatter\", \"x\": [5.007, 5.121, 5.175000190734861, 5.185], \"y\": [1.00232, 0.78236, 1.20789301395416, 1.239]}, {\"marker\": {\"size\": [0.08308, 0.23430564999580397, 0.198, 0.204], \"sizemode\": \"area\", \"sizeref\": 0.00131}, \"mode\": \"markers\", \"name\": \"Mozambique\", \"text\": [\"Mozambique\", \"Mozambique\", \"Mozambique\", \"Mozambique\"], \"type\": \"scatter\", \"x\": [4.971, 4.550000190734861, 4.417, 4.466], \"y\": [1.02626, 0.870701014995575, 0.902, 0.986]}, {\"marker\": {\"size\": [0.8786700000000001, 0.9553, 0.996192753314972, 0.9159999999999999, 0.9470000000000001], \"sizemode\": \"area\", \"sizeref\": 0.00131}, \"mode\": \"markers\", \"name\": \"Albania\", \"text\": [\"Albania\", \"Albania\", \"Albania\", \"Albania\", \"Albania\"], \"type\": \"scatter\", \"x\": [4.959, 4.655, 4.64400005340576, 4.586, 4.718999999999999], \"y\": [0.8043399999999999, 0.50163, 0.8036852478981021, 0.8170000000000001, 0.848]}, {\"marker\": {\"size\": [0.8322299999999999, 0.9338299999999999, 0.982409417629242, 0.915, 0.945], \"sizemode\": \"area\", \"sizeref\": 0.00131}, \"mode\": \"markers\", \"name\": \"Bosnia and Herzegovina\", \"text\": [\"Bosnia and Herzegovina\", \"Bosnia and Herzegovina\", \"Bosnia and Herzegovina\", \"Bosnia and Herzegovina\", \"Bosnia and Herzegovina\"], \"type\": \"scatter\", \"x\": [4.949, 5.162999999999999, 5.18200016021729, 5.129, 5.386], \"y\": [0.9191600000000001, 0.64367, 1.0693359375, 1.078, 1.212]}, {\"marker\": {\"size\": [0.37545, 0.521021246910095, 0.47200000000000003, 0.489], \"sizemode\": \"area\", \"sizeref\": 0.00131}, \"mode\": \"markers\", \"name\": \"Lesotho\", \"text\": [\"Lesotho\", \"Lesotho\", \"Lesotho\", \"Lesotho\"], \"type\": \"scatter\", \"x\": [4.898, 3.80800008773804, 3.8080000000000003, 3.802], \"y\": [1.04103, 1.19009518623352, 1.215, 1.169]}, {\"marker\": {\"size\": [0.8953700000000001, 1.02787, 1.07937383651733, 0.982, 1.015], \"sizemode\": \"area\", \"sizeref\": 0.00131}, \"mode\": \"markers\", \"name\": \"Dominican Republic\", \"text\": [\"Dominican Republic\", \"Dominican Republic\", \"Dominican Republic\", \"Dominican Republic\", \"Dominican Republic\"], \"type\": \"scatter\", \"x\": [4.885, 5.155, 5.230000019073491, 5.3020000000000005, 5.425], \"y\": [1.17202, 0.9949600000000001, 1.4024167060852097, 1.4409999999999998, 1.401]}, {\"marker\": {\"size\": [0.5906600000000001, 0.68042, 0.72, 0.764], \"sizemode\": \"area\", \"sizeref\": 0.00131}, \"mode\": \"markers\", \"name\": \"Laos\", \"text\": [\"Laos\", \"Laos\", \"Laos\", \"Laos\"], \"type\": \"scatter\", \"x\": [4.876, 4.876, 4.623, 4.796], \"y\": [0.73803, 0.5497, 1.034, 1.03]}, {\"marker\": {\"size\": [0.82819, 0.9885299999999999, 1.0272358655929599, 0.914, 0.948], \"sizemode\": \"area\", \"sizeref\": 0.00131}, \"mode\": \"markers\", \"name\": \"Mongolia\", \"text\": [\"Mongolia\", \"Mongolia\", \"Mongolia\", \"Mongolia\", \"Mongolia\"], \"type\": \"scatter\", \"x\": [4.874, 4.907, 4.95499992370605, 5.125, 5.285], \"y\": [1.3006, 1.0898299999999999, 1.4930112361908001, 1.517, 1.531]}, {\"marker\": {\"size\": [0.71206, 0.8109999999999999], \"sizemode\": \"area\", \"sizeref\": 0.00131}, \"mode\": \"markers\", \"name\": \"Swaziland\", \"text\": [\"Swaziland\", \"Swaziland\"], \"type\": \"scatter\", \"x\": [4.867, 4.212], \"y\": [1.07284, 1.149]}, {\"marker\": {\"size\": [1.15406, 1.24886, 1.28948748111725, 1.1540000000000001, 1.181], \"sizemode\": \"area\", \"sizeref\": 0.00131}, \"mode\": \"markers\", \"name\": \"Greece\", \"text\": [\"Greece\", \"Greece\", \"Greece\", \"Greece\", \"Greece\"], \"type\": \"scatter\", \"x\": [4.857, 5.033, 5.2270002365112305, 5.358, 5.287000000000001], \"y\": [0.9293299999999999, 0.75473, 1.23941457271576, 1.202, 1.156]}, {\"marker\": {\"size\": [1.0256399999999999, 1.12268, 1.07498753070831, 0.965, 0.987], \"sizemode\": \"area\", \"sizeref\": 0.00131}, \"mode\": \"markers\", \"name\": \"Lebanon\", \"text\": [\"Lebanon\", \"Lebanon\", \"Lebanon\", \"Lebanon\", \"Lebanon\"], \"type\": \"scatter\", \"x\": [4.8389999999999995, 5.129, 5.22499990463257, 5.358, 5.197], \"y\": [0.80001, 0.64184, 1.1296242475509601, 1.179, 1.224]}, {\"marker\": {\"size\": [1.12094, 1.24142, 1.2860119342803997, 1.171, 1.2009999999999998], \"sizemode\": \"area\", \"sizeref\": 0.00131}, \"mode\": \"markers\", \"name\": \"Hungary\", \"text\": [\"Hungary\", \"Hungary\", \"Hungary\", \"Hungary\", \"Hungary\"], \"type\": \"scatter\", \"x\": [4.8, 5.145, 5.32399988174438, 5.62, 5.757999999999999], \"y\": [1.20215, 0.9316399999999999, 1.34313309192657, 1.401, 1.41]}, {\"marker\": {\"size\": [0.59532, 0.69429, 0.730573117733002, 0.62, 0.642], \"sizemode\": \"area\", \"sizeref\": 0.00131}, \"mode\": \"markers\", \"name\": \"Honduras\", \"text\": [\"Honduras\", \"Honduras\", \"Honduras\", \"Honduras\", \"Honduras\"], \"type\": \"scatter\", \"x\": [4.788, 4.871, 5.1810002326965305, 5.504, 5.86], \"y\": [0.9534799999999999, 0.7559600000000001, 1.14394497871399, 1.205, 1.236]}, {\"marker\": {\"size\": [0.39047, 0.48835, 0.524713635444641, 0.474, 0.493], \"sizemode\": \"area\", \"sizeref\": 0.00131}, \"mode\": \"markers\", \"name\": \"Tajikistan\", \"text\": [\"Tajikistan\", \"Tajikistan\", \"Tajikistan\", \"Tajikistan\", \"Tajikistan\"], \"type\": \"scatter\", \"x\": [4.7860000000000005, 4.996, 5.04099988937378, 5.199, 5.4670000000000005], \"y\": [0.8556299999999999, 0.75602, 1.27146327495575, 1.166, 1.0979999999999999]}, {\"marker\": {\"size\": [0.88113, 0.97724, 1.00726580619812, 0.9, 0.9209999999999999], \"sizemode\": \"area\", \"sizeref\": 0.00131}, \"mode\": \"markers\", \"name\": \"Tunisia\", \"text\": [\"Tunisia\", \"Tunisia\", \"Tunisia\", \"Tunisia\", \"Tunisia\"], \"type\": \"scatter\", \"x\": [4.739, 5.045, 4.80499982833862, 4.592, 4.461], \"y\": [0.60429, 0.43165, 0.8683514595031742, 0.9059999999999999, 1.0]}, {\"marker\": {\"size\": [0.59867, 0.67024, 0.716249227523804, 0.642, 0.657], \"sizemode\": \"area\", \"sizeref\": 0.00131}, \"mode\": \"markers\", \"name\": \"Palestinian Territories\", \"text\": [\"Palestinian Territories\", \"Palestinian Territories\", \"Palestinian Territories\", \"Palestinian Territories\", \"Palestinian Territories\"], \"type\": \"scatter\", \"x\": [4.715, 4.754, 4.77500009536743, 4.743, 4.696000000000001], \"y\": [0.92558, 0.71629, 1.1556471586227401, 1.217, 1.247]}, {\"marker\": {\"size\": [0.39753, 0.54177, 0.586682975292206, 0.532, 0.562], \"sizemode\": \"area\", \"sizeref\": 0.00131}, \"mode\": \"markers\", \"name\": \"Bangladesh\", \"text\": [\"Bangladesh\", \"Bangladesh\", \"Bangladesh\", \"Bangladesh\", \"Bangladesh\"], \"type\": \"scatter\", \"x\": [4.694, 4.643, 4.60799980163574, 4.5, 4.456], \"y\": [0.43106000000000005, 0.24749000000000002, 0.735131740570068, 0.85, 0.9279999999999999]}, {\"marker\": {\"size\": [1.0088, 1.11758, 1.15687310695648, 1.0590000000000002, 1.1], \"sizemode\": \"area\", \"sizeref\": 0.00131}, \"mode\": \"markers\", \"name\": \"Iran\", \"text\": [\"Iran\", \"Iran\", \"Iran\", \"Iran\", \"Iran\"], \"type\": \"scatter\", \"x\": [4.686, 4.813, 4.69199991226196, 4.707, 4.548], \"y\": [0.54447, 0.38856999999999997, 0.7115512490272521, 0.7709999999999999, 0.8420000000000001]}, {\"marker\": {\"size\": [0.79907, 0.87287, 0.89465194940567, 0.7929999999999999, 0.82], \"sizemode\": \"area\", \"sizeref\": 0.00131}, \"mode\": \"markers\", \"name\": \"Ukraine\", \"text\": [\"Ukraine\", \"Ukraine\", \"Ukraine\", \"Ukraine\", \"Ukraine\"], \"type\": \"scatter\", \"x\": [4.681, 4.324, 4.09600019454956, 4.103, 4.332], \"y\": [1.20278, 1.01413, 1.39453756809235, 1.413, 1.39]}, {\"marker\": {\"size\": [0.98549, 1.07474, 1.1027104854583702, 1.01, 1.043], \"sizemode\": \"area\", \"sizeref\": 0.00131}, \"mode\": \"markers\", \"name\": \"Iraq\", \"text\": [\"Iraq\", \"Iraq\", \"Iraq\", \"Iraq\", \"Iraq\"], \"type\": \"scatter\", \"x\": [4.677, 4.575, 4.49700021743774, 4.456, 4.437], \"y\": [0.81889, 0.59205, 0.978613197803497, 0.971, 0.98]}, {\"marker\": {\"size\": [0.9204899999999999, 1.02416, 1.05469870567322, 0.94, 0.96], \"sizemode\": \"area\", \"sizeref\": 0.00131}, \"mode\": \"markers\", \"name\": \"South Africa\", \"text\": [\"South Africa\", \"South Africa\", \"South Africa\", \"South Africa\", \"South Africa\"], \"type\": \"scatter\", \"x\": [4.6419999999999995, 4.459, 4.8289999961853, 4.724, 4.7219999999999995], \"y\": [1.18468, 0.9605299999999999, 1.38478863239288, 1.41, 1.351]}, {\"marker\": {\"size\": [0.5455800000000001, 0.63107, 0.667224824428558, 0.5920000000000001, 0.611], \"sizemode\": \"area\", \"sizeref\": 0.00131}, \"mode\": \"markers\", \"name\": \"Ghana\", \"text\": [\"Ghana\", \"Ghana\", \"Ghana\", \"Ghana\", \"Ghana\"], \"type\": \"scatter\", \"x\": [4.633, 4.276, 4.11999988555908, 4.657, 4.996], \"y\": [0.6795399999999999, 0.49353, 0.873664736747742, 0.8959999999999999, 0.868]}, {\"marker\": {\"size\": [0.271, 0.35041, 0.37584653496742204, 0.35700000000000004, 0.366], \"sizemode\": \"area\", \"sizeref\": 0.00131}, \"mode\": \"markers\", \"name\": \"Zimbabwe\", \"text\": [\"Zimbabwe\", \"Zimbabwe\", \"Zimbabwe\", \"Zimbabwe\", \"Zimbabwe\"], \"type\": \"scatter\", \"x\": [4.61, 4.1930000000000005, 3.875, 3.6919999999999997, 3.6630000000000003], \"y\": [1.0327600000000001, 0.71478, 1.08309590816498, 1.094, 1.114]}, {\"marker\": {\"size\": [0.0712, 0.10705999999999999, 0.11904179304838199, 0.076, 0.073], \"sizemode\": \"area\", \"sizeref\": 0.00131}, \"mode\": \"markers\", \"name\": \"Liberia\", \"text\": [\"Liberia\", \"Liberia\", \"Liberia\", \"Liberia\", \"Liberia\"], \"type\": \"scatter\", \"x\": [4.571000000000001, 3.622, 3.5329999923706095, 3.495, 3.975], \"y\": [0.78968, 0.50353, 0.8721179366111759, 0.858, 0.922]}, {\"marker\": {\"size\": [0.64499, 0.74036, 0.7922212481498722, 0.721, 0.755], \"sizemode\": \"area\", \"sizeref\": 0.00131}, \"mode\": \"markers\", \"name\": \"India\", \"text\": [\"India\", \"India\", \"India\", \"India\", \"India\"], \"type\": \"scatter\", \"x\": [4.565, 4.404, 4.31500005722046, 4.19, 4.015], \"y\": [0.38174, 0.29247, 0.754372596740723, 0.747, 0.765]}, {\"marker\": {\"size\": [0.52107, 0.63069, 0.6595166921615601, 0.605], \"sizemode\": \"area\", \"sizeref\": 0.00131}, \"mode\": \"markers\", \"name\": \"Sudan\", \"text\": [\"Sudan\", \"Sudan\", \"Sudan\", \"Sudan\"], \"type\": \"scatter\", \"x\": [4.55, 4.138999999999999, 4.138999938964839, 4.138999999999999], \"y\": [1.01404, 0.8192799999999999, 1.21400856971741, 1.24]}, {\"marker\": {\"size\": [0.26673, 0.34097, 0.368610262870789, 0.315, 0.32299999999999995], \"sizemode\": \"area\", \"sizeref\": 0.00131}, \"mode\": \"markers\", \"name\": \"Haiti\", \"text\": [\"Haiti\", \"Haiti\", \"Haiti\", \"Haiti\", \"Haiti\"], \"type\": \"scatter\", \"x\": [4.518, 4.0280000000000005, 3.6029999256133998, 3.582, 3.597], \"y\": [0.74302, 0.29561, 0.640449821949005, 0.7140000000000001, 0.688]}, {\"marker\": {\"size\": [0.0, 0.05661, 0.0921023488044739, 0.069, 0.094], \"sizemode\": \"area\", \"sizeref\": 0.00131}, \"mode\": \"markers\", \"name\": \"Congo (Kinshasa)\", \"text\": [\"Congo (Kinshasa)\", \"Congo (Kinshasa)\", \"Congo (Kinshasa)\", \"Congo (Kinshasa)\", \"Congo (Kinshasa)\"], \"type\": \"scatter\", \"x\": [4.5169999999999995, 4.272, 4.2800002098083505, 4.245, 4.418], \"y\": [1.0012, 0.80676, 1.22902345657349, 1.136, 1.125]}, {\"marker\": {\"size\": [0.35996999999999996, 0.44626000000000005, 0.479820191860199, 0.425, 0.446], \"sizemode\": \"area\", \"sizeref\": 0.00131}, \"mode\": \"markers\", \"name\": \"Nepal\", \"text\": [\"Nepal\", \"Nepal\", \"Nepal\", \"Nepal\", \"Nepal\"], \"type\": \"scatter\", \"x\": [4.513999999999999, 4.793, 4.961999893188481, 4.88, 4.913], \"y\": [0.86449, 0.69699, 1.17928326129913, 1.228, 1.226]}, {\"marker\": {\"size\": [0.19072999999999998, 0.29283000000000003, 0.339233845472336, 0.308, 0.336], \"sizemode\": \"area\", \"sizeref\": 0.00131}, \"mode\": \"markers\", \"name\": \"Ethiopia\", \"text\": [\"Ethiopia\", \"Ethiopia\", \"Ethiopia\", \"Ethiopia\", \"Ethiopia\"], \"type\": \"scatter\", \"x\": [4.512, 4.508, 4.46000003814697, 4.35, 4.2860000000000005], \"y\": [0.60406, 0.37932, 0.8646692037582401, 0.95, 1.033]}, {\"marker\": {\"size\": [0.33024000000000003, 0.36485, 0.36842092871666, 0.256, 0.268], \"sizemode\": \"area\", \"sizeref\": 0.00131}, \"mode\": \"markers\", \"name\": \"Sierra Leone\", \"text\": [\"Sierra Leone\", \"Sierra Leone\", \"Sierra Leone\", \"Sierra Leone\", \"Sierra Leone\"], \"type\": \"scatter\", \"x\": [4.507, 4.635, 4.70900011062622, 4.571000000000001, 4.374], \"y\": [0.9557100000000001, 0.628, 0.984136044979095, 0.813, 0.841]}, {\"marker\": {\"size\": [0.45407, 0.6139100000000001, 0.6484572887420649, 0.557, 0.57], \"sizemode\": \"area\", \"sizeref\": 0.00131}, \"mode\": \"markers\", \"name\": \"Mauritania\", \"text\": [\"Mauritania\", \"Mauritania\", \"Mauritania\", \"Mauritania\", \"Mauritania\"], \"type\": \"scatter\", \"x\": [4.436, 4.2010000000000005, 4.29199981689453, 4.356, 4.49], \"y\": [0.86908, 0.8414200000000001, 1.2720308303833001, 1.245, 1.167]}, {\"marker\": {\"size\": [0.36471, 0.52267, 0.560479462146759, 0.493, 0.512], \"sizemode\": \"area\", \"sizeref\": 0.00131}, \"mode\": \"markers\", \"name\": \"Kenya\", \"text\": [\"Kenya\", \"Kenya\", \"Kenya\", \"Kenya\", \"Kenya\"], \"type\": \"scatter\", \"x\": [4.419, 4.356, 4.55299997329712, 4.41, 4.5089999999999995], \"y\": [0.99876, 0.7624, 1.0679507255554201, 1.048, 0.983]}, {\"marker\": {\"size\": [0.44025], \"sizemode\": \"area\", \"sizeref\": 0.00131}, \"mode\": \"markers\", \"name\": \"Djibouti\", \"text\": [\"Djibouti\"], \"type\": \"scatter\", \"x\": [4.369], \"y\": [0.59207]}, {\"marker\": {\"size\": [0.7682100000000001, 0.8608600000000001, 0.900596737861633, 0.816, 0.85], \"sizemode\": \"area\", \"sizeref\": 0.00131}, \"mode\": \"markers\", \"name\": \"Armenia\", \"text\": [\"Armenia\", \"Armenia\", \"Armenia\", \"Armenia\", \"Armenia\"], \"type\": \"scatter\", \"x\": [4.35, 4.36, 4.37599992752075, 4.321000000000001, 4.559], \"y\": [0.7771100000000001, 0.6247699999999999, 1.00748372077942, 0.99, 1.055]}, {\"marker\": {\"size\": [0.99355, 1.09426, 1.12209415435791, 1.0170000000000001, 1.041], \"sizemode\": \"area\", \"sizeref\": 0.00131}, \"mode\": \"markers\", \"name\": \"Botswana\", \"text\": [\"Botswana\", \"Botswana\", \"Botswana\", \"Botswana\", \"Botswana\"], \"type\": \"scatter\", \"x\": [4.332, 3.9739999999999998, 3.7660000324249303, 3.59, 3.488], \"y\": [1.10464, 0.89186, 1.2215549945831299, 1.1740000000000002, 1.145]}, {\"marker\": {\"size\": [0.27108000000000004, 0.34112, 0.36711055040359497, 0.682, 0.71], \"sizemode\": \"area\", \"sizeref\": 0.00131}, \"mode\": \"markers\", \"name\": \"Myanmar\", \"text\": [\"Myanmar\", \"Myanmar\", \"Myanmar\", \"Myanmar\", \"Myanmar\"], \"type\": \"scatter\", \"x\": [4.3069999999999995, 4.395, 4.54500007629395, 4.308, 4.36], \"y\": [0.70905, 0.69981, 1.12323594093323, 1.1740000000000002, 1.181]}, {\"marker\": {\"size\": [0.7419, 0.8379200000000001, 0.950612664222717, 0.853, 0.8859999999999999], \"sizemode\": \"area\", \"sizeref\": 0.00131}, \"mode\": \"markers\", \"name\": \"Georgia\", \"text\": [\"Georgia\", \"Georgia\", \"Georgia\", \"Georgia\", \"Georgia\"], \"type\": \"scatter\", \"x\": [4.297, 4.252, 4.28599977493286, 4.34, 4.519], \"y\": [0.38561999999999996, 0.19249000000000002, 0.57061493396759, 0.5920000000000001, 0.6659999999999999]}, {\"marker\": {\"size\": [0.016040000000000002, 0.08709, 0.233442038297653, 0.18600000000000003, 0.191], \"sizemode\": \"area\", \"sizeref\": 0.00131}, \"mode\": \"markers\", \"name\": \"Malawi\", \"text\": [\"Malawi\", \"Malawi\", \"Malawi\", \"Malawi\", \"Malawi\"], \"type\": \"scatter\", \"x\": [4.292, 4.156000000000001, 3.97000002861023, 3.5869999999999997, 3.41], \"y\": [0.41134, 0.147, 0.5125688314437871, 0.541, 0.56]}, {\"marker\": {\"size\": [0.83524, 0.9731799999999999, 1.00985014438629, 0.9179999999999999, 0.9490000000000001], \"sizemode\": \"area\", \"sizeref\": 0.00131}, \"mode\": \"markers\", \"name\": \"Sri Lanka\", \"text\": [\"Sri Lanka\", \"Sri Lanka\", \"Sri Lanka\", \"Sri Lanka\", \"Sri Lanka\"], \"type\": \"scatter\", \"x\": [4.271, 4.415, 4.44000005722046, 4.471, 4.3660000000000005], \"y\": [1.01905, 0.84783, 1.25997638702393, 1.314, 1.265]}, {\"marker\": {\"size\": [0.4225, 0.5249699999999999, 0.564305365085602, 0.535, 0.5489999999999999], \"sizemode\": \"area\", \"sizeref\": 0.00131}, \"mode\": \"markers\", \"name\": \"Cameroon\", \"text\": [\"Cameroon\", \"Cameroon\", \"Cameroon\", \"Cameroon\", \"Cameroon\"], \"type\": \"scatter\", \"x\": [4.252, 4.513, 4.69500017166138, 4.975, 5.044], \"y\": [0.8876700000000001, 0.62542, 0.946018218994141, 0.8909999999999999, 0.91]}, {\"marker\": {\"size\": [1.01216, 1.11306, 1.1614590883255, 1.054, 1.092], \"sizemode\": \"area\", \"sizeref\": 0.00131}, \"mode\": \"markers\", \"name\": \"Bulgaria\", \"text\": [\"Bulgaria\", \"Bulgaria\", \"Bulgaria\", \"Bulgaria\", \"Bulgaria\"], \"type\": \"scatter\", \"x\": [4.218, 4.217, 4.71400022506714, 4.933, 5.011], \"y\": [1.10614, 0.92542, 1.4343794584274299, 1.515, 1.5130000000000001]}, {\"marker\": {\"size\": [0.8818, 0.95395, 0.989701807498932, 0.885, 0.9129999999999999], \"sizemode\": \"area\", \"sizeref\": 0.00131}, \"mode\": \"markers\", \"name\": \"Egypt\", \"text\": [\"Egypt\", \"Egypt\", \"Egypt\", \"Egypt\", \"Egypt\"], \"type\": \"scatter\", \"x\": [4.194, 4.362, 4.7350001335144, 4.419, 4.166], \"y\": [0.747, 0.49813, 0.997471392154694, 1.025, 1.0390000000000001]}, {\"marker\": {\"size\": [0.5464899999999999, 0.57939, 0.5916834473609921, 0.442, 0.287], \"sizemode\": \"area\", \"sizeref\": 0.00131}, \"mode\": \"markers\", \"name\": \"Yemen\", \"text\": [\"Yemen\", \"Yemen\", \"Yemen\", \"Yemen\", \"Yemen\"], \"type\": \"scatter\", \"x\": [4.077, 3.7239999999999998, 3.59299993515015, 3.355, 3.38], \"y\": [0.68093, 0.47493, 0.93538224697113, 1.073, 1.163]}, {\"marker\": {\"size\": [0.75778, 0.84731, 0.8584281802177429, 0.73], \"sizemode\": \"area\", \"sizeref\": 0.00131}, \"mode\": \"markers\", \"name\": \"Angola\", \"text\": [\"Angola\", \"Angola\", \"Angola\", \"Angola\"], \"type\": \"scatter\", \"x\": [4.033, 3.866, 3.79500007629395, 3.795], \"y\": [0.8604, 0.66366, 1.1044119596481299, 1.125]}, {\"marker\": {\"size\": [0.26074, 0.31292, 0.476180493831635, 0.37, 0.385], \"sizemode\": \"area\", \"sizeref\": 0.00131}, \"mode\": \"markers\", \"name\": \"Mali\", \"text\": [\"Mali\", \"Mali\", \"Mali\", \"Mali\", \"Mali\"], \"type\": \"scatter\", \"x\": [3.995, 4.073, 4.19000005722046, 4.447, 4.39], \"y\": [1.03526, 0.8633299999999999, 1.2814733982086202, 1.2329999999999999, 1.105]}, {\"marker\": {\"size\": [0.67866, 0.7710899999999999, 0.8089642524719242, 0.682, 0.6729999999999999], \"sizemode\": \"area\", \"sizeref\": 0.00131}, \"mode\": \"markers\", \"name\": \"Congo (Brazzaville)\", \"text\": [\"Congo (Brazzaville)\", \"Congo (Brazzaville)\", \"Congo (Brazzaville)\", \"Congo (Brazzaville)\", \"Congo (Brazzaville)\"], \"type\": \"scatter\", \"x\": [3.989, 4.236000000000001, 4.29099988937378, 4.559, 4.812], \"y\": [0.6629, 0.47798999999999997, 0.8320443630218509, 0.8109999999999999, 0.799]}, {\"marker\": {\"size\": [0.23906, 0.27509, 0.27399999999999997], \"sizemode\": \"area\", \"sizeref\": 0.00131}, \"mode\": \"markers\", \"name\": \"Comoros\", \"text\": [\"Comoros\", \"Comoros\", \"Comoros\"], \"type\": \"scatter\", \"x\": [3.9560000000000004, 3.9560000000000004, 3.9730000000000003], \"y\": [0.79273, 0.60323, 0.757]}, {\"marker\": {\"size\": [0.21101999999999999, 0.34719, 0.381430715322495, 0.322, 0.332], \"sizemode\": \"area\", \"sizeref\": 0.00131}, \"mode\": \"markers\", \"name\": \"Uganda\", \"text\": [\"Uganda\", \"Uganda\", \"Uganda\", \"Uganda\", \"Uganda\"], \"type\": \"scatter\", \"x\": [3.931, 3.739, 4.08099985122681, 4.1610000000000005, 4.189], \"y\": [1.13299, 0.90981, 1.12982773780823, 1.09, 1.069]}, {\"marker\": {\"size\": [0.36498, 0.44314, 0.479309022426605, 0.429, 0.45], \"sizemode\": \"area\", \"sizeref\": 0.00131}, \"mode\": \"markers\", \"name\": \"Senegal\", \"text\": [\"Senegal\", \"Senegal\", \"Senegal\", \"Senegal\", \"Senegal\"], \"type\": \"scatter\", \"x\": [3.904, 4.218999999999999, 4.53499984741211, 4.631, 4.681], \"y\": [0.97619, 0.7741600000000001, 1.17969191074371, 1.117, 1.1340000000000001]}, {\"marker\": {\"size\": [1.06024, 1.15851, 1.1982102394104, 1.036, 1.057], \"sizemode\": \"area\", \"sizeref\": 0.00131}, \"mode\": \"markers\", \"name\": \"Gabon\", \"text\": [\"Gabon\", \"Gabon\", \"Gabon\", \"Gabon\", \"Gabon\"], \"type\": \"scatter\", \"x\": [3.8960000000000004, 4.121, 4.46500015258789, 4.758, 4.7989999999999995], \"y\": [0.90528, 0.72368, 1.1556202173233001, 1.1640000000000001, 1.183]}, {\"marker\": {\"size\": [0.0694, 0.1327, 0.16192533075809498, 0.131, 0.138], \"sizemode\": \"area\", \"sizeref\": 0.00131}, \"mode\": \"markers\", \"name\": \"Niger\", \"text\": [\"Niger\", \"Niger\", \"Niger\", \"Niger\", \"Niger\"], \"type\": \"scatter\", \"x\": [3.845, 3.8560000000000003, 4.02799987792969, 4.166, 4.628], \"y\": [0.77265, 0.6053, 0.993025004863739, 0.867, 0.774]}, {\"marker\": {\"size\": [0.46038, 0.55604, 0.6017650961875921, 0.5489999999999999, 0.574], \"sizemode\": \"area\", \"sizeref\": 0.00131}, \"mode\": \"markers\", \"name\": \"Cambodia\", \"text\": [\"Cambodia\", \"Cambodia\", \"Cambodia\", \"Cambodia\", \"Cambodia\"], \"type\": \"scatter\", \"x\": [3.819, 3.907, 4.1680002212524405, 4.433, 4.7], \"y\": [0.62736, 0.5375, 1.00623834133148, 1.088, 1.122]}, {\"marker\": {\"size\": [0.2852, 0.47155, 0.511135876178741, 0.455, 0.47600000000000003], \"sizemode\": \"area\", \"sizeref\": 0.00131}, \"mode\": \"markers\", \"name\": \"Tanzania\", \"text\": [\"Tanzania\", \"Tanzania\", \"Tanzania\", \"Tanzania\", \"Tanzania\"], \"type\": \"scatter\", \"x\": [3.781, 3.6660000000000004, 3.34899997711182, 3.303, 3.2310000000000003], \"y\": [1.00268, 0.77623, 1.04198980331421, 0.991, 0.885]}, {\"marker\": {\"size\": [0.20824, 0.27954, 0.305808693170547, 0.262, 0.27399999999999997], \"sizemode\": \"area\", \"sizeref\": 0.00131}, \"mode\": \"markers\", \"name\": \"Madagascar\", \"text\": [\"Madagascar\", \"Madagascar\", \"Madagascar\", \"Madagascar\", \"Madagascar\"], \"type\": \"scatter\", \"x\": [3.681, 3.695, 3.64400005340576, 3.7739999999999996, 3.9330000000000003], \"y\": [0.66801, 0.46115, 0.9130203723907471, 0.9079999999999999, 0.9159999999999999]}, {\"marker\": {\"size\": [0.0785, 0.0, 0.024, 0.026000000000000002], \"sizemode\": \"area\", \"sizeref\": 0.00131}, \"mode\": \"markers\", \"name\": \"Central African Republic\", \"text\": [\"Central African Republic\", \"Central African Republic\", \"Central African Republic\", \"Central African Republic\"], \"type\": \"scatter\", \"x\": [3.678, 2.69300007820129, 3.083, 3.083], \"y\": [0.0, 0.0, 0.0, 0.0]}, {\"marker\": {\"size\": [0.34193, 0.42213999999999996, 0.43801298737525896, 0.358, 0.35], \"sizemode\": \"area\", \"sizeref\": 0.00131}, \"mode\": \"markers\", \"name\": \"Chad\", \"text\": [\"Chad\", \"Chad\", \"Chad\", \"Chad\", \"Chad\"], \"type\": \"scatter\", \"x\": [3.667, 3.763, 3.9360001087188703, 4.301, 4.35], \"y\": [0.76062, 0.63178, 0.953855872154236, 0.907, 0.7659999999999999]}, {\"marker\": {\"size\": [0.17417, 0.22415, 0.24454993009567302, 0.344, 0.38], \"sizemode\": \"area\", \"sizeref\": 0.00131}, \"mode\": \"markers\", \"name\": \"Guinea\", \"text\": [\"Guinea\", \"Guinea\", \"Guinea\", \"Guinea\", \"Guinea\"], \"type\": \"scatter\", \"x\": [3.656, 3.6069999999999998, 3.50699996948242, 3.964, 4.534], \"y\": [0.46475, 0.3109, 0.7912446856498722, 0.792, 0.8290000000000001]}, {\"marker\": {\"size\": [0.46534, 0.55507, 0.6030489206314089, 0.541, 0.569], \"sizemode\": \"area\", \"sizeref\": 0.00131}, \"mode\": \"markers\", \"name\": \"Ivory Coast\", \"text\": [\"Ivory Coast\", \"Ivory Coast\", \"Ivory Coast\", \"Ivory Coast\", \"Ivory Coast\"], \"type\": \"scatter\", \"x\": [3.655, 3.9160000000000004, 4.17999982833862, 4.671, 4.944], \"y\": [0.77115, 0.57576, 0.904780030250549, 0.872, 0.8079999999999999]}, {\"marker\": {\"size\": [0.25811999999999996, 0.31995, 0.35022771358490007, 0.314, 0.331], \"sizemode\": \"area\", \"sizeref\": 0.00131}, \"mode\": \"markers\", \"name\": \"Burkina Faso\", \"text\": [\"Burkina Faso\", \"Burkina Faso\", \"Burkina Faso\", \"Burkina Faso\", \"Burkina Faso\"], \"type\": \"scatter\", \"x\": [3.5869999999999997, 3.739, 4.03200006484985, 4.4239999999999995, 4.587], \"y\": [0.85188, 0.63054, 1.04328000545502, 1.097, 1.056]}, {\"marker\": {\"size\": [0.31982, 0.38227, 0.401477217674255, 0.332, 0.35], \"sizemode\": \"area\", \"sizeref\": 0.00131}, \"mode\": \"markers\", \"name\": \"Afghanistan\", \"text\": [\"Afghanistan\", \"Afghanistan\", \"Afghanistan\", \"Afghanistan\", \"Afghanistan\"], \"type\": \"scatter\", \"x\": [3.575, 3.36, 3.7939999103546103, 3.6319999999999997, 3.2030000000000003], \"y\": [0.30285, 0.11037000000000001, 0.581543326377869, 0.537, 0.517]}, {\"marker\": {\"size\": [0.22208000000000003, 0.32846, 0.368745893239975, 0.332, 0.359], \"sizemode\": \"area\", \"sizeref\": 0.00131}, \"mode\": \"markers\", \"name\": \"Rwanda\", \"text\": [\"Rwanda\", \"Rwanda\", \"Rwanda\", \"Rwanda\", \"Rwanda\"], \"type\": \"scatter\", \"x\": [3.465, 3.515, 3.47099995613098, 3.408, 3.3339999999999996], \"y\": [0.7737, 0.6158600000000001, 0.945707023143768, 0.8959999999999999, 0.711]}, {\"marker\": {\"size\": [0.28665, 0.39499, 0.43108540773391707, 0.37799999999999995, 0.39299999999999996], \"sizemode\": \"area\", \"sizeref\": 0.00131}, \"mode\": \"markers\", \"name\": \"Benin\", \"text\": [\"Benin\", \"Benin\", \"Benin\", \"Benin\", \"Benin\"], \"type\": \"scatter\", \"x\": [3.34, 3.484, 3.65700006484985, 4.141, 4.883], \"y\": [0.35386, 0.10419, 0.43529984354972795, 0.37200000000000005, 0.43700000000000006]}, {\"marker\": {\"size\": [0.6632, 0.7471899999999999, 0.777153134346008, 0.6890000000000001, 0.619], \"sizemode\": \"area\", \"sizeref\": 0.00131}, \"mode\": \"markers\", \"name\": \"Syria\", \"text\": [\"Syria\", \"Syria\", \"Syria\", \"Syria\", \"Syria\"], \"type\": \"scatter\", \"x\": [3.0060000000000002, 3.069, 3.46199989318848, 3.4619999999999997, 3.4619999999999997], \"y\": [0.47489, 0.14866, 0.396102607250214, 0.382, 0.37799999999999995]}, {\"marker\": {\"size\": [0.0153, 0.06831, 0.09162256866693501, 0.091, 0.046], \"sizemode\": \"area\", \"sizeref\": 0.00131}, \"mode\": \"markers\", \"name\": \"Burundi\", \"text\": [\"Burundi\", \"Burundi\", \"Burundi\", \"Burundi\", \"Burundi\"], \"type\": \"scatter\", \"x\": [2.905, 2.905, 2.90499997138977, 2.905, 3.775], \"y\": [0.41586999999999996, 0.23442, 0.629793584346771, 0.627, 0.447]}, {\"marker\": {\"size\": [0.20868, 0.28123000000000004, 0.30544471740722695, 0.259, 0.275], \"sizemode\": \"area\", \"sizeref\": 0.00131}, \"mode\": \"markers\", \"name\": \"Togo\", \"text\": [\"Togo\", \"Togo\", \"Togo\", \"Togo\", \"Togo\"], \"type\": \"scatter\", \"x\": [2.839, 3.303, 3.4949998855590803, 3.9989999999999997, 4.085], \"y\": [0.13995, 0.0, 0.4318825304508211, 0.474, 0.5720000000000001]}, {\"marker\": {\"size\": [1.35943], \"sizemode\": \"area\", \"sizeref\": 0.00131}, \"mode\": \"markers\", \"name\": \"Puerto Rico\", \"text\": [\"Puerto Rico\"], \"type\": \"scatter\", \"x\": [7.039], \"y\": [1.08113]}, {\"marker\": {\"size\": [0.87616, 0.907975316047668, 0.807], \"sizemode\": \"area\", \"sizeref\": 0.00131}, \"mode\": \"markers\", \"name\": \"Belize\", \"text\": [\"Belize\", \"Belize\", \"Belize\"], \"type\": \"scatter\", \"x\": [5.956, 5.955999851226809, 5.956], \"y\": [0.68655, 1.0814177989959701, 1.101]}, {\"marker\": {\"size\": [0.0, 0.0226431842893362, 0.0, 0.0], \"sizemode\": \"area\", \"sizeref\": 0.00131}, \"mode\": \"markers\", \"name\": \"Somalia\", \"text\": [\"Somalia\", \"Somalia\", \"Somalia\", \"Somalia\"], \"type\": \"scatter\", \"x\": [5.44, 5.151000022888179, 4.982, 4.668], \"y\": [0.33613000000000004, 0.7211513519287109, 0.7120000000000001, 0.698]}, {\"marker\": {\"size\": [0.25558000000000003], \"sizemode\": \"area\", \"sizeref\": 0.00131}, \"mode\": \"markers\", \"name\": \"Somaliland Region\", \"text\": [\"Somaliland Region\"], \"type\": \"scatter\", \"x\": [5.0569999999999995], \"y\": [0.75862]}, {\"marker\": {\"size\": [0.9328700000000001, 0.964434325695038, 0.8740000000000001, 0.879], \"sizemode\": \"area\", \"sizeref\": 0.00131}, \"mode\": \"markers\", \"name\": \"Namibia\", \"text\": [\"Namibia\", \"Namibia\", \"Namibia\", \"Namibia\"], \"type\": \"scatter\", \"x\": [4.574, 4.57399988174438, 4.441, 4.638999999999999], \"y\": [0.70362, 1.0984708070755, 1.281, 1.3130000000000002]}, {\"marker\": {\"size\": [0.39394, 0.39724862575531, 0.337, 0.306], \"sizemode\": \"area\", \"sizeref\": 0.00131}, \"mode\": \"markers\", \"name\": \"South Sudan\", \"text\": [\"South Sudan\", \"South Sudan\", \"South Sudan\", \"South Sudan\"], \"type\": \"scatter\", \"x\": [3.832, 3.5910000801086404, 3.2539999999999996, 2.853], \"y\": [0.18519000000000002, 0.601323127746582, 0.608, 0.575]}, {\"marker\": {\"size\": [1.4336265325546298], \"sizemode\": \"area\", \"sizeref\": 0.00131}, \"mode\": \"markers\", \"name\": \"Taiwan Province of China\", \"text\": [\"Taiwan Province of China\"], \"type\": \"scatter\", \"x\": [6.42199993133545], \"y\": [1.38456535339355]}, {\"marker\": {\"size\": [1.55167484283447], \"sizemode\": \"area\", \"sizeref\": 0.00131}, \"mode\": \"markers\", \"name\": \"Hong Kong S.A.R., China\", \"text\": [\"Hong Kong S.A.R., China\"], \"type\": \"scatter\", \"x\": [5.47200012207031], \"y\": [1.26279091835022]}, {\"marker\": {\"size\": [1.2229999999999999, 1.2309999999999999], \"sizemode\": \"area\", \"sizeref\": 0.00131}, \"mode\": \"markers\", \"name\": \"Trinidad & Tobago\", \"text\": [\"Trinidad & Tobago\", \"Trinidad & Tobago\"], \"type\": \"scatter\", \"x\": [6.192, 6.192], \"y\": [1.492, 1.4769999999999999]}, {\"marker\": {\"size\": [1.229, 1.263], \"sizemode\": \"area\", \"sizeref\": 0.00131}, \"mode\": \"markers\", \"name\": \"Northern Cyprus\", \"text\": [\"Northern Cyprus\", \"Northern Cyprus\"], \"type\": \"scatter\", \"x\": [5.835, 5.718], \"y\": [1.2109999999999999, 1.252]}, {\"marker\": {\"size\": [0.983], \"sizemode\": \"area\", \"sizeref\": 0.00131}, \"mode\": \"markers\", \"name\": \"North Macedonia\", \"text\": [\"North Macedonia\"], \"type\": \"scatter\", \"x\": [5.274], \"y\": [1.294]}, {\"marker\": {\"size\": [0.308], \"sizemode\": \"area\", \"sizeref\": 0.00131}, \"mode\": \"markers\", \"name\": \"Gambia\", \"text\": [\"Gambia\"], \"type\": \"scatter\", \"x\": [4.516], \"y\": [0.9390000000000001]}],\n",
              "                        {\"height\": 650, \"hovermode\": \"closest\", \"margin\": {\"b\": 50, \"pad\": 5, \"t\": 50}, \"showlegend\": true, \"template\": {\"data\": {\"bar\": [{\"error_x\": {\"color\": \"#2a3f5f\"}, \"error_y\": {\"color\": \"#2a3f5f\"}, \"marker\": {\"line\": {\"color\": \"#E5ECF6\", \"width\": 0.5}}, \"type\": \"bar\"}], \"barpolar\": [{\"marker\": {\"line\": {\"color\": \"#E5ECF6\", \"width\": 0.5}}, \"type\": \"barpolar\"}], \"carpet\": [{\"aaxis\": {\"endlinecolor\": \"#2a3f5f\", \"gridcolor\": \"white\", \"linecolor\": \"white\", \"minorgridcolor\": \"white\", \"startlinecolor\": \"#2a3f5f\"}, \"baxis\": {\"endlinecolor\": \"#2a3f5f\", \"gridcolor\": \"white\", \"linecolor\": \"white\", \"minorgridcolor\": \"white\", \"startlinecolor\": \"#2a3f5f\"}, \"type\": \"carpet\"}], \"choropleth\": [{\"colorbar\": {\"outlinewidth\": 0, \"ticks\": \"\"}, \"type\": \"choropleth\"}], \"contour\": [{\"colorbar\": {\"outlinewidth\": 0, \"ticks\": \"\"}, \"colorscale\": [[0.0, \"#0d0887\"], [0.1111111111111111, \"#46039f\"], [0.2222222222222222, \"#7201a8\"], [0.3333333333333333, \"#9c179e\"], [0.4444444444444444, \"#bd3786\"], [0.5555555555555556, \"#d8576b\"], [0.6666666666666666, \"#ed7953\"], [0.7777777777777778, \"#fb9f3a\"], [0.8888888888888888, \"#fdca26\"], [1.0, \"#f0f921\"]], \"type\": \"contour\"}], \"contourcarpet\": [{\"colorbar\": {\"outlinewidth\": 0, \"ticks\": \"\"}, \"type\": \"contourcarpet\"}], \"heatmap\": [{\"colorbar\": {\"outlinewidth\": 0, \"ticks\": \"\"}, \"colorscale\": [[0.0, \"#0d0887\"], [0.1111111111111111, \"#46039f\"], [0.2222222222222222, \"#7201a8\"], [0.3333333333333333, \"#9c179e\"], [0.4444444444444444, \"#bd3786\"], [0.5555555555555556, \"#d8576b\"], [0.6666666666666666, \"#ed7953\"], [0.7777777777777778, \"#fb9f3a\"], [0.8888888888888888, \"#fdca26\"], [1.0, \"#f0f921\"]], \"type\": \"heatmap\"}], \"heatmapgl\": [{\"colorbar\": {\"outlinewidth\": 0, \"ticks\": \"\"}, \"colorscale\": [[0.0, \"#0d0887\"], [0.1111111111111111, \"#46039f\"], [0.2222222222222222, \"#7201a8\"], [0.3333333333333333, \"#9c179e\"], [0.4444444444444444, \"#bd3786\"], [0.5555555555555556, \"#d8576b\"], [0.6666666666666666, \"#ed7953\"], [0.7777777777777778, \"#fb9f3a\"], [0.8888888888888888, \"#fdca26\"], [1.0, \"#f0f921\"]], \"type\": \"heatmapgl\"}], \"histogram\": [{\"marker\": {\"colorbar\": {\"outlinewidth\": 0, \"ticks\": \"\"}}, \"type\": \"histogram\"}], \"histogram2d\": [{\"colorbar\": {\"outlinewidth\": 0, \"ticks\": \"\"}, \"colorscale\": [[0.0, \"#0d0887\"], [0.1111111111111111, \"#46039f\"], [0.2222222222222222, \"#7201a8\"], [0.3333333333333333, \"#9c179e\"], [0.4444444444444444, \"#bd3786\"], [0.5555555555555556, \"#d8576b\"], [0.6666666666666666, \"#ed7953\"], [0.7777777777777778, \"#fb9f3a\"], [0.8888888888888888, \"#fdca26\"], [1.0, \"#f0f921\"]], \"type\": \"histogram2d\"}], \"histogram2dcontour\": [{\"colorbar\": {\"outlinewidth\": 0, \"ticks\": \"\"}, \"colorscale\": [[0.0, \"#0d0887\"], [0.1111111111111111, \"#46039f\"], [0.2222222222222222, \"#7201a8\"], [0.3333333333333333, \"#9c179e\"], [0.4444444444444444, \"#bd3786\"], [0.5555555555555556, \"#d8576b\"], [0.6666666666666666, \"#ed7953\"], [0.7777777777777778, \"#fb9f3a\"], [0.8888888888888888, \"#fdca26\"], [1.0, \"#f0f921\"]], \"type\": \"histogram2dcontour\"}], \"mesh3d\": [{\"colorbar\": {\"outlinewidth\": 0, \"ticks\": \"\"}, \"type\": \"mesh3d\"}], \"parcoords\": [{\"line\": {\"colorbar\": {\"outlinewidth\": 0, \"ticks\": \"\"}}, \"type\": \"parcoords\"}], \"pie\": [{\"automargin\": true, \"type\": \"pie\"}], \"scatter\": [{\"marker\": {\"colorbar\": {\"outlinewidth\": 0, \"ticks\": \"\"}}, \"type\": \"scatter\"}], \"scatter3d\": [{\"line\": {\"colorbar\": {\"outlinewidth\": 0, \"ticks\": \"\"}}, \"marker\": {\"colorbar\": {\"outlinewidth\": 0, \"ticks\": \"\"}}, \"type\": \"scatter3d\"}], \"scattercarpet\": [{\"marker\": {\"colorbar\": {\"outlinewidth\": 0, \"ticks\": \"\"}}, \"type\": \"scattercarpet\"}], \"scattergeo\": [{\"marker\": {\"colorbar\": {\"outlinewidth\": 0, \"ticks\": \"\"}}, \"type\": \"scattergeo\"}], \"scattergl\": [{\"marker\": {\"colorbar\": {\"outlinewidth\": 0, \"ticks\": \"\"}}, \"type\": \"scattergl\"}], \"scattermapbox\": [{\"marker\": {\"colorbar\": {\"outlinewidth\": 0, \"ticks\": \"\"}}, \"type\": \"scattermapbox\"}], \"scatterpolar\": [{\"marker\": {\"colorbar\": {\"outlinewidth\": 0, \"ticks\": \"\"}}, \"type\": \"scatterpolar\"}], \"scatterpolargl\": [{\"marker\": {\"colorbar\": {\"outlinewidth\": 0, \"ticks\": \"\"}}, \"type\": \"scatterpolargl\"}], \"scatterternary\": [{\"marker\": {\"colorbar\": {\"outlinewidth\": 0, \"ticks\": \"\"}}, \"type\": \"scatterternary\"}], \"surface\": [{\"colorbar\": {\"outlinewidth\": 0, \"ticks\": \"\"}, \"colorscale\": [[0.0, \"#0d0887\"], [0.1111111111111111, \"#46039f\"], [0.2222222222222222, \"#7201a8\"], [0.3333333333333333, \"#9c179e\"], [0.4444444444444444, \"#bd3786\"], [0.5555555555555556, \"#d8576b\"], [0.6666666666666666, \"#ed7953\"], [0.7777777777777778, \"#fb9f3a\"], [0.8888888888888888, \"#fdca26\"], [1.0, \"#f0f921\"]], \"type\": \"surface\"}], \"table\": [{\"cells\": {\"fill\": {\"color\": \"#EBF0F8\"}, \"line\": {\"color\": \"white\"}}, \"header\": {\"fill\": {\"color\": \"#C8D4E3\"}, \"line\": {\"color\": \"white\"}}, \"type\": \"table\"}]}, \"layout\": {\"annotationdefaults\": {\"arrowcolor\": \"#2a3f5f\", \"arrowhead\": 0, \"arrowwidth\": 1}, \"coloraxis\": {\"colorbar\": {\"outlinewidth\": 0, \"ticks\": \"\"}}, \"colorscale\": {\"diverging\": [[0, \"#8e0152\"], [0.1, \"#c51b7d\"], [0.2, \"#de77ae\"], [0.3, \"#f1b6da\"], [0.4, \"#fde0ef\"], [0.5, \"#f7f7f7\"], [0.6, \"#e6f5d0\"], [0.7, \"#b8e186\"], [0.8, \"#7fbc41\"], [0.9, \"#4d9221\"], [1, \"#276419\"]], \"sequential\": [[0.0, \"#0d0887\"], [0.1111111111111111, \"#46039f\"], [0.2222222222222222, \"#7201a8\"], [0.3333333333333333, \"#9c179e\"], [0.4444444444444444, \"#bd3786\"], [0.5555555555555556, \"#d8576b\"], [0.6666666666666666, \"#ed7953\"], [0.7777777777777778, \"#fb9f3a\"], [0.8888888888888888, \"#fdca26\"], [1.0, \"#f0f921\"]], \"sequentialminus\": [[0.0, \"#0d0887\"], [0.1111111111111111, \"#46039f\"], [0.2222222222222222, \"#7201a8\"], [0.3333333333333333, \"#9c179e\"], [0.4444444444444444, \"#bd3786\"], [0.5555555555555556, \"#d8576b\"], [0.6666666666666666, \"#ed7953\"], [0.7777777777777778, \"#fb9f3a\"], [0.8888888888888888, \"#fdca26\"], [1.0, \"#f0f921\"]]}, \"colorway\": [\"#636efa\", \"#EF553B\", \"#00cc96\", \"#ab63fa\", \"#FFA15A\", \"#19d3f3\", \"#FF6692\", \"#B6E880\", \"#FF97FF\", \"#FECB52\"], \"font\": {\"color\": \"#2a3f5f\"}, \"geo\": {\"bgcolor\": \"white\", \"lakecolor\": \"white\", \"landcolor\": \"#E5ECF6\", \"showlakes\": true, \"showland\": true, \"subunitcolor\": \"white\"}, \"hoverlabel\": {\"align\": \"left\"}, \"hovermode\": \"closest\", \"mapbox\": {\"style\": \"light\"}, \"paper_bgcolor\": \"white\", \"plot_bgcolor\": \"#E5ECF6\", \"polar\": {\"angularaxis\": {\"gridcolor\": \"white\", \"linecolor\": \"white\", \"ticks\": \"\"}, \"bgcolor\": \"#E5ECF6\", \"radialaxis\": {\"gridcolor\": \"white\", \"linecolor\": \"white\", \"ticks\": \"\"}}, \"scene\": {\"xaxis\": {\"backgroundcolor\": \"#E5ECF6\", \"gridcolor\": \"white\", \"gridwidth\": 2, \"linecolor\": \"white\", \"showbackground\": true, \"ticks\": \"\", \"zerolinecolor\": \"white\"}, \"yaxis\": {\"backgroundcolor\": \"#E5ECF6\", \"gridcolor\": \"white\", \"gridwidth\": 2, \"linecolor\": \"white\", \"showbackground\": true, \"ticks\": \"\", \"zerolinecolor\": \"white\"}, \"zaxis\": {\"backgroundcolor\": \"#E5ECF6\", \"gridcolor\": \"white\", \"gridwidth\": 2, \"linecolor\": \"white\", \"showbackground\": true, \"ticks\": \"\", \"zerolinecolor\": \"white\"}}, \"shapedefaults\": {\"line\": {\"color\": \"#2a3f5f\"}}, \"ternary\": {\"aaxis\": {\"gridcolor\": \"white\", \"linecolor\": \"white\", \"ticks\": \"\"}, \"baxis\": {\"gridcolor\": \"white\", \"linecolor\": \"white\", \"ticks\": \"\"}, \"bgcolor\": \"#E5ECF6\", \"caxis\": {\"gridcolor\": \"white\", \"linecolor\": \"white\", \"ticks\": \"\"}}, \"title\": {\"x\": 0.05}, \"xaxis\": {\"automargin\": true, \"gridcolor\": \"white\", \"linecolor\": \"white\", \"ticks\": \"\", \"title\": {\"standoff\": 15}, \"zerolinecolor\": \"white\", \"zerolinewidth\": 2}, \"yaxis\": {\"automargin\": true, \"gridcolor\": \"white\", \"linecolor\": \"white\", \"ticks\": \"\", \"title\": {\"standoff\": 15}, \"zerolinecolor\": \"white\", \"zerolinewidth\": 2}}}, \"title\": {\"text\": \"Happiness vs Social Support vs Economy\"}, \"xaxis\": {\"autorange\": false, \"range\": [1.885100054740903, 10.8766], \"title\": {\"text\": \"Happiness Score\"}}, \"yaxis\": {\"autorange\": false, \"range\": [0.0, 2.3016], \"title\": {\"text\": \"Social Support\"}}},\n",
              "                        {\"scrollzoom\": true, \"responsive\": true}\n",
              "                    ).then(function(){\n",
              "                            \n",
              "var gd = document.getElementById('78d288a1-def6-4841-bdeb-eb855dd484d3');\n",
              "var x = new MutationObserver(function (mutations, observer) {{\n",
              "        var display = window.getComputedStyle(gd).display;\n",
              "        if (!display || display === 'none') {{\n",
              "            console.log([gd, 'removed!']);\n",
              "            Plotly.purge(gd);\n",
              "            observer.disconnect();\n",
              "        }}\n",
              "}});\n",
              "\n",
              "// Listen for the removal of the full notebook cells\n",
              "var notebookContainer = gd.closest('#notebook-container');\n",
              "if (notebookContainer) {{\n",
              "    x.observe(notebookContainer, {childList: true});\n",
              "}}\n",
              "\n",
              "// Listen for the clearing of the current output cell\n",
              "var outputEl = gd.closest('.output');\n",
              "if (outputEl) {{\n",
              "    x.observe(outputEl, {childList: true});\n",
              "}}\n",
              "\n",
              "                        })\n",
              "                };\n",
              "                \n",
              "            </script>\n",
              "        </div>\n",
              "</body>\n",
              "</html>"
            ]
          },
          "metadata": {
            "tags": []
          }
        }
      ]
    },
    {
      "cell_type": "code",
      "metadata": {
        "id": "z-bBu18bLyF2",
        "colab_type": "code",
        "colab": {
          "base_uri": "https://localhost:8080/",
          "height": 901
        },
        "outputId": "d63e58fe-7c2f-45f3-90c0-74cf11e219b5"
      },
      "source": [
        "\n",
        "figure = bubbleplot(dataset = df, x_column = 'Happiness Score', y_column = 'Freedom to make life choices', \n",
        "    bubble_column = 'Country or Region', size_column = 'Economy (GDP per Capita)', color_column = 'Country or Region', \n",
        "    x_title = \"Happiness Score\", y_title = \"Freedom to make life choices\", title = 'Happiness vs Freedom to make life choices vs Economy',\n",
        "    x_logscale = False, scale_bubble = 0.5, height = 800)\n",
        "\n",
        "py.iplot(figure, config={'scrollzoom': True})"
      ],
      "execution_count": null,
      "outputs": [
        {
          "output_type": "stream",
          "text": [
            "/usr/local/lib/python3.6/dist-packages/plotly/offline/offline.py:159: UserWarning:\n",
            "\n",
            "\n",
            "Unrecognized config options supplied: ['scrollzoom']\n",
            "\n"
          ],
          "name": "stderr"
        },
        {
          "output_type": "display_data",
          "data": {
            "text/html": [
              "<html>\n",
              "<head><meta charset=\"utf-8\" /></head>\n",
              "<body>\n",
              "    <div>\n",
              "            <script src=\"https://cdnjs.cloudflare.com/ajax/libs/mathjax/2.7.5/MathJax.js?config=TeX-AMS-MML_SVG\"></script><script type=\"text/javascript\">if (window.MathJax) {MathJax.Hub.Config({SVG: {font: \"STIX-Web\"}});}</script>\n",
              "                <script type=\"text/javascript\">window.PlotlyConfig = {MathJaxConfig: 'local'};</script>\n",
              "        <script src=\"https://cdn.plot.ly/plotly-latest.min.js\"></script>    \n",
              "            <div id=\"534c2084-0fe1-4fa0-87e9-618493dc6ed5\" class=\"plotly-graph-div\" style=\"height:800px; width:100%;\"></div>\n",
              "            <script type=\"text/javascript\">\n",
              "                \n",
              "                    window.PLOTLYENV=window.PLOTLYENV || {};\n",
              "                    \n",
              "                if (document.getElementById(\"534c2084-0fe1-4fa0-87e9-618493dc6ed5\")) {\n",
              "                    Plotly.newPlot(\n",
              "                        '534c2084-0fe1-4fa0-87e9-618493dc6ed5',\n",
              "                        [{\"marker\": {\"size\": [1.3965100000000001, 1.5273299999999999, 1.5649795532226598, 1.42, 1.452], \"sizemode\": \"area\", \"sizeref\": 0.00131}, \"mode\": \"markers\", \"name\": \"Switzerland\", \"text\": [\"Switzerland\", \"Switzerland\", \"Switzerland\", \"Switzerland\", \"Switzerland\"], \"type\": \"scatter\", \"x\": [7.587000000000001, 7.5089999999999995, 7.49399995803833, 7.487, 7.48], \"y\": [0.66557, 0.58557, 0.620070576667786, 0.66, 0.5720000000000001]}, {\"marker\": {\"size\": [1.3023200000000001, 1.42666, 1.480633020401, 1.3430000000000002, 1.38], \"sizemode\": \"area\", \"sizeref\": 0.00131}, \"mode\": \"markers\", \"name\": \"Iceland\", \"text\": [\"Iceland\", \"Iceland\", \"Iceland\", \"Iceland\", \"Iceland\"], \"type\": \"scatter\", \"x\": [7.561, 7.501, 7.50400018692017, 7.495, 7.494], \"y\": [0.6287699999999999, 0.56624, 0.6271626353263849, 0.677, 0.591]}, {\"marker\": {\"size\": [1.32548, 1.4417799999999998, 1.48238301277161, 1.351, 1.383], \"sizemode\": \"area\", \"sizeref\": 0.00131}, \"mode\": \"markers\", \"name\": \"Denmark\", \"text\": [\"Denmark\", \"Denmark\", \"Denmark\", \"Denmark\", \"Denmark\"], \"type\": \"scatter\", \"x\": [7.527, 7.526, 7.52199983596802, 7.555, 7.6], \"y\": [0.6493800000000001, 0.5794100000000001, 0.626006722450256, 0.6829999999999999, 0.5920000000000001]}, {\"marker\": {\"size\": [1.459, 1.57744, 1.6164631843566901, 1.456, 1.4880000000000002], \"sizemode\": \"area\", \"sizeref\": 0.00131}, \"mode\": \"markers\", \"name\": \"Norway\", \"text\": [\"Norway\", \"Norway\", \"Norway\", \"Norway\", \"Norway\"], \"type\": \"scatter\", \"x\": [7.522, 7.497999999999999, 7.537000179290769, 7.593999999999999, 7.553999999999999], \"y\": [0.66973, 0.59609, 0.635422587394714, 0.6859999999999999, 0.603]}, {\"marker\": {\"size\": [1.32629, 1.44015, 1.47920441627502, 1.33, 1.365], \"sizemode\": \"area\", \"sizeref\": 0.00131}, \"mode\": \"markers\", \"name\": \"Canada\", \"text\": [\"Canada\", \"Canada\", \"Canada\", \"Canada\", \"Canada\"], \"type\": \"scatter\", \"x\": [7.4270000000000005, 7.404, 7.31599998474121, 7.327999999999999, 7.278], \"y\": [0.63297, 0.5737, 0.611100912094116, 0.653, 0.584]}, {\"marker\": {\"size\": [1.29025, 1.40598, 1.44357192516327, 1.305, 1.34], \"sizemode\": \"area\", \"sizeref\": 0.00131}, \"mode\": \"markers\", \"name\": \"Finland\", \"text\": [\"Finland\", \"Finland\", \"Finland\", \"Finland\", \"Finland\"], \"type\": \"scatter\", \"x\": [7.406000000000001, 7.412999999999999, 7.468999862670901, 7.632000000000001, 7.769], \"y\": [0.64169, 0.57104, 0.6179508566856379, 0.6809999999999999, 0.596]}, {\"marker\": {\"size\": [1.32944, 1.46468, 1.50394463539124, 1.361, 1.396], \"sizemode\": \"area\", \"sizeref\": 0.00131}, \"mode\": \"markers\", \"name\": \"Netherlands\", \"text\": [\"Netherlands\", \"Netherlands\", \"Netherlands\", \"Netherlands\", \"Netherlands\"], \"type\": \"scatter\", \"x\": [7.377999999999999, 7.3389999999999995, 7.3769998550415, 7.441, 7.4879999999999995], \"y\": [0.6157600000000001, 0.55211, 0.5853844881057739, 0.638, 0.557]}, {\"marker\": {\"size\": [1.33171, 1.45181, 1.49438726902008, 1.355, 1.3869999999999998], \"sizemode\": \"area\", \"sizeref\": 0.00131}, \"mode\": \"markers\", \"name\": \"Sweden\", \"text\": [\"Sweden\", \"Sweden\", \"Sweden\", \"Sweden\", \"Sweden\"], \"type\": \"scatter\", \"x\": [7.364, 7.291, 7.28399991989136, 7.314, 7.343], \"y\": [0.6598, 0.58218, 0.612924098968506, 0.659, 0.574]}, {\"marker\": {\"size\": [1.2501799999999998, 1.36066, 1.40570604801178, 1.268, 1.3030000000000002], \"sizemode\": \"area\", \"sizeref\": 0.00131}, \"mode\": \"markers\", \"name\": \"New Zealand\", \"text\": [\"New Zealand\", \"New Zealand\", \"New Zealand\", \"New Zealand\", \"New Zealand\"], \"type\": \"scatter\", \"x\": [7.2860000000000005, 7.334, 7.31400012969971, 7.324, 7.307], \"y\": [0.6393800000000001, 0.5814699999999999, 0.6140621304512021, 0.669, 0.585]}, {\"marker\": {\"size\": [1.33358, 1.4444299999999999, 1.4844149351120002, 1.34, 1.3719999999999999], \"sizemode\": \"area\", \"sizeref\": 0.00131}, \"mode\": \"markers\", \"name\": \"Australia\", \"text\": [\"Australia\", \"Australia\", \"Australia\", \"Australia\", \"Australia\"], \"type\": \"scatter\", \"x\": [7.284, 7.313, 7.28399991989136, 7.272, 7.228], \"y\": [0.6512399999999999, 0.5683699999999999, 0.601607382297516, 0.647, 0.557]}, {\"marker\": {\"size\": [1.2285700000000002, 1.33766, 1.3753824234008798, 1.301, 1.276], \"sizemode\": \"area\", \"sizeref\": 0.00131}, \"mode\": \"markers\", \"name\": \"Israel\", \"text\": [\"Israel\", \"Israel\", \"Israel\", \"Israel\", \"Israel\"], \"type\": \"scatter\", \"x\": [7.278, 7.267, 7.212999820709231, 6.814, 7.138999999999999], \"y\": [0.41318999999999995, 0.36432, 0.40598860383033797, 0.5329999999999999, 0.371]}, {\"marker\": {\"size\": [0.95578, 1.06879, 1.10970628261566, 1.01, 1.034], \"sizemode\": \"area\", \"sizeref\": 0.00131}, \"mode\": \"markers\", \"name\": \"Costa Rica\", \"text\": [\"Costa Rica\", \"Costa Rica\", \"Costa Rica\", \"Costa Rica\", \"Costa Rica\"], \"type\": \"scatter\", \"x\": [7.226, 7.087000000000001, 7.0789999961853, 7.072, 7.167000000000001], \"y\": [0.63376, 0.55225, 0.580131649971008, 0.632, 0.5579999999999999]}, {\"marker\": {\"size\": [1.33723, 1.45038, 1.4870972633361799, 1.341, 1.376], \"sizemode\": \"area\", \"sizeref\": 0.00131}, \"mode\": \"markers\", \"name\": \"Austria\", \"text\": [\"Austria\", \"Austria\", \"Austria\", \"Austria\", \"Austria\"], \"type\": \"scatter\", \"x\": [7.2, 7.119, 7.00600004196167, 7.138999999999999, 7.246], \"y\": [0.62433, 0.54355, 0.567766189575195, 0.617, 0.532]}, {\"marker\": {\"size\": [1.02054, 1.1150799999999998, 1.1531838178634601, 1.038, 1.07], \"sizemode\": \"area\", \"sizeref\": 0.00131}, \"mode\": \"markers\", \"name\": \"Mexico\", \"text\": [\"Mexico\", \"Mexico\", \"Mexico\", \"Mexico\", \"Mexico\"], \"type\": \"scatter\", \"x\": [7.187, 6.778, 6.57800006866455, 6.4879999999999995, 6.595], \"y\": [0.48181, 0.37709000000000004, 0.412730008363724, 0.479, 0.433]}, {\"marker\": {\"size\": [1.3945100000000001, 1.50796, 1.54625928401947, 1.3980000000000001, 1.433], \"sizemode\": \"area\", \"sizeref\": 0.00131}, \"mode\": \"markers\", \"name\": \"United States\", \"text\": [\"United States\", \"United States\", \"United States\", \"United States\", \"United States\"], \"type\": \"scatter\", \"x\": [7.119, 7.104, 6.993000030517581, 6.886, 6.892], \"y\": [0.54604, 0.48163, 0.505740523338318, 0.547, 0.45399999999999996]}, {\"marker\": {\"size\": [0.98124, 1.08754, 1.1073532104492199, 0.986, 1.004], \"sizemode\": \"area\", \"sizeref\": 0.00131}, \"mode\": \"markers\", \"name\": \"Brazil\", \"text\": [\"Brazil\", \"Brazil\", \"Brazil\", \"Brazil\", \"Brazil\"], \"type\": \"scatter\", \"x\": [6.983, 6.952000000000001, 6.6350002288818395, 6.419, 6.3], \"y\": [0.49049, 0.40425, 0.437453746795654, 0.493, 0.39]}, {\"marker\": {\"size\": [1.5639100000000001, 1.6975200000000001, 1.74194359779358, 1.5759999999999998, 1.609], \"sizemode\": \"area\", \"sizeref\": 0.00131}, \"mode\": \"markers\", \"name\": \"Luxembourg\", \"text\": [\"Luxembourg\", \"Luxembourg\", \"Luxembourg\", \"Luxembourg\", \"Luxembourg\"], \"type\": \"scatter\", \"x\": [6.946000000000001, 6.871, 6.86299991607666, 6.91, 7.09], \"y\": [0.61583, 0.5487, 0.59662789106369, 0.632, 0.526]}, {\"marker\": {\"size\": [1.33596, 1.4834100000000001, 1.5357066392898602, 1.4480000000000002, 1.499], \"sizemode\": \"area\", \"sizeref\": 0.00131}, \"mode\": \"markers\", \"name\": \"Ireland\", \"text\": [\"Ireland\", \"Ireland\", \"Ireland\", \"Ireland\", \"Ireland\"], \"type\": \"scatter\", \"x\": [6.94, 6.907, 6.9770002365112305, 6.977, 7.021], \"y\": [0.6177699999999999, 0.54008, 0.5731103420257571, 0.614, 0.516]}, {\"marker\": {\"size\": [1.30782, 1.42539, 1.4637807607650801, 1.324, 1.3559999999999999], \"sizemode\": \"area\", \"sizeref\": 0.00131}, \"mode\": \"markers\", \"name\": \"Belgium\", \"text\": [\"Belgium\", \"Belgium\", \"Belgium\", \"Belgium\", \"Belgium\"], \"type\": \"scatter\", \"x\": [6.937, 6.928999999999999, 6.89099979400635, 6.9270000000000005, 6.922999999999999], \"y\": [0.5845, 0.51354, 0.5397707223892211, 0.583, 0.473]}, {\"marker\": {\"size\": [1.42727, 1.57352, 1.6263433694839498, 2.096, 1.5030000000000001], \"sizemode\": \"area\", \"sizeref\": 0.00131}, \"mode\": \"markers\", \"name\": \"United Arab Emirates\", \"text\": [\"United Arab Emirates\", \"United Arab Emirates\", \"United Arab Emirates\", \"United Arab Emirates\", \"United Arab Emirates\"], \"type\": \"scatter\", \"x\": [6.901, 6.5729999999999995, 6.6479997634887695, 6.774, 6.825], \"y\": [0.64157, 0.56215, 0.60834527015686, 0.284, 0.598]}, {\"marker\": {\"size\": [1.26637, 1.40283, 1.44163393974304, 1.244, 1.3330000000000002], \"sizemode\": \"area\", \"sizeref\": 0.00131}, \"mode\": \"markers\", \"name\": \"United Kingdom\", \"text\": [\"United Kingdom\", \"United Kingdom\", \"United Kingdom\", \"United Kingdom\", \"United Kingdom\"], \"type\": \"scatter\", \"x\": [6.867000000000001, 6.725, 6.71400022506714, 7.19, 7.053999999999999], \"y\": [0.59625, 0.50036, 0.508190035820007, 0.46399999999999997, 0.45]}, {\"marker\": {\"size\": [1.36011], \"sizemode\": \"area\", \"sizeref\": 0.00131}, \"mode\": \"markers\", \"name\": \"Oman\", \"text\": [\"Oman\"], \"type\": \"scatter\", \"x\": [6.853], \"y\": [0.63274]}, {\"marker\": {\"size\": [1.04424, 1.1336700000000002, 1.12843120098114, 0.996, 0.96], \"sizemode\": \"area\", \"sizeref\": 0.00131}, \"mode\": \"markers\", \"name\": \"Venezuela\", \"text\": [\"Venezuela\", \"Venezuela\", \"Venezuela\", \"Venezuela\", \"Venezuela\"], \"type\": \"scatter\", \"x\": [6.81, 6.084, 5.25, 4.806, 4.707], \"y\": [0.42908, 0.19847, 0.15399712324142498, 0.133, 0.154]}, {\"marker\": {\"size\": [1.52186, 1.64555, 1.69227766990662, 1.5290000000000001, 1.5719999999999998], \"sizemode\": \"area\", \"sizeref\": 0.00131}, \"mode\": \"markers\", \"name\": \"Singapore\", \"text\": [\"Singapore\", \"Singapore\", \"Singapore\", \"Singapore\", \"Singapore\"], \"type\": \"scatter\", \"x\": [6.797999999999999, 6.739, 6.57200002670288, 6.343, 6.2620000000000005], \"y\": [0.54252, 0.4877, 0.549840569496155, 0.631, 0.556]}, {\"marker\": {\"size\": [1.0635299999999999, 1.18306, 1.23374843597412, 1.112, 1.149], \"sizemode\": \"area\", \"sizeref\": 0.00131}, \"mode\": \"markers\", \"name\": \"Panama\", \"text\": [\"Panama\", \"Panama\", \"Panama\", \"Panama\", \"Panama\"], \"type\": \"scatter\", \"x\": [6.7860000000000005, 6.7010000000000005, 6.4520001411438, 6.43, 6.321000000000001], \"y\": [0.5421, 0.48927, 0.550026834011078, 0.597, 0.516]}, {\"marker\": {\"size\": [1.32792, 1.44787, 1.48792338371277, 1.34, 1.3730000000000002], \"sizemode\": \"area\", \"sizeref\": 0.00131}, \"mode\": \"markers\", \"name\": \"Germany\", \"text\": [\"Germany\", \"Germany\", \"Germany\", \"Germany\", \"Germany\"], \"type\": \"scatter\", \"x\": [6.75, 6.994, 6.9510002136230495, 6.965, 6.985], \"y\": [0.6147699999999999, 0.53466, 0.562511384487152, 0.586, 0.495]}, {\"marker\": {\"size\": [1.10715, 1.2167, 1.25278460979462, 1.131, 1.159], \"sizemode\": \"area\", \"sizeref\": 0.00131}, \"mode\": \"markers\", \"name\": \"Chile\", \"text\": [\"Chile\", \"Chile\", \"Chile\", \"Chile\", \"Chile\"], \"type\": \"scatter\", \"x\": [6.67, 6.705, 6.65199995040894, 6.476, 6.444], \"y\": [0.44132, 0.37789, 0.376895278692245, 0.431, 0.35700000000000004]}, {\"marker\": {\"size\": [1.69042, 1.82427, 1.8707656860351598, 1.649, 1.6840000000000002], \"sizemode\": \"area\", \"sizeref\": 0.00131}, \"mode\": \"markers\", \"name\": \"Qatar\", \"text\": [\"Qatar\", \"Qatar\", \"Qatar\", \"Qatar\", \"Qatar\"], \"type\": \"scatter\", \"x\": [6.611000000000001, 6.375, 6.375, 6.374, 6.374], \"y\": [0.6404, 0.56679, 0.604130983352661, 0.654, 0.555]}, {\"marker\": {\"size\": [1.27778, 1.39488, 1.43092346191406, 1.2930000000000001, 1.324], \"sizemode\": \"area\", \"sizeref\": 0.00131}, \"mode\": \"markers\", \"name\": \"France\", \"text\": [\"France\", \"France\", \"France\", \"France\", \"France\"], \"type\": \"scatter\", \"x\": [6.575, 6.478, 6.44199991226196, 6.489, 6.5920000000000005], \"y\": [0.55011, 0.46562, 0.470222115516663, 0.52, 0.436]}, {\"marker\": {\"size\": [1.05351, 1.15137, 1.18529546260834, 1.073, 1.092], \"sizemode\": \"area\", \"sizeref\": 0.00131}, \"mode\": \"markers\", \"name\": \"Argentina\", \"text\": [\"Argentina\", \"Argentina\", \"Argentina\", \"Argentina\", \"Argentina\"], \"type\": \"scatter\", \"x\": [6.574, 6.65, 6.59899997711182, 6.388, 6.086], \"y\": [0.44974, 0.42283999999999994, 0.49451920390129106, 0.57, 0.47100000000000003]}, {\"marker\": {\"size\": [1.17898, 1.30915, 1.35268235206604, 1.2329999999999999, 1.2690000000000001], \"sizemode\": \"area\", \"sizeref\": 0.00131}, \"mode\": \"markers\", \"name\": \"Czech Republic\", \"text\": [\"Czech Republic\", \"Czech Republic\", \"Czech Republic\", \"Czech Republic\", \"Czech Republic\"], \"type\": \"scatter\", \"x\": [6.505, 6.596, 6.60900020599365, 6.711, 6.852], \"y\": [0.46363999999999994, 0.41418, 0.49094617366790794, 0.5429999999999999, 0.457]}, {\"marker\": {\"size\": [1.06166, 1.18157, 1.2175596952438401, 1.093, 1.124], \"sizemode\": \"area\", \"sizeref\": 0.00131}, \"mode\": \"markers\", \"name\": \"Uruguay\", \"text\": [\"Uruguay\", \"Uruguay\", \"Uruguay\", \"Uruguay\", \"Uruguay\"], \"type\": \"scatter\", \"x\": [6.485, 6.545, 6.4539999961853, 6.379, 6.292999999999999], \"y\": [0.6036199999999999, 0.54388, 0.5793922543525699, 0.625, 0.523]}, {\"marker\": {\"size\": [0.91861, 1.0303200000000001, 1.07062232494354, 0.96, 0.985], \"sizemode\": \"area\", \"sizeref\": 0.00131}, \"mode\": \"markers\", \"name\": \"Colombia\", \"text\": [\"Colombia\", \"Colombia\", \"Colombia\", \"Colombia\", \"Colombia\"], \"type\": \"scatter\", \"x\": [6.477, 6.481, 6.35699987411499, 6.26, 6.125], \"y\": [0.53466, 0.44735, 0.47748741507530196, 0.531, 0.47]}, {\"marker\": {\"size\": [0.9669, 1.0893, 1.12786877155304, 1.016, 1.05], \"sizemode\": \"area\", \"sizeref\": 0.00131}, \"mode\": \"markers\", \"name\": \"Thailand\", \"text\": [\"Thailand\", \"Thailand\", \"Thailand\", \"Thailand\", \"Thailand\"], \"type\": \"scatter\", \"x\": [6.455, 6.474, 6.4239997863769505, 6.072, 6.007999999999999], \"y\": [0.5566399999999999, 0.49553, 0.580200731754303, 0.637, 0.557]}, {\"marker\": {\"size\": [1.39541, 1.48953, 1.53062355518341, 1.379, 1.403], \"sizemode\": \"area\", \"sizeref\": 0.00131}, \"mode\": \"markers\", \"name\": \"Saudi Arabia\", \"text\": [\"Saudi Arabia\", \"Saudi Arabia\", \"Saudi Arabia\", \"Saudi Arabia\", \"Saudi Arabia\"], \"type\": \"scatter\", \"x\": [6.4110000000000005, 6.379, 6.343999862670901, 6.371, 6.375], \"y\": [0.31048000000000003, 0.37904, 0.449750572443008, 0.509, 0.439]}, {\"marker\": {\"size\": [1.23011, 1.34253, 1.38439786434174, 1.251, 1.286], \"sizemode\": \"area\", \"sizeref\": 0.00131}, \"mode\": \"markers\", \"name\": \"Spain\", \"text\": [\"Spain\", \"Spain\", \"Spain\", \"Spain\", \"Spain\"], \"type\": \"scatter\", \"x\": [6.329, 6.361000000000001, 6.40299987792969, 6.31, 6.354], \"y\": [0.45951000000000003, 0.37545, 0.408781230449677, 0.449, 0.36200000000000004]}, {\"marker\": {\"size\": [1.2074, 1.30782, 1.34327983856201, 1.27, 1.3], \"sizemode\": \"area\", \"sizeref\": 0.00131}, \"mode\": \"markers\", \"name\": \"Malta\", \"text\": [\"Malta\", \"Malta\", \"Malta\", \"Malta\", \"Malta\"], \"type\": \"scatter\", \"x\": [6.3020000000000005, 6.4879999999999995, 6.52699995040894, 6.627000000000001, 6.726], \"y\": [0.60365, 0.54994, 0.588767051696777, 0.645, 0.564]}, {\"marker\": {\"size\": [1.29098, 1.39729, 1.365, 1.368], \"sizemode\": \"area\", \"sizeref\": 0.00131}, \"mode\": \"markers\", \"name\": \"Taiwan\", \"text\": [\"Taiwan\", \"Taiwan\", \"Taiwan\", \"Taiwan\"], \"type\": \"scatter\", \"x\": [6.297999999999999, 6.379, 6.441, 6.446000000000001], \"y\": [0.3974, 0.32377, 0.418, 0.35100000000000003]}, {\"marker\": {\"size\": [1.5542200000000002, 1.61714, 1.63295245170593, 1.474, 1.5], \"sizemode\": \"area\", \"sizeref\": 0.00131}, \"mode\": \"markers\", \"name\": \"Kuwait\", \"text\": [\"Kuwait\", \"Kuwait\", \"Kuwait\", \"Kuwait\", \"Kuwait\"], \"type\": \"scatter\", \"x\": [6.295, 6.239, 6.10500001907349, 6.082999999999999, 6.021], \"y\": [0.55499, 0.43166000000000004, 0.49633759260177596, 0.5539999999999999, 0.493]}, {\"marker\": {\"size\": [0.99534, 1.09686], \"sizemode\": \"area\", \"sizeref\": 0.00131}, \"mode\": \"markers\", \"name\": \"Suriname\", \"text\": [\"Suriname\", \"Suriname\"], \"type\": \"scatter\", \"x\": [6.269, 6.269], \"y\": [0.5965699999999999, 0.5223399999999999]}, {\"marker\": {\"size\": [1.21183, 1.32572, 1.36135590076447], \"sizemode\": \"area\", \"sizeref\": 0.00131}, \"mode\": \"markers\", \"name\": \"Trinidad and Tobago\", \"text\": [\"Trinidad and Tobago\", \"Trinidad and Tobago\", \"Trinidad and Tobago\"], \"type\": \"scatter\", \"x\": [6.167999999999999, 6.167999999999999, 6.1680002212524405], \"y\": [0.55884, 0.48453, 0.518630743026733]}, {\"marker\": {\"size\": [0.76454, 0.8737, 0.9097844958305359, 0.8059999999999999, 0.794], \"sizemode\": \"area\", \"sizeref\": 0.00131}, \"mode\": \"markers\", \"name\": \"El Salvador\", \"text\": [\"El Salvador\", \"El Salvador\", \"El Salvador\", \"El Salvador\", \"El Salvador\"], \"type\": \"scatter\", \"x\": [6.13, 6.068, 6.002999782562259, 6.167000000000001, 6.252999999999999], \"y\": [0.4035, 0.37269, 0.432452529668808, 0.461, 0.43]}, {\"marker\": {\"size\": [0.74553, 0.83454, 0.872001945972443, 0.7809999999999999, 0.8], \"sizemode\": \"area\", \"sizeref\": 0.00131}, \"mode\": \"markers\", \"name\": \"Guatemala\", \"text\": [\"Guatemala\", \"Guatemala\", \"Guatemala\", \"Guatemala\", \"Guatemala\"], \"type\": \"scatter\", \"x\": [6.122999999999999, 6.324, 6.4539999961853, 6.382000000000001, 6.436], \"y\": [0.57733, 0.50379, 0.5313106179237371, 0.604, 0.535]}, {\"marker\": {\"size\": [0.63244, 0.7359100000000001, 0.786441087722778, 0.7190000000000001, 0.745], \"sizemode\": \"area\", \"sizeref\": 0.00131}, \"mode\": \"markers\", \"name\": \"Uzbekistan\", \"text\": [\"Uzbekistan\", \"Uzbekistan\", \"Uzbekistan\", \"Uzbekistan\", \"Uzbekistan\"], \"type\": \"scatter\", \"x\": [6.002999999999999, 5.987, 5.97100019454956, 6.096, 6.1739999999999995], \"y\": [0.6582100000000001, 0.60848, 0.6582486629486078, 0.7240000000000001, 0.631]}, {\"marker\": {\"size\": [1.1689100000000001, 1.27973, 1.32539355754852, 1.21, 1.246], \"sizemode\": \"area\", \"sizeref\": 0.00131}, \"mode\": \"markers\", \"name\": \"Slovakia\", \"text\": [\"Slovakia\", \"Slovakia\", \"Slovakia\", \"Slovakia\", \"Slovakia\"], \"type\": \"scatter\", \"x\": [5.995, 6.077999999999999, 6.09800004959106, 6.172999999999999, 6.1979999999999995], \"y\": [0.31751, 0.23390999999999998, 0.295817464590073, 0.354, 0.33399999999999996]}, {\"marker\": {\"size\": [1.27074, 1.3800700000000001, 1.41691517829895, 1.294, 1.327], \"sizemode\": \"area\", \"sizeref\": 0.00131}, \"mode\": \"markers\", \"name\": \"Japan\", \"text\": [\"Japan\", \"Japan\", \"Japan\", \"Japan\", \"Japan\"], \"type\": \"scatter\", \"x\": [5.987, 5.921, 5.92000007629395, 5.915, 5.886], \"y\": [0.49615, 0.46761, 0.505625545978546, 0.5529999999999999, 0.445]}, {\"marker\": {\"size\": [1.24461, 1.35948, 1.40167844295502, 1.266, 1.301], \"sizemode\": \"area\", \"sizeref\": 0.00131}, \"mode\": \"markers\", \"name\": \"South Korea\", \"text\": [\"South Korea\", \"South Korea\", \"South Korea\", \"South Korea\", \"South Korea\"], \"type\": \"scatter\", \"x\": [5.984, 5.835, 5.837999820709231, 5.875, 5.895], \"y\": [0.33208000000000004, 0.25168, 0.257921665906906, 0.244, 0.159]}, {\"marker\": {\"size\": [0.8640200000000001, 0.97306, 1.00082039833069, 0.889, 0.912], \"sizemode\": \"area\", \"sizeref\": 0.00131}, \"mode\": \"markers\", \"name\": \"Ecuador\", \"text\": [\"Ecuador\", \"Ecuador\", \"Ecuador\", \"Ecuador\", \"Ecuador\"], \"type\": \"scatter\", \"x\": [5.975, 5.976, 6.00799989700317, 5.973, 6.028], \"y\": [0.48573999999999995, 0.4027, 0.4551981985569, 0.556, 0.498]}, {\"marker\": {\"size\": [1.32376, 1.44024, 1.4884122610092199, 1.338, 1.3619999999999999], \"sizemode\": \"area\", \"sizeref\": 0.00131}, \"mode\": \"markers\", \"name\": \"Bahrain\", \"text\": [\"Bahrain\", \"Bahrain\", \"Bahrain\", \"Bahrain\", \"Bahrain\"], \"type\": \"scatter\", \"x\": [5.96, 6.218, 6.08699989318848, 6.105, 6.199], \"y\": [0.45492, 0.47375, 0.536746919155121, 0.594, 0.536]}, {\"marker\": {\"size\": [1.25114, 1.35495, 1.3950666189193701, 1.264, 1.294], \"sizemode\": \"area\", \"sizeref\": 0.00131}, \"mode\": \"markers\", \"name\": \"Italy\", \"text\": [\"Italy\", \"Italy\", \"Italy\", \"Italy\", \"Italy\"], \"type\": \"scatter\", \"x\": [5.9479999999999995, 5.977, 5.96400022506714, 6.0, 6.223], \"y\": [0.26236, 0.18827, 0.256450712680817, 0.281, 0.231]}, {\"marker\": {\"size\": [0.68133, 0.79422, 0.833756566047668, 0.7509999999999999, 0.7759999999999999], \"sizemode\": \"area\", \"sizeref\": 0.00131}, \"mode\": \"markers\", \"name\": \"Bolivia\", \"text\": [\"Bolivia\", \"Bolivia\", \"Bolivia\", \"Bolivia\", \"Bolivia\"], \"type\": \"scatter\", \"x\": [5.89, 5.822, 5.82299995422363, 5.752000000000001, 5.779], \"y\": [0.57414, 0.50961, 0.5587329268455511, 0.606, 0.511]}, {\"marker\": {\"size\": [0.59448, 0.69177, 0.7288706302642819, 0.657, 0.685], \"sizemode\": \"area\", \"sizeref\": 0.00131}, \"mode\": \"markers\", \"name\": \"Moldova\", \"text\": [\"Moldova\", \"Moldova\", \"Moldova\", \"Moldova\", \"Moldova\"], \"type\": \"scatter\", \"x\": [5.888999999999999, 5.897, 5.837999820709231, 5.64, 5.529], \"y\": [0.32818, 0.25201999999999997, 0.24072904884815197, 0.23199999999999998, 0.245]}, {\"marker\": {\"size\": [0.75985, 0.8937299999999999, 0.932537317276001, 0.835, 0.855], \"sizemode\": \"area\", \"sizeref\": 0.00131}, \"mode\": \"markers\", \"name\": \"Paraguay\", \"text\": [\"Paraguay\", \"Paraguay\", \"Paraguay\", \"Paraguay\", \"Paraguay\"], \"type\": \"scatter\", \"x\": [5.877999999999999, 5.537999999999999, 5.493000030517581, 5.681, 5.742999999999999], \"y\": [0.53899, 0.46235, 0.473507791757584, 0.541, 0.514]}, {\"marker\": {\"size\": [1.1225399999999999, 1.22943, 1.2845562696456898, 1.143, 1.173], \"sizemode\": \"area\", \"sizeref\": 0.00131}, \"mode\": \"markers\", \"name\": \"Kazakhstan\", \"text\": [\"Kazakhstan\", \"Kazakhstan\", \"Kazakhstan\", \"Kazakhstan\", \"Kazakhstan\"], \"type\": \"scatter\", \"x\": [5.855, 5.919, 5.8189997673034695, 5.79, 5.809], \"y\": [0.51649, 0.4052, 0.43745428323745705, 0.45399999999999996, 0.41]}, {\"marker\": {\"size\": [1.18498, 1.2994700000000001, 1.3412059545516999, 1.219, 1.258], \"sizemode\": \"area\", \"sizeref\": 0.00131}, \"mode\": \"markers\", \"name\": \"Slovenia\", \"text\": [\"Slovenia\", \"Slovenia\", \"Slovenia\", \"Slovenia\", \"Slovenia\"], \"type\": \"scatter\", \"x\": [5.848, 5.768, 5.75799989700317, 5.9479999999999995, 6.117999999999999], \"y\": [0.60855, 0.53164, 0.572575807571411, 0.633, 0.564]}, {\"marker\": {\"size\": [1.14723, 1.2692, 1.3145823478698702, 1.197, 1.238], \"sizemode\": \"area\", \"sizeref\": 0.00131}, \"mode\": \"markers\", \"name\": \"Lithuania\", \"text\": [\"Lithuania\", \"Lithuania\", \"Lithuania\", \"Lithuania\", \"Lithuania\"], \"type\": \"scatter\", \"x\": [5.832999999999999, 5.813, 5.90199995040894, 5.952000000000001, 6.149], \"y\": [0.21341999999999997, 0.18929, 0.234231784939766, 0.35, 0.29100000000000004]}, {\"marker\": {\"size\": [0.59325, 0.69384, 0.737299203872681, 0.6679999999999999, 0.6940000000000001], \"sizemode\": \"area\", \"sizeref\": 0.00131}, \"mode\": \"markers\", \"name\": \"Nicaragua\", \"text\": [\"Nicaragua\", \"Nicaragua\", \"Nicaragua\", \"Nicaragua\", \"Nicaragua\"], \"type\": \"scatter\", \"x\": [5.827999999999999, 5.992000000000001, 6.07100009918213, 6.141, 6.105], \"y\": [0.55475, 0.46581999999999996, 0.447551846504211, 0.527, 0.435]}, {\"marker\": {\"size\": [0.9001899999999999, 0.9960200000000001, 1.0352252721786501, 0.934, 0.96], \"sizemode\": \"area\", \"sizeref\": 0.00131}, \"mode\": \"markers\", \"name\": \"Peru\", \"text\": [\"Peru\", \"Peru\", \"Peru\", \"Peru\", \"Peru\"], \"type\": \"scatter\", \"x\": [5.824, 5.742999999999999, 5.71500015258789, 5.662999999999999, 5.697], \"y\": [0.41496000000000005, 0.37501999999999996, 0.45000287890434293, 0.53, 0.455]}, {\"marker\": {\"size\": [1.0319200000000002, 1.1306200000000002, 1.15655755996704, 1.0390000000000001, 1.067], \"sizemode\": \"area\", \"sizeref\": 0.00131}, \"mode\": \"markers\", \"name\": \"Belarus\", \"text\": [\"Belarus\", \"Belarus\", \"Belarus\", \"Belarus\", \"Belarus\"], \"type\": \"scatter\", \"x\": [5.813, 5.8020000000000005, 5.5689997673034695, 5.483, 5.3229999999999995], \"y\": [0.37938, 0.29091, 0.295400261878967, 0.307, 0.235]}, {\"marker\": {\"size\": [1.12555, 1.24585, 1.29178786277771, 1.176, 1.206], \"sizemode\": \"area\", \"sizeref\": 0.00131}, \"mode\": \"markers\", \"name\": \"Poland\", \"text\": [\"Poland\", \"Poland\", \"Poland\", \"Poland\", \"Poland\"], \"type\": \"scatter\", \"x\": [5.791, 5.835, 5.97300004959106, 6.122999999999999, 6.182], \"y\": [0.53122, 0.4519, 0.520342111587524, 0.546, 0.483]}, {\"marker\": {\"size\": [1.12486, 1.25142, 1.29121541976929, 1.161, 1.2209999999999999], \"sizemode\": \"area\", \"sizeref\": 0.00131}, \"mode\": \"markers\", \"name\": \"Malaysia\", \"text\": [\"Malaysia\", \"Malaysia\", \"Malaysia\", \"Malaysia\", \"Malaysia\"], \"type\": \"scatter\", \"x\": [5.77, 6.005, 6.08400011062622, 6.322, 5.3389999999999995], \"y\": [0.5302399999999999, 0.39031, 0.40226498246192893, 0.35600000000000004, 0.508]}, {\"marker\": {\"size\": [1.08254, 1.18649, 1.22255623340607, 1.115, 1.155], \"sizemode\": \"area\", \"sizeref\": 0.00131}, \"mode\": \"markers\", \"name\": \"Croatia\", \"text\": [\"Croatia\", \"Croatia\", \"Croatia\", \"Croatia\", \"Croatia\"], \"type\": \"scatter\", \"x\": [5.7589999999999995, 5.4879999999999995, 5.2930002212524405, 5.321000000000001, 5.432], \"y\": [0.25883, 0.23906999999999998, 0.255772292613983, 0.38, 0.29600000000000004]}, {\"marker\": {\"size\": [1.13145, 1.0668799999999998, 1.1018030643463101, 0.985, 1.044], \"sizemode\": \"area\", \"sizeref\": 0.00131}, \"mode\": \"markers\", \"name\": \"Libya\", \"text\": [\"Libya\", \"Libya\", \"Libya\", \"Libya\", \"Libya\"], \"type\": \"scatter\", \"x\": [5.754, 5.615, 5.525000095367429, 5.566, 5.525], \"y\": [0.41668, 0.40671999999999997, 0.465733230113983, 0.496, 0.41600000000000004]}, {\"marker\": {\"size\": [1.13764, 1.2322799999999998, 1.28177809715271, 1.151, 1.183], \"sizemode\": \"area\", \"sizeref\": 0.00131}, \"mode\": \"markers\", \"name\": \"Russia\", \"text\": [\"Russia\", \"Russia\", \"Russia\", \"Russia\", \"Russia\"], \"type\": \"scatter\", \"x\": [5.716, 5.856, 5.962999820709231, 5.81, 5.648], \"y\": [0.36679, 0.32682, 0.373783111572266, 0.39899999999999997, 0.33399999999999996]}, {\"marker\": {\"size\": [0.81038, 0.89333, 0.925579309463501, 0.8190000000000001, 0.831], \"sizemode\": \"area\", \"sizeref\": 0.00131}, \"mode\": \"markers\", \"name\": \"Jamaica\", \"text\": [\"Jamaica\", \"Jamaica\", \"Jamaica\", \"Jamaica\", \"Jamaica\"], \"type\": \"scatter\", \"x\": [5.709, 5.51, 5.31099987030029, 5.89, 5.89], \"y\": [0.50442, 0.43596999999999997, 0.474307239055634, 0.575, 0.49]}, {\"marker\": {\"size\": [1.2080600000000001, 1.31141, 1.3469113111496], \"sizemode\": \"area\", \"sizeref\": 0.00131}, \"mode\": \"markers\", \"name\": \"North Cyprus\", \"text\": [\"North Cyprus\", \"North Cyprus\", \"North Cyprus\"], \"type\": \"scatter\", \"x\": [5.695, 5.771, 5.80999994277954], \"y\": [0.49027, 0.43596, 0.47120362520217896]}, {\"marker\": {\"size\": [1.20813, 1.31857, 1.3559380769729599, 1.229, 1.263], \"sizemode\": \"area\", \"sizeref\": 0.00131}, \"mode\": \"markers\", \"name\": \"Cyprus\", \"text\": [\"Cyprus\", \"Cyprus\", \"Cyprus\", \"Cyprus\", \"Cyprus\"], \"type\": \"scatter\", \"x\": [5.689, 5.546, 5.62099981307983, 5.7620000000000005, 6.046], \"y\": [0.40671999999999997, 0.29507, 0.35511153936386103, 0.423, 0.406]}, {\"marker\": {\"size\": [0.93929, 1.05266, 1.09186446666718, 0.9790000000000001, 1.002], \"sizemode\": \"area\", \"sizeref\": 0.00131}, \"mode\": \"markers\", \"name\": \"Algeria\", \"text\": [\"Algeria\", \"Algeria\", \"Algeria\", \"Algeria\", \"Algeria\"], \"type\": \"scatter\", \"x\": [5.605, 6.355, 5.872000217437741, 5.295, 5.211], \"y\": [0.28579, 0.21006, 0.233335807919502, 0.077, 0.086]}, {\"marker\": {\"size\": [0.80148, 0.90145, 0.951484382152557, 0.855, 0.882], \"sizemode\": \"area\", \"sizeref\": 0.00131}, \"mode\": \"markers\", \"name\": \"Kosovo\", \"text\": [\"Kosovo\", \"Kosovo\", \"Kosovo\", \"Kosovo\", \"Kosovo\"], \"type\": \"scatter\", \"x\": [5.5889999999999995, 5.401, 5.27899980545044, 5.662000000000001, 6.1], \"y\": [0.24749000000000002, 0.14396, 0.260287940502167, 0.44799999999999995, 0.489]}, {\"marker\": {\"size\": [0.95847, 1.08017, 1.1307767629623402, 1.016, 1.052], \"sizemode\": \"area\", \"sizeref\": 0.00131}, \"mode\": \"markers\", \"name\": \"Turkmenistan\", \"text\": [\"Turkmenistan\", \"Turkmenistan\", \"Turkmenistan\", \"Turkmenistan\", \"Turkmenistan\"], \"type\": \"scatter\", \"x\": [5.547999999999999, 5.6579999999999995, 5.82200002670288, 5.636, 5.247000000000001], \"y\": [0.4761, 0.37408, 0.41827192902565, 0.41700000000000004, 0.39399999999999996]}, {\"marker\": {\"size\": [1.0076100000000001, 1.14372, 1.1893955469131499, 1.09, 1.12], \"sizemode\": \"area\", \"sizeref\": 0.00131}, \"mode\": \"markers\", \"name\": \"Mauritius\", \"text\": [\"Mauritius\", \"Mauritius\", \"Mauritius\", \"Mauritius\", \"Mauritius\"], \"type\": \"scatter\", \"x\": [5.477, 5.648, 5.62900018692017, 5.891, 5.888], \"y\": [0.56066, 0.46145, 0.491247326135635, 0.584, 0.498]}, {\"marker\": {\"size\": [1.38604, 1.5107, 1.405, 1.4380000000000002], \"sizemode\": \"area\", \"sizeref\": 0.00131}, \"mode\": \"markers\", \"name\": \"Hong Kong\", \"text\": [\"Hong Kong\", \"Hong Kong\", \"Hong Kong\", \"Hong Kong\"], \"type\": \"scatter\", \"x\": [5.474, 5.457999999999999, 5.43, 5.43], \"y\": [0.59608, 0.48078999999999994, 0.524, 0.44]}, {\"marker\": {\"size\": [1.15174, 1.2796399999999999, 1.3208793401718102, 1.2, 1.237], \"sizemode\": \"area\", \"sizeref\": 0.00131}, \"mode\": \"markers\", \"name\": \"Estonia\", \"text\": [\"Estonia\", \"Estonia\", \"Estonia\", \"Estonia\", \"Estonia\"], \"type\": \"scatter\", \"x\": [5.428999999999999, 5.517, 5.61100006103516, 5.739, 5.893], \"y\": [0.44888, 0.41511000000000003, 0.479131430387497, 0.5529999999999999, 0.495]}, {\"marker\": {\"size\": [0.8282700000000001, 0.95104, 0.995538592338562, 0.899, 0.9309999999999999], \"sizemode\": \"area\", \"sizeref\": 0.00131}, \"mode\": \"markers\", \"name\": \"Indonesia\", \"text\": [\"Indonesia\", \"Indonesia\", \"Indonesia\", \"Indonesia\", \"Indonesia\"], \"type\": \"scatter\", \"x\": [5.399, 5.314, 5.26200008392334, 5.093, 5.192], \"y\": [0.46611, 0.39237, 0.443323463201523, 0.5379999999999999, 0.491]}, {\"marker\": {\"size\": [0.63216, 0.74037, 0.7885475754737851, 0.715, 0.741], \"sizemode\": \"area\", \"sizeref\": 0.00131}, \"mode\": \"markers\", \"name\": \"Vietnam\", \"text\": [\"Vietnam\", \"Vietnam\", \"Vietnam\", \"Vietnam\", \"Vietnam\"], \"type\": \"scatter\", \"x\": [5.36, 5.061, 5.07399988174438, 5.103, 5.175], \"y\": [0.59444, 0.5595399999999999, 0.571055591106415, 0.618, 0.5429999999999999]}, {\"marker\": {\"size\": [1.06098, 1.1649200000000002, 1.1982743740081798, 1.148, 1.183], \"sizemode\": \"area\", \"sizeref\": 0.00131}, \"mode\": \"markers\", \"name\": \"Turkey\", \"text\": [\"Turkey\", \"Turkey\", \"Turkey\", \"Turkey\", \"Turkey\"], \"type\": \"scatter\", \"x\": [5.332000000000001, 5.388999999999999, 5.5, 5.483, 5.372999999999999], \"y\": [0.22815, 0.23889000000000002, 0.300740599632263, 0.324, 0.195]}, {\"marker\": {\"size\": [0.47428000000000003, 0.5604399999999999, 0.5962200760841371, 0.53, 0.551], \"sizemode\": \"area\", \"sizeref\": 0.00131}, \"mode\": \"markers\", \"name\": \"Kyrgyzstan\", \"text\": [\"Kyrgyzstan\", \"Kyrgyzstan\", \"Kyrgyzstan\", \"Kyrgyzstan\", \"Kyrgyzstan\"], \"type\": \"scatter\", \"x\": [5.2860000000000005, 5.185, 5.0040001869201705, 5.131, 5.261], \"y\": [0.43477, 0.40212, 0.454943388700485, 0.54, 0.508]}, {\"marker\": {\"size\": [0.65435, 0.75216, 0.783756256103516, 0.6890000000000001, 0.696], \"sizemode\": \"area\", \"sizeref\": 0.00131}, \"mode\": \"markers\", \"name\": \"Nigeria\", \"text\": [\"Nigeria\", \"Nigeria\", \"Nigeria\", \"Nigeria\", \"Nigeria\"], \"type\": \"scatter\", \"x\": [5.268, 4.875, 5.07399988174438, 5.155, 5.265], \"y\": [0.34334000000000003, 0.27854, 0.394952565431595, 0.462, 0.426]}, {\"marker\": {\"size\": [0.77042, 0.8527, 0.885416388511658, 0.7959999999999999, 0.813], \"sizemode\": \"area\", \"sizeref\": 0.00131}, \"mode\": \"markers\", \"name\": \"Bhutan\", \"text\": [\"Bhutan\", \"Bhutan\", \"Bhutan\", \"Bhutan\", \"Bhutan\"], \"type\": \"scatter\", \"x\": [5.252999999999999, 5.196000000000001, 5.01100015640259, 5.082, 5.082], \"y\": [0.5320600000000001, 0.46074, 0.5015376806259161, 0.541, 0.457]}, {\"marker\": {\"size\": [1.02389, 1.12373, 1.1536017656326298, 1.024, 1.043], \"sizemode\": \"area\", \"sizeref\": 0.00131}, \"mode\": \"markers\", \"name\": \"Azerbaijan\", \"text\": [\"Azerbaijan\", \"Azerbaijan\", \"Azerbaijan\", \"Azerbaijan\", \"Azerbaijan\"], \"type\": \"scatter\", \"x\": [5.212000000000001, 5.291, 5.234000205993651, 5.2010000000000005, 5.207999999999999], \"y\": [0.3703, 0.35327, 0.39815583825111406, 0.43, 0.35100000000000003]}, {\"marker\": {\"size\": [0.59543, 0.68816, 0.7268835306167599, 0.652, 0.677], \"sizemode\": \"area\", \"sizeref\": 0.00131}, \"mode\": \"markers\", \"name\": \"Pakistan\", \"text\": [\"Pakistan\", \"Pakistan\", \"Pakistan\", \"Pakistan\", \"Pakistan\"], \"type\": \"scatter\", \"x\": [5.194, 5.132000000000001, 5.26900005340576, 5.472, 5.653], \"y\": [0.12102, 0.14622000000000002, 0.23521526157856, 0.33399999999999996, 0.313]}, {\"marker\": {\"size\": [0.9019799999999999, 0.9967299999999999, 0.9910123944282528, 0.8220000000000001, 0.8370000000000001], \"sizemode\": \"area\", \"sizeref\": 0.00131}, \"mode\": \"markers\", \"name\": \"Jordan\", \"text\": [\"Jordan\", \"Jordan\", \"Jordan\", \"Jordan\", \"Jordan\"], \"type\": \"scatter\", \"x\": [5.192, 5.303, 5.33599996566772, 5.1610000000000005, 4.906000000000001], \"y\": [0.40660999999999997, 0.36023, 0.418421149253845, 0.46799999999999997, 0.38299999999999995]}, {\"marker\": {\"size\": [0.9743799999999999, 1.07838, 1.12112903594971, 1.0170000000000001, 1.051], \"sizemode\": \"area\", \"sizeref\": 0.00131}, \"mode\": \"markers\", \"name\": \"Montenegro\", \"text\": [\"Montenegro\", \"Montenegro\", \"Montenegro\", \"Montenegro\", \"Montenegro\"], \"type\": \"scatter\", \"x\": [5.192, 5.1610000000000005, 5.23699998855591, 5.347, 5.523], \"y\": [0.1826, 0.15111, 0.194989055395126, 0.259, 0.19699999999999998]}, {\"marker\": {\"size\": [0.89012, 1.0278, 1.08116579055786, 0.9890000000000001, 1.0290000000000001], \"sizemode\": \"area\", \"sizeref\": 0.00131}, \"mode\": \"markers\", \"name\": \"China\", \"text\": [\"China\", \"China\", \"China\", \"China\", \"China\"], \"type\": \"scatter\", \"x\": [5.14, 5.245, 5.2729997634887695, 5.246, 5.191], \"y\": [0.5169699999999999, 0.44011999999999996, 0.47278770804405196, 0.597, 0.521]}, {\"marker\": {\"size\": [0.47038, 0.61202, 0.6364067792892459, 0.562, 0.578], \"sizemode\": \"area\", \"sizeref\": 0.00131}, \"mode\": \"markers\", \"name\": \"Zambia\", \"text\": [\"Zambia\", \"Zambia\", \"Zambia\", \"Zambia\", \"Zambia\"], \"type\": \"scatter\", \"x\": [5.129, 4.795, 4.513999938964839, 4.377, 4.107], \"y\": [0.48827, 0.42662, 0.461603492498398, 0.503, 0.431]}, {\"marker\": {\"size\": [1.04345, 1.1697, 1.21768391132355, 1.1159999999999999, 1.162], \"sizemode\": \"area\", \"sizeref\": 0.00131}, \"mode\": \"markers\", \"name\": \"Romania\", \"text\": [\"Romania\", \"Romania\", \"Romania\", \"Romania\", \"Romania\"], \"type\": \"scatter\", \"x\": [5.124, 5.528, 5.824999809265139, 5.945, 6.07], \"y\": [0.35068, 0.36712, 0.457003742456436, 0.528, 0.462]}, {\"marker\": {\"size\": [0.92053, 1.03437, 1.06931757926941, 0.975, 1.004], \"sizemode\": \"area\", \"sizeref\": 0.00131}, \"mode\": \"markers\", \"name\": \"Serbia\", \"text\": [\"Serbia\", \"Serbia\", \"Serbia\", \"Serbia\", \"Serbia\"], \"type\": \"scatter\", \"x\": [5.122999999999999, 5.1770000000000005, 5.39499998092651, 5.398, 5.603], \"y\": [0.20107, 0.15718, 0.20871552824974102, 0.28800000000000003, 0.282]}, {\"marker\": {\"size\": [1.15991, 1.27607, 1.3151752948761002, 1.188, 1.2209999999999999], \"sizemode\": \"area\", \"sizeref\": 0.00131}, \"mode\": \"markers\", \"name\": \"Portugal\", \"text\": [\"Portugal\", \"Portugal\", \"Portugal\", \"Portugal\", \"Portugal\"], \"type\": \"scatter\", \"x\": [5.102, 5.122999999999999, 5.19500017166138, 5.41, 5.693], \"y\": [0.51469, 0.44727, 0.498465299606323, 0.562, 0.508]}, {\"marker\": {\"size\": [1.11312, 1.2178799999999999, 1.26074862480164, 1.148, 1.187], \"sizemode\": \"area\", \"sizeref\": 0.00131}, \"mode\": \"markers\", \"name\": \"Latvia\", \"text\": [\"Latvia\", \"Latvia\", \"Latvia\", \"Latvia\", \"Latvia\"], \"type\": \"scatter\", \"x\": [5.098, 5.56, 5.849999904632571, 5.933, 5.94], \"y\": [0.29671, 0.27996, 0.32570791244506797, 0.363, 0.264]}, {\"marker\": {\"size\": [0.70532, 0.81217, 0.85769921541214, 0.775, 0.807], \"sizemode\": \"area\", \"sizeref\": 0.00131}, \"mode\": \"markers\", \"name\": \"Philippines\", \"text\": [\"Philippines\", \"Philippines\", \"Philippines\", \"Philippines\", \"Philippines\"], \"type\": \"scatter\", \"x\": [5.073, 5.279, 5.42999982833862, 5.524, 5.631], \"y\": [0.62545, 0.5485399999999999, 0.585214674472809, 0.643, 0.5579999999999999]}, {\"marker\": {\"size\": [0.18847], \"sizemode\": \"area\", \"sizeref\": 0.00131}, \"mode\": \"markers\", \"name\": \"Somaliland region\", \"text\": [\"Somaliland region\"], \"type\": \"scatter\", \"x\": [5.0569999999999995], \"y\": [0.46581999999999996]}, {\"marker\": {\"size\": [0.7347899999999999, 0.8405799999999999, 0.8781145811080929, 0.779, 0.8009999999999999], \"sizemode\": \"area\", \"sizeref\": 0.00131}, \"mode\": \"markers\", \"name\": \"Morocco\", \"text\": [\"Morocco\", \"Morocco\", \"Morocco\", \"Morocco\", \"Morocco\"], \"type\": \"scatter\", \"x\": [5.013, 5.151, 5.2350001335144, 5.254, 5.207999999999999], \"y\": [0.41691000000000006, 0.25645999999999997, 0.408158332109451, 0.46, 0.418]}, {\"marker\": {\"size\": [0.91851, 1.0193, 1.06457793712616, 0.9590000000000001], \"sizemode\": \"area\", \"sizeref\": 0.00131}, \"mode\": \"markers\", \"name\": \"Macedonia\", \"text\": [\"Macedonia\", \"Macedonia\", \"Macedonia\", \"Macedonia\"], \"type\": \"scatter\", \"x\": [5.007, 5.121, 5.175000190734861, 5.185], \"y\": [0.33457, 0.27668000000000004, 0.325905978679657, 0.39399999999999996]}, {\"marker\": {\"size\": [0.08308, 0.23430564999580397, 0.198, 0.204], \"sizemode\": \"area\", \"sizeref\": 0.00131}, \"mode\": \"markers\", \"name\": \"Mozambique\", \"text\": [\"Mozambique\", \"Mozambique\", \"Mozambique\", \"Mozambique\"], \"type\": \"scatter\", \"x\": [4.971, 4.550000190734861, 4.417, 4.466], \"y\": [0.34037, 0.48079109191894503, 0.531, 0.494]}, {\"marker\": {\"size\": [0.8786700000000001, 0.9553, 0.996192753314972, 0.9159999999999999, 0.9470000000000001], \"sizemode\": \"area\", \"sizeref\": 0.00131}, \"mode\": \"markers\", \"name\": \"Albania\", \"text\": [\"Albania\", \"Albania\", \"Albania\", \"Albania\", \"Albania\"], \"type\": \"scatter\", \"x\": [4.959, 4.655, 4.64400005340576, 4.586, 4.718999999999999], \"y\": [0.35733000000000004, 0.31866, 0.381498634815216, 0.419, 0.38299999999999995]}, {\"marker\": {\"size\": [0.8322299999999999, 0.9338299999999999, 0.982409417629242, 0.915, 0.945], \"sizemode\": \"area\", \"sizeref\": 0.00131}, \"mode\": \"markers\", \"name\": \"Bosnia and Herzegovina\", \"text\": [\"Bosnia and Herzegovina\", \"Bosnia and Herzegovina\", \"Bosnia and Herzegovina\", \"Bosnia and Herzegovina\", \"Bosnia and Herzegovina\"], \"type\": \"scatter\", \"x\": [4.949, 5.162999999999999, 5.18200016021729, 5.129, 5.386], \"y\": [0.09245, 0.09511, 0.204403176903725, 0.28, 0.212]}, {\"marker\": {\"size\": [0.37545, 0.521021246910095, 0.47200000000000003, 0.489], \"sizemode\": \"area\", \"sizeref\": 0.00131}, \"mode\": \"markers\", \"name\": \"Lesotho\", \"text\": [\"Lesotho\", \"Lesotho\", \"Lesotho\", \"Lesotho\"], \"type\": \"scatter\", \"x\": [4.898, 3.80800008773804, 3.8080000000000003, 3.802], \"y\": [0.31767, 0.390661299228668, 0.423, 0.359]}, {\"marker\": {\"size\": [0.8953700000000001, 1.02787, 1.07937383651733, 0.982, 1.015], \"sizemode\": \"area\", \"sizeref\": 0.00131}, \"mode\": \"markers\", \"name\": \"Dominican Republic\", \"text\": [\"Dominican Republic\", \"Dominican Republic\", \"Dominican Republic\", \"Dominican Republic\", \"Dominican Republic\"], \"type\": \"scatter\", \"x\": [4.885, 5.155, 5.230000019073491, 5.3020000000000005, 5.425], \"y\": [0.57672, 0.52259, 0.55258983373642, 0.578, 0.49700000000000005]}, {\"marker\": {\"size\": [0.5906600000000001, 0.68042, 0.72, 0.764], \"sizemode\": \"area\", \"sizeref\": 0.00131}, \"mode\": \"markers\", \"name\": \"Laos\", \"text\": [\"Laos\", \"Laos\", \"Laos\", \"Laos\"], \"type\": \"scatter\", \"x\": [4.876, 4.876, 4.623, 4.796], \"y\": [0.59591, 0.52168, 0.626, 0.547]}, {\"marker\": {\"size\": [0.82819, 0.9885299999999999, 1.0272358655929599, 0.914, 0.948], \"sizemode\": \"area\", \"sizeref\": 0.00131}, \"mode\": \"markers\", \"name\": \"Mongolia\", \"text\": [\"Mongolia\", \"Mongolia\", \"Mongolia\", \"Mongolia\", \"Mongolia\"], \"type\": \"scatter\", \"x\": [4.874, 4.907, 4.95499992370605, 5.125, 5.285], \"y\": [0.43626000000000004, 0.35972, 0.39414396882057207, 0.395, 0.317]}, {\"marker\": {\"size\": [0.71206, 0.8109999999999999], \"sizemode\": \"area\", \"sizeref\": 0.00131}, \"mode\": \"markers\", \"name\": \"Swaziland\", \"text\": [\"Swaziland\", \"Swaziland\"], \"type\": \"scatter\", \"x\": [4.867, 4.212], \"y\": [0.30658, 0.313]}, {\"marker\": {\"size\": [1.15406, 1.24886, 1.28948748111725, 1.1540000000000001, 1.181], \"sizemode\": \"area\", \"sizeref\": 0.00131}, \"mode\": \"markers\", \"name\": \"Greece\", \"text\": [\"Greece\", \"Greece\", \"Greece\", \"Greece\", \"Greece\"], \"type\": \"scatter\", \"x\": [4.857, 5.033, 5.2270002365112305, 5.358, 5.287000000000001], \"y\": [0.07699, 0.05822000000000001, 0.0957312509417534, 0.131, 0.067]}, {\"marker\": {\"size\": [1.0256399999999999, 1.12268, 1.07498753070831, 0.965, 0.987], \"sizemode\": \"area\", \"sizeref\": 0.00131}, \"mode\": \"markers\", \"name\": \"Lebanon\", \"text\": [\"Lebanon\", \"Lebanon\", \"Lebanon\", \"Lebanon\", \"Lebanon\"], \"type\": \"scatter\", \"x\": [4.8389999999999995, 5.129, 5.22499990463257, 5.358, 5.197], \"y\": [0.33916, 0.26228, 0.28851598501205394, 0.503, 0.21600000000000003]}, {\"marker\": {\"size\": [1.12094, 1.24142, 1.2860119342803997, 1.171, 1.2009999999999998], \"sizemode\": \"area\", \"sizeref\": 0.00131}, \"mode\": \"markers\", \"name\": \"Hungary\", \"text\": [\"Hungary\", \"Hungary\", \"Hungary\", \"Hungary\", \"Hungary\"], \"type\": \"scatter\", \"x\": [4.8, 5.145, 5.32399988174438, 5.62, 5.757999999999999], \"y\": [0.32111999999999996, 0.1977, 0.17586351931095098, 0.259, 0.19899999999999998]}, {\"marker\": {\"size\": [0.59532, 0.69429, 0.730573117733002, 0.62, 0.642], \"sizemode\": \"area\", \"sizeref\": 0.00131}, \"mode\": \"markers\", \"name\": \"Honduras\", \"text\": [\"Honduras\", \"Honduras\", \"Honduras\", \"Honduras\", \"Honduras\"], \"type\": \"scatter\", \"x\": [4.788, 4.871, 5.1810002326965305, 5.504, 5.86], \"y\": [0.40148, 0.26755, 0.348079860210419, 0.45899999999999996, 0.507]}, {\"marker\": {\"size\": [0.39047, 0.48835, 0.524713635444641, 0.474, 0.493], \"sizemode\": \"area\", \"sizeref\": 0.00131}, \"mode\": \"markers\", \"name\": \"Tajikistan\", \"text\": [\"Tajikistan\", \"Tajikistan\", \"Tajikistan\", \"Tajikistan\", \"Tajikistan\"], \"type\": \"scatter\", \"x\": [4.7860000000000005, 4.996, 5.04099988937378, 5.199, 5.4670000000000005], \"y\": [0.47216, 0.43408, 0.47156670689582797, 0.292, 0.389]}, {\"marker\": {\"size\": [0.88113, 0.97724, 1.00726580619812, 0.9, 0.9209999999999999], \"sizemode\": \"area\", \"sizeref\": 0.00131}, \"mode\": \"markers\", \"name\": \"Tunisia\", \"text\": [\"Tunisia\", \"Tunisia\", \"Tunisia\", \"Tunisia\", \"Tunisia\"], \"type\": \"scatter\", \"x\": [4.739, 5.045, 4.80499982833862, 4.592, 4.461], \"y\": [0.26268, 0.23553000000000002, 0.289680689573288, 0.271, 0.16699999999999998]}, {\"marker\": {\"size\": [0.59867, 0.67024, 0.716249227523804, 0.642, 0.657], \"sizemode\": \"area\", \"sizeref\": 0.00131}, \"mode\": \"markers\", \"name\": \"Palestinian Territories\", \"text\": [\"Palestinian Territories\", \"Palestinian Territories\", \"Palestinian Territories\", \"Palestinian Territories\", \"Palestinian Territories\"], \"type\": \"scatter\", \"x\": [4.715, 4.754, 4.77500009536743, 4.743, 4.696000000000001], \"y\": [0.24499, 0.17744000000000001, 0.25471106171608, 0.266, 0.225]}, {\"marker\": {\"size\": [0.39753, 0.54177, 0.586682975292206, 0.532, 0.562], \"sizemode\": \"area\", \"sizeref\": 0.00131}, \"mode\": \"markers\", \"name\": \"Bangladesh\", \"text\": [\"Bangladesh\", \"Bangladesh\", \"Bangladesh\", \"Bangladesh\", \"Bangladesh\"], \"type\": \"scatter\", \"x\": [4.694, 4.643, 4.60799980163574, 4.5, 4.456], \"y\": [0.4082, 0.39778, 0.478356659412384, 0.58, 0.527]}, {\"marker\": {\"size\": [1.0088, 1.11758, 1.15687310695648, 1.0590000000000002, 1.1], \"sizemode\": \"area\", \"sizeref\": 0.00131}, \"mode\": \"markers\", \"name\": \"Iran\", \"text\": [\"Iran\", \"Iran\", \"Iran\", \"Iran\", \"Iran\"], \"type\": \"scatter\", \"x\": [4.686, 4.813, 4.69199991226196, 4.707, 4.548], \"y\": [0.30033000000000004, 0.22544, 0.24932260811328896, 0.45899999999999996, 0.305]}, {\"marker\": {\"size\": [0.79907, 0.87287, 0.89465194940567, 0.7929999999999999, 0.82], \"sizemode\": \"area\", \"sizeref\": 0.00131}, \"mode\": \"markers\", \"name\": \"Ukraine\", \"text\": [\"Ukraine\", \"Ukraine\", \"Ukraine\", \"Ukraine\", \"Ukraine\"], \"type\": \"scatter\", \"x\": [4.681, 4.324, 4.09600019454956, 4.103, 4.332], \"y\": [0.25123, 0.12859, 0.12297477573156401, 0.163, 0.17800000000000002]}, {\"marker\": {\"size\": [0.98549, 1.07474, 1.1027104854583702, 1.01, 1.043], \"sizemode\": \"area\", \"sizeref\": 0.00131}, \"mode\": \"markers\", \"name\": \"Iraq\", \"text\": [\"Iraq\", \"Iraq\", \"Iraq\", \"Iraq\", \"Iraq\"], \"type\": \"scatter\", \"x\": [4.677, 4.575, 4.49700021743774, 4.456, 4.437], \"y\": [0.0, 0.24856, 0.288555532693863, 0.304, 0.24100000000000002]}, {\"marker\": {\"size\": [0.9204899999999999, 1.02416, 1.05469870567322, 0.94, 0.96], \"sizemode\": \"area\", \"sizeref\": 0.00131}, \"mode\": \"markers\", \"name\": \"South Africa\", \"text\": [\"South Africa\", \"South Africa\", \"South Africa\", \"South Africa\", \"South Africa\"], \"type\": \"scatter\", \"x\": [4.6419999999999995, 4.459, 4.8289999961853, 4.724, 4.7219999999999995], \"y\": [0.33207, 0.42483000000000004, 0.479246735572815, 0.516, 0.389]}, {\"marker\": {\"size\": [0.5455800000000001, 0.63107, 0.667224824428558, 0.5920000000000001, 0.611], \"sizemode\": \"area\", \"sizeref\": 0.00131}, \"mode\": \"markers\", \"name\": \"Ghana\", \"text\": [\"Ghana\", \"Ghana\", \"Ghana\", \"Ghana\", \"Ghana\"], \"type\": \"scatter\", \"x\": [4.633, 4.276, 4.11999988555908, 4.657, 4.996], \"y\": [0.42341999999999996, 0.40973000000000004, 0.423026293516159, 0.499, 0.381]}, {\"marker\": {\"size\": [0.271, 0.35041, 0.37584653496742204, 0.35700000000000004, 0.366], \"sizemode\": \"area\", \"sizeref\": 0.00131}, \"mode\": \"markers\", \"name\": \"Zimbabwe\", \"text\": [\"Zimbabwe\", \"Zimbabwe\", \"Zimbabwe\", \"Zimbabwe\", \"Zimbabwe\"], \"type\": \"scatter\", \"x\": [4.61, 4.1930000000000005, 3.875, 3.6919999999999997, 3.6630000000000003], \"y\": [0.25861, 0.25429, 0.336384207010269, 0.406, 0.361]}, {\"marker\": {\"size\": [0.0712, 0.10705999999999999, 0.11904179304838199, 0.076, 0.073], \"sizemode\": \"area\", \"sizeref\": 0.00131}, \"mode\": \"markers\", \"name\": \"Liberia\", \"text\": [\"Liberia\", \"Liberia\", \"Liberia\", \"Liberia\", \"Liberia\"], \"type\": \"scatter\", \"x\": [4.571000000000001, 3.622, 3.5329999923706095, 3.495, 3.975], \"y\": [0.28531, 0.25748000000000004, 0.33288118243217496, 0.419, 0.37]}, {\"marker\": {\"size\": [0.64499, 0.74036, 0.7922212481498722, 0.721, 0.755], \"sizemode\": \"area\", \"sizeref\": 0.00131}, \"mode\": \"markers\", \"name\": \"India\", \"text\": [\"India\", \"India\", \"India\", \"India\", \"India\"], \"type\": \"scatter\", \"x\": [4.565, 4.404, 4.31500005722046, 4.19, 4.015], \"y\": [0.39786, 0.40285, 0.469987004995346, 0.539, 0.498]}, {\"marker\": {\"size\": [0.52107, 0.63069, 0.6595166921615601, 0.605], \"sizemode\": \"area\", \"sizeref\": 0.00131}, \"mode\": \"markers\", \"name\": \"Sudan\", \"text\": [\"Sudan\", \"Sudan\", \"Sudan\", \"Sudan\"], \"type\": \"scatter\", \"x\": [4.55, 4.138999999999999, 4.138999938964839, 4.138999999999999], \"y\": [0.10081, 0.0, 0.0149958552792668, 0.016]}, {\"marker\": {\"size\": [0.26673, 0.34097, 0.368610262870789, 0.315, 0.32299999999999995], \"sizemode\": \"area\", \"sizeref\": 0.00131}, \"mode\": \"markers\", \"name\": \"Haiti\", \"text\": [\"Haiti\", \"Haiti\", \"Haiti\", \"Haiti\", \"Haiti\"], \"type\": \"scatter\", \"x\": [4.518, 4.0280000000000005, 3.6029999256133998, 3.582, 3.597], \"y\": [0.24425, 0.12072000000000001, 0.0303698573261499, 0.025, 0.026000000000000002]}, {\"marker\": {\"size\": [0.0, 0.05661, 0.0921023488044739, 0.069, 0.094], \"sizemode\": \"area\", \"sizeref\": 0.00131}, \"mode\": \"markers\", \"name\": \"Congo (Kinshasa)\", \"text\": [\"Congo (Kinshasa)\", \"Congo (Kinshasa)\", \"Congo (Kinshasa)\", \"Congo (Kinshasa)\", \"Congo (Kinshasa)\"], \"type\": \"scatter\", \"x\": [4.5169999999999995, 4.272, 4.2800002098083505, 4.245, 4.418], \"y\": [0.22605, 0.15602, 0.235961347818375, 0.312, 0.26899999999999996]}, {\"marker\": {\"size\": [0.35996999999999996, 0.44626000000000005, 0.479820191860199, 0.425, 0.446], \"sizemode\": \"area\", \"sizeref\": 0.00131}, \"mode\": \"markers\", \"name\": \"Nepal\", \"text\": [\"Nepal\", \"Nepal\", \"Nepal\", \"Nepal\", \"Nepal\"], \"type\": \"scatter\", \"x\": [4.513999999999999, 4.793, 4.961999893188481, 4.88, 4.913], \"y\": [0.38282, 0.37012, 0.44030594825744607, 0.526, 0.439]}, {\"marker\": {\"size\": [0.19072999999999998, 0.29283000000000003, 0.339233845472336, 0.308, 0.336], \"sizemode\": \"area\", \"sizeref\": 0.00131}, \"mode\": \"markers\", \"name\": \"Ethiopia\", \"text\": [\"Ethiopia\", \"Ethiopia\", \"Ethiopia\", \"Ethiopia\", \"Ethiopia\"], \"type\": \"scatter\", \"x\": [4.512, 4.508, 4.46000003814697, 4.35, 4.2860000000000005], \"y\": [0.4345, 0.36703, 0.408842742443085, 0.452, 0.344]}, {\"marker\": {\"size\": [0.33024000000000003, 0.36485, 0.36842092871666, 0.256, 0.268], \"sizemode\": \"area\", \"sizeref\": 0.00131}, \"mode\": \"markers\", \"name\": \"Sierra Leone\", \"text\": [\"Sierra Leone\", \"Sierra Leone\", \"Sierra Leone\", \"Sierra Leone\", \"Sierra Leone\"], \"type\": \"scatter\", \"x\": [4.507, 4.635, 4.70900011062622, 4.571000000000001, 4.374], \"y\": [0.4084, 0.30685, 0.318697690963745, 0.355, 0.309]}, {\"marker\": {\"size\": [0.45407, 0.6139100000000001, 0.6484572887420649, 0.557, 0.57], \"sizemode\": \"area\", \"sizeref\": 0.00131}, \"mode\": \"markers\", \"name\": \"Mauritania\", \"text\": [\"Mauritania\", \"Mauritania\", \"Mauritania\", \"Mauritania\", \"Mauritania\"], \"type\": \"scatter\", \"x\": [4.436, 4.2010000000000005, 4.29199981689453, 4.356, 4.49], \"y\": [0.24231999999999998, 0.1268, 0.0960980430245399, 0.129, 0.066]}, {\"marker\": {\"size\": [0.36471, 0.52267, 0.560479462146759, 0.493, 0.512], \"sizemode\": \"area\", \"sizeref\": 0.00131}, \"mode\": \"markers\", \"name\": \"Kenya\", \"text\": [\"Kenya\", \"Kenya\", \"Kenya\", \"Kenya\", \"Kenya\"], \"type\": \"scatter\", \"x\": [4.419, 4.356, 4.55299997329712, 4.41, 4.5089999999999995], \"y\": [0.42215, 0.40576, 0.45276376605033897, 0.504, 0.431]}, {\"marker\": {\"size\": [0.44025], \"sizemode\": \"area\", \"sizeref\": 0.00131}, \"mode\": \"markers\", \"name\": \"Djibouti\", \"text\": [\"Djibouti\"], \"type\": \"scatter\", \"x\": [4.369], \"y\": [0.46074]}, {\"marker\": {\"size\": [0.7682100000000001, 0.8608600000000001, 0.900596737861633, 0.816, 0.85], \"sizemode\": \"area\", \"sizeref\": 0.00131}, \"mode\": \"markers\", \"name\": \"Armenia\", \"text\": [\"Armenia\", \"Armenia\", \"Armenia\", \"Armenia\", \"Armenia\"], \"type\": \"scatter\", \"x\": [4.35, 4.36, 4.37599992752075, 4.321000000000001, 4.559], \"y\": [0.19847, 0.14037, 0.198303267359734, 0.26, 0.28300000000000003]}, {\"marker\": {\"size\": [0.99355, 1.09426, 1.12209415435791, 1.0170000000000001, 1.041], \"sizemode\": \"area\", \"sizeref\": 0.00131}, \"mode\": \"markers\", \"name\": \"Botswana\", \"text\": [\"Botswana\", \"Botswana\", \"Botswana\", \"Botswana\", \"Botswana\"], \"type\": \"scatter\", \"x\": [4.332, 3.9739999999999998, 3.7660000324249303, 3.59, 3.488], \"y\": [0.49495, 0.44088999999999995, 0.505196332931519, 0.557, 0.455]}, {\"marker\": {\"size\": [0.27108000000000004, 0.34112, 0.36711055040359497, 0.682, 0.71], \"sizemode\": \"area\", \"sizeref\": 0.00131}, \"mode\": \"markers\", \"name\": \"Myanmar\", \"text\": [\"Myanmar\", \"Myanmar\", \"Myanmar\", \"Myanmar\", \"Myanmar\"], \"type\": \"scatter\", \"x\": [4.3069999999999995, 4.395, 4.54500007629395, 4.308, 4.36], \"y\": [0.44017, 0.42691999999999997, 0.514492034912109, 0.58, 0.525]}, {\"marker\": {\"size\": [0.7419, 0.8379200000000001, 0.950612664222717, 0.853, 0.8859999999999999], \"sizemode\": \"area\", \"sizeref\": 0.00131}, \"mode\": \"markers\", \"name\": \"Georgia\", \"text\": [\"Georgia\", \"Georgia\", \"Georgia\", \"Georgia\", \"Georgia\"], \"type\": \"scatter\", \"x\": [4.297, 4.252, 4.28599977493286, 4.34, 4.519], \"y\": [0.40576999999999996, 0.32461, 0.309410035610199, 0.375, 0.34600000000000003]}, {\"marker\": {\"size\": [0.016040000000000002, 0.08709, 0.233442038297653, 0.18600000000000003, 0.191], \"sizemode\": \"area\", \"sizeref\": 0.00131}, \"mode\": \"markers\", \"name\": \"Malawi\", \"text\": [\"Malawi\", \"Malawi\", \"Malawi\", \"Malawi\", \"Malawi\"], \"type\": \"scatter\", \"x\": [4.292, 4.156000000000001, 3.97000002861023, 3.5869999999999997, 3.41], \"y\": [0.43054, 0.4143, 0.466914653778076, 0.531, 0.44299999999999995]}, {\"marker\": {\"size\": [0.83524, 0.9731799999999999, 1.00985014438629, 0.9179999999999999, 0.9490000000000001], \"sizemode\": \"area\", \"sizeref\": 0.00131}, \"mode\": \"markers\", \"name\": \"Sri Lanka\", \"text\": [\"Sri Lanka\", \"Sri Lanka\", \"Sri Lanka\", \"Sri Lanka\", \"Sri Lanka\"], \"type\": \"scatter\", \"x\": [4.271, 4.415, 4.44000005722046, 4.471, 4.3660000000000005], \"y\": [0.5372600000000001, 0.50817, 0.561213254928589, 0.585, 0.47]}, {\"marker\": {\"size\": [0.4225, 0.5249699999999999, 0.564305365085602, 0.535, 0.5489999999999999], \"sizemode\": \"area\", \"sizeref\": 0.00131}, \"mode\": \"markers\", \"name\": \"Cameroon\", \"text\": [\"Cameroon\", \"Cameroon\", \"Cameroon\", \"Cameroon\", \"Cameroon\"], \"type\": \"scatter\", \"x\": [4.252, 4.513, 4.69500017166138, 4.975, 5.044], \"y\": [0.49309, 0.42736, 0.430388748645782, 0.45399999999999996, 0.381]}, {\"marker\": {\"size\": [1.01216, 1.11306, 1.1614590883255, 1.054, 1.092], \"sizemode\": \"area\", \"sizeref\": 0.00131}, \"mode\": \"markers\", \"name\": \"Bulgaria\", \"text\": [\"Bulgaria\", \"Bulgaria\", \"Bulgaria\", \"Bulgaria\", \"Bulgaria\"], \"type\": \"scatter\", \"x\": [4.218, 4.217, 4.71400022506714, 4.933, 5.011], \"y\": [0.30587, 0.21219000000000002, 0.28923171758651695, 0.359, 0.311]}, {\"marker\": {\"size\": [0.8818, 0.95395, 0.989701807498932, 0.885, 0.9129999999999999], \"sizemode\": \"area\", \"sizeref\": 0.00131}, \"mode\": \"markers\", \"name\": \"Egypt\", \"text\": [\"Egypt\", \"Egypt\", \"Egypt\", \"Egypt\", \"Egypt\"], \"type\": \"scatter\", \"x\": [4.194, 4.362, 4.7350001335144, 4.419, 4.166], \"y\": [0.17288, 0.18847, 0.28211015462875394, 0.312, 0.24100000000000002]}, {\"marker\": {\"size\": [0.5464899999999999, 0.57939, 0.5916834473609921, 0.442, 0.287], \"sizemode\": \"area\", \"sizeref\": 0.00131}, \"mode\": \"markers\", \"name\": \"Yemen\", \"text\": [\"Yemen\", \"Yemen\", \"Yemen\", \"Yemen\", \"Yemen\"], \"type\": \"scatter\", \"x\": [4.077, 3.7239999999999998, 3.59299993515015, 3.355, 3.38], \"y\": [0.35570999999999997, 0.2287, 0.24946372210979503, 0.244, 0.14300000000000002]}, {\"marker\": {\"size\": [0.75778, 0.84731, 0.8584281802177429, 0.73], \"sizemode\": \"area\", \"sizeref\": 0.00131}, \"mode\": \"markers\", \"name\": \"Angola\", \"text\": [\"Angola\", \"Angola\", \"Angola\", \"Angola\"], \"type\": \"scatter\", \"x\": [4.033, 3.866, 3.79500007629395, 3.795], \"y\": [0.10384000000000002, 0.00589, 0.0, 0.0]}, {\"marker\": {\"size\": [0.26074, 0.31292, 0.476180493831635, 0.37, 0.385], \"sizemode\": \"area\", \"sizeref\": 0.00131}, \"mode\": \"markers\", \"name\": \"Mali\", \"text\": [\"Mali\", \"Mali\", \"Mali\", \"Mali\", \"Mali\"], \"type\": \"scatter\", \"x\": [3.995, 4.073, 4.19000005722046, 4.447, 4.39], \"y\": [0.38856999999999997, 0.27544, 0.306613743305206, 0.36700000000000005, 0.327]}, {\"marker\": {\"size\": [0.67866, 0.7710899999999999, 0.8089642524719242, 0.682, 0.6729999999999999], \"sizemode\": \"area\", \"sizeref\": 0.00131}, \"mode\": \"markers\", \"name\": \"Congo (Brazzaville)\", \"text\": [\"Congo (Brazzaville)\", \"Congo (Brazzaville)\", \"Congo (Brazzaville)\", \"Congo (Brazzaville)\", \"Congo (Brazzaville)\"], \"type\": \"scatter\", \"x\": [3.989, 4.236000000000001, 4.29099988937378, 4.559, 4.812], \"y\": [0.41466000000000003, 0.37938, 0.4350258708000179, 0.514, 0.37200000000000005]}, {\"marker\": {\"size\": [0.23906, 0.27509, 0.27399999999999997], \"sizemode\": \"area\", \"sizeref\": 0.00131}, \"mode\": \"markers\", \"name\": \"Comoros\", \"text\": [\"Comoros\", \"Comoros\", \"Comoros\"], \"type\": \"scatter\", \"x\": [3.9560000000000004, 3.9560000000000004, 3.9730000000000003], \"y\": [0.22916999999999998, 0.15412, 0.142]}, {\"marker\": {\"size\": [0.21101999999999999, 0.34719, 0.381430715322495, 0.322, 0.332], \"sizemode\": \"area\", \"sizeref\": 0.00131}, \"mode\": \"markers\", \"name\": \"Uganda\", \"text\": [\"Uganda\", \"Uganda\", \"Uganda\", \"Uganda\", \"Uganda\"], \"type\": \"scatter\", \"x\": [3.931, 3.739, 4.08099985122681, 4.1610000000000005, 4.189], \"y\": [0.45726999999999995, 0.43653000000000003, 0.443185955286026, 0.45, 0.35600000000000004]}, {\"marker\": {\"size\": [0.36498, 0.44314, 0.479309022426605, 0.429, 0.45], \"sizemode\": \"area\", \"sizeref\": 0.00131}, \"mode\": \"markers\", \"name\": \"Senegal\", \"text\": [\"Senegal\", \"Senegal\", \"Senegal\", \"Senegal\", \"Senegal\"], \"type\": \"scatter\", \"x\": [3.904, 4.218999999999999, 4.53499984741211, 4.631, 4.681], \"y\": [0.36772, 0.31056, 0.37792226672172496, 0.406, 0.292]}, {\"marker\": {\"size\": [1.06024, 1.15851, 1.1982102394104, 1.036, 1.057], \"sizemode\": \"area\", \"sizeref\": 0.00131}, \"mode\": \"markers\", \"name\": \"Gabon\", \"text\": [\"Gabon\", \"Gabon\", \"Gabon\", \"Gabon\", \"Gabon\"], \"type\": \"scatter\", \"x\": [3.8960000000000004, 4.121, 4.46500015258789, 4.758, 4.7989999999999995], \"y\": [0.31914000000000003, 0.28098, 0.31232857704162603, 0.35600000000000004, 0.295]}, {\"marker\": {\"size\": [0.0694, 0.1327, 0.16192533075809498, 0.131, 0.138], \"sizemode\": \"area\", \"sizeref\": 0.00131}, \"mode\": \"markers\", \"name\": \"Niger\", \"text\": [\"Niger\", \"Niger\", \"Niger\", \"Niger\", \"Niger\"], \"type\": \"scatter\", \"x\": [3.845, 3.8560000000000003, 4.02799987792969, 4.166, 4.628], \"y\": [0.47691999999999996, 0.38040999999999997, 0.36365869641304, 0.39, 0.318]}, {\"marker\": {\"size\": [0.46038, 0.55604, 0.6017650961875921, 0.5489999999999999, 0.574], \"sizemode\": \"area\", \"sizeref\": 0.00131}, \"mode\": \"markers\", \"name\": \"Cambodia\", \"text\": [\"Cambodia\", \"Cambodia\", \"Cambodia\", \"Cambodia\", \"Cambodia\"], \"type\": \"scatter\", \"x\": [3.819, 3.907, 4.1680002212524405, 4.433, 4.7], \"y\": [0.66246, 0.5885199999999999, 0.633375823497772, 0.696, 0.609]}, {\"marker\": {\"size\": [0.2852, 0.47155, 0.511135876178741, 0.455, 0.47600000000000003], \"sizemode\": \"area\", \"sizeref\": 0.00131}, \"mode\": \"markers\", \"name\": \"Tanzania\", \"text\": [\"Tanzania\", \"Tanzania\", \"Tanzania\", \"Tanzania\", \"Tanzania\"], \"type\": \"scatter\", \"x\": [3.781, 3.6660000000000004, 3.34899997711182, 3.303, 3.2310000000000003], \"y\": [0.32878, 0.3176, 0.390017777681351, 0.48100000000000004, 0.41700000000000004]}, {\"marker\": {\"size\": [0.20824, 0.27954, 0.305808693170547, 0.262, 0.27399999999999997], \"sizemode\": \"area\", \"sizeref\": 0.00131}, \"mode\": \"markers\", \"name\": \"Madagascar\", \"text\": [\"Madagascar\", \"Madagascar\", \"Madagascar\", \"Madagascar\", \"Madagascar\"], \"type\": \"scatter\", \"x\": [3.681, 3.695, 3.64400005340576, 3.7739999999999996, 3.9330000000000003], \"y\": [0.19184, 0.13684000000000002, 0.18919676542282102, 0.221, 0.14800000000000002]}, {\"marker\": {\"size\": [0.0785, 0.0, 0.024, 0.026000000000000002], \"sizemode\": \"area\", \"sizeref\": 0.00131}, \"mode\": \"markers\", \"name\": \"Central African Republic\", \"text\": [\"Central African Republic\", \"Central African Republic\", \"Central African Republic\", \"Central African Republic\"], \"type\": \"scatter\", \"x\": [3.678, 2.69300007820129, 3.083, 3.083], \"y\": [0.48878999999999995, 0.270842045545578, 0.305, 0.225]}, {\"marker\": {\"size\": [0.34193, 0.42213999999999996, 0.43801298737525896, 0.358, 0.35], \"sizemode\": \"area\", \"sizeref\": 0.00131}, \"mode\": \"markers\", \"name\": \"Chad\", \"text\": [\"Chad\", \"Chad\", \"Chad\", \"Chad\", \"Chad\"], \"type\": \"scatter\", \"x\": [3.667, 3.763, 3.9360001087188703, 4.301, 4.35], \"y\": [0.23501, 0.12807000000000002, 0.16234202682972002, 0.18899999999999997, 0.174]}, {\"marker\": {\"size\": [0.17417, 0.22415, 0.24454993009567302, 0.344, 0.38], \"sizemode\": \"area\", \"sizeref\": 0.00131}, \"mode\": \"markers\", \"name\": \"Guinea\", \"text\": [\"Guinea\", \"Guinea\", \"Guinea\", \"Guinea\", \"Guinea\"], \"type\": \"scatter\", \"x\": [3.656, 3.6069999999999998, 3.50699996948242, 3.964, 4.534], \"y\": [0.37725, 0.30953, 0.348587512969971, 0.39399999999999996, 0.332]}, {\"marker\": {\"size\": [0.46534, 0.55507, 0.6030489206314089, 0.541, 0.569], \"sizemode\": \"area\", \"sizeref\": 0.00131}, \"mode\": \"markers\", \"name\": \"Ivory Coast\", \"text\": [\"Ivory Coast\", \"Ivory Coast\", \"Ivory Coast\", \"Ivory Coast\", \"Ivory Coast\"], \"type\": \"scatter\", \"x\": [3.655, 3.9160000000000004, 4.17999982833862, 4.671, 4.944], \"y\": [0.46866, 0.40663, 0.4477061927318571, 0.467, 0.35200000000000004]}, {\"marker\": {\"size\": [0.25811999999999996, 0.31995, 0.35022771358490007, 0.314, 0.331], \"sizemode\": \"area\", \"sizeref\": 0.00131}, \"mode\": \"markers\", \"name\": \"Burkina Faso\", \"text\": [\"Burkina Faso\", \"Burkina Faso\", \"Burkina Faso\", \"Burkina Faso\", \"Burkina Faso\"], \"type\": \"scatter\", \"x\": [3.5869999999999997, 3.739, 4.03200006484985, 4.4239999999999995, 4.587], \"y\": [0.39493, 0.3337, 0.32436785101890603, 0.312, 0.255]}, {\"marker\": {\"size\": [0.31982, 0.38227, 0.401477217674255, 0.332, 0.35], \"sizemode\": \"area\", \"sizeref\": 0.00131}, \"mode\": \"markers\", \"name\": \"Afghanistan\", \"text\": [\"Afghanistan\", \"Afghanistan\", \"Afghanistan\", \"Afghanistan\", \"Afghanistan\"], \"type\": \"scatter\", \"x\": [3.575, 3.36, 3.7939999103546103, 3.6319999999999997, 3.2030000000000003], \"y\": [0.23414000000000001, 0.1643, 0.106179520487785, 0.085, 0.0]}, {\"marker\": {\"size\": [0.22208000000000003, 0.32846, 0.368745893239975, 0.332, 0.359], \"sizemode\": \"area\", \"sizeref\": 0.00131}, \"mode\": \"markers\", \"name\": \"Rwanda\", \"text\": [\"Rwanda\", \"Rwanda\", \"Rwanda\", \"Rwanda\", \"Rwanda\"], \"type\": \"scatter\", \"x\": [3.465, 3.515, 3.47099995613098, 3.408, 3.3339999999999996], \"y\": [0.59201, 0.5432, 0.5818438529968261, 0.636, 0.555]}, {\"marker\": {\"size\": [0.28665, 0.39499, 0.43108540773391707, 0.37799999999999995, 0.39299999999999996], \"sizemode\": \"area\", \"sizeref\": 0.00131}, \"mode\": \"markers\", \"name\": \"Benin\", \"text\": [\"Benin\", \"Benin\", \"Benin\", \"Benin\", \"Benin\"], \"type\": \"scatter\", \"x\": [3.34, 3.484, 3.65700006484985, 4.141, 4.883], \"y\": [0.4845, 0.39747, 0.42596277594566295, 0.44, 0.349]}, {\"marker\": {\"size\": [0.6632, 0.7471899999999999, 0.777153134346008, 0.6890000000000001, 0.619], \"sizemode\": \"area\", \"sizeref\": 0.00131}, \"mode\": \"markers\", \"name\": \"Syria\", \"text\": [\"Syria\", \"Syria\", \"Syria\", \"Syria\", \"Syria\"], \"type\": \"scatter\", \"x\": [3.0060000000000002, 3.069, 3.46199989318848, 3.4619999999999997, 3.4619999999999997], \"y\": [0.15684, 0.06912, 0.0815394446253777, 0.08800000000000001, 0.013000000000000001]}, {\"marker\": {\"size\": [0.0153, 0.06831, 0.09162256866693501, 0.091, 0.046], \"sizemode\": \"area\", \"sizeref\": 0.00131}, \"mode\": \"markers\", \"name\": \"Burundi\", \"text\": [\"Burundi\", \"Burundi\", \"Burundi\", \"Burundi\", \"Burundi\"], \"type\": \"scatter\", \"x\": [2.905, 2.905, 2.90499997138977, 2.905, 3.775], \"y\": [0.1185, 0.0432, 0.0599007532000542, 0.065, 0.22]}, {\"marker\": {\"size\": [0.20868, 0.28123000000000004, 0.30544471740722695, 0.259, 0.275], \"sizemode\": \"area\", \"sizeref\": 0.00131}, \"mode\": \"markers\", \"name\": \"Togo\", \"text\": [\"Togo\", \"Togo\", \"Togo\", \"Togo\", \"Togo\"], \"type\": \"scatter\", \"x\": [2.839, 3.303, 3.4949998855590803, 3.9989999999999997, 4.085], \"y\": [0.36453, 0.34678000000000003, 0.38042613863945, 0.434, 0.293]}, {\"marker\": {\"size\": [1.35943], \"sizemode\": \"area\", \"sizeref\": 0.00131}, \"mode\": \"markers\", \"name\": \"Puerto Rico\", \"text\": [\"Puerto Rico\"], \"type\": \"scatter\", \"x\": [7.039], \"y\": [0.46823000000000004]}, {\"marker\": {\"size\": [0.87616, 0.907975316047668, 0.807], \"sizemode\": \"area\", \"sizeref\": 0.00131}, \"mode\": \"markers\", \"name\": \"Belize\", \"text\": [\"Belize\", \"Belize\", \"Belize\"], \"type\": \"scatter\", \"x\": [5.956, 5.955999851226809, 5.956], \"y\": [0.51231, 0.5475093722343439, 0.593]}, {\"marker\": {\"size\": [0.0, 0.0226431842893362, 0.0, 0.0], \"sizemode\": \"area\", \"sizeref\": 0.00131}, \"mode\": \"markers\", \"name\": \"Somalia\", \"text\": [\"Somalia\", \"Somalia\", \"Somalia\", \"Somalia\"], \"type\": \"scatter\", \"x\": [5.44, 5.151000022888179, 4.982, 4.668], \"y\": [0.5677800000000001, 0.602126955986023, 0.674, 0.5589999999999999]}, {\"marker\": {\"size\": [0.25558000000000003], \"sizemode\": \"area\", \"sizeref\": 0.00131}, \"mode\": \"markers\", \"name\": \"Somaliland Region\", \"text\": [\"Somaliland Region\"], \"type\": \"scatter\", \"x\": [5.0569999999999995], \"y\": [0.3913]}, {\"marker\": {\"size\": [0.9328700000000001, 0.964434325695038, 0.8740000000000001, 0.879], \"sizemode\": \"area\", \"sizeref\": 0.00131}, \"mode\": \"markers\", \"name\": \"Namibia\", \"text\": [\"Namibia\", \"Namibia\", \"Namibia\", \"Namibia\"], \"type\": \"scatter\", \"x\": [4.574, 4.57399988174438, 4.441, 4.638999999999999], \"y\": [0.48613999999999996, 0.520303547382355, 0.519, 0.401]}, {\"marker\": {\"size\": [0.39394, 0.39724862575531, 0.337, 0.306], \"sizemode\": \"area\", \"sizeref\": 0.00131}, \"mode\": \"markers\", \"name\": \"South Sudan\", \"text\": [\"South Sudan\", \"South Sudan\", \"South Sudan\", \"South Sudan\"], \"type\": \"scatter\", \"x\": [3.832, 3.5910000801086404, 3.2539999999999996, 2.853], \"y\": [0.19662000000000002, 0.147062435746193, 0.11199999999999999, 0.01]}, {\"marker\": {\"size\": [1.4336265325546298], \"sizemode\": \"area\", \"sizeref\": 0.00131}, \"mode\": \"markers\", \"name\": \"Taiwan Province of China\", \"text\": [\"Taiwan Province of China\"], \"type\": \"scatter\", \"x\": [6.42199993133545], \"y\": [0.361466586589813]}, {\"marker\": {\"size\": [1.55167484283447], \"sizemode\": \"area\", \"sizeref\": 0.00131}, \"mode\": \"markers\", \"name\": \"Hong Kong S.A.R., China\", \"text\": [\"Hong Kong S.A.R., China\"], \"type\": \"scatter\", \"x\": [5.47200012207031], \"y\": [0.490968644618988]}, {\"marker\": {\"size\": [1.2229999999999999, 1.2309999999999999], \"sizemode\": \"area\", \"sizeref\": 0.00131}, \"mode\": \"markers\", \"name\": \"Trinidad & Tobago\", \"text\": [\"Trinidad & Tobago\", \"Trinidad & Tobago\"], \"type\": \"scatter\", \"x\": [6.192, 6.192], \"y\": [0.575, 0.489]}, {\"marker\": {\"size\": [1.229, 1.263], \"sizemode\": \"area\", \"sizeref\": 0.00131}, \"mode\": \"markers\", \"name\": \"Northern Cyprus\", \"text\": [\"Northern Cyprus\", \"Northern Cyprus\"], \"type\": \"scatter\", \"x\": [5.835, 5.718], \"y\": [0.495, 0.41700000000000004]}, {\"marker\": {\"size\": [0.983], \"sizemode\": \"area\", \"sizeref\": 0.00131}, \"mode\": \"markers\", \"name\": \"North Macedonia\", \"text\": [\"North Macedonia\"], \"type\": \"scatter\", \"x\": [5.274], \"y\": [0.345]}, {\"marker\": {\"size\": [0.308], \"sizemode\": \"area\", \"sizeref\": 0.00131}, \"mode\": \"markers\", \"name\": \"Gambia\", \"text\": [\"Gambia\"], \"type\": \"scatter\", \"x\": [4.516], \"y\": [0.382]}],\n",
              "                        {\"height\": 800, \"hovermode\": \"closest\", \"margin\": {\"b\": 50, \"pad\": 5, \"t\": 50}, \"showlegend\": true, \"template\": {\"data\": {\"bar\": [{\"error_x\": {\"color\": \"#2a3f5f\"}, \"error_y\": {\"color\": \"#2a3f5f\"}, \"marker\": {\"line\": {\"color\": \"#E5ECF6\", \"width\": 0.5}}, \"type\": \"bar\"}], \"barpolar\": [{\"marker\": {\"line\": {\"color\": \"#E5ECF6\", \"width\": 0.5}}, \"type\": \"barpolar\"}], \"carpet\": [{\"aaxis\": {\"endlinecolor\": \"#2a3f5f\", \"gridcolor\": \"white\", \"linecolor\": \"white\", \"minorgridcolor\": \"white\", \"startlinecolor\": \"#2a3f5f\"}, \"baxis\": {\"endlinecolor\": \"#2a3f5f\", \"gridcolor\": \"white\", \"linecolor\": \"white\", \"minorgridcolor\": \"white\", \"startlinecolor\": \"#2a3f5f\"}, \"type\": \"carpet\"}], \"choropleth\": [{\"colorbar\": {\"outlinewidth\": 0, \"ticks\": \"\"}, \"type\": \"choropleth\"}], \"contour\": [{\"colorbar\": {\"outlinewidth\": 0, \"ticks\": \"\"}, \"colorscale\": [[0.0, \"#0d0887\"], [0.1111111111111111, \"#46039f\"], [0.2222222222222222, \"#7201a8\"], [0.3333333333333333, \"#9c179e\"], [0.4444444444444444, \"#bd3786\"], [0.5555555555555556, \"#d8576b\"], [0.6666666666666666, \"#ed7953\"], [0.7777777777777778, \"#fb9f3a\"], [0.8888888888888888, \"#fdca26\"], [1.0, \"#f0f921\"]], \"type\": \"contour\"}], \"contourcarpet\": [{\"colorbar\": {\"outlinewidth\": 0, \"ticks\": \"\"}, \"type\": \"contourcarpet\"}], \"heatmap\": [{\"colorbar\": {\"outlinewidth\": 0, \"ticks\": \"\"}, \"colorscale\": [[0.0, \"#0d0887\"], [0.1111111111111111, \"#46039f\"], [0.2222222222222222, \"#7201a8\"], [0.3333333333333333, \"#9c179e\"], [0.4444444444444444, \"#bd3786\"], [0.5555555555555556, \"#d8576b\"], [0.6666666666666666, \"#ed7953\"], [0.7777777777777778, \"#fb9f3a\"], [0.8888888888888888, \"#fdca26\"], [1.0, \"#f0f921\"]], \"type\": \"heatmap\"}], \"heatmapgl\": [{\"colorbar\": {\"outlinewidth\": 0, \"ticks\": \"\"}, \"colorscale\": [[0.0, \"#0d0887\"], [0.1111111111111111, \"#46039f\"], [0.2222222222222222, \"#7201a8\"], [0.3333333333333333, \"#9c179e\"], [0.4444444444444444, \"#bd3786\"], [0.5555555555555556, \"#d8576b\"], [0.6666666666666666, \"#ed7953\"], [0.7777777777777778, \"#fb9f3a\"], [0.8888888888888888, \"#fdca26\"], [1.0, \"#f0f921\"]], \"type\": \"heatmapgl\"}], \"histogram\": [{\"marker\": {\"colorbar\": {\"outlinewidth\": 0, \"ticks\": \"\"}}, \"type\": \"histogram\"}], \"histogram2d\": [{\"colorbar\": {\"outlinewidth\": 0, \"ticks\": \"\"}, \"colorscale\": [[0.0, \"#0d0887\"], [0.1111111111111111, \"#46039f\"], [0.2222222222222222, \"#7201a8\"], [0.3333333333333333, \"#9c179e\"], [0.4444444444444444, \"#bd3786\"], [0.5555555555555556, \"#d8576b\"], [0.6666666666666666, \"#ed7953\"], [0.7777777777777778, \"#fb9f3a\"], [0.8888888888888888, \"#fdca26\"], [1.0, \"#f0f921\"]], \"type\": \"histogram2d\"}], \"histogram2dcontour\": [{\"colorbar\": {\"outlinewidth\": 0, \"ticks\": \"\"}, \"colorscale\": [[0.0, \"#0d0887\"], [0.1111111111111111, \"#46039f\"], [0.2222222222222222, \"#7201a8\"], [0.3333333333333333, \"#9c179e\"], [0.4444444444444444, \"#bd3786\"], [0.5555555555555556, \"#d8576b\"], [0.6666666666666666, \"#ed7953\"], [0.7777777777777778, \"#fb9f3a\"], [0.8888888888888888, \"#fdca26\"], [1.0, \"#f0f921\"]], \"type\": \"histogram2dcontour\"}], \"mesh3d\": [{\"colorbar\": {\"outlinewidth\": 0, \"ticks\": \"\"}, \"type\": \"mesh3d\"}], \"parcoords\": [{\"line\": {\"colorbar\": {\"outlinewidth\": 0, \"ticks\": \"\"}}, \"type\": \"parcoords\"}], \"pie\": [{\"automargin\": true, \"type\": \"pie\"}], \"scatter\": [{\"marker\": {\"colorbar\": {\"outlinewidth\": 0, \"ticks\": \"\"}}, \"type\": \"scatter\"}], \"scatter3d\": [{\"line\": {\"colorbar\": {\"outlinewidth\": 0, \"ticks\": \"\"}}, \"marker\": {\"colorbar\": {\"outlinewidth\": 0, \"ticks\": \"\"}}, \"type\": \"scatter3d\"}], \"scattercarpet\": [{\"marker\": {\"colorbar\": {\"outlinewidth\": 0, \"ticks\": \"\"}}, \"type\": \"scattercarpet\"}], \"scattergeo\": [{\"marker\": {\"colorbar\": {\"outlinewidth\": 0, \"ticks\": \"\"}}, \"type\": \"scattergeo\"}], \"scattergl\": [{\"marker\": {\"colorbar\": {\"outlinewidth\": 0, \"ticks\": \"\"}}, \"type\": \"scattergl\"}], \"scattermapbox\": [{\"marker\": {\"colorbar\": {\"outlinewidth\": 0, \"ticks\": \"\"}}, \"type\": \"scattermapbox\"}], \"scatterpolar\": [{\"marker\": {\"colorbar\": {\"outlinewidth\": 0, \"ticks\": \"\"}}, \"type\": \"scatterpolar\"}], \"scatterpolargl\": [{\"marker\": {\"colorbar\": {\"outlinewidth\": 0, \"ticks\": \"\"}}, \"type\": \"scatterpolargl\"}], \"scatterternary\": [{\"marker\": {\"colorbar\": {\"outlinewidth\": 0, \"ticks\": \"\"}}, \"type\": \"scatterternary\"}], \"surface\": [{\"colorbar\": {\"outlinewidth\": 0, \"ticks\": \"\"}, \"colorscale\": [[0.0, \"#0d0887\"], [0.1111111111111111, \"#46039f\"], [0.2222222222222222, \"#7201a8\"], [0.3333333333333333, \"#9c179e\"], [0.4444444444444444, \"#bd3786\"], [0.5555555555555556, \"#d8576b\"], [0.6666666666666666, \"#ed7953\"], [0.7777777777777778, \"#fb9f3a\"], [0.8888888888888888, \"#fdca26\"], [1.0, \"#f0f921\"]], \"type\": \"surface\"}], \"table\": [{\"cells\": {\"fill\": {\"color\": \"#EBF0F8\"}, \"line\": {\"color\": \"white\"}}, \"header\": {\"fill\": {\"color\": \"#C8D4E3\"}, \"line\": {\"color\": \"white\"}}, \"type\": \"table\"}]}, \"layout\": {\"annotationdefaults\": {\"arrowcolor\": \"#2a3f5f\", \"arrowhead\": 0, \"arrowwidth\": 1}, \"coloraxis\": {\"colorbar\": {\"outlinewidth\": 0, \"ticks\": \"\"}}, \"colorscale\": {\"diverging\": [[0, \"#8e0152\"], [0.1, \"#c51b7d\"], [0.2, \"#de77ae\"], [0.3, \"#f1b6da\"], [0.4, \"#fde0ef\"], [0.5, \"#f7f7f7\"], [0.6, \"#e6f5d0\"], [0.7, \"#b8e186\"], [0.8, \"#7fbc41\"], [0.9, \"#4d9221\"], [1, \"#276419\"]], \"sequential\": [[0.0, \"#0d0887\"], [0.1111111111111111, \"#46039f\"], [0.2222222222222222, \"#7201a8\"], [0.3333333333333333, \"#9c179e\"], [0.4444444444444444, \"#bd3786\"], [0.5555555555555556, \"#d8576b\"], [0.6666666666666666, \"#ed7953\"], [0.7777777777777778, \"#fb9f3a\"], [0.8888888888888888, \"#fdca26\"], [1.0, \"#f0f921\"]], \"sequentialminus\": [[0.0, \"#0d0887\"], [0.1111111111111111, \"#46039f\"], [0.2222222222222222, \"#7201a8\"], [0.3333333333333333, \"#9c179e\"], [0.4444444444444444, \"#bd3786\"], [0.5555555555555556, \"#d8576b\"], [0.6666666666666666, \"#ed7953\"], [0.7777777777777778, \"#fb9f3a\"], [0.8888888888888888, \"#fdca26\"], [1.0, \"#f0f921\"]]}, \"colorway\": [\"#636efa\", \"#EF553B\", \"#00cc96\", \"#ab63fa\", \"#FFA15A\", \"#19d3f3\", \"#FF6692\", \"#B6E880\", \"#FF97FF\", \"#FECB52\"], \"font\": {\"color\": \"#2a3f5f\"}, \"geo\": {\"bgcolor\": \"white\", \"lakecolor\": \"white\", \"landcolor\": \"#E5ECF6\", \"showlakes\": true, \"showland\": true, \"subunitcolor\": \"white\"}, \"hoverlabel\": {\"align\": \"left\"}, \"hovermode\": \"closest\", \"mapbox\": {\"style\": \"light\"}, \"paper_bgcolor\": \"white\", \"plot_bgcolor\": \"#E5ECF6\", \"polar\": {\"angularaxis\": {\"gridcolor\": \"white\", \"linecolor\": \"white\", \"ticks\": \"\"}, \"bgcolor\": \"#E5ECF6\", \"radialaxis\": {\"gridcolor\": \"white\", \"linecolor\": \"white\", \"ticks\": \"\"}}, \"scene\": {\"xaxis\": {\"backgroundcolor\": \"#E5ECF6\", \"gridcolor\": \"white\", \"gridwidth\": 2, \"linecolor\": \"white\", \"showbackground\": true, \"ticks\": \"\", \"zerolinecolor\": \"white\"}, \"yaxis\": {\"backgroundcolor\": \"#E5ECF6\", \"gridcolor\": \"white\", \"gridwidth\": 2, \"linecolor\": \"white\", \"showbackground\": true, \"ticks\": \"\", \"zerolinecolor\": \"white\"}, \"zaxis\": {\"backgroundcolor\": \"#E5ECF6\", \"gridcolor\": \"white\", \"gridwidth\": 2, \"linecolor\": \"white\", \"showbackground\": true, \"ticks\": \"\", \"zerolinecolor\": \"white\"}}, \"shapedefaults\": {\"line\": {\"color\": \"#2a3f5f\"}}, \"ternary\": {\"aaxis\": {\"gridcolor\": \"white\", \"linecolor\": \"white\", \"ticks\": \"\"}, \"baxis\": {\"gridcolor\": \"white\", \"linecolor\": \"white\", \"ticks\": \"\"}, \"bgcolor\": \"#E5ECF6\", \"caxis\": {\"gridcolor\": \"white\", \"linecolor\": \"white\", \"ticks\": \"\"}}, \"title\": {\"x\": 0.05}, \"xaxis\": {\"automargin\": true, \"gridcolor\": \"white\", \"linecolor\": \"white\", \"ticks\": \"\", \"title\": {\"standoff\": 15}, \"zerolinecolor\": \"white\", \"zerolinewidth\": 2}, \"yaxis\": {\"automargin\": true, \"gridcolor\": \"white\", \"linecolor\": \"white\", \"ticks\": \"\", \"title\": {\"standoff\": 15}, \"zerolinecolor\": \"white\", \"zerolinewidth\": 2}}}, \"title\": {\"text\": \"Happiness vs Freedom to make life choices vs Economy\"}, \"xaxis\": {\"autorange\": false, \"range\": [1.885100054740903, 10.8766], \"title\": {\"text\": \"Happiness Score\"}}, \"yaxis\": {\"autorange\": false, \"range\": [0.0, 1.0136], \"title\": {\"text\": \"Freedom to make life choices\"}}},\n",
              "                        {\"scrollzoom\": true, \"responsive\": true}\n",
              "                    ).then(function(){\n",
              "                            \n",
              "var gd = document.getElementById('534c2084-0fe1-4fa0-87e9-618493dc6ed5');\n",
              "var x = new MutationObserver(function (mutations, observer) {{\n",
              "        var display = window.getComputedStyle(gd).display;\n",
              "        if (!display || display === 'none') {{\n",
              "            console.log([gd, 'removed!']);\n",
              "            Plotly.purge(gd);\n",
              "            observer.disconnect();\n",
              "        }}\n",
              "}});\n",
              "\n",
              "// Listen for the removal of the full notebook cells\n",
              "var notebookContainer = gd.closest('#notebook-container');\n",
              "if (notebookContainer) {{\n",
              "    x.observe(notebookContainer, {childList: true});\n",
              "}}\n",
              "\n",
              "// Listen for the clearing of the current output cell\n",
              "var outputEl = gd.closest('.output');\n",
              "if (outputEl) {{\n",
              "    x.observe(outputEl, {childList: true});\n",
              "}}\n",
              "\n",
              "                        })\n",
              "                };\n",
              "                \n",
              "            </script>\n",
              "        </div>\n",
              "</body>\n",
              "</html>"
            ]
          },
          "metadata": {
            "tags": []
          }
        }
      ]
    },
    {
      "cell_type": "code",
      "metadata": {
        "id": "as6mFns82mcZ",
        "colab_type": "code",
        "colab": {
          "base_uri": "https://localhost:8080/",
          "height": 754
        },
        "outputId": "8b205691-b7d3-4340-9959-422ddc7b5759"
      },
      "source": [
        "\n",
        "figure = bubbleplot(dataset = df, x_column = 'Happiness Score', y_column = 'Health (Life Expectancy)', \n",
        "    bubble_column = 'Country or Region', size_column = 'Economy (GDP per Capita)', color_column = 'Country or Region', \n",
        "    x_title = \"Happiness Score\", y_title = \"Health\", title = 'Happiness vs Health vs Economy',\n",
        "    x_logscale = False, scale_bubble = 0.5, height = 650)\n",
        "\n",
        "py.iplot(figure, config={'scrollzoom': True})"
      ],
      "execution_count": null,
      "outputs": [
        {
          "output_type": "stream",
          "text": [
            "/usr/local/lib/python3.6/dist-packages/plotly/offline/offline.py:159: UserWarning:\n",
            "\n",
            "\n",
            "Unrecognized config options supplied: ['scrollzoom']\n",
            "\n"
          ],
          "name": "stderr"
        },
        {
          "output_type": "display_data",
          "data": {
            "text/html": [
              "<html>\n",
              "<head><meta charset=\"utf-8\" /></head>\n",
              "<body>\n",
              "    <div>\n",
              "            <script src=\"https://cdnjs.cloudflare.com/ajax/libs/mathjax/2.7.5/MathJax.js?config=TeX-AMS-MML_SVG\"></script><script type=\"text/javascript\">if (window.MathJax) {MathJax.Hub.Config({SVG: {font: \"STIX-Web\"}});}</script>\n",
              "                <script type=\"text/javascript\">window.PlotlyConfig = {MathJaxConfig: 'local'};</script>\n",
              "        <script src=\"https://cdn.plot.ly/plotly-latest.min.js\"></script>    \n",
              "            <div id=\"e08625ce-d799-4d45-beee-851acc700bdb\" class=\"plotly-graph-div\" style=\"height:650px; width:100%;\"></div>\n",
              "            <script type=\"text/javascript\">\n",
              "                \n",
              "                    window.PLOTLYENV=window.PLOTLYENV || {};\n",
              "                    \n",
              "                if (document.getElementById(\"e08625ce-d799-4d45-beee-851acc700bdb\")) {\n",
              "                    Plotly.newPlot(\n",
              "                        'e08625ce-d799-4d45-beee-851acc700bdb',\n",
              "                        [{\"marker\": {\"size\": [1.3965100000000001, 1.5273299999999999, 1.5649795532226598, 1.42, 1.452], \"sizemode\": \"area\", \"sizeref\": 0.00131}, \"mode\": \"markers\", \"name\": \"Switzerland\", \"text\": [\"Switzerland\", \"Switzerland\", \"Switzerland\", \"Switzerland\", \"Switzerland\"], \"type\": \"scatter\", \"x\": [7.587000000000001, 7.5089999999999995, 7.49399995803833, 7.487, 7.48], \"y\": [0.9414299999999999, 0.86303, 0.858131289482117, 0.927, 1.052]}, {\"marker\": {\"size\": [1.3023200000000001, 1.42666, 1.480633020401, 1.3430000000000002, 1.38], \"sizemode\": \"area\", \"sizeref\": 0.00131}, \"mode\": \"markers\", \"name\": \"Iceland\", \"text\": [\"Iceland\", \"Iceland\", \"Iceland\", \"Iceland\", \"Iceland\"], \"type\": \"scatter\", \"x\": [7.561, 7.501, 7.50400018692017, 7.495, 7.494], \"y\": [0.94784, 0.8673299999999999, 0.8335521221160892, 0.914, 1.026]}, {\"marker\": {\"size\": [1.32548, 1.4417799999999998, 1.48238301277161, 1.351, 1.383], \"sizemode\": \"area\", \"sizeref\": 0.00131}, \"mode\": \"markers\", \"name\": \"Denmark\", \"text\": [\"Denmark\", \"Denmark\", \"Denmark\", \"Denmark\", \"Denmark\"], \"type\": \"scatter\", \"x\": [7.527, 7.526, 7.52199983596802, 7.555, 7.6], \"y\": [0.87464, 0.79504, 0.7925655245780941, 0.868, 0.996]}, {\"marker\": {\"size\": [1.459, 1.57744, 1.6164631843566901, 1.456, 1.4880000000000002], \"sizemode\": \"area\", \"sizeref\": 0.00131}, \"mode\": \"markers\", \"name\": \"Norway\", \"text\": [\"Norway\", \"Norway\", \"Norway\", \"Norway\", \"Norway\"], \"type\": \"scatter\", \"x\": [7.522, 7.497999999999999, 7.537000179290769, 7.593999999999999, 7.553999999999999], \"y\": [0.88521, 0.79579, 0.796666502952576, 0.861, 1.028]}, {\"marker\": {\"size\": [1.32629, 1.44015, 1.47920441627502, 1.33, 1.365], \"sizemode\": \"area\", \"sizeref\": 0.00131}, \"mode\": \"markers\", \"name\": \"Canada\", \"text\": [\"Canada\", \"Canada\", \"Canada\", \"Canada\", \"Canada\"], \"type\": \"scatter\", \"x\": [7.4270000000000005, 7.404, 7.31599998474121, 7.327999999999999, 7.278], \"y\": [0.9056299999999999, 0.8276, 0.83455765247345, 0.8959999999999999, 1.0390000000000001]}, {\"marker\": {\"size\": [1.29025, 1.40598, 1.44357192516327, 1.305, 1.34], \"sizemode\": \"area\", \"sizeref\": 0.00131}, \"mode\": \"markers\", \"name\": \"Finland\", \"text\": [\"Finland\", \"Finland\", \"Finland\", \"Finland\", \"Finland\"], \"type\": \"scatter\", \"x\": [7.406000000000001, 7.412999999999999, 7.468999862670901, 7.632000000000001, 7.769], \"y\": [0.8891100000000001, 0.81091, 0.80915766954422, 0.8740000000000001, 0.986]}, {\"marker\": {\"size\": [1.32944, 1.46468, 1.50394463539124, 1.361, 1.396], \"sizemode\": \"area\", \"sizeref\": 0.00131}, \"mode\": \"markers\", \"name\": \"Netherlands\", \"text\": [\"Netherlands\", \"Netherlands\", \"Netherlands\", \"Netherlands\", \"Netherlands\"], \"type\": \"scatter\", \"x\": [7.377999999999999, 7.3389999999999995, 7.3769998550415, 7.441, 7.4879999999999995], \"y\": [0.89284, 0.8123100000000001, 0.8106961250305179, 0.878, 0.9990000000000001]}, {\"marker\": {\"size\": [1.33171, 1.45181, 1.49438726902008, 1.355, 1.3869999999999998], \"sizemode\": \"area\", \"sizeref\": 0.00131}, \"mode\": \"markers\", \"name\": \"Sweden\", \"text\": [\"Sweden\", \"Sweden\", \"Sweden\", \"Sweden\", \"Sweden\"], \"type\": \"scatter\", \"x\": [7.364, 7.291, 7.28399991989136, 7.314, 7.343], \"y\": [0.9108700000000001, 0.83121, 0.830875158309937, 0.9129999999999999, 1.0090000000000001]}, {\"marker\": {\"size\": [1.2501799999999998, 1.36066, 1.40570604801178, 1.268, 1.3030000000000002], \"sizemode\": \"area\", \"sizeref\": 0.00131}, \"mode\": \"markers\", \"name\": \"New Zealand\", \"text\": [\"New Zealand\", \"New Zealand\", \"New Zealand\", \"New Zealand\", \"New Zealand\"], \"type\": \"scatter\", \"x\": [7.2860000000000005, 7.334, 7.31400012969971, 7.324, 7.307], \"y\": [0.9083700000000001, 0.83096, 0.816759705543518, 0.8759999999999999, 1.026]}, {\"marker\": {\"size\": [1.33358, 1.4444299999999999, 1.4844149351120002, 1.34, 1.3719999999999999], \"sizemode\": \"area\", \"sizeref\": 0.00131}, \"mode\": \"markers\", \"name\": \"Australia\", \"text\": [\"Australia\", \"Australia\", \"Australia\", \"Australia\", \"Australia\"], \"type\": \"scatter\", \"x\": [7.284, 7.313, 7.28399991989136, 7.272, 7.228], \"y\": [0.93156, 0.8512, 0.84388679265976, 0.91, 1.036]}, {\"marker\": {\"size\": [1.2285700000000002, 1.33766, 1.3753824234008798, 1.301, 1.276], \"sizemode\": \"area\", \"sizeref\": 0.00131}, \"mode\": \"markers\", \"name\": \"Israel\", \"text\": [\"Israel\", \"Israel\", \"Israel\", \"Israel\", \"Israel\"], \"type\": \"scatter\", \"x\": [7.278, 7.267, 7.212999820709231, 6.814, 7.138999999999999], \"y\": [0.9138700000000001, 0.8491700000000001, 0.83840399980545, 0.883, 1.0290000000000001]}, {\"marker\": {\"size\": [0.95578, 1.06879, 1.10970628261566, 1.01, 1.034], \"sizemode\": \"area\", \"sizeref\": 0.00131}, \"mode\": \"markers\", \"name\": \"Costa Rica\", \"text\": [\"Costa Rica\", \"Costa Rica\", \"Costa Rica\", \"Costa Rica\", \"Costa Rica\"], \"type\": \"scatter\", \"x\": [7.226, 7.087000000000001, 7.0789999961853, 7.072, 7.167000000000001], \"y\": [0.8602700000000001, 0.76146, 0.7595092654228209, 0.8170000000000001, 0.963]}, {\"marker\": {\"size\": [1.33723, 1.45038, 1.4870972633361799, 1.341, 1.376], \"sizemode\": \"area\", \"sizeref\": 0.00131}, \"mode\": \"markers\", \"name\": \"Austria\", \"text\": [\"Austria\", \"Austria\", \"Austria\", \"Austria\", \"Austria\"], \"type\": \"scatter\", \"x\": [7.2, 7.119, 7.00600004196167, 7.138999999999999, 7.246], \"y\": [0.8904200000000001, 0.80565, 0.8153284192085269, 0.8909999999999999, 1.016]}, {\"marker\": {\"size\": [1.02054, 1.1150799999999998, 1.1531838178634601, 1.038, 1.07], \"sizemode\": \"area\", \"sizeref\": 0.00131}, \"mode\": \"markers\", \"name\": \"Mexico\", \"text\": [\"Mexico\", \"Mexico\", \"Mexico\", \"Mexico\", \"Mexico\"], \"type\": \"scatter\", \"x\": [7.187, 6.778, 6.57800006866455, 6.4879999999999995, 6.595], \"y\": [0.8144399999999999, 0.71143, 0.709978997707367, 0.7609999999999999, 0.861]}, {\"marker\": {\"size\": [1.3945100000000001, 1.50796, 1.54625928401947, 1.3980000000000001, 1.433], \"sizemode\": \"area\", \"sizeref\": 0.00131}, \"mode\": \"markers\", \"name\": \"United States\", \"text\": [\"United States\", \"United States\", \"United States\", \"United States\", \"United States\"], \"type\": \"scatter\", \"x\": [7.119, 7.104, 6.993000030517581, 6.886, 6.892], \"y\": [0.86179, 0.779, 0.7742866277694699, 0.8190000000000001, 0.8740000000000001]}, {\"marker\": {\"size\": [0.98124, 1.08754, 1.1073532104492199, 0.986, 1.004], \"sizemode\": \"area\", \"sizeref\": 0.00131}, \"mode\": \"markers\", \"name\": \"Brazil\", \"text\": [\"Brazil\", \"Brazil\", \"Brazil\", \"Brazil\", \"Brazil\"], \"type\": \"scatter\", \"x\": [6.983, 6.952000000000001, 6.6350002288818395, 6.419, 6.3], \"y\": [0.69702, 0.61415, 0.6165523529052729, 0.675, 0.802]}, {\"marker\": {\"size\": [1.5639100000000001, 1.6975200000000001, 1.74194359779358, 1.5759999999999998, 1.609], \"sizemode\": \"area\", \"sizeref\": 0.00131}, \"mode\": \"markers\", \"name\": \"Luxembourg\", \"text\": [\"Luxembourg\", \"Luxembourg\", \"Luxembourg\", \"Luxembourg\", \"Luxembourg\"], \"type\": \"scatter\", \"x\": [6.946000000000001, 6.871, 6.86299991607666, 6.91, 7.09], \"y\": [0.91894, 0.8454200000000001, 0.845089495182037, 0.8959999999999999, 1.012]}, {\"marker\": {\"size\": [1.33596, 1.4834100000000001, 1.5357066392898602, 1.4480000000000002, 1.499], \"sizemode\": \"area\", \"sizeref\": 0.00131}, \"mode\": \"markers\", \"name\": \"Ireland\", \"text\": [\"Ireland\", \"Ireland\", \"Ireland\", \"Ireland\", \"Ireland\"], \"type\": \"scatter\", \"x\": [6.94, 6.907, 6.9770002365112305, 6.977, 7.021], \"y\": [0.89533, 0.81455, 0.8097826242446899, 0.8759999999999999, 0.9990000000000001]}, {\"marker\": {\"size\": [1.30782, 1.42539, 1.4637807607650801, 1.324, 1.3559999999999999], \"sizemode\": \"area\", \"sizeref\": 0.00131}, \"mode\": \"markers\", \"name\": \"Belgium\", \"text\": [\"Belgium\", \"Belgium\", \"Belgium\", \"Belgium\", \"Belgium\"], \"type\": \"scatter\", \"x\": [6.937, 6.928999999999999, 6.89099979400635, 6.9270000000000005, 6.922999999999999], \"y\": [0.8966700000000001, 0.8195899999999999, 0.8180918693542479, 0.894, 0.986]}, {\"marker\": {\"size\": [1.42727, 1.57352, 1.6263433694839498, 2.096, 1.5030000000000001], \"sizemode\": \"area\", \"sizeref\": 0.00131}, \"mode\": \"markers\", \"name\": \"United Arab Emirates\", \"text\": [\"United Arab Emirates\", \"United Arab Emirates\", \"United Arab Emirates\", \"United Arab Emirates\", \"United Arab Emirates\"], \"type\": \"scatter\", \"x\": [6.901, 6.5729999999999995, 6.6479997634887695, 6.774, 6.825], \"y\": [0.80925, 0.72993, 0.726798236370087, 0.67, 0.825]}, {\"marker\": {\"size\": [1.26637, 1.40283, 1.44163393974304, 1.244, 1.3330000000000002], \"sizemode\": \"area\", \"sizeref\": 0.00131}, \"mode\": \"markers\", \"name\": \"United Kingdom\", \"text\": [\"United Kingdom\", \"United Kingdom\", \"United Kingdom\", \"United Kingdom\", \"United Kingdom\"], \"type\": \"scatter\", \"x\": [6.867000000000001, 6.725, 6.71400022506714, 7.19, 7.053999999999999], \"y\": [0.90943, 0.80991, 0.805335938930511, 0.888, 0.996]}, {\"marker\": {\"size\": [1.36011], \"sizemode\": \"area\", \"sizeref\": 0.00131}, \"mode\": \"markers\", \"name\": \"Oman\", \"text\": [\"Oman\"], \"type\": \"scatter\", \"x\": [6.853], \"y\": [0.76276]}, {\"marker\": {\"size\": [1.04424, 1.1336700000000002, 1.12843120098114, 0.996, 0.96], \"sizemode\": \"area\", \"sizeref\": 0.00131}, \"mode\": \"markers\", \"name\": \"Venezuela\", \"text\": [\"Venezuela\", \"Venezuela\", \"Venezuela\", \"Venezuela\", \"Venezuela\"], \"type\": \"scatter\", \"x\": [6.81, 6.084, 5.25, 4.806, 4.707], \"y\": [0.7205199999999999, 0.6190399999999999, 0.617144227027893, 0.657, 0.805]}, {\"marker\": {\"size\": [1.52186, 1.64555, 1.69227766990662, 1.5290000000000001, 1.5719999999999998], \"sizemode\": \"area\", \"sizeref\": 0.00131}, \"mode\": \"markers\", \"name\": \"Singapore\", \"text\": [\"Singapore\", \"Singapore\", \"Singapore\", \"Singapore\", \"Singapore\"], \"type\": \"scatter\", \"x\": [6.797999999999999, 6.739, 6.57200002670288, 6.343, 6.2620000000000005], \"y\": [1.02525, 0.94719, 0.9494923949241642, 1.008, 1.141]}, {\"marker\": {\"size\": [1.0635299999999999, 1.18306, 1.23374843597412, 1.112, 1.149], \"sizemode\": \"area\", \"sizeref\": 0.00131}, \"mode\": \"markers\", \"name\": \"Panama\", \"text\": [\"Panama\", \"Panama\", \"Panama\", \"Panama\", \"Panama\"], \"type\": \"scatter\", \"x\": [6.7860000000000005, 6.7010000000000005, 6.4520001411438, 6.43, 6.321000000000001], \"y\": [0.79661, 0.70835, 0.706156134605408, 0.759, 0.91]}, {\"marker\": {\"size\": [1.32792, 1.44787, 1.48792338371277, 1.34, 1.3730000000000002], \"sizemode\": \"area\", \"sizeref\": 0.00131}, \"mode\": \"markers\", \"name\": \"Germany\", \"text\": [\"Germany\", \"Germany\", \"Germany\", \"Germany\", \"Germany\"], \"type\": \"scatter\", \"x\": [6.75, 6.994, 6.9510002136230495, 6.965, 6.985], \"y\": [0.89186, 0.81487, 0.798950731754303, 0.861, 0.987]}, {\"marker\": {\"size\": [1.10715, 1.2167, 1.25278460979462, 1.131, 1.159], \"sizemode\": \"area\", \"sizeref\": 0.00131}, \"mode\": \"markers\", \"name\": \"Chile\", \"text\": [\"Chile\", \"Chile\", \"Chile\", \"Chile\", \"Chile\"], \"type\": \"scatter\", \"x\": [6.67, 6.705, 6.65199995040894, 6.476, 6.444], \"y\": [0.85857, 0.8188300000000001, 0.8194797039031979, 0.8079999999999999, 0.92]}, {\"marker\": {\"size\": [1.69042, 1.82427, 1.8707656860351598, 1.649, 1.6840000000000002], \"sizemode\": \"area\", \"sizeref\": 0.00131}, \"mode\": \"markers\", \"name\": \"Qatar\", \"text\": [\"Qatar\", \"Qatar\", \"Qatar\", \"Qatar\", \"Qatar\"], \"type\": \"scatter\", \"x\": [6.611000000000001, 6.375, 6.375, 6.374, 6.374], \"y\": [0.79733, 0.71723, 0.7100980877876278, 0.748, 0.871]}, {\"marker\": {\"size\": [1.27778, 1.39488, 1.43092346191406, 1.2930000000000001, 1.324], \"sizemode\": \"area\", \"sizeref\": 0.00131}, \"mode\": \"markers\", \"name\": \"France\", \"text\": [\"France\", \"France\", \"France\", \"France\", \"France\"], \"type\": \"scatter\", \"x\": [6.575, 6.478, 6.44199991226196, 6.489, 6.5920000000000005], \"y\": [0.9457899999999999, 0.83795, 0.8444658517837521, 0.9079999999999999, 1.045]}, {\"marker\": {\"size\": [1.05351, 1.15137, 1.18529546260834, 1.073, 1.092], \"sizemode\": \"area\", \"sizeref\": 0.00131}, \"mode\": \"markers\", \"name\": \"Argentina\", \"text\": [\"Argentina\", \"Argentina\", \"Argentina\", \"Argentina\", \"Argentina\"], \"type\": \"scatter\", \"x\": [6.574, 6.65, 6.59899997711182, 6.388, 6.086], \"y\": [0.78723, 0.69711, 0.695137083530426, 0.7440000000000001, 0.8809999999999999]}, {\"marker\": {\"size\": [1.17898, 1.30915, 1.35268235206604, 1.2329999999999999, 1.2690000000000001], \"sizemode\": \"area\", \"sizeref\": 0.00131}, \"mode\": \"markers\", \"name\": \"Czech Republic\", \"text\": [\"Czech Republic\", \"Czech Republic\", \"Czech Republic\", \"Czech Republic\", \"Czech Republic\"], \"type\": \"scatter\", \"x\": [6.505, 6.596, 6.60900020599365, 6.711, 6.852], \"y\": [0.84483, 0.76376, 0.754444003105164, 0.8540000000000001, 0.92]}, {\"marker\": {\"size\": [1.06166, 1.18157, 1.2175596952438401, 1.093, 1.124], \"sizemode\": \"area\", \"sizeref\": 0.00131}, \"mode\": \"markers\", \"name\": \"Uruguay\", \"text\": [\"Uruguay\", \"Uruguay\", \"Uruguay\", \"Uruguay\", \"Uruguay\"], \"type\": \"scatter\", \"x\": [6.485, 6.545, 6.4539999961853, 6.379, 6.292999999999999], \"y\": [0.8116, 0.72183, 0.719216823577881, 0.7709999999999999, 0.8909999999999999]}, {\"marker\": {\"size\": [0.91861, 1.0303200000000001, 1.07062232494354, 0.96, 0.985], \"sizemode\": \"area\", \"sizeref\": 0.00131}, \"mode\": \"markers\", \"name\": \"Colombia\", \"text\": [\"Colombia\", \"Colombia\", \"Colombia\", \"Colombia\", \"Colombia\"], \"type\": \"scatter\", \"x\": [6.477, 6.481, 6.35699987411499, 6.26, 6.125], \"y\": [0.69077, 0.59659, 0.595027923583984, 0.635, 0.841]}, {\"marker\": {\"size\": [0.9669, 1.0893, 1.12786877155304, 1.016, 1.05], \"sizemode\": \"area\", \"sizeref\": 0.00131}, \"mode\": \"markers\", \"name\": \"Thailand\", \"text\": [\"Thailand\", \"Thailand\", \"Thailand\", \"Thailand\", \"Thailand\"], \"type\": \"scatter\", \"x\": [6.455, 6.474, 6.4239997863769505, 6.072, 6.007999999999999], \"y\": [0.7385, 0.64915, 0.647239029407501, 0.7070000000000001, 0.828]}, {\"marker\": {\"size\": [1.39541, 1.48953, 1.53062355518341, 1.379, 1.403], \"sizemode\": \"area\", \"sizeref\": 0.00131}, \"mode\": \"markers\", \"name\": \"Saudi Arabia\", \"text\": [\"Saudi Arabia\", \"Saudi Arabia\", \"Saudi Arabia\", \"Saudi Arabia\", \"Saudi Arabia\"], \"type\": \"scatter\", \"x\": [6.4110000000000005, 6.379, 6.343999862670901, 6.371, 6.375], \"y\": [0.72025, 0.59267, 0.590148329734802, 0.633, 0.795]}, {\"marker\": {\"size\": [1.23011, 1.34253, 1.38439786434174, 1.251, 1.286], \"sizemode\": \"area\", \"sizeref\": 0.00131}, \"mode\": \"markers\", \"name\": \"Spain\", \"text\": [\"Spain\", \"Spain\", \"Spain\", \"Spain\", \"Spain\"], \"type\": \"scatter\", \"x\": [6.329, 6.361000000000001, 6.40299987792969, 6.31, 6.354], \"y\": [0.95562, 0.8789600000000001, 0.888960599899292, 0.965, 1.062]}, {\"marker\": {\"size\": [1.2074, 1.30782, 1.34327983856201, 1.27, 1.3], \"sizemode\": \"area\", \"sizeref\": 0.00131}, \"mode\": \"markers\", \"name\": \"Malta\", \"text\": [\"Malta\", \"Malta\", \"Malta\", \"Malta\", \"Malta\"], \"type\": \"scatter\", \"x\": [6.3020000000000005, 6.4879999999999995, 6.52699995040894, 6.627000000000001, 6.726], \"y\": [0.88721, 0.80315, 0.821944236755371, 0.884, 0.9990000000000001]}, {\"marker\": {\"size\": [1.29098, 1.39729, 1.365, 1.368], \"sizemode\": \"area\", \"sizeref\": 0.00131}, \"mode\": \"markers\", \"name\": \"Taiwan\", \"text\": [\"Taiwan\", \"Taiwan\", \"Taiwan\", \"Taiwan\"], \"type\": \"scatter\", \"x\": [6.297999999999999, 6.379, 6.441, 6.446000000000001], \"y\": [0.8753, 0.79565, 0.857, 0.914]}, {\"marker\": {\"size\": [1.5542200000000002, 1.61714, 1.63295245170593, 1.474, 1.5], \"sizemode\": \"area\", \"sizeref\": 0.00131}, \"mode\": \"markers\", \"name\": \"Kuwait\", \"text\": [\"Kuwait\", \"Kuwait\", \"Kuwait\", \"Kuwait\", \"Kuwait\"], \"type\": \"scatter\", \"x\": [6.295, 6.239, 6.10500001907349, 6.082999999999999, 6.021], \"y\": [0.72492, 0.63569, 0.6321057081222529, 0.675, 0.8079999999999999]}, {\"marker\": {\"size\": [0.99534, 1.09686], \"sizemode\": \"area\", \"sizeref\": 0.00131}, \"mode\": \"markers\", \"name\": \"Suriname\", \"text\": [\"Suriname\", \"Suriname\"], \"type\": \"scatter\", \"x\": [6.269, 6.269], \"y\": [0.6082, 0.5093300000000001]}, {\"marker\": {\"size\": [1.21183, 1.32572, 1.36135590076447], \"sizemode\": \"area\", \"sizeref\": 0.00131}, \"mode\": \"markers\", \"name\": \"Trinidad and Tobago\", \"text\": [\"Trinidad and Tobago\", \"Trinidad and Tobago\", \"Trinidad and Tobago\"], \"type\": \"scatter\", \"x\": [6.167999999999999, 6.167999999999999, 6.1680002212524405], \"y\": [0.61483, 0.52608, 0.5199832916259771]}, {\"marker\": {\"size\": [0.76454, 0.8737, 0.9097844958305359, 0.8059999999999999, 0.794], \"sizemode\": \"area\", \"sizeref\": 0.00131}, \"mode\": \"markers\", \"name\": \"El Salvador\", \"text\": [\"El Salvador\", \"El Salvador\", \"El Salvador\", \"El Salvador\", \"El Salvador\"], \"type\": \"scatter\", \"x\": [6.13, 6.068, 6.002999782562259, 6.167000000000001, 6.252999999999999], \"y\": [0.67737, 0.596, 0.596018552780151, 0.639, 0.789]}, {\"marker\": {\"size\": [0.74553, 0.83454, 0.872001945972443, 0.7809999999999999, 0.8], \"sizemode\": \"area\", \"sizeref\": 0.00131}, \"mode\": \"markers\", \"name\": \"Guatemala\", \"text\": [\"Guatemala\", \"Guatemala\", \"Guatemala\", \"Guatemala\", \"Guatemala\"], \"type\": \"scatter\", \"x\": [6.122999999999999, 6.324, 6.4539999961853, 6.382000000000001, 6.436], \"y\": [0.64425, 0.5403899999999999, 0.540239989757538, 0.608, 0.746]}, {\"marker\": {\"size\": [0.63244, 0.7359100000000001, 0.786441087722778, 0.7190000000000001, 0.745], \"sizemode\": \"area\", \"sizeref\": 0.00131}, \"mode\": \"markers\", \"name\": \"Uzbekistan\", \"text\": [\"Uzbekistan\", \"Uzbekistan\", \"Uzbekistan\", \"Uzbekistan\", \"Uzbekistan\"], \"type\": \"scatter\", \"x\": [6.002999999999999, 5.987, 5.97100019454956, 6.096, 6.1739999999999995], \"y\": [0.59772, 0.50163, 0.498272627592087, 0.605, 0.7559999999999999]}, {\"marker\": {\"size\": [1.1689100000000001, 1.27973, 1.32539355754852, 1.21, 1.246], \"sizemode\": \"area\", \"sizeref\": 0.00131}, \"mode\": \"markers\", \"name\": \"Slovakia\", \"text\": [\"Slovakia\", \"Slovakia\", \"Slovakia\", \"Slovakia\", \"Slovakia\"], \"type\": \"scatter\", \"x\": [5.995, 6.077999999999999, 6.09800004959106, 6.172999999999999, 6.1979999999999995], \"y\": [0.7890199999999999, 0.70367, 0.712732911109924, 0.7759999999999999, 0.8809999999999999]}, {\"marker\": {\"size\": [1.27074, 1.3800700000000001, 1.41691517829895, 1.294, 1.327], \"sizemode\": \"area\", \"sizeref\": 0.00131}, \"mode\": \"markers\", \"name\": \"Japan\", \"text\": [\"Japan\", \"Japan\", \"Japan\", \"Japan\", \"Japan\"], \"type\": \"scatter\", \"x\": [5.987, 5.921, 5.92000007629395, 5.915, 5.886], \"y\": [0.99111, 0.91491, 0.9134758710861209, 0.988, 1.088]}, {\"marker\": {\"size\": [1.24461, 1.35948, 1.40167844295502, 1.266, 1.301], \"sizemode\": \"area\", \"sizeref\": 0.00131}, \"mode\": \"markers\", \"name\": \"South Korea\", \"text\": [\"South Korea\", \"South Korea\", \"South Korea\", \"South Korea\", \"South Korea\"], \"type\": \"scatter\", \"x\": [5.984, 5.835, 5.837999820709231, 5.875, 5.895], \"y\": [0.9653799999999999, 0.88645, 0.900214076042175, 0.955, 1.036]}, {\"marker\": {\"size\": [0.8640200000000001, 0.97306, 1.00082039833069, 0.889, 0.912], \"sizemode\": \"area\", \"sizeref\": 0.00131}, \"mode\": \"markers\", \"name\": \"Ecuador\", \"text\": [\"Ecuador\", \"Ecuador\", \"Ecuador\", \"Ecuador\", \"Ecuador\"], \"type\": \"scatter\", \"x\": [5.975, 5.976, 6.00799989700317, 5.973, 6.028], \"y\": [0.79075, 0.68613, 0.685636222362518, 0.736, 0.868]}, {\"marker\": {\"size\": [1.32376, 1.44024, 1.4884122610092199, 1.338, 1.3619999999999999], \"sizemode\": \"area\", \"sizeref\": 0.00131}, \"mode\": \"markers\", \"name\": \"Bahrain\", \"text\": [\"Bahrain\", \"Bahrain\", \"Bahrain\", \"Bahrain\", \"Bahrain\"], \"type\": \"scatter\", \"x\": [5.96, 6.218, 6.08699989318848, 6.105, 6.199], \"y\": [0.74716, 0.65696, 0.653133034706116, 0.698, 0.871]}, {\"marker\": {\"size\": [1.25114, 1.35495, 1.3950666189193701, 1.264, 1.294], \"sizemode\": \"area\", \"sizeref\": 0.00131}, \"mode\": \"markers\", \"name\": \"Italy\", \"text\": [\"Italy\", \"Italy\", \"Italy\", \"Italy\", \"Italy\"], \"type\": \"scatter\", \"x\": [5.9479999999999995, 5.977, 5.96400022506714, 6.0, 6.223], \"y\": [0.9544600000000001, 0.8510200000000001, 0.8531443476676941, 0.946, 1.0390000000000001]}, {\"marker\": {\"size\": [0.68133, 0.79422, 0.833756566047668, 0.7509999999999999, 0.7759999999999999], \"sizemode\": \"area\", \"sizeref\": 0.00131}, \"mode\": \"markers\", \"name\": \"Bolivia\", \"text\": [\"Bolivia\", \"Bolivia\", \"Bolivia\", \"Bolivia\", \"Bolivia\"], \"type\": \"scatter\", \"x\": [5.89, 5.822, 5.82299995422363, 5.752000000000001, 5.779], \"y\": [0.5392, 0.4697, 0.47363024950027505, 0.508, 0.706]}, {\"marker\": {\"size\": [0.59448, 0.69177, 0.7288706302642819, 0.657, 0.685], \"sizemode\": \"area\", \"sizeref\": 0.00131}, \"mode\": \"markers\", \"name\": \"Moldova\", \"text\": [\"Moldova\", \"Moldova\", \"Moldova\", \"Moldova\", \"Moldova\"], \"type\": \"scatter\", \"x\": [5.888999999999999, 5.897, 5.837999820709231, 5.64, 5.529], \"y\": [0.61826, 0.5230899999999999, 0.5894652009010309, 0.62, 0.7390000000000001]}, {\"marker\": {\"size\": [0.75985, 0.8937299999999999, 0.932537317276001, 0.835, 0.855], \"sizemode\": \"area\", \"sizeref\": 0.00131}, \"mode\": \"markers\", \"name\": \"Paraguay\", \"text\": [\"Paraguay\", \"Paraguay\", \"Paraguay\", \"Paraguay\", \"Paraguay\"], \"type\": \"scatter\", \"x\": [5.877999999999999, 5.537999999999999, 5.493000030517581, 5.681, 5.742999999999999], \"y\": [0.66098, 0.58295, 0.579250693321228, 0.615, 0.777]}, {\"marker\": {\"size\": [1.1225399999999999, 1.22943, 1.2845562696456898, 1.143, 1.173], \"sizemode\": \"area\", \"sizeref\": 0.00131}, \"mode\": \"markers\", \"name\": \"Kazakhstan\", \"text\": [\"Kazakhstan\", \"Kazakhstan\", \"Kazakhstan\", \"Kazakhstan\", \"Kazakhstan\"], \"type\": \"scatter\", \"x\": [5.855, 5.919, 5.8189997673034695, 5.79, 5.809], \"y\": [0.64368, 0.57386, 0.6060415506362921, 0.631, 0.7290000000000001]}, {\"marker\": {\"size\": [1.18498, 1.2994700000000001, 1.3412059545516999, 1.219, 1.258], \"sizemode\": \"area\", \"sizeref\": 0.00131}, \"mode\": \"markers\", \"name\": \"Slovenia\", \"text\": [\"Slovenia\", \"Slovenia\", \"Slovenia\", \"Slovenia\", \"Slovenia\"], \"type\": \"scatter\", \"x\": [5.848, 5.768, 5.75799989700317, 5.9479999999999995, 6.117999999999999], \"y\": [0.8733700000000001, 0.79151, 0.7908282279968258, 0.856, 0.953]}, {\"marker\": {\"size\": [1.14723, 1.2692, 1.3145823478698702, 1.197, 1.238], \"sizemode\": \"area\", \"sizeref\": 0.00131}, \"mode\": \"markers\", \"name\": \"Lithuania\", \"text\": [\"Lithuania\", \"Lithuania\", \"Lithuania\", \"Lithuania\", \"Lithuania\"], \"type\": \"scatter\", \"x\": [5.832999999999999, 5.813, 5.90199995040894, 5.952000000000001, 6.149], \"y\": [0.73128, 0.64674, 0.62894994020462, 0.716, 0.818]}, {\"marker\": {\"size\": [0.59325, 0.69384, 0.737299203872681, 0.6679999999999999, 0.6940000000000001], \"sizemode\": \"area\", \"sizeref\": 0.00131}, \"mode\": \"markers\", \"name\": \"Nicaragua\", \"text\": [\"Nicaragua\", \"Nicaragua\", \"Nicaragua\", \"Nicaragua\", \"Nicaragua\"], \"type\": \"scatter\", \"x\": [5.827999999999999, 5.992000000000001, 6.07100009918213, 6.141, 6.105], \"y\": [0.7431399999999999, 0.65213, 0.6530959606170649, 0.7, 0.835]}, {\"marker\": {\"size\": [0.9001899999999999, 0.9960200000000001, 1.0352252721786501, 0.934, 0.96], \"sizemode\": \"area\", \"sizeref\": 0.00131}, \"mode\": \"markers\", \"name\": \"Peru\", \"text\": [\"Peru\", \"Peru\", \"Peru\", \"Peru\", \"Peru\"], \"type\": \"scatter\", \"x\": [5.824, 5.742999999999999, 5.71500015258789, 5.662999999999999, 5.697], \"y\": [0.73017, 0.6299399999999999, 0.6301661133766171, 0.674, 0.8540000000000001]}, {\"marker\": {\"size\": [1.0319200000000002, 1.1306200000000002, 1.15655755996704, 1.0390000000000001, 1.067], \"sizemode\": \"area\", \"sizeref\": 0.00131}, \"mode\": \"markers\", \"name\": \"Belarus\", \"text\": [\"Belarus\", \"Belarus\", \"Belarus\", \"Belarus\", \"Belarus\"], \"type\": \"scatter\", \"x\": [5.813, 5.8020000000000005, 5.5689997673034695, 5.483, 5.3229999999999995], \"y\": [0.7360800000000001, 0.6310399999999999, 0.6377142667770389, 0.7, 0.789]}, {\"marker\": {\"size\": [1.12555, 1.24585, 1.29178786277771, 1.176, 1.206], \"sizemode\": \"area\", \"sizeref\": 0.00131}, \"mode\": \"markers\", \"name\": \"Poland\", \"text\": [\"Poland\", \"Poland\", \"Poland\", \"Poland\", \"Poland\"], \"type\": \"scatter\", \"x\": [5.791, 5.835, 5.97300004959106, 6.122999999999999, 6.182], \"y\": [0.77903, 0.69058, 0.699475347995758, 0.7809999999999999, 0.884]}, {\"marker\": {\"size\": [1.12486, 1.25142, 1.29121541976929, 1.161, 1.2209999999999999], \"sizemode\": \"area\", \"sizeref\": 0.00131}, \"mode\": \"markers\", \"name\": \"Malaysia\", \"text\": [\"Malaysia\", \"Malaysia\", \"Malaysia\", \"Malaysia\", \"Malaysia\"], \"type\": \"scatter\", \"x\": [5.77, 6.005, 6.08400011062622, 6.322, 5.3389999999999995], \"y\": [0.7239399999999999, 0.62366, 0.618784427642822, 0.669, 0.828]}, {\"marker\": {\"size\": [1.08254, 1.18649, 1.22255623340607, 1.115, 1.155], \"sizemode\": \"area\", \"sizeref\": 0.00131}, \"mode\": \"markers\", \"name\": \"Croatia\", \"text\": [\"Croatia\", \"Croatia\", \"Croatia\", \"Croatia\", \"Croatia\"], \"type\": \"scatter\", \"x\": [5.7589999999999995, 5.4879999999999995, 5.2930002212524405, 5.321000000000001, 5.432], \"y\": [0.78805, 0.70524, 0.701288521289825, 0.737, 0.914]}, {\"marker\": {\"size\": [1.13145, 1.0668799999999998, 1.1018030643463101, 0.985, 1.044], \"sizemode\": \"area\", \"sizeref\": 0.00131}, \"mode\": \"markers\", \"name\": \"Libya\", \"text\": [\"Libya\", \"Libya\", \"Libya\", \"Libya\", \"Libya\"], \"type\": \"scatter\", \"x\": [5.754, 5.615, 5.525000095367429, 5.566, 5.525], \"y\": [0.7038, 0.52304, 0.520169019699097, 0.5529999999999999, 0.6729999999999999]}, {\"marker\": {\"size\": [1.13764, 1.2322799999999998, 1.28177809715271, 1.151, 1.183], \"sizemode\": \"area\", \"sizeref\": 0.00131}, \"mode\": \"markers\", \"name\": \"Russia\", \"text\": [\"Russia\", \"Russia\", \"Russia\", \"Russia\", \"Russia\"], \"type\": \"scatter\", \"x\": [5.716, 5.856, 5.962999820709231, 5.81, 5.648], \"y\": [0.6692600000000001, 0.58991, 0.547349333763123, 0.599, 0.726]}, {\"marker\": {\"size\": [0.81038, 0.89333, 0.925579309463501, 0.8190000000000001, 0.831], \"sizemode\": \"area\", \"sizeref\": 0.00131}, \"mode\": \"markers\", \"name\": \"Jamaica\", \"text\": [\"Jamaica\", \"Jamaica\", \"Jamaica\", \"Jamaica\", \"Jamaica\"], \"type\": \"scatter\", \"x\": [5.709, 5.51, 5.31099987030029, 5.89, 5.89], \"y\": [0.6874100000000001, 0.5946899999999999, 0.6410223841667181, 0.693, 0.831]}, {\"marker\": {\"size\": [1.2080600000000001, 1.31141, 1.3469113111496], \"sizemode\": \"area\", \"sizeref\": 0.00131}, \"mode\": \"markers\", \"name\": \"North Cyprus\", \"text\": [\"North Cyprus\", \"North Cyprus\", \"North Cyprus\"], \"type\": \"scatter\", \"x\": [5.695, 5.771, 5.80999994277954], \"y\": [0.92356, 0.8414200000000001, 0.834647238254547]}, {\"marker\": {\"size\": [1.20813, 1.31857, 1.3559380769729599, 1.229, 1.263], \"sizemode\": \"area\", \"sizeref\": 0.00131}, \"mode\": \"markers\", \"name\": \"Cyprus\", \"text\": [\"Cyprus\", \"Cyprus\", \"Cyprus\", \"Cyprus\", \"Cyprus\"], \"type\": \"scatter\", \"x\": [5.689, 5.546, 5.62099981307983, 5.7620000000000005, 6.046], \"y\": [0.92356, 0.8488, 0.84471470117569, 0.909, 1.042]}, {\"marker\": {\"size\": [0.93929, 1.05266, 1.09186446666718, 0.9790000000000001, 1.002], \"sizemode\": \"area\", \"sizeref\": 0.00131}, \"mode\": \"markers\", \"name\": \"Algeria\", \"text\": [\"Algeria\", \"Algeria\", \"Algeria\", \"Algeria\", \"Algeria\"], \"type\": \"scatter\", \"x\": [5.605, 6.355, 5.872000217437741, 5.295, 5.211], \"y\": [0.61766, 0.6180399999999999, 0.6175846457481379, 0.687, 0.785]}, {\"marker\": {\"size\": [0.80148, 0.90145, 0.951484382152557, 0.855, 0.882], \"sizemode\": \"area\", \"sizeref\": 0.00131}, \"mode\": \"markers\", \"name\": \"Kosovo\", \"text\": [\"Kosovo\", \"Kosovo\", \"Kosovo\", \"Kosovo\", \"Kosovo\"], \"type\": \"scatter\", \"x\": [5.5889999999999995, 5.401, 5.27899980545044, 5.662000000000001, 6.1], \"y\": [0.63132, 0.54, 0.541452050209045, 0.578, 0.758]}, {\"marker\": {\"size\": [0.95847, 1.08017, 1.1307767629623402, 1.016, 1.052], \"sizemode\": \"area\", \"sizeref\": 0.00131}, \"mode\": \"markers\", \"name\": \"Turkmenistan\", \"text\": [\"Turkmenistan\", \"Turkmenistan\", \"Turkmenistan\", \"Turkmenistan\", \"Turkmenistan\"], \"type\": \"scatter\", \"x\": [5.547999999999999, 5.6579999999999995, 5.82200002670288, 5.636, 5.247000000000001], \"y\": [0.53886, 0.44006000000000006, 0.437726080417633, 0.517, 0.657]}, {\"marker\": {\"size\": [1.0076100000000001, 1.14372, 1.1893955469131499, 1.09, 1.12], \"sizemode\": \"area\", \"sizeref\": 0.00131}, \"mode\": \"markers\", \"name\": \"Mauritius\", \"text\": [\"Mauritius\", \"Mauritius\", \"Mauritius\", \"Mauritius\", \"Mauritius\"], \"type\": \"scatter\", \"x\": [5.477, 5.648, 5.62900018692017, 5.891, 5.888], \"y\": [0.7095, 0.66189, 0.6380074620246889, 0.684, 0.7979999999999999]}, {\"marker\": {\"size\": [1.38604, 1.5107, 1.405, 1.4380000000000002], \"sizemode\": \"area\", \"sizeref\": 0.00131}, \"mode\": \"markers\", \"name\": \"Hong Kong\", \"text\": [\"Hong Kong\", \"Hong Kong\", \"Hong Kong\", \"Hong Kong\"], \"type\": \"scatter\", \"x\": [5.474, 5.457999999999999, 5.43, 5.43], \"y\": [1.01328, 0.9527700000000001, 1.03, 1.122]}, {\"marker\": {\"size\": [1.15174, 1.2796399999999999, 1.3208793401718102, 1.2, 1.237], \"sizemode\": \"area\", \"sizeref\": 0.00131}, \"mode\": \"markers\", \"name\": \"Estonia\", \"text\": [\"Estonia\", \"Estonia\", \"Estonia\", \"Estonia\", \"Estonia\"], \"type\": \"scatter\", \"x\": [5.428999999999999, 5.517, 5.61100006103516, 5.739, 5.893], \"y\": [0.77361, 0.68098, 0.695168316364288, 0.737, 0.8740000000000001]}, {\"marker\": {\"size\": [0.8282700000000001, 0.95104, 0.995538592338562, 0.899, 0.9309999999999999], \"sizemode\": \"area\", \"sizeref\": 0.00131}, \"mode\": \"markers\", \"name\": \"Indonesia\", \"text\": [\"Indonesia\", \"Indonesia\", \"Indonesia\", \"Indonesia\", \"Indonesia\"], \"type\": \"scatter\", \"x\": [5.399, 5.314, 5.26200008392334, 5.093, 5.192], \"y\": [0.63793, 0.49373999999999996, 0.49234572052955605, 0.522, 0.66]}, {\"marker\": {\"size\": [0.63216, 0.74037, 0.7885475754737851, 0.715, 0.741], \"sizemode\": \"area\", \"sizeref\": 0.00131}, \"mode\": \"markers\", \"name\": \"Vietnam\", \"text\": [\"Vietnam\", \"Vietnam\", \"Vietnam\", \"Vietnam\", \"Vietnam\"], \"type\": \"scatter\", \"x\": [5.36, 5.061, 5.07399988174438, 5.103, 5.175], \"y\": [0.7467600000000001, 0.66157, 0.6521689891815191, 0.7020000000000001, 0.851]}, {\"marker\": {\"size\": [1.06098, 1.1649200000000002, 1.1982743740081798, 1.148, 1.183], \"sizemode\": \"area\", \"sizeref\": 0.00131}, \"mode\": \"markers\", \"name\": \"Turkey\", \"text\": [\"Turkey\", \"Turkey\", \"Turkey\", \"Turkey\", \"Turkey\"], \"type\": \"scatter\", \"x\": [5.332000000000001, 5.388999999999999, 5.5, 5.483, 5.372999999999999], \"y\": [0.73172, 0.64718, 0.6376056075096129, 0.6859999999999999, 0.8079999999999999]}, {\"marker\": {\"size\": [0.47428000000000003, 0.5604399999999999, 0.5962200760841371, 0.53, 0.551], \"sizemode\": \"area\", \"sizeref\": 0.00131}, \"mode\": \"markers\", \"name\": \"Kyrgyzstan\", \"text\": [\"Kyrgyzstan\", \"Kyrgyzstan\", \"Kyrgyzstan\", \"Kyrgyzstan\", \"Kyrgyzstan\"], \"type\": \"scatter\", \"x\": [5.2860000000000005, 5.185, 5.0040001869201705, 5.131, 5.261], \"y\": [0.65088, 0.5544899999999999, 0.553457796573639, 0.594, 0.723]}, {\"marker\": {\"size\": [0.65435, 0.75216, 0.783756256103516, 0.6890000000000001, 0.696], \"sizemode\": \"area\", \"sizeref\": 0.00131}, \"mode\": \"markers\", \"name\": \"Nigeria\", \"text\": [\"Nigeria\", \"Nigeria\", \"Nigeria\", \"Nigeria\", \"Nigeria\"], \"type\": \"scatter\", \"x\": [5.268, 4.875, 5.07399988174438, 5.155, 5.265], \"y\": [0.16007000000000002, 0.05108, 0.0569157302379608, 0.048, 0.245]}, {\"marker\": {\"size\": [0.77042, 0.8527, 0.885416388511658, 0.7959999999999999, 0.813], \"sizemode\": \"area\", \"sizeref\": 0.00131}, \"mode\": \"markers\", \"name\": \"Bhutan\", \"text\": [\"Bhutan\", \"Bhutan\", \"Bhutan\", \"Bhutan\", \"Bhutan\"], \"type\": \"scatter\", \"x\": [5.252999999999999, 5.196000000000001, 5.01100015640259, 5.082, 5.082], \"y\": [0.57407, 0.49759, 0.495879292488098, 0.527, 0.604]}, {\"marker\": {\"size\": [1.02389, 1.12373, 1.1536017656326298, 1.024, 1.043], \"sizemode\": \"area\", \"sizeref\": 0.00131}, \"mode\": \"markers\", \"name\": \"Azerbaijan\", \"text\": [\"Azerbaijan\", \"Azerbaijan\", \"Azerbaijan\", \"Azerbaijan\", \"Azerbaijan\"], \"type\": \"scatter\", \"x\": [5.212000000000001, 5.291, 5.234000205993651, 5.2010000000000005, 5.207999999999999], \"y\": [0.64045, 0.54504, 0.5407757759094239, 0.603, 0.769]}, {\"marker\": {\"size\": [0.59543, 0.68816, 0.7268835306167599, 0.652, 0.677], \"sizemode\": \"area\", \"sizeref\": 0.00131}, \"mode\": \"markers\", \"name\": \"Pakistan\", \"text\": [\"Pakistan\", \"Pakistan\", \"Pakistan\", \"Pakistan\", \"Pakistan\"], \"type\": \"scatter\", \"x\": [5.194, 5.132000000000001, 5.26900005340576, 5.472, 5.653], \"y\": [0.51466, 0.40306, 0.40204778313636796, 0.424, 0.535]}, {\"marker\": {\"size\": [0.9019799999999999, 0.9967299999999999, 0.9910123944282528, 0.8220000000000001, 0.8370000000000001], \"sizemode\": \"area\", \"sizeref\": 0.00131}, \"mode\": \"markers\", \"name\": \"Jordan\", \"text\": [\"Jordan\", \"Jordan\", \"Jordan\", \"Jordan\", \"Jordan\"], \"type\": \"scatter\", \"x\": [5.192, 5.303, 5.33599996566772, 5.1610000000000005, 4.906000000000001], \"y\": [0.69639, 0.60712, 0.6045900583267211, 0.645, 0.815]}, {\"marker\": {\"size\": [0.9743799999999999, 1.07838, 1.12112903594971, 1.0170000000000001, 1.051], \"sizemode\": \"area\", \"sizeref\": 0.00131}, \"mode\": \"markers\", \"name\": \"Montenegro\", \"text\": [\"Montenegro\", \"Montenegro\", \"Montenegro\", \"Montenegro\", \"Montenegro\"], \"type\": \"scatter\", \"x\": [5.192, 5.1610000000000005, 5.23699998855591, 5.347, 5.523], \"y\": [0.72521, 0.6353300000000001, 0.6674646735191351, 0.7290000000000001, 0.871]}, {\"marker\": {\"size\": [0.89012, 1.0278, 1.08116579055786, 0.9890000000000001, 1.0290000000000001], \"sizemode\": \"area\", \"sizeref\": 0.00131}, \"mode\": \"markers\", \"name\": \"China\", \"text\": [\"China\", \"China\", \"China\", \"China\", \"China\"], \"type\": \"scatter\", \"x\": [5.14, 5.245, 5.2729997634887695, 5.246, 5.191], \"y\": [0.81658, 0.73561, 0.741415500640869, 0.799, 0.893]}, {\"marker\": {\"size\": [0.47038, 0.61202, 0.6364067792892459, 0.562, 0.578], \"sizemode\": \"area\", \"sizeref\": 0.00131}, \"mode\": \"markers\", \"name\": \"Zambia\", \"text\": [\"Zambia\", \"Zambia\", \"Zambia\", \"Zambia\", \"Zambia\"], \"type\": \"scatter\", \"x\": [5.129, 4.795, 4.513999938964839, 4.377, 4.107], \"y\": [0.29924, 0.23573000000000002, 0.25783589482307395, 0.295, 0.426]}, {\"marker\": {\"size\": [1.04345, 1.1697, 1.21768391132355, 1.1159999999999999, 1.162], \"sizemode\": \"area\", \"sizeref\": 0.00131}, \"mode\": \"markers\", \"name\": \"Romania\", \"text\": [\"Romania\", \"Romania\", \"Romania\", \"Romania\", \"Romania\"], \"type\": \"scatter\", \"x\": [5.124, 5.528, 5.824999809265139, 5.945, 6.07], \"y\": [0.7689, 0.67602, 0.6851583123207089, 0.726, 0.825]}, {\"marker\": {\"size\": [0.92053, 1.03437, 1.06931757926941, 0.975, 1.004], \"sizemode\": \"area\", \"sizeref\": 0.00131}, \"mode\": \"markers\", \"name\": \"Serbia\", \"text\": [\"Serbia\", \"Serbia\", \"Serbia\", \"Serbia\", \"Serbia\"], \"type\": \"scatter\", \"x\": [5.122999999999999, 5.1770000000000005, 5.39499998092651, 5.398, 5.603], \"y\": [0.74836, 0.6458, 0.65078467130661, 0.685, 0.8540000000000001]}, {\"marker\": {\"size\": [1.15991, 1.27607, 1.3151752948761002, 1.188, 1.2209999999999999], \"sizemode\": \"area\", \"sizeref\": 0.00131}, \"mode\": \"markers\", \"name\": \"Portugal\", \"text\": [\"Portugal\", \"Portugal\", \"Portugal\", \"Portugal\", \"Portugal\"], \"type\": \"scatter\", \"x\": [5.102, 5.122999999999999, 5.19500017166138, 5.41, 5.693], \"y\": [0.8751899999999999, 0.7936300000000001, 0.795843541622162, 0.884, 0.9990000000000001]}, {\"marker\": {\"size\": [1.11312, 1.2178799999999999, 1.26074862480164, 1.148, 1.187], \"sizemode\": \"area\", \"sizeref\": 0.00131}, \"mode\": \"markers\", \"name\": \"Latvia\", \"text\": [\"Latvia\", \"Latvia\", \"Latvia\", \"Latvia\", \"Latvia\"], \"type\": \"scatter\", \"x\": [5.098, 5.56, 5.849999904632571, 5.933, 5.94], \"y\": [0.72437, 0.63952, 0.638566970825195, 0.6709999999999999, 0.812]}, {\"marker\": {\"size\": [0.70532, 0.81217, 0.85769921541214, 0.775, 0.807], \"sizemode\": \"area\", \"sizeref\": 0.00131}, \"mode\": \"markers\", \"name\": \"Philippines\", \"text\": [\"Philippines\", \"Philippines\", \"Philippines\", \"Philippines\", \"Philippines\"], \"type\": \"scatter\", \"x\": [5.073, 5.279, 5.42999982833862, 5.524, 5.631], \"y\": [0.58114, 0.47036000000000006, 0.46800905466079706, 0.513, 0.657]}, {\"marker\": {\"size\": [0.18847], \"sizemode\": \"area\", \"sizeref\": 0.00131}, \"mode\": \"markers\", \"name\": \"Somaliland region\", \"text\": [\"Somaliland region\"], \"type\": \"scatter\", \"x\": [5.0569999999999995], \"y\": [0.43873]}, {\"marker\": {\"size\": [0.7347899999999999, 0.8405799999999999, 0.8781145811080929, 0.779, 0.8009999999999999], \"sizemode\": \"area\", \"sizeref\": 0.00131}, \"mode\": \"markers\", \"name\": \"Morocco\", \"text\": [\"Morocco\", \"Morocco\", \"Morocco\", \"Morocco\", \"Morocco\"], \"type\": \"scatter\", \"x\": [5.013, 5.151, 5.2350001335144, 5.254, 5.207999999999999], \"y\": [0.60954, 0.5947100000000001, 0.59771066904068, 0.669, 0.782]}, {\"marker\": {\"size\": [0.91851, 1.0193, 1.06457793712616, 0.9590000000000001], \"sizemode\": \"area\", \"sizeref\": 0.00131}, \"mode\": \"markers\", \"name\": \"Macedonia\", \"text\": [\"Macedonia\", \"Macedonia\", \"Macedonia\", \"Macedonia\"], \"type\": \"scatter\", \"x\": [5.007, 5.121, 5.175000190734861, 5.185], \"y\": [0.73545, 0.6473800000000001, 0.644948184490204, 0.691]}, {\"marker\": {\"size\": [0.08308, 0.23430564999580397, 0.198, 0.204], \"sizemode\": \"area\", \"sizeref\": 0.00131}, \"mode\": \"markers\", \"name\": \"Mozambique\", \"text\": [\"Mozambique\", \"Mozambique\", \"Mozambique\", \"Mozambique\"], \"type\": \"scatter\", \"x\": [4.971, 4.550000190734861, 4.417, 4.466], \"y\": [0.09131, 0.10665443539619399, 0.17300000000000001, 0.39]}, {\"marker\": {\"size\": [0.8786700000000001, 0.9553, 0.996192753314972, 0.9159999999999999, 0.9470000000000001], \"sizemode\": \"area\", \"sizeref\": 0.00131}, \"mode\": \"markers\", \"name\": \"Albania\", \"text\": [\"Albania\", \"Albania\", \"Albania\", \"Albania\", \"Albania\"], \"type\": \"scatter\", \"x\": [4.959, 4.655, 4.64400005340576, 4.586, 4.718999999999999], \"y\": [0.81325, 0.73007, 0.731159746646881, 0.79, 0.8740000000000001]}, {\"marker\": {\"size\": [0.8322299999999999, 0.9338299999999999, 0.982409417629242, 0.915, 0.945], \"sizemode\": \"area\", \"sizeref\": 0.00131}, \"mode\": \"markers\", \"name\": \"Bosnia and Herzegovina\", \"text\": [\"Bosnia and Herzegovina\", \"Bosnia and Herzegovina\", \"Bosnia and Herzegovina\", \"Bosnia and Herzegovina\", \"Bosnia and Herzegovina\"], \"type\": \"scatter\", \"x\": [4.949, 5.162999999999999, 5.18200016021729, 5.129, 5.386], \"y\": [0.79081, 0.7076600000000001, 0.705186307430267, 0.758, 0.845]}, {\"marker\": {\"size\": [0.37545, 0.521021246910095, 0.47200000000000003, 0.489], \"sizemode\": \"area\", \"sizeref\": 0.00131}, \"mode\": \"markers\", \"name\": \"Lesotho\", \"text\": [\"Lesotho\", \"Lesotho\", \"Lesotho\", \"Lesotho\"], \"type\": \"scatter\", \"x\": [4.898, 3.80800008773804, 3.8080000000000003, 3.802], \"y\": [0.07612000000000001, 0.0, 0.079, 0.168]}, {\"marker\": {\"size\": [0.8953700000000001, 1.02787, 1.07937383651733, 0.982, 1.015], \"sizemode\": \"area\", \"sizeref\": 0.00131}, \"mode\": \"markers\", \"name\": \"Dominican Republic\", \"text\": [\"Dominican Republic\", \"Dominican Republic\", \"Dominican Republic\", \"Dominican Republic\", \"Dominican Republic\"], \"type\": \"scatter\", \"x\": [4.885, 5.155, 5.230000019073491, 5.3020000000000005, 5.425], \"y\": [0.66825, 0.5766899999999999, 0.574873745441437, 0.614, 0.779]}, {\"marker\": {\"size\": [0.5906600000000001, 0.68042, 0.72, 0.764], \"sizemode\": \"area\", \"sizeref\": 0.00131}, \"mode\": \"markers\", \"name\": \"Laos\", \"text\": [\"Laos\", \"Laos\", \"Laos\", \"Laos\"], \"type\": \"scatter\", \"x\": [4.876, 4.876, 4.623, 4.796], \"y\": [0.54909, 0.38291, 0.441, 0.551]}, {\"marker\": {\"size\": [0.82819, 0.9885299999999999, 1.0272358655929599, 0.914, 0.948], \"sizemode\": \"area\", \"sizeref\": 0.00131}, \"mode\": \"markers\", \"name\": \"Mongolia\", \"text\": [\"Mongolia\", \"Mongolia\", \"Mongolia\", \"Mongolia\", \"Mongolia\"], \"type\": \"scatter\", \"x\": [4.874, 4.907, 4.95499992370605, 5.125, 5.285], \"y\": [0.60268, 0.55469, 0.557783484458923, 0.575, 0.667]}, {\"marker\": {\"size\": [0.71206, 0.8109999999999999], \"sizemode\": \"area\", \"sizeref\": 0.00131}, \"mode\": \"markers\", \"name\": \"Swaziland\", \"text\": [\"Swaziland\", \"Swaziland\"], \"type\": \"scatter\", \"x\": [4.867, 4.212], \"y\": [0.07566, 0.0]}, {\"marker\": {\"size\": [1.15406, 1.24886, 1.28948748111725, 1.1540000000000001, 1.181], \"sizemode\": \"area\", \"sizeref\": 0.00131}, \"mode\": \"markers\", \"name\": \"Greece\", \"text\": [\"Greece\", \"Greece\", \"Greece\", \"Greece\", \"Greece\"], \"type\": \"scatter\", \"x\": [4.857, 5.033, 5.2270002365112305, 5.358, 5.287000000000001], \"y\": [0.88213, 0.80029, 0.8101989030838009, 0.879, 0.9990000000000001]}, {\"marker\": {\"size\": [1.0256399999999999, 1.12268, 1.07498753070831, 0.965, 0.987], \"sizemode\": \"area\", \"sizeref\": 0.00131}, \"mode\": \"markers\", \"name\": \"Lebanon\", \"text\": [\"Lebanon\", \"Lebanon\", \"Lebanon\", \"Lebanon\", \"Lebanon\"], \"type\": \"scatter\", \"x\": [4.8389999999999995, 5.129, 5.22499990463257, 5.358, 5.197], \"y\": [0.83947, 0.76171, 0.7350810766220089, 0.785, 0.815]}, {\"marker\": {\"size\": [1.12094, 1.24142, 1.2860119342803997, 1.171, 1.2009999999999998], \"sizemode\": \"area\", \"sizeref\": 0.00131}, \"mode\": \"markers\", \"name\": \"Hungary\", \"text\": [\"Hungary\", \"Hungary\", \"Hungary\", \"Hungary\", \"Hungary\"], \"type\": \"scatter\", \"x\": [4.8, 5.145, 5.32399988174438, 5.62, 5.757999999999999], \"y\": [0.75905, 0.67608, 0.6877634525299069, 0.732, 0.828]}, {\"marker\": {\"size\": [0.59532, 0.69429, 0.730573117733002, 0.62, 0.642], \"sizemode\": \"area\", \"sizeref\": 0.00131}, \"mode\": \"markers\", \"name\": \"Honduras\", \"text\": [\"Honduras\", \"Honduras\", \"Honduras\", \"Honduras\", \"Honduras\"], \"type\": \"scatter\", \"x\": [4.788, 4.871, 5.1810002326965305, 5.504, 5.86], \"y\": [0.6951, 0.5838300000000001, 0.582569479942322, 0.622, 0.828]}, {\"marker\": {\"size\": [0.39047, 0.48835, 0.524713635444641, 0.474, 0.493], \"sizemode\": \"area\", \"sizeref\": 0.00131}, \"mode\": \"markers\", \"name\": \"Tajikistan\", \"text\": [\"Tajikistan\", \"Tajikistan\", \"Tajikistan\", \"Tajikistan\", \"Tajikistan\"], \"type\": \"scatter\", \"x\": [4.7860000000000005, 4.996, 5.04099988937378, 5.199, 5.4670000000000005], \"y\": [0.5737899999999999, 0.5311899999999999, 0.5292351245880129, 0.598, 0.718]}, {\"marker\": {\"size\": [0.88113, 0.97724, 1.00726580619812, 0.9, 0.9209999999999999], \"sizemode\": \"area\", \"sizeref\": 0.00131}, \"mode\": \"markers\", \"name\": \"Tunisia\", \"text\": [\"Tunisia\", \"Tunisia\", \"Tunisia\", \"Tunisia\", \"Tunisia\"], \"type\": \"scatter\", \"x\": [4.739, 5.045, 4.80499982833862, 4.592, 4.461], \"y\": [0.73793, 0.59577, 0.613212049007416, 0.69, 0.815]}, {\"marker\": {\"size\": [0.59867, 0.67024, 0.716249227523804, 0.642, 0.657], \"sizemode\": \"area\", \"sizeref\": 0.00131}, \"mode\": \"markers\", \"name\": \"Palestinian Territories\", \"text\": [\"Palestinian Territories\", \"Palestinian Territories\", \"Palestinian Territories\", \"Palestinian Territories\", \"Palestinian Territories\"], \"type\": \"scatter\", \"x\": [4.715, 4.754, 4.77500009536743, 4.743, 4.696000000000001], \"y\": [0.66015, 0.56844, 0.565666973590851, 0.602, 0.672]}, {\"marker\": {\"size\": [0.39753, 0.54177, 0.586682975292206, 0.532, 0.562], \"sizemode\": \"area\", \"sizeref\": 0.00131}, \"mode\": \"markers\", \"name\": \"Bangladesh\", \"text\": [\"Bangladesh\", \"Bangladesh\", \"Bangladesh\", \"Bangladesh\", \"Bangladesh\"], \"type\": \"scatter\", \"x\": [4.694, 4.643, 4.60799980163574, 4.5, 4.456], \"y\": [0.60164, 0.52989, 0.533241033554077, 0.579, 0.723]}, {\"marker\": {\"size\": [1.0088, 1.11758, 1.15687310695648, 1.0590000000000002, 1.1], \"sizemode\": \"area\", \"sizeref\": 0.00131}, \"mode\": \"markers\", \"name\": \"Iran\", \"text\": [\"Iran\", \"Iran\", \"Iran\", \"Iran\", \"Iran\"], \"type\": \"scatter\", \"x\": [4.686, 4.813, 4.69199991226196, 4.707, 4.548], \"y\": [0.69805, 0.64232, 0.639333188533783, 0.691, 0.785]}, {\"marker\": {\"size\": [0.79907, 0.87287, 0.89465194940567, 0.7929999999999999, 0.82], \"sizemode\": \"area\", \"sizeref\": 0.00131}, \"mode\": \"markers\", \"name\": \"Ukraine\", \"text\": [\"Ukraine\", \"Ukraine\", \"Ukraine\", \"Ukraine\", \"Ukraine\"], \"type\": \"scatter\", \"x\": [4.681, 4.324, 4.09600019454956, 4.103, 4.332], \"y\": [0.6739, 0.58628, 0.575903952121735, 0.609, 0.7390000000000001]}, {\"marker\": {\"size\": [0.98549, 1.07474, 1.1027104854583702, 1.01, 1.043], \"sizemode\": \"area\", \"sizeref\": 0.00131}, \"mode\": \"markers\", \"name\": \"Iraq\", \"text\": [\"Iraq\", \"Iraq\", \"Iraq\", \"Iraq\", \"Iraq\"], \"type\": \"scatter\", \"x\": [4.677, 4.575, 4.49700021743774, 4.456, 4.437], \"y\": [0.60237, 0.51076, 0.501180469989777, 0.536, 0.574]}, {\"marker\": {\"size\": [0.9204899999999999, 1.02416, 1.05469870567322, 0.94, 0.96], \"sizemode\": \"area\", \"sizeref\": 0.00131}, \"mode\": \"markers\", \"name\": \"South Africa\", \"text\": [\"South Africa\", \"South Africa\", \"South Africa\", \"South Africa\", \"South Africa\"], \"type\": \"scatter\", \"x\": [4.6419999999999995, 4.459, 4.8289999961853, 4.724, 4.7219999999999995], \"y\": [0.27688, 0.18611, 0.18708007037639604, 0.33, 0.469]}, {\"marker\": {\"size\": [0.5455800000000001, 0.63107, 0.667224824428558, 0.5920000000000001, 0.611], \"sizemode\": \"area\", \"sizeref\": 0.00131}, \"mode\": \"markers\", \"name\": \"Ghana\", \"text\": [\"Ghana\", \"Ghana\", \"Ghana\", \"Ghana\", \"Ghana\"], \"type\": \"scatter\", \"x\": [4.633, 4.276, 4.11999988555908, 4.657, 4.996], \"y\": [0.40131999999999995, 0.29681, 0.29563772678375205, 0.337, 0.486]}, {\"marker\": {\"size\": [0.271, 0.35041, 0.37584653496742204, 0.35700000000000004, 0.366], \"sizemode\": \"area\", \"sizeref\": 0.00131}, \"mode\": \"markers\", \"name\": \"Zimbabwe\", \"text\": [\"Zimbabwe\", \"Zimbabwe\", \"Zimbabwe\", \"Zimbabwe\", \"Zimbabwe\"], \"type\": \"scatter\", \"x\": [4.61, 4.1930000000000005, 3.875, 3.6919999999999997, 3.6630000000000003], \"y\": [0.33475, 0.1595, 0.19676375389099102, 0.248, 0.433]}, {\"marker\": {\"size\": [0.0712, 0.10705999999999999, 0.11904179304838199, 0.076, 0.073], \"sizemode\": \"area\", \"sizeref\": 0.00131}, \"mode\": \"markers\", \"name\": \"Liberia\", \"text\": [\"Liberia\", \"Liberia\", \"Liberia\", \"Liberia\", \"Liberia\"], \"type\": \"scatter\", \"x\": [4.571000000000001, 3.622, 3.5329999923706095, 3.495, 3.975], \"y\": [0.34201, 0.23165, 0.229918196797371, 0.267, 0.44299999999999995]}, {\"marker\": {\"size\": [0.64499, 0.74036, 0.7922212481498722, 0.721, 0.755], \"sizemode\": \"area\", \"sizeref\": 0.00131}, \"mode\": \"markers\", \"name\": \"India\", \"text\": [\"India\", \"India\", \"India\", \"India\", \"India\"], \"type\": \"scatter\", \"x\": [4.565, 4.404, 4.31500005722046, 4.19, 4.015], \"y\": [0.5152899999999999, 0.45091000000000003, 0.455427616834641, 0.485, 0.588]}, {\"marker\": {\"size\": [0.52107, 0.63069, 0.6595166921615601, 0.605], \"sizemode\": \"area\", \"sizeref\": 0.00131}, \"mode\": \"markers\", \"name\": \"Sudan\", \"text\": [\"Sudan\", \"Sudan\", \"Sudan\", \"Sudan\"], \"type\": \"scatter\", \"x\": [4.55, 4.138999999999999, 4.138999938964839, 4.138999999999999], \"y\": [0.36878, 0.29759, 0.290920823812485, 0.312]}, {\"marker\": {\"size\": [0.26673, 0.34097, 0.368610262870789, 0.315, 0.32299999999999995], \"sizemode\": \"area\", \"sizeref\": 0.00131}, \"mode\": \"markers\", \"name\": \"Haiti\", \"text\": [\"Haiti\", \"Haiti\", \"Haiti\", \"Haiti\", \"Haiti\"], \"type\": \"scatter\", \"x\": [4.518, 4.0280000000000005, 3.6029999256133998, 3.582, 3.597], \"y\": [0.38847, 0.27494, 0.277321130037308, 0.289, 0.449]}, {\"marker\": {\"size\": [0.0, 0.05661, 0.0921023488044739, 0.069, 0.094], \"sizemode\": \"area\", \"sizeref\": 0.00131}, \"mode\": \"markers\", \"name\": \"Congo (Kinshasa)\", \"text\": [\"Congo (Kinshasa)\", \"Congo (Kinshasa)\", \"Congo (Kinshasa)\", \"Congo (Kinshasa)\", \"Congo (Kinshasa)\"], \"type\": \"scatter\", \"x\": [4.5169999999999995, 4.272, 4.2800002098083505, 4.245, 4.418], \"y\": [0.09806000000000001, 0.188, 0.191407024860382, 0.204, 0.35700000000000004]}, {\"marker\": {\"size\": [0.35996999999999996, 0.44626000000000005, 0.479820191860199, 0.425, 0.446], \"sizemode\": \"area\", \"sizeref\": 0.00131}, \"mode\": \"markers\", \"name\": \"Nepal\", \"text\": [\"Nepal\", \"Nepal\", \"Nepal\", \"Nepal\", \"Nepal\"], \"type\": \"scatter\", \"x\": [4.513999999999999, 4.793, 4.961999893188481, 4.88, 4.913], \"y\": [0.5687399999999999, 0.50073, 0.504130780696869, 0.539, 0.677]}, {\"marker\": {\"size\": [0.19072999999999998, 0.29283000000000003, 0.339233845472336, 0.308, 0.336], \"sizemode\": \"area\", \"sizeref\": 0.00131}, \"mode\": \"markers\", \"name\": \"Ethiopia\", \"text\": [\"Ethiopia\", \"Ethiopia\", \"Ethiopia\", \"Ethiopia\", \"Ethiopia\"], \"type\": \"scatter\", \"x\": [4.512, 4.508, 4.46000003814697, 4.35, 4.2860000000000005], \"y\": [0.44055, 0.34578000000000003, 0.35340970754623396, 0.391, 0.532]}, {\"marker\": {\"size\": [0.33024000000000003, 0.36485, 0.36842092871666, 0.256, 0.268], \"sizemode\": \"area\", \"sizeref\": 0.00131}, \"mode\": \"markers\", \"name\": \"Sierra Leone\", \"text\": [\"Sierra Leone\", \"Sierra Leone\", \"Sierra Leone\", \"Sierra Leone\", \"Sierra Leone\"], \"type\": \"scatter\", \"x\": [4.507, 4.635, 4.70900011062622, 4.571000000000001, 4.374], \"y\": [0.0, 0.0, 0.005564753897488121, 0.0, 0.242]}, {\"marker\": {\"size\": [0.45407, 0.6139100000000001, 0.6484572887420649, 0.557, 0.57], \"sizemode\": \"area\", \"sizeref\": 0.00131}, \"mode\": \"markers\", \"name\": \"Mauritania\", \"text\": [\"Mauritania\", \"Mauritania\", \"Mauritania\", \"Mauritania\", \"Mauritania\"], \"type\": \"scatter\", \"x\": [4.436, 4.2010000000000005, 4.29199981689453, 4.356, 4.49], \"y\": [0.35874, 0.28639000000000003, 0.285349279642105, 0.292, 0.489]}, {\"marker\": {\"size\": [0.36471, 0.52267, 0.560479462146759, 0.493, 0.512], \"sizemode\": \"area\", \"sizeref\": 0.00131}, \"mode\": \"markers\", \"name\": \"Kenya\", \"text\": [\"Kenya\", \"Kenya\", \"Kenya\", \"Kenya\", \"Kenya\"], \"type\": \"scatter\", \"x\": [4.419, 4.356, 4.55299997329712, 4.41, 4.5089999999999995], \"y\": [0.41435, 0.30146999999999996, 0.30998834967613204, 0.45399999999999996, 0.581]}, {\"marker\": {\"size\": [0.44025], \"sizemode\": \"area\", \"sizeref\": 0.00131}, \"mode\": \"markers\", \"name\": \"Djibouti\", \"text\": [\"Djibouti\"], \"type\": \"scatter\", \"x\": [4.369], \"y\": [0.36291]}, {\"marker\": {\"size\": [0.7682100000000001, 0.8608600000000001, 0.900596737861633, 0.816, 0.85], \"sizemode\": \"area\", \"sizeref\": 0.00131}, \"mode\": \"markers\", \"name\": \"Armenia\", \"text\": [\"Armenia\", \"Armenia\", \"Armenia\", \"Armenia\", \"Armenia\"], \"type\": \"scatter\", \"x\": [4.35, 4.36, 4.37599992752075, 4.321000000000001, 4.559], \"y\": [0.7299, 0.64083, 0.637524425983429, 0.6659999999999999, 0.815]}, {\"marker\": {\"size\": [0.99355, 1.09426, 1.12209415435791, 1.0170000000000001, 1.041], \"sizemode\": \"area\", \"sizeref\": 0.00131}, \"mode\": \"markers\", \"name\": \"Botswana\", \"text\": [\"Botswana\", \"Botswana\", \"Botswana\", \"Botswana\", \"Botswana\"], \"type\": \"scatter\", \"x\": [4.332, 3.9739999999999998, 3.7660000324249303, 3.59, 3.488], \"y\": [0.047760000000000004, 0.34752, 0.34175550937652605, 0.41700000000000004, 0.5379999999999999]}, {\"marker\": {\"size\": [0.27108000000000004, 0.34112, 0.36711055040359497, 0.682, 0.71], \"sizemode\": \"area\", \"sizeref\": 0.00131}, \"mode\": \"markers\", \"name\": \"Myanmar\", \"text\": [\"Myanmar\", \"Myanmar\", \"Myanmar\", \"Myanmar\", \"Myanmar\"], \"type\": \"scatter\", \"x\": [4.3069999999999995, 4.395, 4.54500007629395, 4.308, 4.36], \"y\": [0.48246000000000006, 0.3988, 0.397522568702698, 0.429, 0.555]}, {\"marker\": {\"size\": [0.7419, 0.8379200000000001, 0.950612664222717, 0.853, 0.8859999999999999], \"sizemode\": \"area\", \"sizeref\": 0.00131}, \"mode\": \"markers\", \"name\": \"Georgia\", \"text\": [\"Georgia\", \"Georgia\", \"Georgia\", \"Georgia\", \"Georgia\"], \"type\": \"scatter\", \"x\": [4.297, 4.252, 4.28599977493286, 4.34, 4.519], \"y\": [0.72926, 0.64035, 0.649546980857849, 0.643, 0.752]}, {\"marker\": {\"size\": [0.016040000000000002, 0.08709, 0.233442038297653, 0.18600000000000003, 0.191], \"sizemode\": \"area\", \"sizeref\": 0.00131}, \"mode\": \"markers\", \"name\": \"Malawi\", \"text\": [\"Malawi\", \"Malawi\", \"Malawi\", \"Malawi\", \"Malawi\"], \"type\": \"scatter\", \"x\": [4.292, 4.156000000000001, 3.97000002861023, 3.5869999999999997, 3.41], \"y\": [0.22562, 0.29364, 0.315089583396912, 0.306, 0.495]}, {\"marker\": {\"size\": [0.83524, 0.9731799999999999, 1.00985014438629, 0.9179999999999999, 0.9490000000000001], \"sizemode\": \"area\", \"sizeref\": 0.00131}, \"mode\": \"markers\", \"name\": \"Sri Lanka\", \"text\": [\"Sri Lanka\", \"Sri Lanka\", \"Sri Lanka\", \"Sri Lanka\", \"Sri Lanka\"], \"type\": \"scatter\", \"x\": [4.271, 4.415, 4.44000005722046, 4.471, 4.3660000000000005], \"y\": [0.70806, 0.62007, 0.625130832195282, 0.672, 0.831]}, {\"marker\": {\"size\": [0.4225, 0.5249699999999999, 0.564305365085602, 0.535, 0.5489999999999999], \"sizemode\": \"area\", \"sizeref\": 0.00131}, \"mode\": \"markers\", \"name\": \"Cameroon\", \"text\": [\"Cameroon\", \"Cameroon\", \"Cameroon\", \"Cameroon\", \"Cameroon\"], \"type\": \"scatter\", \"x\": [4.252, 4.513, 4.69500017166138, 4.975, 5.044], \"y\": [0.23401999999999998, 0.12697999999999998, 0.132892116904259, 0.182, 0.331]}, {\"marker\": {\"size\": [1.01216, 1.11306, 1.1614590883255, 1.054, 1.092], \"sizemode\": \"area\", \"sizeref\": 0.00131}, \"mode\": \"markers\", \"name\": \"Bulgaria\", \"text\": [\"Bulgaria\", \"Bulgaria\", \"Bulgaria\", \"Bulgaria\", \"Bulgaria\"], \"type\": \"scatter\", \"x\": [4.218, 4.217, 4.71400022506714, 4.933, 5.011], \"y\": [0.76649, 0.67806, 0.708217680454254, 0.7120000000000001, 0.815]}, {\"marker\": {\"size\": [0.8818, 0.95395, 0.989701807498932, 0.885, 0.9129999999999999], \"sizemode\": \"area\", \"sizeref\": 0.00131}, \"mode\": \"markers\", \"name\": \"Egypt\", \"text\": [\"Egypt\", \"Egypt\", \"Egypt\", \"Egypt\", \"Egypt\"], \"type\": \"scatter\", \"x\": [4.194, 4.362, 4.7350001335144, 4.419, 4.166], \"y\": [0.61712, 0.5211600000000001, 0.520187258720398, 0.5529999999999999, 0.644]}, {\"marker\": {\"size\": [0.5464899999999999, 0.57939, 0.5916834473609921, 0.442, 0.287], \"sizemode\": \"area\", \"sizeref\": 0.00131}, \"mode\": \"markers\", \"name\": \"Yemen\", \"text\": [\"Yemen\", \"Yemen\", \"Yemen\", \"Yemen\", \"Yemen\"], \"type\": \"scatter\", \"x\": [4.077, 3.7239999999999998, 3.59299993515015, 3.355, 3.38], \"y\": [0.40064, 0.31048000000000003, 0.310080915689468, 0.34299999999999997, 0.46299999999999997]}, {\"marker\": {\"size\": [0.75778, 0.84731, 0.8584281802177429, 0.73], \"sizemode\": \"area\", \"sizeref\": 0.00131}, \"mode\": \"markers\", \"name\": \"Angola\", \"text\": [\"Angola\", \"Angola\", \"Angola\", \"Angola\"], \"type\": \"scatter\", \"x\": [4.033, 3.866, 3.79500007629395, 3.795], \"y\": [0.16683, 0.04991, 0.0498686656355858, 0.26899999999999996]}, {\"marker\": {\"size\": [0.26074, 0.31292, 0.476180493831635, 0.37, 0.385], \"sizemode\": \"area\", \"sizeref\": 0.00131}, \"mode\": \"markers\", \"name\": \"Mali\", \"text\": [\"Mali\", \"Mali\", \"Mali\", \"Mali\", \"Mali\"], \"type\": \"scatter\", \"x\": [3.995, 4.073, 4.19000005722046, 4.447, 4.39], \"y\": [0.20583, 0.16347, 0.16936567425727803, 0.152, 0.308]}, {\"marker\": {\"size\": [0.67866, 0.7710899999999999, 0.8089642524719242, 0.682, 0.6729999999999999], \"sizemode\": \"area\", \"sizeref\": 0.00131}, \"mode\": \"markers\", \"name\": \"Congo (Brazzaville)\", \"text\": [\"Congo (Brazzaville)\", \"Congo (Brazzaville)\", \"Congo (Brazzaville)\", \"Congo (Brazzaville)\", \"Congo (Brazzaville)\"], \"type\": \"scatter\", \"x\": [3.989, 4.236000000000001, 4.29099988937378, 4.559, 4.812], \"y\": [0.31051, 0.28212, 0.28995743393898, 0.34299999999999997, 0.508]}, {\"marker\": {\"size\": [0.23906, 0.27509, 0.27399999999999997], \"sizemode\": \"area\", \"sizeref\": 0.00131}, \"mode\": \"markers\", \"name\": \"Comoros\", \"text\": [\"Comoros\", \"Comoros\", \"Comoros\"], \"type\": \"scatter\", \"x\": [3.9560000000000004, 3.9560000000000004, 3.9730000000000003], \"y\": [0.36315, 0.29980999999999997, 0.505]}, {\"marker\": {\"size\": [0.21101999999999999, 0.34719, 0.381430715322495, 0.322, 0.332], \"sizemode\": \"area\", \"sizeref\": 0.00131}, \"mode\": \"markers\", \"name\": \"Uganda\", \"text\": [\"Uganda\", \"Uganda\", \"Uganda\", \"Uganda\", \"Uganda\"], \"type\": \"scatter\", \"x\": [3.931, 3.739, 4.08099985122681, 4.1610000000000005, 4.189], \"y\": [0.33860999999999997, 0.19625, 0.21763260662555703, 0.237, 0.44299999999999995]}, {\"marker\": {\"size\": [0.36498, 0.44314, 0.479309022426605, 0.429, 0.45], \"sizemode\": \"area\", \"sizeref\": 0.00131}, \"mode\": \"markers\", \"name\": \"Senegal\", \"text\": [\"Senegal\", \"Senegal\", \"Senegal\", \"Senegal\", \"Senegal\"], \"type\": \"scatter\", \"x\": [3.904, 4.218999999999999, 4.53499984741211, 4.631, 4.681], \"y\": [0.4354, 0.40457, 0.409362852573395, 0.433, 0.5710000000000001]}, {\"marker\": {\"size\": [1.06024, 1.15851, 1.1982102394104, 1.036, 1.057], \"sizemode\": \"area\", \"sizeref\": 0.00131}, \"mode\": \"markers\", \"name\": \"Gabon\", \"text\": [\"Gabon\", \"Gabon\", \"Gabon\", \"Gabon\", \"Gabon\"], \"type\": \"scatter\", \"x\": [3.8960000000000004, 4.121, 4.46500015258789, 4.758, 4.7989999999999995], \"y\": [0.43372, 0.3494, 0.35657858848571794, 0.40399999999999997, 0.5710000000000001]}, {\"marker\": {\"size\": [0.0694, 0.1327, 0.16192533075809498, 0.131, 0.138], \"sizemode\": \"area\", \"sizeref\": 0.00131}, \"mode\": \"markers\", \"name\": \"Niger\", \"text\": [\"Niger\", \"Niger\", \"Niger\", \"Niger\", \"Niger\"], \"type\": \"scatter\", \"x\": [3.845, 3.8560000000000003, 4.02799987792969, 4.166, 4.628], \"y\": [0.29707, 0.26161999999999996, 0.26850500702858, 0.221, 0.366]}, {\"marker\": {\"size\": [0.46038, 0.55604, 0.6017650961875921, 0.5489999999999999, 0.574], \"sizemode\": \"area\", \"sizeref\": 0.00131}, \"mode\": \"markers\", \"name\": \"Cambodia\", \"text\": [\"Cambodia\", \"Cambodia\", \"Cambodia\", \"Cambodia\", \"Cambodia\"], \"type\": \"scatter\", \"x\": [3.819, 3.907, 4.1680002212524405, 4.433, 4.7], \"y\": [0.61114, 0.42494, 0.429783403873444, 0.457, 0.637]}, {\"marker\": {\"size\": [0.2852, 0.47155, 0.511135876178741, 0.455, 0.47600000000000003], \"sizemode\": \"area\", \"sizeref\": 0.00131}, \"mode\": \"markers\", \"name\": \"Tanzania\", \"text\": [\"Tanzania\", \"Tanzania\", \"Tanzania\", \"Tanzania\", \"Tanzania\"], \"type\": \"scatter\", \"x\": [3.781, 3.6660000000000004, 3.34899997711182, 3.303, 3.2310000000000003], \"y\": [0.38215, 0.35700000000000004, 0.364509284496307, 0.381, 0.499]}, {\"marker\": {\"size\": [0.20824, 0.27954, 0.305808693170547, 0.262, 0.27399999999999997], \"sizemode\": \"area\", \"sizeref\": 0.00131}, \"mode\": \"markers\", \"name\": \"Madagascar\", \"text\": [\"Madagascar\", \"Madagascar\", \"Madagascar\", \"Madagascar\", \"Madagascar\"], \"type\": \"scatter\", \"x\": [3.681, 3.695, 3.64400005340576, 3.7739999999999996, 3.9330000000000003], \"y\": [0.46721, 0.37109000000000003, 0.375223308801651, 0.402, 0.555]}, {\"marker\": {\"size\": [0.0785, 0.0, 0.024, 0.026000000000000002], \"sizemode\": \"area\", \"sizeref\": 0.00131}, \"mode\": \"markers\", \"name\": \"Central African Republic\", \"text\": [\"Central African Republic\", \"Central African Republic\", \"Central African Republic\", \"Central African Republic\"], \"type\": \"scatter\", \"x\": [3.678, 2.69300007820129, 3.083, 3.083], \"y\": [0.06699, 0.0187726859003305, 0.01, 0.105]}, {\"marker\": {\"size\": [0.34193, 0.42213999999999996, 0.43801298737525896, 0.358, 0.35], \"sizemode\": \"area\", \"sizeref\": 0.00131}, \"mode\": \"markers\", \"name\": \"Chad\", \"text\": [\"Chad\", \"Chad\", \"Chad\", \"Chad\", \"Chad\"], \"type\": \"scatter\", \"x\": [3.667, 3.763, 3.9360001087188703, 4.301, 4.35], \"y\": [0.1501, 0.038239999999999996, 0.0411347150802612, 0.053, 0.192]}, {\"marker\": {\"size\": [0.17417, 0.22415, 0.24454993009567302, 0.344, 0.38], \"sizemode\": \"area\", \"sizeref\": 0.00131}, \"mode\": \"markers\", \"name\": \"Guinea\", \"text\": [\"Guinea\", \"Guinea\", \"Guinea\", \"Guinea\", \"Guinea\"], \"type\": \"scatter\", \"x\": [3.656, 3.6069999999999998, 3.50699996948242, 3.964, 4.534], \"y\": [0.24009, 0.18829, 0.194129139184952, 0.21100000000000002, 0.375]}, {\"marker\": {\"size\": [0.46534, 0.55507, 0.6030489206314089, 0.541, 0.569], \"sizemode\": \"area\", \"sizeref\": 0.00131}, \"mode\": \"markers\", \"name\": \"Ivory Coast\", \"text\": [\"Ivory Coast\", \"Ivory Coast\", \"Ivory Coast\", \"Ivory Coast\", \"Ivory Coast\"], \"type\": \"scatter\", \"x\": [3.655, 3.9160000000000004, 4.17999982833862, 4.671, 4.944], \"y\": [0.15185, 0.04476, 0.0486421696841717, 0.08, 0.23199999999999998]}, {\"marker\": {\"size\": [0.25811999999999996, 0.31995, 0.35022771358490007, 0.314, 0.331], \"sizemode\": \"area\", \"sizeref\": 0.00131}, \"mode\": \"markers\", \"name\": \"Burkina Faso\", \"text\": [\"Burkina Faso\", \"Burkina Faso\", \"Burkina Faso\", \"Burkina Faso\", \"Burkina Faso\"], \"type\": \"scatter\", \"x\": [3.5869999999999997, 3.739, 4.03200006484985, 4.4239999999999995, 4.587], \"y\": [0.27125, 0.21297, 0.21584425866603896, 0.254, 0.38]}, {\"marker\": {\"size\": [0.31982, 0.38227, 0.401477217674255, 0.332, 0.35], \"sizemode\": \"area\", \"sizeref\": 0.00131}, \"mode\": \"markers\", \"name\": \"Afghanistan\", \"text\": [\"Afghanistan\", \"Afghanistan\", \"Afghanistan\", \"Afghanistan\", \"Afghanistan\"], \"type\": \"scatter\", \"x\": [3.575, 3.36, 3.7939999103546103, 3.6319999999999997, 3.2030000000000003], \"y\": [0.30335, 0.17344, 0.18074677884578697, 0.255, 0.361]}, {\"marker\": {\"size\": [0.22208000000000003, 0.32846, 0.368745893239975, 0.332, 0.359], \"sizemode\": \"area\", \"sizeref\": 0.00131}, \"mode\": \"markers\", \"name\": \"Rwanda\", \"text\": [\"Rwanda\", \"Rwanda\", \"Rwanda\", \"Rwanda\", \"Rwanda\"], \"type\": \"scatter\", \"x\": [3.465, 3.515, 3.47099995613098, 3.408, 3.3339999999999996], \"y\": [0.42863999999999997, 0.31865, 0.326424807310104, 0.4, 0.614]}, {\"marker\": {\"size\": [0.28665, 0.39499, 0.43108540773391707, 0.37799999999999995, 0.39299999999999996], \"sizemode\": \"area\", \"sizeref\": 0.00131}, \"mode\": \"markers\", \"name\": \"Benin\", \"text\": [\"Benin\", \"Benin\", \"Benin\", \"Benin\", \"Benin\"], \"type\": \"scatter\", \"x\": [3.34, 3.484, 3.65700006484985, 4.141, 4.883], \"y\": [0.3191, 0.21028000000000002, 0.20993021130561804, 0.24, 0.397]}, {\"marker\": {\"size\": [0.6632, 0.7471899999999999, 0.777153134346008, 0.6890000000000001, 0.619], \"sizemode\": \"area\", \"sizeref\": 0.00131}, \"mode\": \"markers\", \"name\": \"Syria\", \"text\": [\"Syria\", \"Syria\", \"Syria\", \"Syria\", \"Syria\"], \"type\": \"scatter\", \"x\": [3.0060000000000002, 3.069, 3.46199989318848, 3.4619999999999997, 3.4619999999999997], \"y\": [0.7219300000000001, 0.6299399999999999, 0.5005333423614501, 0.539, 0.44]}, {\"marker\": {\"size\": [0.0153, 0.06831, 0.09162256866693501, 0.091, 0.046], \"sizemode\": \"area\", \"sizeref\": 0.00131}, \"mode\": \"markers\", \"name\": \"Burundi\", \"text\": [\"Burundi\", \"Burundi\", \"Burundi\", \"Burundi\", \"Burundi\"], \"type\": \"scatter\", \"x\": [2.905, 2.905, 2.90499997138977, 2.905, 3.775], \"y\": [0.22396, 0.15747, 0.151610791683197, 0.145, 0.38]}, {\"marker\": {\"size\": [0.20868, 0.28123000000000004, 0.30544471740722695, 0.259, 0.275], \"sizemode\": \"area\", \"sizeref\": 0.00131}, \"mode\": \"markers\", \"name\": \"Togo\", \"text\": [\"Togo\", \"Togo\", \"Togo\", \"Togo\", \"Togo\"], \"type\": \"scatter\", \"x\": [2.839, 3.303, 3.4949998855590803, 3.9989999999999997, 4.085], \"y\": [0.28443, 0.24811, 0.247105568647385, 0.253, 0.41]}, {\"marker\": {\"size\": [1.35943], \"sizemode\": \"area\", \"sizeref\": 0.00131}, \"mode\": \"markers\", \"name\": \"Puerto Rico\", \"text\": [\"Puerto Rico\"], \"type\": \"scatter\", \"x\": [7.039], \"y\": [0.77758]}, {\"marker\": {\"size\": [0.87616, 0.907975316047668, 0.807], \"sizemode\": \"area\", \"sizeref\": 0.00131}, \"mode\": \"markers\", \"name\": \"Belize\", \"text\": [\"Belize\", \"Belize\", \"Belize\"], \"type\": \"scatter\", \"x\": [5.956, 5.955999851226809, 5.956], \"y\": [0.45569, 0.45019176602363603, 0.474]}, {\"marker\": {\"size\": [0.0, 0.0226431842893362, 0.0, 0.0], \"sizemode\": \"area\", \"sizeref\": 0.00131}, \"mode\": \"markers\", \"name\": \"Somalia\", \"text\": [\"Somalia\", \"Somalia\", \"Somalia\", \"Somalia\"], \"type\": \"scatter\", \"x\": [5.44, 5.151000022888179, 4.982, 4.668], \"y\": [0.11465999999999998, 0.11398913711309401, 0.115, 0.268]}, {\"marker\": {\"size\": [0.25558000000000003], \"sizemode\": \"area\", \"sizeref\": 0.00131}, \"mode\": \"markers\", \"name\": \"Somaliland Region\", \"text\": [\"Somaliland Region\"], \"type\": \"scatter\", \"x\": [5.0569999999999995], \"y\": [0.33108000000000004]}, {\"marker\": {\"size\": [0.9328700000000001, 0.964434325695038, 0.8740000000000001, 0.879], \"sizemode\": \"area\", \"sizeref\": 0.00131}, \"mode\": \"markers\", \"name\": \"Namibia\", \"text\": [\"Namibia\", \"Namibia\", \"Namibia\", \"Namibia\"], \"type\": \"scatter\", \"x\": [4.574, 4.57399988174438, 4.441, 4.638999999999999], \"y\": [0.34745, 0.33861181139946, 0.365, 0.47700000000000004]}, {\"marker\": {\"size\": [0.39394, 0.39724862575531, 0.337, 0.306], \"sizemode\": \"area\", \"sizeref\": 0.00131}, \"mode\": \"markers\", \"name\": \"South Sudan\", \"text\": [\"South Sudan\", \"South Sudan\", \"South Sudan\", \"South Sudan\"], \"type\": \"scatter\", \"x\": [3.832, 3.5910000801086404, 3.2539999999999996, 2.853], \"y\": [0.15780999999999998, 0.163486003875732, 0.177, 0.295]}, {\"marker\": {\"size\": [1.4336265325546298], \"sizemode\": \"area\", \"sizeref\": 0.00131}, \"mode\": \"markers\", \"name\": \"Taiwan Province of China\", \"text\": [\"Taiwan Province of China\"], \"type\": \"scatter\", \"x\": [6.42199993133545], \"y\": [0.793984234333038]}, {\"marker\": {\"size\": [1.55167484283447], \"sizemode\": \"area\", \"sizeref\": 0.00131}, \"mode\": \"markers\", \"name\": \"Hong Kong S.A.R., China\", \"text\": [\"Hong Kong S.A.R., China\"], \"type\": \"scatter\", \"x\": [5.47200012207031], \"y\": [0.943062424659729]}, {\"marker\": {\"size\": [1.2229999999999999, 1.2309999999999999], \"sizemode\": \"area\", \"sizeref\": 0.00131}, \"mode\": \"markers\", \"name\": \"Trinidad & Tobago\", \"text\": [\"Trinidad & Tobago\", \"Trinidad & Tobago\"], \"type\": \"scatter\", \"x\": [6.192, 6.192], \"y\": [0.564, 0.713]}, {\"marker\": {\"size\": [1.229, 1.263], \"sizemode\": \"area\", \"sizeref\": 0.00131}, \"mode\": \"markers\", \"name\": \"Northern Cyprus\", \"text\": [\"Northern Cyprus\", \"Northern Cyprus\"], \"type\": \"scatter\", \"x\": [5.835, 5.718], \"y\": [0.909, 1.042]}, {\"marker\": {\"size\": [0.983], \"sizemode\": \"area\", \"sizeref\": 0.00131}, \"mode\": \"markers\", \"name\": \"North Macedonia\", \"text\": [\"North Macedonia\"], \"type\": \"scatter\", \"x\": [5.274], \"y\": [0.838]}, {\"marker\": {\"size\": [0.308], \"sizemode\": \"area\", \"sizeref\": 0.00131}, \"mode\": \"markers\", \"name\": \"Gambia\", \"text\": [\"Gambia\"], \"type\": \"scatter\", \"x\": [4.516], \"y\": [0.428]}],\n",
              "                        {\"height\": 650, \"hovermode\": \"closest\", \"margin\": {\"b\": 50, \"pad\": 5, \"t\": 50}, \"showlegend\": true, \"template\": {\"data\": {\"bar\": [{\"error_x\": {\"color\": \"#2a3f5f\"}, \"error_y\": {\"color\": \"#2a3f5f\"}, \"marker\": {\"line\": {\"color\": \"#E5ECF6\", \"width\": 0.5}}, \"type\": \"bar\"}], \"barpolar\": [{\"marker\": {\"line\": {\"color\": \"#E5ECF6\", \"width\": 0.5}}, \"type\": \"barpolar\"}], \"carpet\": [{\"aaxis\": {\"endlinecolor\": \"#2a3f5f\", \"gridcolor\": \"white\", \"linecolor\": \"white\", \"minorgridcolor\": \"white\", \"startlinecolor\": \"#2a3f5f\"}, \"baxis\": {\"endlinecolor\": \"#2a3f5f\", \"gridcolor\": \"white\", \"linecolor\": \"white\", \"minorgridcolor\": \"white\", \"startlinecolor\": \"#2a3f5f\"}, \"type\": \"carpet\"}], \"choropleth\": [{\"colorbar\": {\"outlinewidth\": 0, \"ticks\": \"\"}, \"type\": \"choropleth\"}], \"contour\": [{\"colorbar\": {\"outlinewidth\": 0, \"ticks\": \"\"}, \"colorscale\": [[0.0, \"#0d0887\"], [0.1111111111111111, \"#46039f\"], [0.2222222222222222, \"#7201a8\"], [0.3333333333333333, \"#9c179e\"], [0.4444444444444444, \"#bd3786\"], [0.5555555555555556, \"#d8576b\"], [0.6666666666666666, \"#ed7953\"], [0.7777777777777778, \"#fb9f3a\"], [0.8888888888888888, \"#fdca26\"], [1.0, \"#f0f921\"]], \"type\": \"contour\"}], \"contourcarpet\": [{\"colorbar\": {\"outlinewidth\": 0, \"ticks\": \"\"}, \"type\": \"contourcarpet\"}], \"heatmap\": [{\"colorbar\": {\"outlinewidth\": 0, \"ticks\": \"\"}, \"colorscale\": [[0.0, \"#0d0887\"], [0.1111111111111111, \"#46039f\"], [0.2222222222222222, \"#7201a8\"], [0.3333333333333333, \"#9c179e\"], [0.4444444444444444, \"#bd3786\"], [0.5555555555555556, \"#d8576b\"], [0.6666666666666666, \"#ed7953\"], [0.7777777777777778, \"#fb9f3a\"], [0.8888888888888888, \"#fdca26\"], [1.0, \"#f0f921\"]], \"type\": \"heatmap\"}], \"heatmapgl\": [{\"colorbar\": {\"outlinewidth\": 0, \"ticks\": \"\"}, \"colorscale\": [[0.0, \"#0d0887\"], [0.1111111111111111, \"#46039f\"], [0.2222222222222222, \"#7201a8\"], [0.3333333333333333, \"#9c179e\"], [0.4444444444444444, \"#bd3786\"], [0.5555555555555556, \"#d8576b\"], [0.6666666666666666, \"#ed7953\"], [0.7777777777777778, \"#fb9f3a\"], [0.8888888888888888, \"#fdca26\"], [1.0, \"#f0f921\"]], \"type\": \"heatmapgl\"}], \"histogram\": [{\"marker\": {\"colorbar\": {\"outlinewidth\": 0, \"ticks\": \"\"}}, \"type\": \"histogram\"}], \"histogram2d\": [{\"colorbar\": {\"outlinewidth\": 0, \"ticks\": \"\"}, \"colorscale\": [[0.0, \"#0d0887\"], [0.1111111111111111, \"#46039f\"], [0.2222222222222222, \"#7201a8\"], [0.3333333333333333, \"#9c179e\"], [0.4444444444444444, \"#bd3786\"], [0.5555555555555556, \"#d8576b\"], [0.6666666666666666, \"#ed7953\"], [0.7777777777777778, \"#fb9f3a\"], [0.8888888888888888, \"#fdca26\"], [1.0, \"#f0f921\"]], \"type\": \"histogram2d\"}], \"histogram2dcontour\": [{\"colorbar\": {\"outlinewidth\": 0, \"ticks\": \"\"}, \"colorscale\": [[0.0, \"#0d0887\"], [0.1111111111111111, \"#46039f\"], [0.2222222222222222, \"#7201a8\"], [0.3333333333333333, \"#9c179e\"], [0.4444444444444444, \"#bd3786\"], [0.5555555555555556, \"#d8576b\"], [0.6666666666666666, \"#ed7953\"], [0.7777777777777778, \"#fb9f3a\"], [0.8888888888888888, \"#fdca26\"], [1.0, \"#f0f921\"]], \"type\": \"histogram2dcontour\"}], \"mesh3d\": [{\"colorbar\": {\"outlinewidth\": 0, \"ticks\": \"\"}, \"type\": \"mesh3d\"}], \"parcoords\": [{\"line\": {\"colorbar\": {\"outlinewidth\": 0, \"ticks\": \"\"}}, \"type\": \"parcoords\"}], \"pie\": [{\"automargin\": true, \"type\": \"pie\"}], \"scatter\": [{\"marker\": {\"colorbar\": {\"outlinewidth\": 0, \"ticks\": \"\"}}, \"type\": \"scatter\"}], \"scatter3d\": [{\"line\": {\"colorbar\": {\"outlinewidth\": 0, \"ticks\": \"\"}}, \"marker\": {\"colorbar\": {\"outlinewidth\": 0, \"ticks\": \"\"}}, \"type\": \"scatter3d\"}], \"scattercarpet\": [{\"marker\": {\"colorbar\": {\"outlinewidth\": 0, \"ticks\": \"\"}}, \"type\": \"scattercarpet\"}], \"scattergeo\": [{\"marker\": {\"colorbar\": {\"outlinewidth\": 0, \"ticks\": \"\"}}, \"type\": \"scattergeo\"}], \"scattergl\": [{\"marker\": {\"colorbar\": {\"outlinewidth\": 0, \"ticks\": \"\"}}, \"type\": \"scattergl\"}], \"scattermapbox\": [{\"marker\": {\"colorbar\": {\"outlinewidth\": 0, \"ticks\": \"\"}}, \"type\": \"scattermapbox\"}], \"scatterpolar\": [{\"marker\": {\"colorbar\": {\"outlinewidth\": 0, \"ticks\": \"\"}}, \"type\": \"scatterpolar\"}], \"scatterpolargl\": [{\"marker\": {\"colorbar\": {\"outlinewidth\": 0, \"ticks\": \"\"}}, \"type\": \"scatterpolargl\"}], \"scatterternary\": [{\"marker\": {\"colorbar\": {\"outlinewidth\": 0, \"ticks\": \"\"}}, \"type\": \"scatterternary\"}], \"surface\": [{\"colorbar\": {\"outlinewidth\": 0, \"ticks\": \"\"}, \"colorscale\": [[0.0, \"#0d0887\"], [0.1111111111111111, \"#46039f\"], [0.2222222222222222, \"#7201a8\"], [0.3333333333333333, \"#9c179e\"], [0.4444444444444444, \"#bd3786\"], [0.5555555555555556, \"#d8576b\"], [0.6666666666666666, \"#ed7953\"], [0.7777777777777778, \"#fb9f3a\"], [0.8888888888888888, \"#fdca26\"], [1.0, \"#f0f921\"]], \"type\": \"surface\"}], \"table\": [{\"cells\": {\"fill\": {\"color\": \"#EBF0F8\"}, \"line\": {\"color\": \"white\"}}, \"header\": {\"fill\": {\"color\": \"#C8D4E3\"}, \"line\": {\"color\": \"white\"}}, \"type\": \"table\"}]}, \"layout\": {\"annotationdefaults\": {\"arrowcolor\": \"#2a3f5f\", \"arrowhead\": 0, \"arrowwidth\": 1}, \"coloraxis\": {\"colorbar\": {\"outlinewidth\": 0, \"ticks\": \"\"}}, \"colorscale\": {\"diverging\": [[0, \"#8e0152\"], [0.1, \"#c51b7d\"], [0.2, \"#de77ae\"], [0.3, \"#f1b6da\"], [0.4, \"#fde0ef\"], [0.5, \"#f7f7f7\"], [0.6, \"#e6f5d0\"], [0.7, \"#b8e186\"], [0.8, \"#7fbc41\"], [0.9, \"#4d9221\"], [1, \"#276419\"]], \"sequential\": [[0.0, \"#0d0887\"], [0.1111111111111111, \"#46039f\"], [0.2222222222222222, \"#7201a8\"], [0.3333333333333333, \"#9c179e\"], [0.4444444444444444, \"#bd3786\"], [0.5555555555555556, \"#d8576b\"], [0.6666666666666666, \"#ed7953\"], [0.7777777777777778, \"#fb9f3a\"], [0.8888888888888888, \"#fdca26\"], [1.0, \"#f0f921\"]], \"sequentialminus\": [[0.0, \"#0d0887\"], [0.1111111111111111, \"#46039f\"], [0.2222222222222222, \"#7201a8\"], [0.3333333333333333, \"#9c179e\"], [0.4444444444444444, \"#bd3786\"], [0.5555555555555556, \"#d8576b\"], [0.6666666666666666, \"#ed7953\"], [0.7777777777777778, \"#fb9f3a\"], [0.8888888888888888, \"#fdca26\"], [1.0, \"#f0f921\"]]}, \"colorway\": [\"#636efa\", \"#EF553B\", \"#00cc96\", \"#ab63fa\", \"#FFA15A\", \"#19d3f3\", \"#FF6692\", \"#B6E880\", \"#FF97FF\", \"#FECB52\"], \"font\": {\"color\": \"#2a3f5f\"}, \"geo\": {\"bgcolor\": \"white\", \"lakecolor\": \"white\", \"landcolor\": \"#E5ECF6\", \"showlakes\": true, \"showland\": true, \"subunitcolor\": \"white\"}, \"hoverlabel\": {\"align\": \"left\"}, \"hovermode\": \"closest\", \"mapbox\": {\"style\": \"light\"}, \"paper_bgcolor\": \"white\", \"plot_bgcolor\": \"#E5ECF6\", \"polar\": {\"angularaxis\": {\"gridcolor\": \"white\", \"linecolor\": \"white\", \"ticks\": \"\"}, \"bgcolor\": \"#E5ECF6\", \"radialaxis\": {\"gridcolor\": \"white\", \"linecolor\": \"white\", \"ticks\": \"\"}}, \"scene\": {\"xaxis\": {\"backgroundcolor\": \"#E5ECF6\", \"gridcolor\": \"white\", \"gridwidth\": 2, \"linecolor\": \"white\", \"showbackground\": true, \"ticks\": \"\", \"zerolinecolor\": \"white\"}, \"yaxis\": {\"backgroundcolor\": \"#E5ECF6\", \"gridcolor\": \"white\", \"gridwidth\": 2, \"linecolor\": \"white\", \"showbackground\": true, \"ticks\": \"\", \"zerolinecolor\": \"white\"}, \"zaxis\": {\"backgroundcolor\": \"#E5ECF6\", \"gridcolor\": \"white\", \"gridwidth\": 2, \"linecolor\": \"white\", \"showbackground\": true, \"ticks\": \"\", \"zerolinecolor\": \"white\"}}, \"shapedefaults\": {\"line\": {\"color\": \"#2a3f5f\"}}, \"ternary\": {\"aaxis\": {\"gridcolor\": \"white\", \"linecolor\": \"white\", \"ticks\": \"\"}, \"baxis\": {\"gridcolor\": \"white\", \"linecolor\": \"white\", \"ticks\": \"\"}, \"bgcolor\": \"#E5ECF6\", \"caxis\": {\"gridcolor\": \"white\", \"linecolor\": \"white\", \"ticks\": \"\"}}, \"title\": {\"x\": 0.05}, \"xaxis\": {\"automargin\": true, \"gridcolor\": \"white\", \"linecolor\": \"white\", \"ticks\": \"\", \"title\": {\"standoff\": 15}, \"zerolinecolor\": \"white\", \"zerolinewidth\": 2}, \"yaxis\": {\"automargin\": true, \"gridcolor\": \"white\", \"linecolor\": \"white\", \"ticks\": \"\", \"title\": {\"standoff\": 15}, \"zerolinecolor\": \"white\", \"zerolinewidth\": 2}}}, \"title\": {\"text\": \"Happiness vs Health vs Economy\"}, \"xaxis\": {\"autorange\": false, \"range\": [1.885100054740903, 10.8766], \"title\": {\"text\": \"Happiness Score\"}}, \"yaxis\": {\"autorange\": false, \"range\": [0.0, 1.5974], \"title\": {\"text\": \"Health\"}}},\n",
              "                        {\"scrollzoom\": true, \"responsive\": true}\n",
              "                    ).then(function(){\n",
              "                            \n",
              "var gd = document.getElementById('e08625ce-d799-4d45-beee-851acc700bdb');\n",
              "var x = new MutationObserver(function (mutations, observer) {{\n",
              "        var display = window.getComputedStyle(gd).display;\n",
              "        if (!display || display === 'none') {{\n",
              "            console.log([gd, 'removed!']);\n",
              "            Plotly.purge(gd);\n",
              "            observer.disconnect();\n",
              "        }}\n",
              "}});\n",
              "\n",
              "// Listen for the removal of the full notebook cells\n",
              "var notebookContainer = gd.closest('#notebook-container');\n",
              "if (notebookContainer) {{\n",
              "    x.observe(notebookContainer, {childList: true});\n",
              "}}\n",
              "\n",
              "// Listen for the clearing of the current output cell\n",
              "var outputEl = gd.closest('.output');\n",
              "if (outputEl) {{\n",
              "    x.observe(outputEl, {childList: true});\n",
              "}}\n",
              "\n",
              "                        })\n",
              "                };\n",
              "                \n",
              "            </script>\n",
              "        </div>\n",
              "</body>\n",
              "</html>"
            ]
          },
          "metadata": {
            "tags": []
          }
        }
      ]
    },
    {
      "cell_type": "markdown",
      "metadata": {
        "id": "xG0FYedV2YbV",
        "colab_type": "text"
      },
      "source": [
        "### With the help of Bubble Plots we tried to show the relationships between Target variable (Happiness Score) with other variables such as Health, Social Support, Economy etc. In all the chart the size of bubble represents the Economy or GDP of the country .\n",
        "\n",
        "####**Inferences**\n",
        "\n",
        "\n",
        "\n",
        "*   We can see infer that as the health score increases, Happiness Score increases. So there is a direct relatioship between them.\n",
        "*   This case is same in case of social support. Whereas, Generosity doesnt portrays direct relationship with target variable. \n",
        "*   Most of the countries in Americas shows high happiness index on the contrary most of the conturies in Africa with shows low happiness index.\n",
        "*   Countries belonging to Europe shows very high happiness index. \n",
        "\n",
        "\n",
        "\n",
        "\n"
      ]
    },
    {
      "cell_type": "markdown",
      "metadata": {
        "id": "-Oglcq706ETV",
        "colab_type": "text"
      },
      "source": [
        "###Drilling down the data by features in order to see the top countries with respect to each variable. \n",
        "\n",
        "---\n",
        "\n"
      ]
    },
    {
      "cell_type": "markdown",
      "metadata": {
        "id": "b2KaglUs6yQh",
        "colab_type": "text"
      },
      "source": [
        "1. Top 10 Consistently Generous Countries across the span of 5 years."
      ]
    },
    {
      "cell_type": "code",
      "metadata": {
        "id": "PtlgH_Ei2QHF",
        "colab_type": "code",
        "colab": {
          "base_uri": "https://localhost:8080/",
          "height": 355
        },
        "outputId": "be72b45b-df4c-4aae-a802-a80eb3f6629c"
      },
      "source": [
        "df[['Country or Region', 'Generosity']].sort_values(by = 'Generosity',\n",
        "                                                ascending = False).head(10)"
      ],
      "execution_count": null,
      "outputs": [
        {
          "output_type": "execute_result",
          "data": {
            "text/html": [
              "<div>\n",
              "<style scoped>\n",
              "    .dataframe tbody tr th:only-of-type {\n",
              "        vertical-align: middle;\n",
              "    }\n",
              "\n",
              "    .dataframe tbody tr th {\n",
              "        vertical-align: top;\n",
              "    }\n",
              "\n",
              "    .dataframe thead th {\n",
              "        text-align: right;\n",
              "    }\n",
              "</style>\n",
              "<table border=\"1\" class=\"dataframe\">\n",
              "  <thead>\n",
              "    <tr style=\"text-align: right;\">\n",
              "      <th></th>\n",
              "      <th>Country or Region</th>\n",
              "      <th>Generosity</th>\n",
              "    </tr>\n",
              "  </thead>\n",
              "  <tbody>\n",
              "    <tr>\n",
              "      <th>429</th>\n",
              "      <td>Myanmar</td>\n",
              "      <td>0.838075</td>\n",
              "    </tr>\n",
              "    <tr>\n",
              "      <th>277</th>\n",
              "      <td>Myanmar</td>\n",
              "      <td>0.819710</td>\n",
              "    </tr>\n",
              "    <tr>\n",
              "      <th>129</th>\n",
              "      <td>Myanmar</td>\n",
              "      <td>0.795880</td>\n",
              "    </tr>\n",
              "    <tr>\n",
              "      <th>396</th>\n",
              "      <td>Indonesia</td>\n",
              "      <td>0.611705</td>\n",
              "    </tr>\n",
              "    <tr>\n",
              "      <th>600</th>\n",
              "      <td>Myanmar</td>\n",
              "      <td>0.598000</td>\n",
              "    </tr>\n",
              "    <tr>\n",
              "      <th>191</th>\n",
              "      <td>Thailand</td>\n",
              "      <td>0.586960</td>\n",
              "    </tr>\n",
              "    <tr>\n",
              "      <th>34</th>\n",
              "      <td>Thailand</td>\n",
              "      <td>0.576300</td>\n",
              "    </tr>\n",
              "    <tr>\n",
              "      <th>342</th>\n",
              "      <td>Malta</td>\n",
              "      <td>0.574731</td>\n",
              "    </tr>\n",
              "    <tr>\n",
              "      <th>347</th>\n",
              "      <td>Thailand</td>\n",
              "      <td>0.572123</td>\n",
              "    </tr>\n",
              "    <tr>\n",
              "      <th>757</th>\n",
              "      <td>Myanmar</td>\n",
              "      <td>0.566000</td>\n",
              "    </tr>\n",
              "  </tbody>\n",
              "</table>\n",
              "</div>"
            ],
            "text/plain": [
              "    Country or Region  Generosity\n",
              "429           Myanmar    0.838075\n",
              "277           Myanmar    0.819710\n",
              "129           Myanmar    0.795880\n",
              "396         Indonesia    0.611705\n",
              "600           Myanmar    0.598000\n",
              "191          Thailand    0.586960\n",
              "34           Thailand    0.576300\n",
              "342             Malta    0.574731\n",
              "347          Thailand    0.572123\n",
              "757           Myanmar    0.566000"
            ]
          },
          "metadata": {
            "tags": []
          },
          "execution_count": 115
        }
      ]
    },
    {
      "cell_type": "markdown",
      "metadata": {
        "id": "ZtsepBpy67CL",
        "colab_type": "text"
      },
      "source": [
        "2. Top 10  Consistent Countries with most freedom to make choices across the span of 5 years."
      ]
    },
    {
      "cell_type": "code",
      "metadata": {
        "id": "zPdG60fF2QXo",
        "colab_type": "code",
        "colab": {
          "base_uri": "https://localhost:8080/",
          "height": 355
        },
        "outputId": "9ccb576c-d6bb-4015-ca19-d08a8caa4491"
      },
      "source": [
        "df[['Country or Region', 'Freedom to make life choices']].sort_values(by = 'Freedom to make life choices',\n",
        "                                                ascending = False).head(10)"
      ],
      "execution_count": null,
      "outputs": [
        {
          "output_type": "execute_result",
          "data": {
            "text/html": [
              "<div>\n",
              "<style scoped>\n",
              "    .dataframe tbody tr th:only-of-type {\n",
              "        vertical-align: middle;\n",
              "    }\n",
              "\n",
              "    .dataframe tbody tr th {\n",
              "        vertical-align: top;\n",
              "    }\n",
              "\n",
              "    .dataframe thead th {\n",
              "        text-align: right;\n",
              "    }\n",
              "</style>\n",
              "<table border=\"1\" class=\"dataframe\">\n",
              "  <thead>\n",
              "    <tr style=\"text-align: right;\">\n",
              "      <th></th>\n",
              "      <th>Country or Region</th>\n",
              "      <th>Freedom to make life choices</th>\n",
              "    </tr>\n",
              "  </thead>\n",
              "  <tbody>\n",
              "    <tr>\n",
              "      <th>514</th>\n",
              "      <td>Uzbekistan</td>\n",
              "      <td>0.72400</td>\n",
              "    </tr>\n",
              "    <tr>\n",
              "      <th>590</th>\n",
              "      <td>Cambodia</td>\n",
              "      <td>0.69600</td>\n",
              "    </tr>\n",
              "    <tr>\n",
              "      <th>472</th>\n",
              "      <td>Norway</td>\n",
              "      <td>0.68600</td>\n",
              "    </tr>\n",
              "    <tr>\n",
              "      <th>473</th>\n",
              "      <td>Denmark</td>\n",
              "      <td>0.68300</td>\n",
              "    </tr>\n",
              "    <tr>\n",
              "      <th>471</th>\n",
              "      <td>Finland</td>\n",
              "      <td>0.68100</td>\n",
              "    </tr>\n",
              "    <tr>\n",
              "      <th>474</th>\n",
              "      <td>Iceland</td>\n",
              "      <td>0.67700</td>\n",
              "    </tr>\n",
              "    <tr>\n",
              "      <th>568</th>\n",
              "      <td>Somalia</td>\n",
              "      <td>0.67400</td>\n",
              "    </tr>\n",
              "    <tr>\n",
              "      <th>4</th>\n",
              "      <td>Norway</td>\n",
              "      <td>0.66973</td>\n",
              "    </tr>\n",
              "    <tr>\n",
              "      <th>478</th>\n",
              "      <td>New Zealand</td>\n",
              "      <td>0.66900</td>\n",
              "    </tr>\n",
              "    <tr>\n",
              "      <th>1</th>\n",
              "      <td>Switzerland</td>\n",
              "      <td>0.66557</td>\n",
              "    </tr>\n",
              "  </tbody>\n",
              "</table>\n",
              "</div>"
            ],
            "text/plain": [
              "    Country or Region  Freedom to make life choices\n",
              "514        Uzbekistan                       0.72400\n",
              "590          Cambodia                       0.69600\n",
              "472            Norway                       0.68600\n",
              "473           Denmark                       0.68300\n",
              "471           Finland                       0.68100\n",
              "474           Iceland                       0.67700\n",
              "568           Somalia                       0.67400\n",
              "4              Norway                       0.66973\n",
              "478       New Zealand                       0.66900\n",
              "1         Switzerland                       0.66557"
            ]
          },
          "metadata": {
            "tags": []
          },
          "execution_count": 116
        }
      ]
    },
    {
      "cell_type": "markdown",
      "metadata": {
        "id": "XAdGWelp2QLi",
        "colab_type": "text"
      },
      "source": [
        "3. Countries with worst Health (Life Expectancy) for 5 years span."
      ]
    },
    {
      "cell_type": "code",
      "metadata": {
        "id": "nN3vVJfX2QKQ",
        "colab_type": "code",
        "colab": {
          "base_uri": "https://localhost:8080/",
          "height": 355
        },
        "outputId": "46f650de-504a-4e64-9e35-6f0a15ab5dd8"
      },
      "source": [
        "df[['Country or Region', 'Health (Life Expectancy)']].sort_values(by = 'Health (Life Expectancy)').head(10)"
      ],
      "execution_count": null,
      "outputs": [
        {
          "output_type": "execute_result",
          "data": {
            "text/html": [
              "<div>\n",
              "<style scoped>\n",
              "    .dataframe tbody tr th:only-of-type {\n",
              "        vertical-align: middle;\n",
              "    }\n",
              "\n",
              "    .dataframe tbody tr th {\n",
              "        vertical-align: top;\n",
              "    }\n",
              "\n",
              "    .dataframe thead th {\n",
              "        text-align: right;\n",
              "    }\n",
              "</style>\n",
              "<table border=\"1\" class=\"dataframe\">\n",
              "  <thead>\n",
              "    <tr style=\"text-align: right;\">\n",
              "      <th></th>\n",
              "      <th>Country or Region</th>\n",
              "      <th>Health (Life Expectancy)</th>\n",
              "    </tr>\n",
              "  </thead>\n",
              "  <tbody>\n",
              "    <tr>\n",
              "      <th>761</th>\n",
              "      <td>Swaziland</td>\n",
              "      <td>0.000000</td>\n",
              "    </tr>\n",
              "    <tr>\n",
              "      <th>123</th>\n",
              "      <td>Sierra Leone</td>\n",
              "      <td>0.000000</td>\n",
              "    </tr>\n",
              "    <tr>\n",
              "      <th>269</th>\n",
              "      <td>Sierra Leone</td>\n",
              "      <td>0.000000</td>\n",
              "    </tr>\n",
              "    <tr>\n",
              "      <th>454</th>\n",
              "      <td>Lesotho</td>\n",
              "      <td>0.000000</td>\n",
              "    </tr>\n",
              "    <tr>\n",
              "      <th>583</th>\n",
              "      <td>Sierra Leone</td>\n",
              "      <td>0.000000</td>\n",
              "    </tr>\n",
              "    <tr>\n",
              "      <th>421</th>\n",
              "      <td>Sierra Leone</td>\n",
              "      <td>0.005565</td>\n",
              "    </tr>\n",
              "    <tr>\n",
              "      <th>625</th>\n",
              "      <td>Central African Republic</td>\n",
              "      <td>0.010000</td>\n",
              "    </tr>\n",
              "    <tr>\n",
              "      <th>470</th>\n",
              "      <td>Central African Republic</td>\n",
              "      <td>0.018773</td>\n",
              "    </tr>\n",
              "    <tr>\n",
              "      <th>302</th>\n",
              "      <td>Chad</td>\n",
              "      <td>0.038240</td>\n",
              "    </tr>\n",
              "    <tr>\n",
              "      <th>452</th>\n",
              "      <td>Chad</td>\n",
              "      <td>0.041135</td>\n",
              "    </tr>\n",
              "  </tbody>\n",
              "</table>\n",
              "</div>"
            ],
            "text/plain": [
              "            Country or Region  Health (Life Expectancy)\n",
              "761                 Swaziland                  0.000000\n",
              "123              Sierra Leone                  0.000000\n",
              "269              Sierra Leone                  0.000000\n",
              "454                   Lesotho                  0.000000\n",
              "583              Sierra Leone                  0.000000\n",
              "421              Sierra Leone                  0.005565\n",
              "625  Central African Republic                  0.010000\n",
              "470  Central African Republic                  0.018773\n",
              "302                      Chad                  0.038240\n",
              "452                      Chad                  0.041135"
            ]
          },
          "metadata": {
            "tags": []
          },
          "execution_count": 117
        }
      ]
    },
    {
      "cell_type": "markdown",
      "metadata": {
        "id": "XMkzaXSN79C3",
        "colab_type": "text"
      },
      "source": [
        "4. Top Countries with Best Economy (GDP per Capita) for 5 years."
      ]
    },
    {
      "cell_type": "code",
      "metadata": {
        "id": "wXzDUph38Fk5",
        "colab_type": "code",
        "colab": {
          "base_uri": "https://localhost:8080/",
          "height": 355
        },
        "outputId": "ff45d805-5bb1-44a4-ed24-a592f232b686"
      },
      "source": [
        "df[['Country or Region', 'Economy (GDP per Capita)']].sort_values(by = 'Economy (GDP per Capita)',\n",
        "                                                ascending = False).head(10)"
      ],
      "execution_count": null,
      "outputs": [
        {
          "output_type": "execute_result",
          "data": {
            "text/html": [
              "<div>\n",
              "<style scoped>\n",
              "    .dataframe tbody tr th:only-of-type {\n",
              "        vertical-align: middle;\n",
              "    }\n",
              "\n",
              "    .dataframe tbody tr th {\n",
              "        vertical-align: top;\n",
              "    }\n",
              "\n",
              "    .dataframe thead th {\n",
              "        text-align: right;\n",
              "    }\n",
              "</style>\n",
              "<table border=\"1\" class=\"dataframe\">\n",
              "  <thead>\n",
              "    <tr style=\"text-align: right;\">\n",
              "      <th></th>\n",
              "      <th>Country or Region</th>\n",
              "      <th>Economy (GDP per Capita)</th>\n",
              "    </tr>\n",
              "  </thead>\n",
              "  <tbody>\n",
              "    <tr>\n",
              "      <th>490</th>\n",
              "      <td>United Arab Emirates</td>\n",
              "      <td>2.096000</td>\n",
              "    </tr>\n",
              "    <tr>\n",
              "      <th>350</th>\n",
              "      <td>Qatar</td>\n",
              "      <td>1.870766</td>\n",
              "    </tr>\n",
              "    <tr>\n",
              "      <th>194</th>\n",
              "      <td>Qatar</td>\n",
              "      <td>1.824270</td>\n",
              "    </tr>\n",
              "    <tr>\n",
              "      <th>333</th>\n",
              "      <td>Luxembourg</td>\n",
              "      <td>1.741944</td>\n",
              "    </tr>\n",
              "    <tr>\n",
              "      <th>178</th>\n",
              "      <td>Luxembourg</td>\n",
              "      <td>1.697520</td>\n",
              "    </tr>\n",
              "    <tr>\n",
              "      <th>341</th>\n",
              "      <td>Singapore</td>\n",
              "      <td>1.692278</td>\n",
              "    </tr>\n",
              "    <tr>\n",
              "      <th>28</th>\n",
              "      <td>Qatar</td>\n",
              "      <td>1.690420</td>\n",
              "    </tr>\n",
              "    <tr>\n",
              "      <th>655</th>\n",
              "      <td>Qatar</td>\n",
              "      <td>1.684000</td>\n",
              "    </tr>\n",
              "    <tr>\n",
              "      <th>502</th>\n",
              "      <td>Qatar</td>\n",
              "      <td>1.649000</td>\n",
              "    </tr>\n",
              "    <tr>\n",
              "      <th>180</th>\n",
              "      <td>Singapore</td>\n",
              "      <td>1.645550</td>\n",
              "    </tr>\n",
              "  </tbody>\n",
              "</table>\n",
              "</div>"
            ],
            "text/plain": [
              "        Country or Region  Economy (GDP per Capita)\n",
              "490  United Arab Emirates                  2.096000\n",
              "350                 Qatar                  1.870766\n",
              "194                 Qatar                  1.824270\n",
              "333            Luxembourg                  1.741944\n",
              "178            Luxembourg                  1.697520\n",
              "341             Singapore                  1.692278\n",
              "28                  Qatar                  1.690420\n",
              "655                 Qatar                  1.684000\n",
              "502                 Qatar                  1.649000\n",
              "180             Singapore                  1.645550"
            ]
          },
          "metadata": {
            "tags": []
          },
          "execution_count": 118
        }
      ]
    },
    {
      "cell_type": "markdown",
      "metadata": {
        "id": "pJ-BBgyX-urN",
        "colab_type": "text"
      },
      "source": [
        "### Statistical Distribution Check for features."
      ]
    },
    {
      "cell_type": "code",
      "metadata": {
        "id": "eP3dEEP88Fvu",
        "colab_type": "code",
        "colab": {
          "base_uri": "https://localhost:8080/",
          "height": 339
        },
        "outputId": "015ffe0a-97bb-42d7-e5cb-3384b99cc404"
      },
      "source": [
        "fig = plt.figure(figsize=(7,5))\n",
        "sns.set()\n",
        "sns.distplot(df['Happiness Score'],bins=12);"
      ],
      "execution_count": null,
      "outputs": [
        {
          "output_type": "display_data",
          "data": {
            "image/png": "[encoded data removed]",
            "text/plain": [
              "<Figure size 504x360 with 1 Axes>"
            ]
          },
          "metadata": {
            "tags": []
          }
        }
      ]
    },
    {
      "cell_type": "markdown",
      "metadata": {
        "id": "MXJvO3oL-8QJ",
        "colab_type": "text"
      },
      "source": [
        "We can see that the distribution doesnt belong to normal distribution sicne the tails are not equal at both ends. This is the case of bimodal distribtution."
      ]
    },
    {
      "cell_type": "code",
      "metadata": {
        "id": "0PyNART48F1F",
        "colab_type": "code",
        "colab": {
          "base_uri": "https://localhost:8080/",
          "height": 466
        },
        "outputId": "d12caac3-37f5-414d-a5e7-6226ba4ceec4"
      },
      "source": [
        "f, axes = plt.subplots(2, 3, figsize=(12,7), sharex=True)\n",
        "sns.distplot( df[\"Economy (GDP per Capita)\"] , color=\"deepskyblue\", ax=axes[0, 0])\n",
        "sns.distplot( df[\"Health (Life Expectancy)\"] , color=\"deepskyblue\", ax=axes[0, 1])\n",
        "sns.distplot( df[\"Social Support\"] , color=\"deepskyblue\", ax=axes[0, 2])\n",
        "sns.distplot( df[\"Freedom to make life choices\"] , color=\"deepskyblue\", ax=axes[1,0 ])\n",
        "sns.distplot( df[\"Perceptions of corruption\"] , color=\"deepskyblue\", ax=axes[1,1])\n",
        "sns.distplot( df[\"Generosity\"] , color=\"deepskyblue\", ax=axes[1, 2])"
      ],
      "execution_count": null,
      "outputs": [
        {
          "output_type": "execute_result",
          "data": {
            "text/plain": [
              "<matplotlib.axes._subplots.AxesSubplot at 0x7f094bc88f28>"
            ]
          },
          "metadata": {
            "tags": []
          },
          "execution_count": 120
        },
        {
          "output_type": "display_data",
          "data": {
            "image/png": "[encoded data removed]",
            "text/plain": [
              "<Figure size 864x504 with 6 Axes>"
            ]
          },
          "metadata": {
            "tags": []
          }
        }
      ]
    },
    {
      "cell_type": "markdown",
      "metadata": {
        "id": "lOyO39KwlPKy",
        "colab_type": "text"
      },
      "source": [
        "###Inferences\n",
        "\n",
        "\n",
        "*   Most of the distributions of the variables seems normal.  \n",
        "*   `Perceptions of corruption` and `Generosity` have short range of values because of which the distribtution is slendered and are slightly right tailed.\n",
        "*   Other variables except `Perceptions of corruption` and `Generosity` are approximately symmetrical. \n"
      ]
    },
    {
      "cell_type": "code",
      "metadata": {
        "id": "7b5fCtUu8F3R",
        "colab_type": "code",
        "colab": {
          "base_uri": "https://localhost:8080/",
          "height": 128
        },
        "outputId": "e2786b6f-5b51-479c-e170-917e40937c32"
      },
      "source": [
        "#Errors in this code. \n",
        "\n",
        "p2015 = go.Scatter(\n",
        "                    x = [df[df['Year']==2015],\n",
        "                    y = df['Happiness Score'],\n",
        "                    mode = \"lines\",\n",
        "                    name = \"2015\",\n",
        "                    marker = dict(color = 'green'),\n",
        "                    text= df['Country or Region'])\n",
        "figdata = [p2015]\n",
        "iplot(figdata)\n",
        "\n",
        "\n",
        "p2016 = go.Scatter(\n",
        "                    x = df[df['Year']==2016],\n",
        "                    y = df['Happiness Score'],\n",
        "                    mode = \"lines\",\n",
        "                    name = \"2016\",\n",
        "                    marker = dict(color = 'green'),\n",
        "                    text= df['Country or Region'])\n",
        "\n",
        "\n",
        "p2017 = go.Scatter(\n",
        "                    x = df[df['Year']==2017],\n",
        "                    y = df['Happiness Score'],\n",
        "                    mode = \"lines\",\n",
        "                    name = \"2017\",\n",
        "                    marker = dict(color = 'green'),\n",
        "                    text= df['Country or Region'])\n",
        "\n",
        "p2018 = go.Scatter(\n",
        "                    x = df[df['Year']==2018],\n",
        "                    y = df['Happiness Score'],\n",
        "                    mode = \"lines\",\n",
        "                    name = \"2018\",\n",
        "                    marker = dict(color = 'green'),\n",
        "                    text= df['Country or Region'])\n",
        "\n",
        "p2019 = go.Scatter(\n",
        "                    x = df[df['Year']==2019],\n",
        "                    y = df['Happiness Score'],\n",
        "                    mode = \"lines\",\n",
        "                    name = \"2019\",\n",
        "                    marker = dict(color = 'green'),\n",
        "                    text= df['Country or Region'])\n",
        "data = [p15, p16, p17, p18, p19]\n",
        "properties = dict(title = 'Happiness Score vs GDP per Capita',\n",
        "              xaxis= dict(title= 'GDP per Capita',ticklen= 5,zeroline= False),\n",
        "             yaxis= dict(title= 'Happiness Score',ticklen= 5,zeroline= False),\n",
        "             )\n",
        "fig = dict(data = data, layout = properties)\n",
        "iplot(fig)\n"
      ],
      "execution_count": null,
      "outputs": [
        {
          "output_type": "error",
          "ename": "SyntaxError",
          "evalue": "ignored",
          "traceback": [
            "\u001b[0;36m  File \u001b[0;32m\"<ipython-input-50-16e5eafb106c>\"\u001b[0;36m, line \u001b[0;32m5\u001b[0m\n\u001b[0;31m    y = df['Happiness Score'],\u001b[0m\n\u001b[0m      ^\u001b[0m\n\u001b[0;31mSyntaxError\u001b[0m\u001b[0;31m:\u001b[0m invalid syntax\n"
          ]
        }
      ]
    },
    {
      "cell_type": "code",
      "metadata": {
        "id": "YHqPsZ60Dctb",
        "colab_type": "code",
        "colab": {
          "base_uri": "https://localhost:8080/",
          "height": 817
        },
        "outputId": "1399c864-97e1-4fcc-f53e-5008eacd8a43"
      },
      "source": [
        "fig = px.scatter(df, x='Economy (GDP per Capita)', \n",
        "                 y=\"Happiness Score\",\n",
        "                 facet_row=\"Year\",\n",
        "                color=\"Year\",\n",
        "                trendline= \"ols\")\n",
        "fig.update(layout_coloraxis_showscale=False)\n",
        "fig.update_traces(textposition='top center')\n",
        "fig.update_layout(\n",
        "    height=800,\n",
        "    title_text='GDP per capita and Happiness Score'\n",
        ")\n",
        "fig.show()"
      ],
      "execution_count": null,
      "outputs": [
        {
          "output_type": "display_data",
          "data": {
            "text/html": [
              "<html>\n",
              "<head><meta charset=\"utf-8\" /></head>\n",
              "<body>\n",
              "    <div>\n",
              "            <script src=\"https://cdnjs.cloudflare.com/ajax/libs/mathjax/2.7.5/MathJax.js?config=TeX-AMS-MML_SVG\"></script><script type=\"text/javascript\">if (window.MathJax) {MathJax.Hub.Config({SVG: {font: \"STIX-Web\"}});}</script>\n",
              "                <script type=\"text/javascript\">window.PlotlyConfig = {MathJaxConfig: 'local'};</script>\n",
              "        <script src=\"https://cdn.plot.ly/plotly-latest.min.js\"></script>    \n",
              "            <div id=\"868a1433-cd13-489f-8a72-5e6342907559\" class=\"plotly-graph-div\" style=\"height:800px; width:100%;\"></div>\n",
              "            <script type=\"text/javascript\">\n",
              "                \n",
              "                    window.PLOTLYENV=window.PLOTLYENV || {};\n",
              "                    \n",
              "                if (document.getElementById(\"868a1433-cd13-489f-8a72-5e6342907559\")) {\n",
              "                    Plotly.newPlot(\n",
              "                        '868a1433-cd13-489f-8a72-5e6342907559',\n",
              "                        [{\"hoverlabel\": {\"namelength\": 0}, \"hovertemplate\": \"Year=%{marker.color}<br>Economy (GDP per Capita)=%{x}<br>Happiness Score=%{y}\", \"legendgroup\": \"\", \"marker\": {\"color\": [2015, 2015, 2015, 2015, 2015, 2015, 2015, 2015, 2015, 2015, 2015, 2015, 2015, 2015, 2015, 2015, 2015, 2015, 2015, 2015, 2015, 2015, 2015, 2015, 2015, 2015, 2015, 2015, 2015, 2015, 2015, 2015, 2015, 2015, 2015, 2015, 2015, 2015, 2015, 2015, 2015, 2015, 2015, 2015, 2015, 2015, 2015, 2015, 2015, 2015, 2015, 2015, 2015, 2015, 2015, 2015, 2015, 2015, 2015, 2015, 2015, 2015, 2015, 2015, 2015, 2015, 2015, 2015, 2015, 2015, 2015, 2015, 2015, 2015, 2015, 2015, 2015, 2015, 2015, 2015, 2015, 2015, 2015, 2015, 2015, 2015, 2015, 2015, 2015, 2015, 2015, 2015, 2015, 2015, 2015, 2015, 2015, 2015, 2015, 2015, 2015, 2015, 2015, 2015, 2015, 2015, 2015, 2015, 2015, 2015, 2015, 2015, 2015, 2015, 2015, 2015, 2015, 2015, 2015, 2015, 2015, 2015, 2015, 2015, 2015, 2015, 2015, 2015, 2015, 2015, 2015, 2015, 2015, 2015, 2015, 2015, 2015, 2015, 2015, 2015, 2015, 2015, 2015, 2015, 2015, 2015, 2015, 2015, 2015, 2015, 2015, 2015, 2015, 2015, 2015, 2015, 2015, 2015], \"coloraxis\": \"coloraxis\", \"symbol\": \"circle\"}, \"mode\": \"markers\", \"name\": \"\", \"showlegend\": false, \"textposition\": \"top center\", \"type\": \"scatter\", \"x\": [1.3965100000000001, 1.3023200000000001, 1.32548, 1.459, 1.32629, 1.29025, 1.32944, 1.33171, 1.2501799999999998, 1.33358, 1.2285700000000002, 0.95578, 1.33723, 1.02054, 1.3945100000000001, 0.98124, 1.5639100000000001, 1.33596, 1.30782, 1.42727, 1.26637, 1.36011, 1.04424, 1.52186, 1.0635299999999999, 1.32792, 1.10715, 1.69042, 1.27778, 1.05351, 1.17898, 1.06166, 0.91861, 0.9669, 1.39541, 1.23011, 1.2074, 1.29098, 1.5542200000000002, 0.99534, 1.21183, 0.76454, 0.74553, 0.63244, 1.1689100000000001, 1.27074, 1.24461, 0.8640200000000001, 1.32376, 1.25114, 0.68133, 0.59448, 0.75985, 1.1225399999999999, 1.18498, 1.14723, 0.59325, 0.9001899999999999, 1.0319200000000002, 1.12555, 1.12486, 1.08254, 1.13145, 1.13764, 0.81038, 1.2080600000000001, 1.20813, 0.93929, 0.80148, 0.95847, 1.0076100000000001, 1.38604, 1.15174, 0.8282700000000001, 0.63216, 1.06098, 0.47428000000000003, 0.65435, 0.77042, 1.02389, 0.59543, 0.9019799999999999, 0.9743799999999999, 0.89012, 0.47038, 1.04345, 0.92053, 1.15991, 1.11312, 0.70532, 0.18847, 0.7347899999999999, 0.91851, 0.08308, 0.8786700000000001, 0.8322299999999999, 0.37545, 0.8953700000000001, 0.5906600000000001, 0.82819, 0.71206, 1.15406, 1.0256399999999999, 1.12094, 0.59532, 0.39047, 0.88113, 0.59867, 0.39753, 1.0088, 0.79907, 0.98549, 0.9204899999999999, 0.5455800000000001, 0.271, 0.0712, 0.64499, 0.52107, 0.26673, 0.0, 0.35996999999999996, 0.19072999999999998, 0.33024000000000003, 0.45407, 0.36471, 0.44025, 0.7682100000000001, 0.99355, 0.27108000000000004, 0.7419, 0.016040000000000002, 0.83524, 0.4225, 1.01216, 0.8818, 0.5464899999999999, 0.75778, 0.26074, 0.67866, 0.23906, 0.21101999999999999, 0.36498, 1.06024, 0.0694, 0.46038, 0.2852, 0.20824, 0.0785, 0.34193, 0.17417, 0.46534, 0.25811999999999996, 0.31982, 0.22208000000000003, 0.28665, 0.6632, 0.0153, 0.20868], \"xaxis\": \"x5\", \"y\": [7.587000000000001, 7.561, 7.527, 7.522, 7.4270000000000005, 7.406000000000001, 7.377999999999999, 7.364, 7.2860000000000005, 7.284, 7.278, 7.226, 7.2, 7.187, 7.119, 6.983, 6.946000000000001, 6.94, 6.937, 6.901, 6.867000000000001, 6.853, 6.81, 6.797999999999999, 6.7860000000000005, 6.75, 6.67, 6.611000000000001, 6.575, 6.574, 6.505, 6.485, 6.477, 6.455, 6.4110000000000005, 6.329, 6.3020000000000005, 6.297999999999999, 6.295, 6.269, 6.167999999999999, 6.13, 6.122999999999999, 6.002999999999999, 5.995, 5.987, 5.984, 5.975, 5.96, 5.9479999999999995, 5.89, 5.888999999999999, 5.877999999999999, 5.855, 5.848, 5.832999999999999, 5.827999999999999, 5.824, 5.813, 5.791, 5.77, 5.7589999999999995, 5.754, 5.716, 5.709, 5.695, 5.689, 5.605, 5.5889999999999995, 5.547999999999999, 5.477, 5.474, 5.428999999999999, 5.399, 5.36, 5.332000000000001, 5.2860000000000005, 5.268, 5.252999999999999, 5.212000000000001, 5.194, 5.192, 5.192, 5.14, 5.129, 5.124, 5.122999999999999, 5.102, 5.098, 5.073, 5.0569999999999995, 5.013, 5.007, 4.971, 4.959, 4.949, 4.898, 4.885, 4.876, 4.874, 4.867, 4.857, 4.8389999999999995, 4.8, 4.788, 4.7860000000000005, 4.739, 4.715, 4.694, 4.686, 4.681, 4.677, 4.6419999999999995, 4.633, 4.61, 4.571000000000001, 4.565, 4.55, 4.518, 4.5169999999999995, 4.513999999999999, 4.512, 4.507, 4.436, 4.419, 4.369, 4.35, 4.332, 4.3069999999999995, 4.297, 4.292, 4.271, 4.252, 4.218, 4.194, 4.077, 4.033, 3.995, 3.989, 3.9560000000000004, 3.931, 3.904, 3.8960000000000004, 3.845, 3.819, 3.781, 3.681, 3.678, 3.667, 3.656, 3.655, 3.5869999999999997, 3.575, 3.465, 3.34, 3.0060000000000002, 2.905, 2.839], \"yaxis\": \"y5\"}, {\"hoverlabel\": {\"namelength\": 0}, \"hovertemplate\": \"<b>OLS trendline</b><br>Happiness Score = 2.218227 * Economy (GDP per Capita) + 3.498810<br>R<sup>2</sup>=0.609907<br><br>Year=2015<br>Economy (GDP per Capita)=%{x}<br>Happiness Score=%{y} <b>(trend)</b>\", \"legendgroup\": \"\", \"marker\": {\"symbol\": \"circle\"}, \"mode\": \"lines\", \"name\": \"\", \"showlegend\": false, \"textposition\": \"top center\", \"type\": \"scatter\", \"x\": [0.0, 0.0153, 0.016040000000000002, 0.0694, 0.0712, 0.0785, 0.08308, 0.17417, 0.18847, 0.19072999999999998, 0.20824, 0.20868, 0.21101999999999999, 0.22208000000000003, 0.23906, 0.25811999999999996, 0.26074, 0.26673, 0.271, 0.27108000000000004, 0.2852, 0.28665, 0.31982, 0.33024000000000003, 0.34193, 0.35996999999999996, 0.36471, 0.36498, 0.37545, 0.39047, 0.39753, 0.4225, 0.44025, 0.45407, 0.46038, 0.46534, 0.47038, 0.47428000000000003, 0.52107, 0.5455800000000001, 0.5464899999999999, 0.5906600000000001, 0.59325, 0.59448, 0.59532, 0.59543, 0.59867, 0.63216, 0.63244, 0.64499, 0.65435, 0.6632, 0.67866, 0.68133, 0.70532, 0.71206, 0.7347899999999999, 0.7419, 0.74553, 0.75778, 0.75985, 0.76454, 0.7682100000000001, 0.77042, 0.79907, 0.80148, 0.81038, 0.82819, 0.8282700000000001, 0.8322299999999999, 0.83524, 0.8640200000000001, 0.8786700000000001, 0.88113, 0.8818, 0.89012, 0.8953700000000001, 0.9001899999999999, 0.9019799999999999, 0.91851, 0.91861, 0.9204899999999999, 0.92053, 0.93929, 0.95578, 0.95847, 0.9669, 0.9743799999999999, 0.98124, 0.98549, 0.99355, 0.99534, 1.0076100000000001, 1.0088, 1.01216, 1.02054, 1.02389, 1.0256399999999999, 1.0319200000000002, 1.04345, 1.04424, 1.05351, 1.06024, 1.06098, 1.06166, 1.0635299999999999, 1.08254, 1.10715, 1.11312, 1.12094, 1.1225399999999999, 1.12486, 1.12555, 1.13145, 1.13764, 1.14723, 1.15174, 1.15406, 1.15991, 1.1689100000000001, 1.17898, 1.18498, 1.2074, 1.2080600000000001, 1.20813, 1.21183, 1.2285700000000002, 1.23011, 1.24461, 1.2501799999999998, 1.25114, 1.26637, 1.27074, 1.27778, 1.29025, 1.29098, 1.3023200000000001, 1.30782, 1.32376, 1.32548, 1.32629, 1.32792, 1.32944, 1.33171, 1.33358, 1.33596, 1.33723, 1.36011, 1.38604, 1.3945100000000001, 1.39541, 1.3965100000000001, 1.42727, 1.459, 1.52186, 1.5542200000000002, 1.5639100000000001, 1.69042], \"xaxis\": \"x5\", \"y\": [3.498809659824366, 3.5327485347497944, 3.534390022818083, 3.6527546219044145, 3.6567474307191707, 3.672940488690127, 3.6830999688965624, 3.885158277194425, 3.9168789250005442, 3.9218921182901827, 3.9607332751492845, 3.9617092950817803, 3.9668999465409636, 3.9914335384805217, 4.029099034966389, 4.07137844386042, 4.07719019891301, 4.090477379357671, 4.099949209157121, 4.100126667326665, 4.13144803425131, 4.134664463574308, 4.2082430571217895, 4.231356983704989, 4.257288058729713, 4.297304875962048, 4.307819272507572, 4.3084181938297865, 4.3316430317689525, 4.364960803100974, 4.380621486563296, 4.436010617732443, 4.475384149100179, 4.50604004788903, 4.5200370610118705, 4.531039467523644, 4.5422193322049615, 4.550870417970266, 4.654661264882737, 4.709030011577003, 4.711048598255573, 4.809027690115455, 4.814772898354465, 4.817501317711216, 4.819364628491435, 4.819608633474559, 4.82679568934112, 4.901084115566781, 4.9017052191601875, 4.929543969507516, 4.950306575344249, 4.969937885350134, 5.004231676614652, 5.010154343023207, 5.063369611615432, 5.078320462399574, 5.128740764821469, 5.144512359639757, 5.152564524082849, 5.179737806294385, 5.184329536431354, 5.194733021620914, 5.202873915148778, 5.207776197082451, 5.271328404050656, 5.2766743314081905, 5.296416552770041, 5.335923177764935, 5.33610063593448, 5.344884815326944, 5.351561678956065, 5.41540225544978, 5.447899282747657, 5.453356121461157, 5.4548423336310945, 5.473297983263746, 5.484943675640118, 5.495635530355187, 5.499606156898751, 5.53627345118093, 5.536495273892861, 5.5406655408771615, 5.540754269961933, 5.582368210720173, 5.618946775917578, 5.62491380686852, 5.643613461484295, 5.660205800336727, 5.675422838375187, 5.684850303632251, 5.702729214213882, 5.7066998407574445, 5.733917487511367, 5.736557177783345, 5.744010420904223, 5.762599164164033, 5.770030225013718, 5.77391212247251, 5.787842588781771, 5.813418747467404, 5.815171146891657, 5.835734112287653, 5.850662780800603, 5.852304268868892, 5.853812663310022, 5.85796074802313, 5.900129245561195, 5.95471981496739, 5.967962630869666, 5.985309166942663, 5.9888583303335565, 5.994004617250354, 5.995535193962677, 6.008622733966601, 6.022353559835124, 6.043626357909298, 6.053630562217382, 6.058776849134179, 6.071753477782137, 6.0917175218559185, 6.11405506894736, 6.1273644316632145, 6.177097083678124, 6.178561113576868, 6.17871638947522, 6.1869238298166636, 6.224056951793897, 6.227473021557633, 6.259637314787614, 6.271992839842165, 6.274122337876702, 6.307905936903779, 6.31759958941516, 6.333215908335095, 6.3608772005128795, 6.362496506309975, 6.3876512018429406, 6.39985145099914, 6.435209991280926, 6.439025341926138, 6.440822105892778, 6.444437816097252, 6.447809521318602, 6.452844896879434, 6.456992981592541, 6.462272362136497, 6.465089510578019, 6.515842547067811, 6.573361176271494, 6.592149559972043, 6.59414596437942, 6.5965860142106605, 6.664818680400607, 6.735203026896284, 6.874640783616051, 6.9464226131968925, 6.9679172339829964, 7.248545146846785], \"yaxis\": \"y5\"}, {\"hoverlabel\": {\"namelength\": 0}, \"hovertemplate\": \"Year=%{marker.color}<br>Economy (GDP per Capita)=%{x}<br>Happiness Score=%{y}\", \"legendgroup\": \"\", \"marker\": {\"color\": [2016, 2016, 2016, 2016, 2016, 2016, 2016, 2016, 2016, 2016, 2016, 2016, 2016, 2016, 2016, 2016, 2016, 2016, 2016, 2016, 2016, 2016, 2016, 2016, 2016, 2016, 2016, 2016, 2016, 2016, 2016, 2016, 2016, 2016, 2016, 2016, 2016, 2016, 2016, 2016, 2016, 2016, 2016, 2016, 2016, 2016, 2016, 2016, 2016, 2016, 2016, 2016, 2016, 2016, 2016, 2016, 2016, 2016, 2016, 2016, 2016, 2016, 2016, 2016, 2016, 2016, 2016, 2016, 2016, 2016, 2016, 2016, 2016, 2016, 2016, 2016, 2016, 2016, 2016, 2016, 2016, 2016, 2016, 2016, 2016, 2016, 2016, 2016, 2016, 2016, 2016, 2016, 2016, 2016, 2016, 2016, 2016, 2016, 2016, 2016, 2016, 2016, 2016, 2016, 2016, 2016, 2016, 2016, 2016, 2016, 2016, 2016, 2016, 2016, 2016, 2016, 2016, 2016, 2016, 2016, 2016, 2016, 2016, 2016, 2016, 2016, 2016, 2016, 2016, 2016, 2016, 2016, 2016, 2016, 2016, 2016, 2016, 2016, 2016, 2016, 2016, 2016, 2016, 2016, 2016, 2016, 2016, 2016, 2016, 2016, 2016, 2016, 2016, 2016, 2016, 2016, 2016], \"coloraxis\": \"coloraxis\", \"symbol\": \"circle\"}, \"mode\": \"markers\", \"name\": \"\", \"showlegend\": false, \"textposition\": \"top center\", \"type\": \"scatter\", \"x\": [1.4417799999999998, 1.5273299999999999, 1.42666, 1.57744, 1.40598, 1.44015, 1.46468, 1.36066, 1.4444299999999999, 1.45181, 1.33766, 1.45038, 1.50796, 1.06879, 1.35943, 1.44787, 1.08754, 1.42539, 1.4834100000000001, 1.6975200000000001, 1.1150799999999998, 1.64555, 1.40283, 1.2167, 1.18306, 1.15137, 1.30915, 1.57352, 1.18157, 1.30782, 1.0303200000000001, 1.39488, 1.0893, 1.48953, 1.39729, 1.82427, 1.34253, 1.05266, 0.83454, 1.09686, 1.61714, 1.44024, 1.32572, 1.1336700000000002, 1.27973, 0.8737, 1.25142, 0.69384, 0.7359100000000001, 1.35495, 0.97306, 0.87616, 1.3800700000000001, 1.22943, 0.69177, 1.2322799999999998, 1.24585, 1.35948, 0.79422, 1.2692, 1.1306200000000002, 1.31141, 1.2994700000000001, 0.9960200000000001, 1.08017, 1.14372, 1.0668799999999998, 1.2178799999999999, 1.31857, 0.8937299999999999, 1.1697, 1.2796399999999999, 0.89333, 1.18649, 1.5107, 0.0, 0.90145, 1.1649200000000002, 0.95104, 0.9967299999999999, 1.12373, 0.81217, 1.0278, 0.8527, 0.5604399999999999, 1.03437, 0.9338299999999999, 1.07838, 1.02787, 0.8405799999999999, 1.24142, 0.68816, 1.12268, 1.27607, 1.0193, 0.74037, 0.25558000000000003, 0.97724, 1.24886, 0.48835, 0.9885299999999999, 0.68042, 0.75216, 0.69429, 1.11758, 0.61202, 0.44626000000000005, 0.67024, 0.9553, 0.54177, 0.36485, 1.07474, 0.9328700000000001, 0.5249699999999999, 0.29283000000000003, 1.02416, 0.9731799999999999, 0.74036, 0.34112, 0.95395, 0.8608600000000001, 0.52267, 0.87287, 0.63107, 0.05661, 0.8379200000000001, 0.7710899999999999, 0.44314, 1.11306, 0.6139100000000001, 0.35041, 0.08709, 0.63069, 1.15851, 0.31292, 0.34097, 1.09426, 0.27509, 0.55507, 0.55604, 0.84731, 0.1327, 0.39394, 0.42213999999999996, 0.31995, 0.34719, 0.57939, 0.27954, 0.47155, 0.10705999999999999, 0.22415, 0.32846, 0.39499, 0.38227, 0.28123000000000004, 0.7471899999999999, 0.06831], \"xaxis\": \"x4\", \"y\": [7.526, 7.5089999999999995, 7.501, 7.497999999999999, 7.412999999999999, 7.404, 7.3389999999999995, 7.334, 7.313, 7.291, 7.267, 7.119, 7.104, 7.087000000000001, 7.039, 6.994, 6.952000000000001, 6.928999999999999, 6.907, 6.871, 6.778, 6.739, 6.725, 6.705, 6.7010000000000005, 6.65, 6.596, 6.5729999999999995, 6.545, 6.4879999999999995, 6.481, 6.478, 6.474, 6.379, 6.379, 6.375, 6.361000000000001, 6.355, 6.324, 6.269, 6.239, 6.218, 6.167999999999999, 6.084, 6.077999999999999, 6.068, 6.005, 5.992000000000001, 5.987, 5.977, 5.976, 5.956, 5.921, 5.919, 5.897, 5.856, 5.835, 5.835, 5.822, 5.813, 5.8020000000000005, 5.771, 5.768, 5.742999999999999, 5.6579999999999995, 5.648, 5.615, 5.56, 5.546, 5.537999999999999, 5.528, 5.517, 5.51, 5.4879999999999995, 5.457999999999999, 5.44, 5.401, 5.388999999999999, 5.314, 5.303, 5.291, 5.279, 5.245, 5.196000000000001, 5.185, 5.1770000000000005, 5.162999999999999, 5.1610000000000005, 5.155, 5.151, 5.145, 5.132000000000001, 5.129, 5.122999999999999, 5.121, 5.061, 5.0569999999999995, 5.045, 5.033, 4.996, 4.907, 4.876, 4.875, 4.871, 4.813, 4.795, 4.793, 4.754, 4.655, 4.643, 4.635, 4.575, 4.574, 4.513, 4.508, 4.459, 4.415, 4.404, 4.395, 4.362, 4.36, 4.356, 4.324, 4.276, 4.272, 4.252, 4.236000000000001, 4.218999999999999, 4.217, 4.2010000000000005, 4.1930000000000005, 4.156000000000001, 4.138999999999999, 4.121, 4.073, 4.0280000000000005, 3.9739999999999998, 3.9560000000000004, 3.9160000000000004, 3.907, 3.866, 3.8560000000000003, 3.832, 3.763, 3.739, 3.739, 3.7239999999999998, 3.695, 3.6660000000000004, 3.622, 3.6069999999999998, 3.515, 3.484, 3.36, 3.303, 3.069, 2.905], \"yaxis\": \"y4\"}, {\"hoverlabel\": {\"namelength\": 0}, \"hovertemplate\": \"<b>OLS trendline</b><br>Happiness Score = 2.186863 * Economy (GDP per Capita) + 3.296180<br>R<sup>2</sup>=0.624609<br><br>Year=2016<br>Economy (GDP per Capita)=%{x}<br>Happiness Score=%{y} <b>(trend)</b>\", \"legendgroup\": \"\", \"marker\": {\"symbol\": \"circle\"}, \"mode\": \"lines\", \"name\": \"\", \"showlegend\": false, \"textposition\": \"top center\", \"type\": \"scatter\", \"x\": [0.0, 0.05661, 0.06831, 0.08709, 0.10705999999999999, 0.1327, 0.22415, 0.25558000000000003, 0.27509, 0.27954, 0.28123000000000004, 0.29283000000000003, 0.31292, 0.31995, 0.32846, 0.34097, 0.34112, 0.34719, 0.35041, 0.36485, 0.38227, 0.39394, 0.39499, 0.42213999999999996, 0.44314, 0.44626000000000005, 0.47155, 0.48835, 0.52267, 0.5249699999999999, 0.54177, 0.55507, 0.55604, 0.5604399999999999, 0.57939, 0.61202, 0.6139100000000001, 0.63069, 0.63107, 0.67024, 0.68042, 0.68816, 0.69177, 0.69384, 0.69429, 0.7359100000000001, 0.74036, 0.74037, 0.7471899999999999, 0.75216, 0.7710899999999999, 0.79422, 0.81217, 0.83454, 0.8379200000000001, 0.8405799999999999, 0.84731, 0.8527, 0.8608600000000001, 0.87287, 0.8737, 0.87616, 0.89333, 0.8937299999999999, 0.90145, 0.9328700000000001, 0.9338299999999999, 0.95104, 0.95395, 0.9553, 0.97306, 0.9731799999999999, 0.97724, 0.9885299999999999, 0.9960200000000001, 0.9967299999999999, 1.0193, 1.02416, 1.0278, 1.02787, 1.0303200000000001, 1.03437, 1.05266, 1.0668799999999998, 1.06879, 1.07474, 1.07838, 1.08017, 1.08754, 1.0893, 1.09426, 1.09686, 1.11306, 1.1150799999999998, 1.11758, 1.12268, 1.12373, 1.1306200000000002, 1.1336700000000002, 1.14372, 1.15137, 1.15851, 1.1649200000000002, 1.1697, 1.18157, 1.18306, 1.18649, 1.2167, 1.2178799999999999, 1.22943, 1.2322799999999998, 1.24142, 1.24585, 1.24886, 1.25142, 1.2692, 1.27607, 1.2796399999999999, 1.27973, 1.2994700000000001, 1.30782, 1.30915, 1.31141, 1.31857, 1.32572, 1.33766, 1.34253, 1.35495, 1.35943, 1.35948, 1.36066, 1.3800700000000001, 1.39488, 1.39729, 1.40283, 1.40598, 1.42539, 1.42666, 1.44015, 1.44024, 1.4417799999999998, 1.4444299999999999, 1.44787, 1.45038, 1.45181, 1.46468, 1.4834100000000001, 1.48953, 1.50796, 1.5107, 1.5273299999999999, 1.57352, 1.57744, 1.61714, 1.64555, 1.6975200000000001, 1.82427], \"xaxis\": \"x4\", \"y\": [3.2961800413080056, 3.4199783682898994, 3.4455646679840903, 3.4866339592881, 3.5303056178259626, 3.5863767908310105, 3.7863654324578286, 3.855098543516669, 3.897764244972538, 3.9074957863092172, 3.911191585153934, 3.9365591985259525, 3.980493280650422, 3.9958669290991544, 4.01447713511604, 4.041834794019829, 4.042162823503088, 4.055437083258963, 4.06247878283292, 4.094057087754639, 4.132152245077102, 4.157672938874641, 4.159969145257453, 4.219342481727307, 4.265266609383548, 4.272089622635332, 4.327395393512775, 4.364134695637768, 4.439187841407395, 4.444217626817364, 4.480956928942357, 4.510042209791308, 4.512163467116382, 4.521785665291976, 4.5632267233436785, 4.634584070268589, 4.638717241757651, 4.675412806618208, 4.676243814642465, 4.761903247037461, 4.78416551463463, 4.801091835970786, 4.808986412201216, 4.813513219070189, 4.814497307519965, 4.905514554808191, 4.91524609614487, 4.915267964777087, 4.930182371949257, 4.941051082161234, 4.982448402948502, 5.033030549267018, 5.072284744096995, 5.121204874367, 5.128596472056433, 5.134413528226223, 5.149131117708437, 5.160918310473539, 5.178763114362821, 5.205027341655747, 5.2068424381297795, 5.212222121655225, 5.249770563172255, 5.250645308460946, 5.2675278925326685, 5.336239134959291, 5.338338523652148, 5.375974439698048, 5.38233821167327, 5.3852904770225996, 5.424129167840448, 5.424391591427055, 5.433270256107262, 5.457959941880546, 5.4743395474112715, 5.475892220298697, 5.525249723213046, 5.535877878470633, 5.5438380605977144, 5.543991141023236, 5.549348955916464, 5.5582057519644525, 5.598203480289817, 5.629300675302757, 5.633477584056253, 5.646489420225521, 5.654449602352603, 5.658364087519492, 5.674481269463611, 5.678330148733847, 5.689176990313607, 5.694862834690094, 5.730290018882052, 5.734707482589936, 5.740174640644252, 5.751327643075053, 5.753623849457864, 5.7686913370555555, 5.775361269881818, 5.797339245260162, 5.814068748906363, 5.8296829523094855, 5.8437007455607475, 5.854153951760597, 5.880112018202482, 5.8833704444028525, 5.890871385253371, 5.956936523181706, 5.959517021783342, 5.984775291994275, 5.9910078521761925, 6.010995782022766, 6.020683586095011, 6.027266044392405, 6.032864414240024, 6.071746842322307, 6.086770592655563, 6.094577694357124, 6.0947745120470795, 6.137943192043945, 6.156203499945355, 6.1591120280302505, 6.164054338911351, 6.179712279578906, 6.195348351614246, 6.221459498481651, 6.232109522371456, 6.259270363585289, 6.26906751081862, 6.269176853979706, 6.271757352581343, 6.314204367715039, 6.346591812028797, 6.351862152393156, 6.363977374641517, 6.370865993789954, 6.41331300892365, 6.416090325215242, 6.445591110076322, 6.445787927766276, 6.449155697127734, 6.454950884665307, 6.462473694148044, 6.467962720834576, 6.471089935241643, 6.499234864905254, 6.540194813048177, 6.553578415965138, 6.593882305141543, 6.599874310369072, 6.636241845746371, 6.737253057957883, 6.745825561787047, 6.83264403168956, 6.894772815818787, 7.008424097451874, 7.285609010805611], \"yaxis\": \"y4\"}, {\"hoverlabel\": {\"namelength\": 0}, \"hovertemplate\": \"Year=%{marker.color}<br>Economy (GDP per Capita)=%{x}<br>Happiness Score=%{y}\", \"legendgroup\": \"\", \"marker\": {\"color\": [2017, 2017, 2017, 2017, 2017, 2017, 2017, 2017, 2017, 2017, 2017, 2017, 2017, 2017, 2017, 2017, 2017, 2017, 2017, 2017, 2017, 2017, 2017, 2017, 2017, 2017, 2017, 2017, 2017, 2017, 2017, 2017, 2017, 2017, 2017, 2017, 2017, 2017, 2017, 2017, 2017, 2017, 2017, 2017, 2017, 2017, 2017, 2017, 2017, 2017, 2017, 2017, 2017, 2017, 2017, 2017, 2017, 2017, 2017, 2017, 2017, 2017, 2017, 2017, 2017, 2017, 2017, 2017, 2017, 2017, 2017, 2017, 2017, 2017, 2017, 2017, 2017, 2017, 2017, 2017, 2017, 2017, 2017, 2017, 2017, 2017, 2017, 2017, 2017, 2017, 2017, 2017, 2017, 2017, 2017, 2017, 2017, 2017, 2017, 2017, 2017, 2017, 2017, 2017, 2017, 2017, 2017, 2017, 2017, 2017, 2017, 2017, 2017, 2017, 2017, 2017, 2017, 2017, 2017, 2017, 2017, 2017, 2017, 2017, 2017, 2017, 2017, 2017, 2017, 2017, 2017, 2017, 2017, 2017, 2017, 2017, 2017, 2017, 2017, 2017, 2017, 2017, 2017, 2017, 2017, 2017, 2017, 2017, 2017, 2017, 2017, 2017, 2017, 2017, 2017], \"coloraxis\": \"coloraxis\", \"symbol\": \"circle\"}, \"mode\": \"markers\", \"name\": \"\", \"showlegend\": false, \"textposition\": \"top center\", \"type\": \"scatter\", \"x\": [1.6164631843566901, 1.48238301277161, 1.480633020401, 1.5649795532226598, 1.44357192516327, 1.50394463539124, 1.47920441627502, 1.40570604801178, 1.49438726902008, 1.4844149351120002, 1.3753824234008798, 1.10970628261566, 1.4870972633361799, 1.54625928401947, 1.5357066392898602, 1.48792338371277, 1.4637807607650801, 1.74194359779358, 1.44163393974304, 1.25278460979462, 1.6263433694839498, 1.1073532104492199, 1.35268235206604, 1.18529546260834, 1.1531838178634601, 1.69227766990662, 1.34327983856201, 1.2175596952438401, 0.872001945972443, 1.23374843597412, 1.43092346191406, 1.12786877155304, 1.4336265325546298, 1.38439786434174, 1.8707656860351598, 1.07062232494354, 1.53062355518341, 1.36135590076447, 1.63295245170593, 1.32539355754852, 1.4884122610092199, 1.29121541976929, 0.737299203872681, 1.00082039833069, 0.9097844958305359, 1.29178786277771, 0.786441087722778, 1.3950666189193701, 1.28177809715271, 0.907975316047668, 1.41691517829895, 1.3145823478698702, 1.09186446666718, 1.26074862480164, 1.40167844295502, 0.7288706302642819, 1.21768391132355, 0.833756566047668, 1.1307767629623402, 1.2845562696456898, 1.3469113111496, 1.3412059545516999, 1.0352252721786501, 1.1893955469131499, 1.3559380769729599, 1.3208793401718102, 1.15655755996704, 1.1018030643463101, 1.1982743740081798, 0.932537317276001, 1.55167484283447, 0.85769921541214, 1.06931757926941, 0.9910123944282528, 1.2860119342803997, 0.925579309463501, 1.22255623340607, 0.951484382152557, 1.08116579055786, 0.7268835306167599, 0.995538592338562, 1.12843120098114, 1.12112903594971, 0.8781145811080929, 1.1536017656326298, 1.07937383651733, 1.28948748111725, 1.07498753070831, 1.3151752948761002, 0.982409417629242, 0.730573117733002, 1.06457793712616, 0.0226431842893362, 0.7885475754737851, 0.783756256103516, 0.524713635444641, 0.885416388511658, 0.5962200760841371, 0.479820191860199, 1.0272358655929599, 1.05469870567322, 1.00726580619812, 0.716249227523804, 0.989701807498932, 1.1614590883255, 0.36842092871666, 0.564305365085602, 1.15687310695648, 0.996192753314972, 0.586682975292206, 0.964434325695038, 0.560479462146759, 0.23430564999580397, 0.36711055040359497, 0.479309022426605, 0.6364067792892459, 1.1027104854583702, 1.1982102394104, 0.339233845472336, 1.00985014438629, 0.900596737861633, 0.7922212481498722, 0.6484572887420649, 0.8089642524719242, 0.950612664222717, 0.0921023488044739, 0.476180493831635, 0.6030489206314089, 0.6017650961875921, 0.6595166921615601, 0.667224824428558, 0.89465194940567, 0.381430715322495, 0.35022771358490007, 0.16192533075809498, 0.233442038297653, 0.43801298737525896, 0.37584653496742204, 0.521021246910095, 0.8584281802177429, 0.401477217674255, 1.12209415435791, 0.43108540773391707, 0.305808693170547, 0.368610262870789, 0.5916834473609921, 0.39724862575531, 0.11904179304838199, 0.24454993009567302, 0.30544471740722695, 0.368745893239975, 0.777153134346008, 0.511135876178741, 0.09162256866693501, 0.0], \"xaxis\": \"x3\", \"y\": [7.537000179290769, 7.52199983596802, 7.50400018692017, 7.49399995803833, 7.468999862670901, 7.3769998550415, 7.31599998474121, 7.31400012969971, 7.28399991989136, 7.28399991989136, 7.212999820709231, 7.0789999961853, 7.00600004196167, 6.993000030517581, 6.9770002365112305, 6.9510002136230495, 6.89099979400635, 6.86299991607666, 6.71400022506714, 6.65199995040894, 6.6479997634887695, 6.6350002288818395, 6.60900020599365, 6.59899997711182, 6.57800006866455, 6.57200002670288, 6.52699995040894, 6.4539999961853, 6.4539999961853, 6.4520001411438, 6.44199991226196, 6.4239997863769505, 6.42199993133545, 6.40299987792969, 6.375, 6.35699987411499, 6.343999862670901, 6.1680002212524405, 6.10500001907349, 6.09800004959106, 6.08699989318848, 6.08400011062622, 6.07100009918213, 6.00799989700317, 6.002999782562259, 5.97300004959106, 5.97100019454956, 5.96400022506714, 5.962999820709231, 5.955999851226809, 5.92000007629395, 5.90199995040894, 5.872000217437741, 5.849999904632571, 5.837999820709231, 5.837999820709231, 5.824999809265139, 5.82299995422363, 5.82200002670288, 5.8189997673034695, 5.80999994277954, 5.75799989700317, 5.71500015258789, 5.62900018692017, 5.62099981307983, 5.61100006103516, 5.5689997673034695, 5.525000095367429, 5.5, 5.493000030517581, 5.47200012207031, 5.42999982833862, 5.39499998092651, 5.33599996566772, 5.32399988174438, 5.31099987030029, 5.2930002212524405, 5.27899980545044, 5.2729997634887695, 5.26900005340576, 5.26200008392334, 5.25, 5.23699998855591, 5.2350001335144, 5.234000205993651, 5.230000019073491, 5.2270002365112305, 5.22499990463257, 5.19500017166138, 5.18200016021729, 5.1810002326965305, 5.175000190734861, 5.151000022888179, 5.07399988174438, 5.07399988174438, 5.04099988937378, 5.01100015640259, 5.0040001869201705, 4.961999893188481, 4.95499992370605, 4.8289999961853, 4.80499982833862, 4.77500009536743, 4.7350001335144, 4.71400022506714, 4.70900011062622, 4.69500017166138, 4.69199991226196, 4.64400005340576, 4.60799980163574, 4.57399988174438, 4.55299997329712, 4.550000190734861, 4.54500007629395, 4.53499984741211, 4.513999938964839, 4.49700021743774, 4.46500015258789, 4.46000003814697, 4.44000005722046, 4.37599992752075, 4.31500005722046, 4.29199981689453, 4.29099988937378, 4.28599977493286, 4.2800002098083505, 4.19000005722046, 4.17999982833862, 4.1680002212524405, 4.138999938964839, 4.11999988555908, 4.09600019454956, 4.08099985122681, 4.03200006484985, 4.02799987792969, 3.97000002861023, 3.9360001087188703, 3.875, 3.80800008773804, 3.79500007629395, 3.7939999103546103, 3.7660000324249303, 3.65700006484985, 3.64400005340576, 3.6029999256133998, 3.59299993515015, 3.5910000801086404, 3.5329999923706095, 3.50699996948242, 3.4949998855590803, 3.47099995613098, 3.46199989318848, 3.34899997711182, 2.90499997138977, 2.69300007820129], \"yaxis\": \"y3\"}, {\"hoverlabel\": {\"namelength\": 0}, \"hovertemplate\": \"<b>OLS trendline</b><br>Happiness Score = 2.184185 * Economy (GDP per Capita) + 3.203213<br>R<sup>2</sup>=0.660105<br><br>Year=2017<br>Economy (GDP per Capita)=%{x}<br>Happiness Score=%{y} <b>(trend)</b>\", \"legendgroup\": \"\", \"marker\": {\"symbol\": \"circle\"}, \"mode\": \"lines\", \"name\": \"\", \"showlegend\": false, \"textposition\": \"top center\", \"type\": \"scatter\", \"x\": [0.0, 0.0226431842893362, 0.09162256866693501, 0.0921023488044739, 0.11904179304838199, 0.16192533075809498, 0.233442038297653, 0.23430564999580397, 0.24454993009567302, 0.30544471740722695, 0.305808693170547, 0.339233845472336, 0.35022771358490007, 0.36711055040359497, 0.36842092871666, 0.368610262870789, 0.368745893239975, 0.37584653496742204, 0.381430715322495, 0.39724862575531, 0.401477217674255, 0.43108540773391707, 0.43801298737525896, 0.476180493831635, 0.479309022426605, 0.479820191860199, 0.511135876178741, 0.521021246910095, 0.524713635444641, 0.560479462146759, 0.564305365085602, 0.586682975292206, 0.5916834473609921, 0.5962200760841371, 0.6017650961875921, 0.6030489206314089, 0.6364067792892459, 0.6484572887420649, 0.6595166921615601, 0.667224824428558, 0.716249227523804, 0.7268835306167599, 0.7288706302642819, 0.730573117733002, 0.737299203872681, 0.777153134346008, 0.783756256103516, 0.786441087722778, 0.7885475754737851, 0.7922212481498722, 0.8089642524719242, 0.833756566047668, 0.85769921541214, 0.8584281802177429, 0.872001945972443, 0.8781145811080929, 0.885416388511658, 0.89465194940567, 0.900596737861633, 0.907975316047668, 0.9097844958305359, 0.925579309463501, 0.932537317276001, 0.950612664222717, 0.951484382152557, 0.964434325695038, 0.982409417629242, 0.989701807498932, 0.9910123944282528, 0.995538592338562, 0.996192753314972, 1.00082039833069, 1.00726580619812, 1.00985014438629, 1.0272358655929599, 1.0352252721786501, 1.05469870567322, 1.06457793712616, 1.06931757926941, 1.07062232494354, 1.07498753070831, 1.07937383651733, 1.08116579055786, 1.09186446666718, 1.1018030643463101, 1.1027104854583702, 1.1073532104492199, 1.10970628261566, 1.12112903594971, 1.12209415435791, 1.12786877155304, 1.12843120098114, 1.1307767629623402, 1.1531838178634601, 1.1536017656326298, 1.15655755996704, 1.15687310695648, 1.1614590883255, 1.18529546260834, 1.1893955469131499, 1.1982102394104, 1.1982743740081798, 1.2175596952438401, 1.21768391132355, 1.22255623340607, 1.23374843597412, 1.25278460979462, 1.26074862480164, 1.28177809715271, 1.2845562696456898, 1.2860119342803997, 1.28948748111725, 1.29121541976929, 1.29178786277771, 1.3145823478698702, 1.3151752948761002, 1.3208793401718102, 1.32539355754852, 1.3412059545516999, 1.34327983856201, 1.3469113111496, 1.35268235206604, 1.3559380769729599, 1.36135590076447, 1.3753824234008798, 1.38439786434174, 1.3950666189193701, 1.40167844295502, 1.40570604801178, 1.41691517829895, 1.43092346191406, 1.4336265325546298, 1.44163393974304, 1.44357192516327, 1.4637807607650801, 1.47920441627502, 1.480633020401, 1.48238301277161, 1.4844149351120002, 1.4870972633361799, 1.48792338371277, 1.4884122610092199, 1.49438726902008, 1.50394463539124, 1.53062355518341, 1.5357066392898602, 1.54625928401947, 1.55167484283447, 1.5649795532226598, 1.6164631843566901, 1.6263433694839498, 1.63295245170593, 1.69227766990662, 1.74194359779358, 1.8707656860351598], \"xaxis\": \"x3\", \"y\": [3.2032126826861846, 3.252669584948374, 3.403333317914394, 3.404381246468364, 3.463221975048935, 3.5568875525607084, 3.713093268581104, 3.7149795562516967, 3.7373549586320203, 3.870360436389082, 3.8711554267721615, 3.9441621412591745, 3.968174782492791, 4.005050020523862, 4.0079121291092825, 4.008325669918561, 4.008621911729205, 4.024131026499717, 4.0363279091689686, 4.0708771510190305, 4.080113177832646, 4.144782940849621, 4.159914056016878, 4.243278949058599, 4.250112234119957, 4.251228722701847, 4.319627968975045, 4.341219446915554, 4.349284306368784, 4.427403486645302, 4.435759966250517, 4.484636805599063, 4.495558761416348, 4.505467597580618, 4.517578947017791, 4.520383057041731, 4.5932427897646395, 4.619563331107331, 4.643719113571801, 4.66055510003385, 4.767633463278265, 4.790860748008819, 4.795200941145833, 4.79891948864636, 4.813610504740499, 4.900658859733206, 4.915081298874869, 4.920945467681145, 4.925546426516565, 4.93357040707349, 4.970140225070383, 5.024291223167705, 5.076586397485313, 5.078178591440129, 5.107826206266822, 5.121177331912637, 5.137125829724648, 5.157298002800445, 5.170282520255193, 5.186398699654594, 5.190350282901575, 5.224849077069096, 5.240046652989742, 5.279526553690807, 5.281430546870626, 5.309715618612191, 5.348976543824131, 5.364904472000421, 5.367767036242327, 5.377653089582223, 5.379081898139388, 5.389189530719769, 5.403267493556893, 5.408912166123771, 5.446885796664811, 5.464336138259543, 5.5068697185521245, 5.52844778717314, 5.538800042193511, 5.541649848053761, 5.551184264772891, 5.560764767891038, 5.564678726930914, 5.588046614234761, 5.609754349673343, 5.611736325206305, 5.6218768952413605, 5.627016440044974, 5.651965845923071, 5.654073843021706, 5.666686674970242, 5.667915124860482, 5.673038266030549, 5.721979418037606, 5.722892293263387, 5.729348294753111, 5.730037507737312, 5.740054139207766, 5.792117189091901, 5.801072531509232, 5.820325450168427, 5.820465531991438, 5.8625882403198855, 5.862859551211281, 5.873501603757689, 5.89794744412332, 5.9395259684181525, 5.956920850108988, 6.002853107047872, 6.008921149585401, 6.012100590367469, 6.019691827448851, 6.0234659650408515, 6.0247162864424855, 6.074503657640574, 6.075798763565565, 6.0882574534337515, 6.098117339072511, 6.132654538572561, 6.137184284808356, 6.145116092567251, 6.157721113261708, 6.164832218592858, 6.17666574776025, 6.207302267352329, 6.22699365774006, 6.25029619088482, 6.2647376374113986, 6.273534671746216, 6.298017485381125, 6.328614167577445, 6.334518173779497, 6.352007832019715, 6.3562407506008265, 6.400380585105555, 6.43406870128805, 6.437189036914308, 6.441011343906421, 6.445449438094453, 6.451308139022876, 6.453112538713297, 6.454180337144814, 6.467230859696453, 6.48810591545109, 6.546377610446019, 6.557480006232356, 6.580528933994946, 6.59235751603474, 6.621417464180167, 6.733867236286535, 6.755447387908644, 6.76988284580708, 6.899460094339938, 7.0079396663771245, 7.289310932271714], \"yaxis\": \"y3\"}, {\"hoverlabel\": {\"namelength\": 0}, \"hovertemplate\": \"Year=%{marker.color}<br>Economy (GDP per Capita)=%{x}<br>Happiness Score=%{y}\", \"legendgroup\": \"\", \"marker\": {\"color\": [2018, 2018, 2018, 2018, 2018, 2018, 2018, 2018, 2018, 2018, 2018, 2018, 2018, 2018, 2018, 2018, 2018, 2018, 2018, 2018, 2018, 2018, 2018, 2018, 2018, 2018, 2018, 2018, 2018, 2018, 2018, 2018, 2018, 2018, 2018, 2018, 2018, 2018, 2018, 2018, 2018, 2018, 2018, 2018, 2018, 2018, 2018, 2018, 2018, 2018, 2018, 2018, 2018, 2018, 2018, 2018, 2018, 2018, 2018, 2018, 2018, 2018, 2018, 2018, 2018, 2018, 2018, 2018, 2018, 2018, 2018, 2018, 2018, 2018, 2018, 2018, 2018, 2018, 2018, 2018, 2018, 2018, 2018, 2018, 2018, 2018, 2018, 2018, 2018, 2018, 2018, 2018, 2018, 2018, 2018, 2018, 2018, 2018, 2018, 2018, 2018, 2018, 2018, 2018, 2018, 2018, 2018, 2018, 2018, 2018, 2018, 2018, 2018, 2018, 2018, 2018, 2018, 2018, 2018, 2018, 2018, 2018, 2018, 2018, 2018, 2018, 2018, 2018, 2018, 2018, 2018, 2018, 2018, 2018, 2018, 2018, 2018, 2018, 2018, 2018, 2018, 2018, 2018, 2018, 2018, 2018, 2018, 2018, 2018, 2018, 2018, 2018, 2018, 2018, 2018, 2018], \"coloraxis\": \"coloraxis\", \"symbol\": \"circle\"}, \"mode\": \"markers\", \"name\": \"\", \"showlegend\": false, \"textposition\": \"top center\", \"type\": \"scatter\", \"x\": [1.305, 1.456, 1.351, 1.3430000000000002, 1.42, 1.361, 1.33, 1.268, 1.355, 1.34, 1.244, 1.341, 1.01, 1.4480000000000002, 1.34, 1.324, 1.5759999999999998, 1.3980000000000001, 1.301, 2.096, 1.2329999999999999, 1.27, 1.2930000000000001, 1.038, 1.131, 1.365, 1.112, 0.986, 1.073, 0.7809999999999999, 1.093, 1.649, 1.379, 1.5290000000000001, 1.161, 1.251, 0.96, 1.2229999999999999, 1.21, 0.8059999999999999, 0.6679999999999999, 1.176, 1.338, 0.7190000000000001, 1.474, 1.016, 1.264, 0.889, 0.807, 1.197, 1.219, 1.1159999999999999, 1.148, 1.294, 1.09, 0.8190000000000001, 1.266, 1.229, 1.151, 1.143, 1.229, 0.7509999999999999, 1.2, 0.835, 0.934, 0.855, 0.657, 1.016, 1.171, 0.985, 0.775, 0.62, 1.0390000000000001, 1.148, 0.652, 1.405, 1.188, 0.975, 1.1540000000000001, 0.965, 1.0170000000000001, 1.115, 0.982, 0.9790000000000001, 0.779, 0.9890000000000001, 1.024, 0.474, 0.9590000000000001, 0.8220000000000001, 0.6890000000000001, 0.53, 0.915, 0.914, 0.715, 0.899, 0.7959999999999999, 0.0, 0.535, 1.054, 0.425, 0.996, 1.036, 0.642, 0.94, 1.0590000000000002, 0.541, 0.5920000000000001, 0.429, 0.72, 0.9, 0.9159999999999999, 0.256, 0.682, 0.532, 0.9179999999999999, 1.01, 0.37, 0.8740000000000001, 0.5489999999999999, 0.314, 0.885, 0.198, 0.493, 0.562, 0.557, 0.308, 0.853, 0.816, 0.682, 0.358, 0.069, 0.721, 0.131, 0.322, 0.37799999999999995, 0.605, 0.7929999999999999, 0.259, 0.344, 0.47200000000000003, 0.73, 0.262, 0.35700000000000004, 0.332, 1.0170000000000001, 0.18600000000000003, 0.315, 0.076, 0.6890000000000001, 0.332, 0.442, 0.455, 0.337, 0.024, 0.091], \"xaxis\": \"x2\", \"y\": [7.632000000000001, 7.593999999999999, 7.555, 7.495, 7.487, 7.441, 7.327999999999999, 7.324, 7.314, 7.272, 7.19, 7.138999999999999, 7.072, 6.977, 6.965, 6.9270000000000005, 6.91, 6.886, 6.814, 6.774, 6.711, 6.627000000000001, 6.489, 6.4879999999999995, 6.476, 6.441, 6.43, 6.419, 6.388, 6.382000000000001, 6.379, 6.374, 6.371, 6.343, 6.322, 6.31, 6.26, 6.192, 6.172999999999999, 6.167000000000001, 6.141, 6.122999999999999, 6.105, 6.096, 6.082999999999999, 6.072, 6.0, 5.973, 5.956, 5.952000000000001, 5.9479999999999995, 5.945, 5.933, 5.915, 5.891, 5.89, 5.875, 5.835, 5.81, 5.79, 5.7620000000000005, 5.752000000000001, 5.739, 5.681, 5.662999999999999, 5.662000000000001, 5.64, 5.636, 5.62, 5.566, 5.524, 5.504, 5.483, 5.483, 5.472, 5.43, 5.41, 5.398, 5.358, 5.358, 5.347, 5.321000000000001, 5.3020000000000005, 5.295, 5.254, 5.246, 5.2010000000000005, 5.199, 5.185, 5.1610000000000005, 5.155, 5.131, 5.129, 5.125, 5.103, 5.093, 5.082, 4.982, 4.975, 4.933, 4.88, 4.806, 4.758, 4.743, 4.724, 4.707, 4.671, 4.657, 4.631, 4.623, 4.592, 4.586, 4.571000000000001, 4.559, 4.5, 4.471, 4.456, 4.447, 4.441, 4.433, 4.4239999999999995, 4.419, 4.417, 4.41, 4.377, 4.356, 4.35, 4.34, 4.321000000000001, 4.308, 4.301, 4.245, 4.19, 4.166, 4.1610000000000005, 4.141, 4.138999999999999, 4.103, 3.9989999999999997, 3.964, 3.8080000000000003, 3.795, 3.7739999999999996, 3.6919999999999997, 3.6319999999999997, 3.59, 3.5869999999999997, 3.582, 3.495, 3.4619999999999997, 3.408, 3.355, 3.303, 3.2539999999999996, 3.083, 2.905], \"yaxis\": \"y2\"}, {\"hoverlabel\": {\"namelength\": 0}, \"hovertemplate\": \"<b>OLS trendline</b><br>Happiness Score = 2.291234 * Economy (GDP per Capita) + 3.333399<br>R<sup>2</sup>=0.643403<br><br>Year=2018<br>Economy (GDP per Capita)=%{x}<br>Happiness Score=%{y} <b>(trend)</b>\", \"legendgroup\": \"\", \"marker\": {\"symbol\": \"circle\"}, \"mode\": \"lines\", \"name\": \"\", \"showlegend\": false, \"textposition\": \"top center\", \"type\": \"scatter\", \"x\": [0.0, 0.024, 0.069, 0.076, 0.091, 0.131, 0.18600000000000003, 0.198, 0.256, 0.259, 0.262, 0.308, 0.314, 0.315, 0.322, 0.332, 0.332, 0.337, 0.344, 0.35700000000000004, 0.358, 0.37, 0.37799999999999995, 0.425, 0.429, 0.442, 0.455, 0.47200000000000003, 0.474, 0.493, 0.53, 0.532, 0.535, 0.541, 0.5489999999999999, 0.557, 0.562, 0.5920000000000001, 0.605, 0.62, 0.642, 0.652, 0.657, 0.6679999999999999, 0.682, 0.682, 0.6890000000000001, 0.6890000000000001, 0.715, 0.7190000000000001, 0.72, 0.721, 0.73, 0.7509999999999999, 0.775, 0.779, 0.7809999999999999, 0.7929999999999999, 0.7959999999999999, 0.8059999999999999, 0.807, 0.816, 0.8190000000000001, 0.8220000000000001, 0.835, 0.853, 0.855, 0.8740000000000001, 0.885, 0.889, 0.899, 0.9, 0.914, 0.915, 0.9159999999999999, 0.9179999999999999, 0.934, 0.94, 0.9590000000000001, 0.96, 0.965, 0.975, 0.9790000000000001, 0.982, 0.985, 0.986, 0.9890000000000001, 0.996, 1.01, 1.01, 1.016, 1.016, 1.0170000000000001, 1.0170000000000001, 1.024, 1.036, 1.038, 1.0390000000000001, 1.054, 1.0590000000000002, 1.073, 1.09, 1.093, 1.112, 1.115, 1.1159999999999999, 1.131, 1.143, 1.148, 1.148, 1.151, 1.1540000000000001, 1.161, 1.171, 1.176, 1.188, 1.197, 1.2, 1.21, 1.219, 1.2229999999999999, 1.229, 1.229, 1.2329999999999999, 1.244, 1.251, 1.264, 1.266, 1.268, 1.27, 1.2930000000000001, 1.294, 1.301, 1.305, 1.324, 1.33, 1.338, 1.34, 1.34, 1.341, 1.3430000000000002, 1.351, 1.355, 1.361, 1.365, 1.379, 1.3980000000000001, 1.405, 1.42, 1.4480000000000002, 1.456, 1.474, 1.5290000000000001, 1.5759999999999998, 1.649, 2.096], \"xaxis\": \"x2\", \"y\": [3.333399393230614, 3.388389000120469, 3.4914945130389468, 3.5075331483818215, 3.5419016526879807, 3.633550997504406, 3.75956884662699, 3.7870636500719175, 3.9199552000557336, 3.9268289009169655, 3.9337026017781973, 4.0390993483170865, 4.05284675003955, 4.055137983659961, 4.071176619002835, 4.094088955206941, 4.094088955206941, 4.105545123308994, 4.121583758651869, 4.151369795717207, 4.153661029337617, 4.181155832782545, 4.19948570174583, 4.307173681905129, 4.316338616386772, 4.34612465345211, 4.375910690517448, 4.414861662064428, 4.4194441293052495, 4.462977568093052, 4.547753212048245, 4.552335679289066, 4.559209380150298, 4.572956781872762, 4.591286650836047, 4.6096165197993315, 4.6210726879013855, 4.689809696513704, 4.719595733579042, 4.753964237885201, 4.804371377534235, 4.827283713738341, 4.838739881840395, 4.863943451664911, 4.89602072235066, 4.89602072235066, 4.9120593576935345, 4.9120593576935345, 4.9716314318242105, 4.980796366305853, 4.983087599926264, 4.985378833546674, 5.00599993613037, 5.054115842158993, 5.109105449048848, 5.118270383530491, 5.122852850771311, 5.150347654216239, 5.157221355077471, 5.180133691281577, 5.182424924901988, 5.203046027485684, 5.209919728346915, 5.216793429208147, 5.246579466273485, 5.287821671440877, 5.2924041386816985, 5.3359375774695, 5.361141147294017, 5.370306081775659, 5.3932184179797655, 5.395509651600176, 5.427586922285925, 5.429878155906335, 5.432169389526746, 5.436751856767567, 5.473411594694138, 5.487158996416601, 5.530692435204403, 5.532983668824814, 5.544439836926866, 5.567352173130972, 5.576517107612616, 5.5833908084738475, 5.590264509335079, 5.59255574295549, 5.599429443816722, 5.615468079159596, 5.647545349845345, 5.647545349845345, 5.661292751567808, 5.661292751567808, 5.66358398518822, 5.66358398518822, 5.679622620531093, 5.707117423976021, 5.711699891216842, 5.7139911248372535, 5.748359629143412, 5.759815797245466, 5.791893067931214, 5.830844039478195, 5.837717740339427, 5.881251179127229, 5.88812487998846, 5.890416113608871, 5.92478461791503, 5.9522794213599575, 5.963735589462011, 5.963735589462011, 5.970609290323242, 5.977482991184475, 5.993521626527349, 6.016433962731456, 6.027890130833509, 6.055384934278436, 6.076006036862132, 6.082879737723363, 6.10579207392747, 6.126413176511166, 6.135578110992808, 6.149325512715272, 6.149325512715272, 6.158490447196914, 6.1836940170214305, 6.199732652364306, 6.229518689429644, 6.234101156670465, 6.238683623911286, 6.243266091152107, 6.2959644644215516, 6.298255698041962, 6.3142943333848365, 6.323459267866479, 6.3669927066542815, 6.380740108376745, 6.39906997734003, 6.403652444580851, 6.403652444580851, 6.405943678201261, 6.410526145442083, 6.428856014405367, 6.43802094888701, 6.451768350609474, 6.460933285091117, 6.493010555776865, 6.536543994564667, 6.552582629907542, 6.586951134213701, 6.651105675585199, 6.669435544548483, 6.710677749715875, 6.8366955988384595, 6.944383578997758, 7.111643633287734, 8.135825061611284], \"yaxis\": \"y2\"}, {\"hoverlabel\": {\"namelength\": 0}, \"hovertemplate\": \"Year=%{marker.color}<br>Economy (GDP per Capita)=%{x}<br>Happiness Score=%{y}\", \"legendgroup\": \"\", \"marker\": {\"color\": [2019, 2019, 2019, 2019, 2019, 2019, 2019, 2019, 2019, 2019, 2019, 2019, 2019, 2019, 2019, 2019, 2019, 2019, 2019, 2019, 2019, 2019, 2019, 2019, 2019, 2019, 2019, 2019, 2019, 2019, 2019, 2019, 2019, 2019, 2019, 2019, 2019, 2019, 2019, 2019, 2019, 2019, 2019, 2019, 2019, 2019, 2019, 2019, 2019, 2019, 2019, 2019, 2019, 2019, 2019, 2019, 2019, 2019, 2019, 2019, 2019, 2019, 2019, 2019, 2019, 2019, 2019, 2019, 2019, 2019, 2019, 2019, 2019, 2019, 2019, 2019, 2019, 2019, 2019, 2019, 2019, 2019, 2019, 2019, 2019, 2019, 2019, 2019, 2019, 2019, 2019, 2019, 2019, 2019, 2019, 2019, 2019, 2019, 2019, 2019, 2019, 2019, 2019, 2019, 2019, 2019, 2019, 2019, 2019, 2019, 2019, 2019, 2019, 2019, 2019, 2019, 2019, 2019, 2019, 2019, 2019, 2019, 2019, 2019, 2019, 2019, 2019, 2019, 2019, 2019, 2019, 2019, 2019, 2019, 2019, 2019, 2019, 2019, 2019, 2019, 2019, 2019, 2019, 2019, 2019, 2019, 2019, 2019, 2019, 2019, 2019, 2019, 2019, 2019, 2019, 2019], \"coloraxis\": \"coloraxis\", \"symbol\": \"circle\"}, \"mode\": \"markers\", \"name\": \"\", \"showlegend\": false, \"textposition\": \"top center\", \"type\": \"scatter\", \"x\": [1.34, 1.383, 1.4880000000000002, 1.38, 1.396, 1.452, 1.3869999999999998, 1.3030000000000002, 1.365, 1.376, 1.3719999999999999, 1.034, 1.276, 1.609, 1.3330000000000002, 1.499, 1.3730000000000002, 1.3559999999999999, 1.433, 1.2690000000000001, 1.5030000000000001, 1.3, 1.07, 1.324, 1.368, 1.159, 0.8, 1.403, 1.6840000000000002, 1.286, 1.149, 1.004, 1.124, 1.5719999999999998, 0.794, 1.294, 1.3619999999999999, 1.246, 1.2309999999999999, 1.206, 0.745, 1.238, 0.985, 1.258, 0.6940000000000001, 0.882, 1.092, 1.162, 1.263, 0.912, 1.5, 1.05, 1.187, 1.301, 1.237, 0.831, 1.12, 1.327, 0.642, 1.173, 0.7759999999999999, 1.2009999999999998, 0.855, 1.263, 0.96, 1.2209999999999999, 0.677, 1.183, 0.807, 1.004, 0.685, 1.044, 1.051, 0.493, 1.155, 1.4380000000000002, 1.015, 0.945, 1.183, 1.2209999999999999, 1.067, 1.181, 0.948, 0.983, 0.696, 0.551, 1.052, 1.002, 0.8009999999999999, 1.043, 0.987, 0.9309999999999999, 1.0290000000000001, 0.741, 0.813, 0.5489999999999999, 1.092, 0.611, 0.569, 0.446, 0.8370000000000001, 0.39299999999999996, 0.6729999999999999, 1.057, 0.764, 0.96, 0.9470000000000001, 0.96, 0.574, 0.657, 0.45, 0.0, 0.879, 0.138, 0.331, 0.85, 1.1, 0.38, 0.8859999999999999, 0.308, 0.512, 0.57, 0.204, 0.9209999999999999, 0.562, 1.043, 0.094, 0.385, 0.268, 0.9490000000000001, 0.71, 0.35, 0.82, 0.336, 0.8109999999999999, 0.332, 0.9129999999999999, 0.578, 0.275, 0.755, 0.073, 0.27399999999999997, 0.27399999999999997, 0.489, 0.046, 0.366, 0.32299999999999995, 1.041, 0.619, 0.191, 0.287, 0.359, 0.47600000000000003, 0.35, 0.026000000000000002, 0.306], \"xaxis\": \"x\", \"y\": [7.769, 7.6, 7.553999999999999, 7.494, 7.4879999999999995, 7.48, 7.343, 7.307, 7.278, 7.246, 7.228, 7.167000000000001, 7.138999999999999, 7.09, 7.053999999999999, 7.021, 6.985, 6.922999999999999, 6.892, 6.852, 6.825, 6.726, 6.595, 6.5920000000000005, 6.446000000000001, 6.444, 6.436, 6.375, 6.374, 6.354, 6.321000000000001, 6.3, 6.292999999999999, 6.2620000000000005, 6.252999999999999, 6.223, 6.199, 6.1979999999999995, 6.192, 6.182, 6.1739999999999995, 6.149, 6.125, 6.117999999999999, 6.105, 6.1, 6.086, 6.07, 6.046, 6.028, 6.021, 6.007999999999999, 5.94, 5.895, 5.893, 5.89, 5.888, 5.886, 5.86, 5.809, 5.779, 5.757999999999999, 5.742999999999999, 5.718, 5.697, 5.693, 5.653, 5.648, 5.631, 5.603, 5.529, 5.525, 5.523, 5.4670000000000005, 5.432, 5.43, 5.425, 5.386, 5.372999999999999, 5.3389999999999995, 5.3229999999999995, 5.287000000000001, 5.285, 5.274, 5.265, 5.261, 5.247000000000001, 5.211, 5.207999999999999, 5.207999999999999, 5.197, 5.192, 5.191, 5.175, 5.082, 5.044, 5.011, 4.996, 4.944, 4.913, 4.906000000000001, 4.883, 4.812, 4.7989999999999995, 4.796, 4.7219999999999995, 4.718999999999999, 4.707, 4.7, 4.696000000000001, 4.681, 4.668, 4.638999999999999, 4.628, 4.587, 4.559, 4.548, 4.534, 4.519, 4.516, 4.5089999999999995, 4.49, 4.466, 4.461, 4.456, 4.437, 4.418, 4.39, 4.374, 4.3660000000000005, 4.36, 4.35, 4.332, 4.2860000000000005, 4.212, 4.189, 4.166, 4.107, 4.085, 4.015, 3.975, 3.9730000000000003, 3.9330000000000003, 3.802, 3.775, 3.6630000000000003, 3.597, 3.488, 3.4619999999999997, 3.41, 3.38, 3.3339999999999996, 3.2310000000000003, 3.2030000000000003, 3.083, 2.853], \"yaxis\": \"y\"}, {\"hoverlabel\": {\"namelength\": 0}, \"hovertemplate\": \"<b>OLS trendline</b><br>Happiness Score = 2.218148 * Economy (GDP per Capita) + 3.399345<br>R<sup>2</sup>=0.630250<br><br>Year=2019<br>Economy (GDP per Capita)=%{x}<br>Happiness Score=%{y} <b>(trend)</b>\", \"legendgroup\": \"\", \"marker\": {\"symbol\": \"circle\"}, \"mode\": \"lines\", \"name\": \"\", \"showlegend\": false, \"textposition\": \"top center\", \"type\": \"scatter\", \"x\": [0.0, 0.026000000000000002, 0.046, 0.073, 0.094, 0.138, 0.191, 0.204, 0.268, 0.27399999999999997, 0.27399999999999997, 0.275, 0.287, 0.306, 0.308, 0.32299999999999995, 0.331, 0.332, 0.336, 0.35, 0.35, 0.359, 0.366, 0.38, 0.385, 0.39299999999999996, 0.446, 0.45, 0.47600000000000003, 0.489, 0.493, 0.512, 0.5489999999999999, 0.551, 0.562, 0.569, 0.57, 0.574, 0.578, 0.611, 0.619, 0.642, 0.657, 0.6729999999999999, 0.677, 0.685, 0.6940000000000001, 0.696, 0.71, 0.741, 0.745, 0.755, 0.764, 0.7759999999999999, 0.794, 0.8, 0.8009999999999999, 0.807, 0.8109999999999999, 0.813, 0.82, 0.831, 0.8370000000000001, 0.85, 0.855, 0.879, 0.882, 0.8859999999999999, 0.912, 0.9129999999999999, 0.9209999999999999, 0.9309999999999999, 0.945, 0.9470000000000001, 0.948, 0.9490000000000001, 0.96, 0.96, 0.96, 0.983, 0.985, 0.987, 1.002, 1.004, 1.004, 1.015, 1.0290000000000001, 1.034, 1.041, 1.043, 1.043, 1.044, 1.05, 1.051, 1.052, 1.057, 1.067, 1.07, 1.092, 1.092, 1.1, 1.12, 1.124, 1.149, 1.155, 1.159, 1.162, 1.173, 1.181, 1.183, 1.183, 1.187, 1.2009999999999998, 1.206, 1.2209999999999999, 1.2209999999999999, 1.2309999999999999, 1.237, 1.238, 1.246, 1.258, 1.263, 1.263, 1.2690000000000001, 1.276, 1.286, 1.294, 1.3, 1.301, 1.3030000000000002, 1.324, 1.327, 1.3330000000000002, 1.34, 1.3559999999999999, 1.3619999999999999, 1.365, 1.368, 1.3719999999999999, 1.3730000000000002, 1.376, 1.38, 1.383, 1.3869999999999998, 1.396, 1.403, 1.433, 1.4380000000000002, 1.452, 1.4880000000000002, 1.499, 1.5, 1.5030000000000001, 1.5719999999999998, 1.609, 1.6840000000000002], \"xaxis\": \"x\", \"y\": [3.3993451782924176, 3.457017026318635, 3.5013799863388018, 3.5612699823660274, 3.6078510903872028, 3.7054496024315706, 3.8230114464850136, 3.851847370498122, 3.993808842562657, 4.007117730568707, 4.007117730568707, 4.009335878569715, 4.0359536545818155, 4.0780984666009745, 4.082534762602991, 4.115806982618116, 4.133552166626183, 4.135770314627192, 4.144642906631225, 4.175696978645342, 4.175696978645342, 4.195660310654417, 4.211187346661475, 4.242241418675593, 4.253332158680634, 4.271077342688701, 4.388639186742144, 4.3975117787461775, 4.455183626772395, 4.484019550785503, 4.492892142789537, 4.535036954808696, 4.617108430846004, 4.621544726848022, 4.645944354859114, 4.661471390866172, 4.66368953886718, 4.6725621308712135, 4.681434722875247, 4.754633606908523, 4.77237879091659, 4.8233961949397814, 4.856668414954907, 4.892158782971041, 4.901031374975075, 4.918776558983141, 4.938739890992217, 4.943176186994233, 4.974230259008349, 5.042992847039609, 5.051865439043643, 5.074046919053726, 5.094010251062802, 5.120628027074901, 5.1605546910930515, 5.173863579099102, 5.17608172710011, 5.18939061510616, 5.198263207110194, 5.2026995031122105, 5.218226539119269, 5.242626167130361, 5.255935055136411, 5.28477097914952, 5.295861719154561, 5.349097271178762, 5.355751715181787, 5.36462430718582, 5.422296155212038, 5.424514303213046, 5.442259487221113, 5.464440967231196, 5.495495039245313, 5.4999313352473305, 5.502149483248338, 5.504367631249346, 5.528767259260439, 5.528767259260439, 5.528767259260439, 5.579784663283631, 5.5842209592856475, 5.588657255287664, 5.62192947530279, 5.6263657713048065, 5.6263657713048065, 5.6507653993158975, 5.681819471330016, 5.692910211335057, 5.708437247342115, 5.712873543344132, 5.712873543344132, 5.71509169134514, 5.728400579351191, 5.7306187273522, 5.7328368753532075, 5.743927615358249, 5.766109095368332, 5.772763539371358, 5.821562795393541, 5.821562795393541, 5.8393079794016085, 5.883670939421776, 5.89254353142581, 5.947997231451017, 5.961306119457069, 5.970178711461101, 5.976833155464126, 6.001232783475219, 6.018977967483286, 6.023414263485302, 6.023414263485302, 6.032286855489335, 6.063340927503452, 6.0744316675084935, 6.10770388752362, 6.10770388752362, 6.129885367533703, 6.143194255539754, 6.145412403540762, 6.163157587548828, 6.189775363560928, 6.20086610356597, 6.20086610356597, 6.214174991572021, 6.229702027579079, 6.251883507589163, 6.26962869159723, 6.28293757960328, 6.2851557276042875, 6.289592023606305, 6.33617313162748, 6.342827575630505, 6.356136463636556, 6.3716634996436134, 6.407153867659748, 6.420462755665797, 6.427117199668823, 6.433771643671848, 6.442644235675881, 6.44486238367689, 6.451516827679914, 6.460389419683947, 6.467043863686973, 6.4759164556910065, 6.495879787700082, 6.511406823707141, 6.577951263737392, 6.589042003742433, 6.62009607575655, 6.699949403792851, 6.724349031803943, 6.726567179804951, 6.733221623807976, 6.886273835877551, 6.968345311914861, 7.134706411990488], \"yaxis\": \"y\"}],\n",
              "                        {\"annotations\": [{\"font\": {}, \"showarrow\": false, \"text\": \"Year=2019\", \"textangle\": 90, \"x\": 0.98, \"xanchor\": \"left\", \"xref\": \"paper\", \"y\": 0.08800000000000001, \"yanchor\": \"middle\", \"yref\": \"paper\"}, {\"font\": {}, \"showarrow\": false, \"text\": \"Year=2018\", \"textangle\": 90, \"x\": 0.98, \"xanchor\": \"left\", \"xref\": \"paper\", \"y\": 0.29400000000000004, \"yanchor\": \"middle\", \"yref\": \"paper\"}, {\"font\": {}, \"showarrow\": false, \"text\": \"Year=2017\", \"textangle\": 90, \"x\": 0.98, \"xanchor\": \"left\", \"xref\": \"paper\", \"y\": 0.5, \"yanchor\": \"middle\", \"yref\": \"paper\"}, {\"font\": {}, \"showarrow\": false, \"text\": \"Year=2016\", \"textangle\": 90, \"x\": 0.98, \"xanchor\": \"left\", \"xref\": \"paper\", \"y\": 0.706, \"yanchor\": \"middle\", \"yref\": \"paper\"}, {\"font\": {}, \"showarrow\": false, \"text\": \"Year=2015\", \"textangle\": 90, \"x\": 0.98, \"xanchor\": \"left\", \"xref\": \"paper\", \"y\": 0.912, \"yanchor\": \"middle\", \"yref\": \"paper\"}], \"coloraxis\": {\"colorbar\": {\"title\": {\"text\": \"Year\"}}, \"colorscale\": [[0.0, \"#0d0887\"], [0.1111111111111111, \"#46039f\"], [0.2222222222222222, \"#7201a8\"], [0.3333333333333333, \"#9c179e\"], [0.4444444444444444, \"#bd3786\"], [0.5555555555555556, \"#d8576b\"], [0.6666666666666666, \"#ed7953\"], [0.7777777777777778, \"#fb9f3a\"], [0.8888888888888888, \"#fdca26\"], [1.0, \"#f0f921\"]], \"showscale\": false}, \"height\": 800, \"legend\": {\"tracegroupgap\": 0}, \"margin\": {\"t\": 60}, \"template\": {\"data\": {\"bar\": [{\"error_x\": {\"color\": \"#2a3f5f\"}, \"error_y\": {\"color\": \"#2a3f5f\"}, \"marker\": {\"line\": {\"color\": \"#E5ECF6\", \"width\": 0.5}}, \"type\": \"bar\"}], \"barpolar\": [{\"marker\": {\"line\": {\"color\": \"#E5ECF6\", \"width\": 0.5}}, \"type\": \"barpolar\"}], \"carpet\": [{\"aaxis\": {\"endlinecolor\": \"#2a3f5f\", \"gridcolor\": \"white\", \"linecolor\": \"white\", \"minorgridcolor\": \"white\", \"startlinecolor\": \"#2a3f5f\"}, \"baxis\": {\"endlinecolor\": \"#2a3f5f\", \"gridcolor\": \"white\", \"linecolor\": \"white\", \"minorgridcolor\": \"white\", \"startlinecolor\": \"#2a3f5f\"}, \"type\": \"carpet\"}], \"choropleth\": [{\"colorbar\": {\"outlinewidth\": 0, \"ticks\": \"\"}, \"type\": \"choropleth\"}], \"contour\": [{\"colorbar\": {\"outlinewidth\": 0, \"ticks\": \"\"}, \"colorscale\": [[0.0, \"#0d0887\"], [0.1111111111111111, \"#46039f\"], [0.2222222222222222, \"#7201a8\"], [0.3333333333333333, \"#9c179e\"], [0.4444444444444444, \"#bd3786\"], [0.5555555555555556, \"#d8576b\"], [0.6666666666666666, \"#ed7953\"], [0.7777777777777778, \"#fb9f3a\"], [0.8888888888888888, \"#fdca26\"], [1.0, \"#f0f921\"]], \"type\": \"contour\"}], \"contourcarpet\": [{\"colorbar\": {\"outlinewidth\": 0, \"ticks\": \"\"}, \"type\": \"contourcarpet\"}], \"heatmap\": [{\"colorbar\": {\"outlinewidth\": 0, \"ticks\": \"\"}, \"colorscale\": [[0.0, \"#0d0887\"], [0.1111111111111111, \"#46039f\"], [0.2222222222222222, \"#7201a8\"], [0.3333333333333333, \"#9c179e\"], [0.4444444444444444, \"#bd3786\"], [0.5555555555555556, \"#d8576b\"], [0.6666666666666666, \"#ed7953\"], [0.7777777777777778, \"#fb9f3a\"], [0.8888888888888888, \"#fdca26\"], [1.0, \"#f0f921\"]], \"type\": \"heatmap\"}], \"heatmapgl\": [{\"colorbar\": {\"outlinewidth\": 0, \"ticks\": \"\"}, \"colorscale\": [[0.0, \"#0d0887\"], [0.1111111111111111, \"#46039f\"], [0.2222222222222222, \"#7201a8\"], [0.3333333333333333, \"#9c179e\"], [0.4444444444444444, \"#bd3786\"], [0.5555555555555556, \"#d8576b\"], [0.6666666666666666, \"#ed7953\"], [0.7777777777777778, \"#fb9f3a\"], [0.8888888888888888, \"#fdca26\"], [1.0, \"#f0f921\"]], \"type\": \"heatmapgl\"}], \"histogram\": [{\"marker\": {\"colorbar\": {\"outlinewidth\": 0, \"ticks\": \"\"}}, \"type\": \"histogram\"}], \"histogram2d\": [{\"colorbar\": {\"outlinewidth\": 0, \"ticks\": \"\"}, \"colorscale\": [[0.0, \"#0d0887\"], [0.1111111111111111, \"#46039f\"], [0.2222222222222222, \"#7201a8\"], [0.3333333333333333, \"#9c179e\"], [0.4444444444444444, \"#bd3786\"], [0.5555555555555556, \"#d8576b\"], [0.6666666666666666, \"#ed7953\"], [0.7777777777777778, \"#fb9f3a\"], [0.8888888888888888, \"#fdca26\"], [1.0, \"#f0f921\"]], \"type\": \"histogram2d\"}], \"histogram2dcontour\": [{\"colorbar\": {\"outlinewidth\": 0, \"ticks\": \"\"}, \"colorscale\": [[0.0, \"#0d0887\"], [0.1111111111111111, \"#46039f\"], [0.2222222222222222, \"#7201a8\"], [0.3333333333333333, \"#9c179e\"], [0.4444444444444444, \"#bd3786\"], [0.5555555555555556, \"#d8576b\"], [0.6666666666666666, \"#ed7953\"], [0.7777777777777778, \"#fb9f3a\"], [0.8888888888888888, \"#fdca26\"], [1.0, \"#f0f921\"]], \"type\": \"histogram2dcontour\"}], \"mesh3d\": [{\"colorbar\": {\"outlinewidth\": 0, \"ticks\": \"\"}, \"type\": \"mesh3d\"}], \"parcoords\": [{\"line\": {\"colorbar\": {\"outlinewidth\": 0, \"ticks\": \"\"}}, \"type\": \"parcoords\"}], \"pie\": [{\"automargin\": true, \"type\": \"pie\"}], \"scatter\": [{\"marker\": {\"colorbar\": {\"outlinewidth\": 0, \"ticks\": \"\"}}, \"type\": \"scatter\"}], \"scatter3d\": [{\"line\": {\"colorbar\": {\"outlinewidth\": 0, \"ticks\": \"\"}}, \"marker\": {\"colorbar\": {\"outlinewidth\": 0, \"ticks\": \"\"}}, \"type\": \"scatter3d\"}], \"scattercarpet\": [{\"marker\": {\"colorbar\": {\"outlinewidth\": 0, \"ticks\": \"\"}}, \"type\": \"scattercarpet\"}], \"scattergeo\": [{\"marker\": {\"colorbar\": {\"outlinewidth\": 0, \"ticks\": \"\"}}, \"type\": \"scattergeo\"}], \"scattergl\": [{\"marker\": {\"colorbar\": {\"outlinewidth\": 0, \"ticks\": \"\"}}, \"type\": \"scattergl\"}], \"scattermapbox\": [{\"marker\": {\"colorbar\": {\"outlinewidth\": 0, \"ticks\": \"\"}}, \"type\": \"scattermapbox\"}], \"scatterpolar\": [{\"marker\": {\"colorbar\": {\"outlinewidth\": 0, \"ticks\": \"\"}}, \"type\": \"scatterpolar\"}], \"scatterpolargl\": [{\"marker\": {\"colorbar\": {\"outlinewidth\": 0, \"ticks\": \"\"}}, \"type\": \"scatterpolargl\"}], \"scatterternary\": [{\"marker\": {\"colorbar\": {\"outlinewidth\": 0, \"ticks\": \"\"}}, \"type\": \"scatterternary\"}], \"surface\": [{\"colorbar\": {\"outlinewidth\": 0, \"ticks\": \"\"}, \"colorscale\": [[0.0, \"#0d0887\"], [0.1111111111111111, \"#46039f\"], [0.2222222222222222, \"#7201a8\"], [0.3333333333333333, \"#9c179e\"], [0.4444444444444444, \"#bd3786\"], [0.5555555555555556, \"#d8576b\"], [0.6666666666666666, \"#ed7953\"], [0.7777777777777778, \"#fb9f3a\"], [0.8888888888888888, \"#fdca26\"], [1.0, \"#f0f921\"]], \"type\": \"surface\"}], \"table\": [{\"cells\": {\"fill\": {\"color\": \"#EBF0F8\"}, \"line\": {\"color\": \"white\"}}, \"header\": {\"fill\": {\"color\": \"#C8D4E3\"}, \"line\": {\"color\": \"white\"}}, \"type\": \"table\"}]}, \"layout\": {\"annotationdefaults\": {\"arrowcolor\": \"#2a3f5f\", \"arrowhead\": 0, \"arrowwidth\": 1}, \"coloraxis\": {\"colorbar\": {\"outlinewidth\": 0, \"ticks\": \"\"}}, \"colorscale\": {\"diverging\": [[0, \"#8e0152\"], [0.1, \"#c51b7d\"], [0.2, \"#de77ae\"], [0.3, \"#f1b6da\"], [0.4, \"#fde0ef\"], [0.5, \"#f7f7f7\"], [0.6, \"#e6f5d0\"], [0.7, \"#b8e186\"], [0.8, \"#7fbc41\"], [0.9, \"#4d9221\"], [1, \"#276419\"]], \"sequential\": [[0.0, \"#0d0887\"], [0.1111111111111111, \"#46039f\"], [0.2222222222222222, \"#7201a8\"], [0.3333333333333333, \"#9c179e\"], [0.4444444444444444, \"#bd3786\"], [0.5555555555555556, \"#d8576b\"], [0.6666666666666666, \"#ed7953\"], [0.7777777777777778, \"#fb9f3a\"], [0.8888888888888888, \"#fdca26\"], [1.0, \"#f0f921\"]], \"sequentialminus\": [[0.0, \"#0d0887\"], [0.1111111111111111, \"#46039f\"], [0.2222222222222222, \"#7201a8\"], [0.3333333333333333, \"#9c179e\"], [0.4444444444444444, \"#bd3786\"], [0.5555555555555556, \"#d8576b\"], [0.6666666666666666, \"#ed7953\"], [0.7777777777777778, \"#fb9f3a\"], [0.8888888888888888, \"#fdca26\"], [1.0, \"#f0f921\"]]}, \"colorway\": [\"#636efa\", \"#EF553B\", \"#00cc96\", \"#ab63fa\", \"#FFA15A\", \"#19d3f3\", \"#FF6692\", \"#B6E880\", \"#FF97FF\", \"#FECB52\"], \"font\": {\"color\": \"#2a3f5f\"}, \"geo\": {\"bgcolor\": \"white\", \"lakecolor\": \"white\", \"landcolor\": \"#E5ECF6\", \"showlakes\": true, \"showland\": true, \"subunitcolor\": \"white\"}, \"hoverlabel\": {\"align\": \"left\"}, \"hovermode\": \"closest\", \"mapbox\": {\"style\": \"light\"}, \"paper_bgcolor\": \"white\", \"plot_bgcolor\": \"#E5ECF6\", \"polar\": {\"angularaxis\": {\"gridcolor\": \"white\", \"linecolor\": \"white\", \"ticks\": \"\"}, \"bgcolor\": \"#E5ECF6\", \"radialaxis\": {\"gridcolor\": \"white\", \"linecolor\": \"white\", \"ticks\": \"\"}}, \"scene\": {\"xaxis\": {\"backgroundcolor\": \"#E5ECF6\", \"gridcolor\": \"white\", \"gridwidth\": 2, \"linecolor\": \"white\", \"showbackground\": true, \"ticks\": \"\", \"zerolinecolor\": \"white\"}, \"yaxis\": {\"backgroundcolor\": \"#E5ECF6\", \"gridcolor\": \"white\", \"gridwidth\": 2, \"linecolor\": \"white\", \"showbackground\": true, \"ticks\": \"\", \"zerolinecolor\": \"white\"}, \"zaxis\": {\"backgroundcolor\": \"#E5ECF6\", \"gridcolor\": \"white\", \"gridwidth\": 2, \"linecolor\": \"white\", \"showbackground\": true, \"ticks\": \"\", \"zerolinecolor\": \"white\"}}, \"shapedefaults\": {\"line\": {\"color\": \"#2a3f5f\"}}, \"ternary\": {\"aaxis\": {\"gridcolor\": \"white\", \"linecolor\": \"white\", \"ticks\": \"\"}, \"baxis\": {\"gridcolor\": \"white\", \"linecolor\": \"white\", \"ticks\": \"\"}, \"bgcolor\": \"#E5ECF6\", \"caxis\": {\"gridcolor\": \"white\", \"linecolor\": \"white\", \"ticks\": \"\"}}, \"title\": {\"x\": 0.05}, \"xaxis\": {\"automargin\": true, \"gridcolor\": \"white\", \"linecolor\": \"white\", \"ticks\": \"\", \"title\": {\"standoff\": 15}, \"zerolinecolor\": \"white\", \"zerolinewidth\": 2}, \"yaxis\": {\"automargin\": true, \"gridcolor\": \"white\", \"linecolor\": \"white\", \"ticks\": \"\", \"title\": {\"standoff\": 15}, \"zerolinecolor\": \"white\", \"zerolinewidth\": 2}}}, \"title\": {\"text\": \"GDP per capita and Happiness Score\"}, \"xaxis\": {\"anchor\": \"y\", \"domain\": [0.0, 0.98], \"title\": {\"text\": \"Economy (GDP per Capita)\"}}, \"xaxis2\": {\"anchor\": \"y2\", \"domain\": [0.0, 0.98], \"matches\": \"x\", \"showticklabels\": false}, \"xaxis3\": {\"anchor\": \"y3\", \"domain\": [0.0, 0.98], \"matches\": \"x\", \"showticklabels\": false}, \"xaxis4\": {\"anchor\": \"y4\", \"domain\": [0.0, 0.98], \"matches\": \"x\", \"showticklabels\": false}, \"xaxis5\": {\"anchor\": \"y5\", \"domain\": [0.0, 0.98], \"matches\": \"x\", \"showticklabels\": false}, \"yaxis\": {\"anchor\": \"x\", \"domain\": [0.0, 0.17600000000000002], \"title\": {\"text\": \"Happiness Score\"}}, \"yaxis2\": {\"anchor\": \"x2\", \"domain\": [0.20600000000000002, 0.382], \"matches\": \"y\", \"title\": {\"text\": \"Happiness Score\"}}, \"yaxis3\": {\"anchor\": \"x3\", \"domain\": [0.41200000000000003, 0.5880000000000001], \"matches\": \"y\", \"title\": {\"text\": \"Happiness Score\"}}, \"yaxis4\": {\"anchor\": \"x4\", \"domain\": [0.618, 0.794], \"matches\": \"y\", \"title\": {\"text\": \"Happiness Score\"}}, \"yaxis5\": {\"anchor\": \"x5\", \"domain\": [0.8240000000000001, 1.0], \"matches\": \"y\", \"title\": {\"text\": \"Happiness Score\"}}},\n",
              "                        {\"responsive\": true}\n",
              "                    ).then(function(){\n",
              "                            \n",
              "var gd = document.getElementById('868a1433-cd13-489f-8a72-5e6342907559');\n",
              "var x = new MutationObserver(function (mutations, observer) {{\n",
              "        var display = window.getComputedStyle(gd).display;\n",
              "        if (!display || display === 'none') {{\n",
              "            console.log([gd, 'removed!']);\n",
              "            Plotly.purge(gd);\n",
              "            observer.disconnect();\n",
              "        }}\n",
              "}});\n",
              "\n",
              "// Listen for the removal of the full notebook cells\n",
              "var notebookContainer = gd.closest('#notebook-container');\n",
              "if (notebookContainer) {{\n",
              "    x.observe(notebookContainer, {childList: true});\n",
              "}}\n",
              "\n",
              "// Listen for the clearing of the current output cell\n",
              "var outputEl = gd.closest('.output');\n",
              "if (outputEl) {{\n",
              "    x.observe(outputEl, {childList: true});\n",
              "}}\n",
              "\n",
              "                        })\n",
              "                };\n",
              "                \n",
              "            </script>\n",
              "        </div>\n",
              "</body>\n",
              "</html>"
            ]
          },
          "metadata": {
            "tags": []
          }
        }
      ]
    },
    {
      "cell_type": "markdown",
      "metadata": {
        "id": "R-X1xBsJFABR",
        "colab_type": "text"
      },
      "source": [
        "###**Inference**\n",
        "With yearwise comparison, we can can cofirm that Economy (GDP per capita) has linear relationship moreover it shows positive corelation. In other words, If Economy or GDP per capita increase for a certain country then its Happiness Score will increase provided that all other variables are kept constant. "
      ]
    },
    {
      "cell_type": "markdown",
      "metadata": {
        "id": "TnGg5IAZI6hU",
        "colab_type": "text"
      },
      "source": [
        "# **Cross Validation**"
      ]
    },
    {
      "cell_type": "code",
      "metadata": {
        "id": "QkAOlb3JFf69",
        "colab_type": "code",
        "colab": {}
      },
      "source": [
        "ydata = df['Happiness Score']\n",
        "xdata = df.loc[:, df.columns != 'Happiness Score']\n"
      ],
      "execution_count": null,
      "outputs": []
    },
    {
      "cell_type": "code",
      "metadata": {
        "id": "08748vUyJfDk",
        "colab_type": "code",
        "colab": {}
      },
      "source": [
        "#Normalization of the variables\n",
        "standardized_X = preprocessing.scale(xdata.loc[:, xdata.columns != 'Country or Region'])"
      ],
      "execution_count": null,
      "outputs": []
    },
    {
      "cell_type": "code",
      "metadata": {
        "id": "f5LYvYw6ODRi",
        "colab_type": "code",
        "colab": {}
      },
      "source": [
        ""
      ],
      "execution_count": null,
      "outputs": []
    },
    {
      "cell_type": "code",
      "metadata": {
        "id": "PKTOc1sHNJD1",
        "colab_type": "code",
        "colab": {}
      },
      "source": [
        ""
      ],
      "execution_count": null,
      "outputs": []
    },
    {
      "cell_type": "code",
      "metadata": {
        "id": "1y24pPvtNJBJ",
        "colab_type": "code",
        "colab": {}
      },
      "source": [
        ""
      ],
      "execution_count": null,
      "outputs": []
    },
    {
      "cell_type": "markdown",
      "metadata": {
        "id": "NNgR7iF89LYH",
        "colab_type": "text"
      },
      "source": [
        "# **Ridge Regression**"
      ]
    },
    {
      "cell_type": "markdown",
      "metadata": {
        "id": "vYNcBvRu_fsx",
        "colab_type": "text"
      },
      "source": [
        "Ridge code is from http://www.science.smith.edu/~jcrouser/SDS293/labs/lab10-py.html"
      ]
    },
    {
      "cell_type": "code",
      "metadata": {
        "id": "QyeX6ZrD9QfD",
        "colab_type": "code",
        "colab": {}
      },
      "source": [
        "%matplotlib inline\n",
        "from sklearn.preprocessing import scale \n",
        "from sklearn.model_selection import train_test_split\n",
        "from sklearn.linear_model import Ridge, RidgeCV, Lasso, LassoCV\n",
        "from sklearn.metrics import mean_squared_error"
      ],
      "execution_count": null,
      "outputs": []
    },
    {
      "cell_type": "code",
      "metadata": {
        "id": "iEPJhmtF9lrn",
        "colab_type": "code",
        "colab": {}
      },
      "source": [
        "X = df.drop(['Country or Region','Happiness Score','Happiness Rank','Year'], axis = 1)\n",
        "y = df['Happiness Score']"
      ],
      "execution_count": null,
      "outputs": []
    },
    {
      "cell_type": "code",
      "metadata": {
        "id": "eOFzr8Ps942J",
        "colab_type": "code",
        "colab": {}
      },
      "source": [
        "alphas = 10**np.linspace(10,-2,100)*0.5"
      ],
      "execution_count": null,
      "outputs": []
    },
    {
      "cell_type": "code",
      "metadata": {
        "id": "lABsptkO_T01",
        "colab_type": "code",
        "colab": {
          "base_uri": "https://localhost:8080/",
          "height": 34
        },
        "outputId": "969a0274-d601-473c-f884-9ab458094516"
      },
      "source": [
        "ridge = Ridge(normalize = True)\n",
        "coefs = []\n",
        "\n",
        "for a in alphas:\n",
        "    ridge.set_params(alpha = a)\n",
        "    ridge.fit(X, y)\n",
        "    coefs.append(ridge.coef_)\n",
        "    \n",
        "np.shape(coefs)"
      ],
      "execution_count": null,
      "outputs": [
        {
          "output_type": "execute_result",
          "data": {
            "text/plain": [
              "(100, 6)"
            ]
          },
          "metadata": {
            "tags": []
          },
          "execution_count": 86
        }
      ]
    },
    {
      "cell_type": "code",
      "metadata": {
        "id": "7qT5YBSj_eCk",
        "colab_type": "code",
        "colab": {
          "base_uri": "https://localhost:8080/",
          "height": 300
        },
        "outputId": "5ed2ee15-22d4-40a9-83cc-c108ce69419d"
      },
      "source": [
        "ax = plt.gca()\n",
        "ax.plot(alphas, coefs)\n",
        "ax.set_xscale('log')\n",
        "plt.axis('tight')\n",
        "plt.xlabel('alpha')\n",
        "plt.ylabel('weights')"
      ],
      "execution_count": null,
      "outputs": [
        {
          "output_type": "execute_result",
          "data": {
            "text/plain": [
              "Text(0, 0.5, 'weights')"
            ]
          },
          "metadata": {
            "tags": []
          },
          "execution_count": 87
        },
        {
          "output_type": "display_data",
          "data": {
            "image/png": "[encoded data removed]",
            "text/plain": [
              "<Figure size 432x288 with 1 Axes>"
            ]
          },
          "metadata": {
            "tags": [],
            "needs_background": "light"
          }
        }
      ]
    },
    {
      "cell_type": "code",
      "metadata": {
        "id": "7OfpWN3HFmcK",
        "colab_type": "code",
        "colab": {}
      },
      "source": [
        "# Split data into training and test sets\n",
        "X_train, X_test , y_train, y_test = train_test_split(X, y, test_size=0.75, random_state=1)"
      ],
      "execution_count": null,
      "outputs": []
    },
    {
      "cell_type": "code",
      "metadata": {
        "id": "1LyRIIgbFuNk",
        "colab_type": "code",
        "colab": {
          "base_uri": "https://localhost:8080/",
          "height": 151
        },
        "outputId": "13ec1025-18c0-4c15-aac7-c627337f92b7"
      },
      "source": [
        "ridge2 = Ridge(alpha = 4, normalize = True)\n",
        "ridge2.fit(X_train, y_train)             # Fit a ridge regression on the training data\n",
        "pred2 = ridge2.predict(X_test)           # Use this model to predict the test data\n",
        "print(pd.Series(ridge2.coef_, index = X.columns)) # Print coefficients\n",
        "print(mean_squared_error(y_test, pred2))          # Calculate the test MSE"
      ],
      "execution_count": null,
      "outputs": [
        {
          "output_type": "stream",
          "text": [
            "Economy (GDP per Capita)        0.333700\n",
            "Social Support                  0.347484\n",
            "Health (Life Expectancy)        0.487554\n",
            "Freedom to make life choices    0.615008\n",
            "Generosity                      0.137516\n",
            "Perceptions of corruption       0.694130\n",
            "dtype: float64\n",
            "0.6208313274842101\n"
          ],
          "name": "stdout"
        }
      ]
    },
    {
      "cell_type": "code",
      "metadata": {
        "id": "BHOpFcyPGCky",
        "colab_type": "code",
        "colab": {
          "base_uri": "https://localhost:8080/",
          "height": 34
        },
        "outputId": "02890e95-06ba-4bb6-a631-a65410266276"
      },
      "source": [
        "ridgecv = RidgeCV(alphas = alphas, scoring = 'neg_mean_squared_error', normalize = True)\n",
        "ridgecv.fit(X_train, y_train)\n",
        "ridgecv.alpha_"
      ],
      "execution_count": null,
      "outputs": [
        {
          "output_type": "execute_result",
          "data": {
            "text/plain": [
              "0.06164233697210317"
            ]
          },
          "metadata": {
            "tags": []
          },
          "execution_count": 92
        }
      ]
    },
    {
      "cell_type": "code",
      "metadata": {
        "id": "stD286fiGF82",
        "colab_type": "code",
        "colab": {
          "base_uri": "https://localhost:8080/",
          "height": 34
        },
        "outputId": "02a9a54e-f3ef-48b0-afed-c8c8b1160cb5"
      },
      "source": [
        "ridge4 = Ridge(alpha = ridgecv.alpha_, normalize = True)\n",
        "ridge4.fit(X_train, y_train)\n",
        "mean_squared_error(y_test, ridge4.predict(X_test))"
      ],
      "execution_count": null,
      "outputs": [
        {
          "output_type": "execute_result",
          "data": {
            "text/plain": [
              "0.29988247733813267"
            ]
          },
          "metadata": {
            "tags": []
          },
          "execution_count": 93
        }
      ]
    },
    {
      "cell_type": "code",
      "metadata": {
        "id": "hIHB55DPGJph",
        "colab_type": "code",
        "colab": {
          "base_uri": "https://localhost:8080/",
          "height": 134
        },
        "outputId": "f6d0a852-8c8d-40da-f9c6-a6790194b776"
      },
      "source": [
        "ridge4.fit(X, y)\n",
        "pd.Series(ridge4.coef_, index = X.columns)"
      ],
      "execution_count": null,
      "outputs": [
        {
          "output_type": "execute_result",
          "data": {
            "text/plain": [
              "Economy (GDP per Capita)        1.053972\n",
              "Social Support                  0.654207\n",
              "Health (Life Expectancy)        1.053211\n",
              "Freedom to make life choices    1.423631\n",
              "Generosity                      0.556797\n",
              "Perceptions of corruption       0.920053\n",
              "dtype: float64"
            ]
          },
          "metadata": {
            "tags": []
          },
          "execution_count": 130
        }
      ]
    }
  ]
}